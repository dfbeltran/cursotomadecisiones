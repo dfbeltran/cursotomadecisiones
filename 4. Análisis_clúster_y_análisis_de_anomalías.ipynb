{
  "nbformat": 4,
  "nbformat_minor": 0,
  "metadata": {
    "colab": {
      "name": "Análisis clúster y análisis de anomalías.ipynb",
      "provenance": []
    },
    "kernelspec": {
      "name": "python3",
      "display_name": "Python 3"
    },
    "language_info": {
      "name": "python"
    }
  },
  "cells": [
    {
      "cell_type": "markdown",
      "metadata": {
        "id": "WG39cUZlZUHw"
      },
      "source": [
        "# Análisis clúster y análisis de anomalías\n",
        "\n",
        "## 1. Introducción\n",
        "Una de las tareas del análisis de datos consiste en la identificación de agrupaciones naturales de individuos.\n",
        "\n",
        "Para esto, normalmente se cuenta con una base de datos cuyas fílas son los individuos de interés\n",
        "(personas, empresas, transacciones, etc.) y las columnas son sus características. Esto último, que existan muchas variables por cada registro, es muy relevante en esta parte del curso y justifíca el uso de metodologías\n",
        "\n",
        "multivariadas de agrupación. Estas técnicas usualmente se grupan bajo el título de análisis clúster.\n",
        "Para el aprendizaje de máquina (machine learning) el análisis clúster hace parte del aprendizaje no\n",
        "supervisado porque no se tienen concepciones a priori sobre cómo conformar los grupos."
      ]
    },
    {
      "cell_type": "markdown",
      "metadata": {
        "id": "sTsxNsVyZv87"
      },
      "source": [
        "## 2. Análisis clúster\n",
        "\n",
        "El objetivo del análisis clúster es la identificación de grupos de individuos (o de variables) en conjuntos de datos multidimensionales. Los individuos (variables) que pertenecen a un mismo grupo deben ser parecidos, mientras que los grupos deben ser diferentes entre sí. Aquí, el concepto de parecido (o diferente) dependende de algún tipo de distancia entre las observaciones.\n",
        "El análisis clúster es popular siempre que exista inter\u0013es en grupos de individuos (variables). Por ejemplo, en mercadeo, es importante hacer segmentaciones de clientes de acuerdo con sus características para después aplicar estrategias de ventas diferentes enfocadas a cada subgrupo.\n",
        "En la práctica, se deben tener en cuenta las siguientes recomendaciones:\n",
        "* En los datos, los elementos que se quieren agrupar deben estar organizados por fílas, mientras que las caracterésticas que definen a estos elementos van por columnas.\n",
        "* Se debe evitar la presencia de valores perdidos. Si existen se deben imputar o eliminar la observación, teniendo muy en cuenta las posibles consecuencias en términos de sesgo en los datos.\n",
        "* Las variables deben tener escalas similares.\n",
        "\n",
        "Con respecto al último punto, los algoritmos de clustering, en general, son sensibles a la escala de las variables. Por ejemplo, en una base de datos de países, se pueden tener como variables el producto interno bruto (PIB) y el crecimiento. Aquí, el PIB suele venir en unidades monetarias, y tener valores incluso de billones, mientras que el crecimiento es un porcentaje. De esta forma, la escala de las variables es muy diferente y el algoritmo tenderá a agrupar con base en la variable de mayor escala, en este caso el PIB. Para evitar esto, las variables pueden estandarizarse (llevar a series con media 0 y varianza 1) o reescalarse (todas tienen el mismo mínimo y máximo).\n",
        "\n",
        "> **📝 Nota:** Los procesos de estandarización o reescalamiento no aplican si las variables que describen al individuo son categóricas. En este caso, se debe recurrir a opciones distintas como la construcción de variables dummys (dicotómicas, de ceros y unos) o utilizar medidas de distancia capaces de tratar con este tipo de información."
      ]
    },
    {
      "cell_type": "markdown",
      "metadata": {
        "id": "K59RnP3_b5tZ"
      },
      "source": [
        "## 2.1. Medidas de distancia\n",
        "\n",
        "La distancia entre dos observaciones mide su cercanía (como era de esperar). Para un grupo de individuos, se puede obtener una matriz que contenga la distancia entre todos ellos. Como resultado, la matriz de distancias es cuadrada (igual número de filas y columnas) y tiene ceros en su diagonal principal.\n",
        "\n",
        "La distancia entre un par de individuos 1 y 2, definidos a partir de p variables $x_{1i}, x_{2i}, ... x_{pi}$ con $i = 1,2$ se puede calcular como:\n",
        "\n",
        "* Distancia Euclídea: $d (x_1, x_2) = \\sqrt{\\sum_{j=1}^{p} (x_{j1}-x_{j2})^2}$.\n",
        "* Distancia Manhattan (o del taxista):  $d (x_1, x_2) = \\sum_{j=1}^{p} |x_{j1}-x_{j2}|$.\n",
        "* Distancia de Mahalanobis: $d (x_1, x_2) = \\sqrt{{(x_{j1}-x_{j2})^T} * {\\Sigma}^{-1} (x_{1}-x_{2})}$ donde $\\Sigma$ es la matriz de varianzas y covarianzas entre $x_1$ y $x_2$.\n",
        "\n",
        "También existen otras medidas basadas en la correlaci\u0013on entre individuos que son utilizadas en contextos\n",
        "específicos. En este caso, se considera que dos individuos son parecidos si tienen una alta correlación en sus características, aún cuando los valores que éstas tomen sean muy diferentes:\n",
        "* Distancia de correlación Pearson: $d (x_1, x_2) = 1 - \\dfrac{\\sum_{j=1}^{p} (x_{j1} - \\bar x)(x_{j2} - \\bar x)}{\\sqrt{\\sum_{j=1}^{p} (x_{j1} - \\bar x)^2(x_{j2} - \\bar x)^2}}$.\n",
        "\n",
        "Muchas de las medidas de distancia aplican únicamente a variables numéricas, pero en la práctica es\n",
        "usual que las características de los individuos estén definidas como series ordinales o incluso categoricas.\n",
        "\n",
        "Para estos casos se ha desarrollado la distancia de Gower, que agrupa las variables de un conjunto de datos de acuerdo con su naturaleza y aplica las medidas de distancias pertinentes según cada caso: para variables numéricas y ordinales se utiliza la distancia Manhattan (con un ajuste por empates para el segundo caso), y para variables nominales con k categorías se generan k variables indicadoras (dicotómicas) y luego se aplican medidas de similaridad adecuadas. Las distancias de cada caso se combinan de manera lineal, usualmente como un promedio simple."
      ]
    },
    {
      "cell_type": "markdown",
      "metadata": {
        "id": "jDgpUQoCcczJ"
      },
      "source": [
        "## 3. Implementando algoritmos en Python\n",
        "\n",
        "### 3.1. Carga y exploración de datos\n",
        "A continuación se utilizarán datos empresariales con informaci\u0013on de estados financieros. En primera instancia, se cargan y exploran los datos, para esto se utilizará la libreria de Pandas:\n"
      ]
    },
    {
      "cell_type": "code",
      "metadata": {
        "id": "R2l9sHGQnYly"
      },
      "source": [
        "import pandas as pd\n"
      ],
      "execution_count": 1,
      "outputs": []
    },
    {
      "cell_type": "code",
      "metadata": {
        "id": "JjikXmmX1UOM"
      },
      "source": [
        ""
      ],
      "execution_count": null,
      "outputs": []
    }
  ]
}