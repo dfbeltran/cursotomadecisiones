{
  "nbformat": 4,
  "nbformat_minor": 0,
  "metadata": {
    "colab": {
      "name": "4. Análisis_clúster_y_análisis_de_anomalías.ipynb",
      "provenance": [],
      "collapsed_sections": []
    },
    "kernelspec": {
      "name": "python3",
      "display_name": "Python 3"
    },
    "language_info": {
      "name": "python"
    }
  },
  "cells": [
    {
      "cell_type": "markdown",
      "metadata": {
        "id": "WG39cUZlZUHw"
      },
      "source": [
        "# Análisis clúster y análisis de anomalías\n",
        "\n",
        "## 1. Introducción\n",
        "Una de las tareas del análisis de datos consiste en la identificación de agrupaciones naturales de individuos.\n",
        "\n",
        "Para esto, normalmente se cuenta con una base de datos cuyas fílas son los individuos de interés\n",
        "(personas, empresas, transacciones, etc.) y las columnas son sus características. Esto último, que existan muchas variables por cada registro, es muy relevante en esta parte del curso y justifíca el uso de metodologías\n",
        "\n",
        "multivariadas de agrupación. Estas técnicas usualmente se grupan bajo el título de análisis clúster.\n",
        "Para el aprendizaje de máquina (machine learning) el análisis clúster hace parte del aprendizaje no\n",
        "supervisado porque no se tienen concepciones a priori sobre cómo conformar los grupos."
      ]
    },
    {
      "cell_type": "markdown",
      "metadata": {
        "id": "sTsxNsVyZv87"
      },
      "source": [
        "## 2. Análisis clúster\n",
        "\n",
        "El objetivo del análisis clúster es la identificación de grupos de individuos (o de variables) en conjuntos de datos multidimensionales. Los individuos (variables) que pertenecen a un mismo grupo deben ser parecidos, mientras que los grupos deben ser diferentes entre sí. Aquí, el concepto de parecido (o diferente) dependende de algún tipo de distancia entre las observaciones.\n",
        "El análisis clúster es popular siempre que exista inter\u0013es en grupos de individuos (variables). Por ejemplo, en mercadeo, es importante hacer segmentaciones de clientes de acuerdo con sus características para después aplicar estrategias de ventas diferentes enfocadas a cada subgrupo.\n",
        "En la práctica, se deben tener en cuenta las siguientes recomendaciones:\n",
        "* En los datos, los elementos que se quieren agrupar deben estar organizados por fílas, mientras que las caracterésticas que definen a estos elementos van por columnas.\n",
        "* Se debe evitar la presencia de valores perdidos. Si existen se deben imputar o eliminar la observación, teniendo muy en cuenta las posibles consecuencias en términos de sesgo en los datos.\n",
        "* Las variables deben tener escalas similares.\n",
        "\n",
        "Con respecto al último punto, los algoritmos de clustering, en general, son sensibles a la escala de las variables. Por ejemplo, en una base de datos de países, se pueden tener como variables el producto interno bruto (PIB) y el crecimiento. Aquí, el PIB suele venir en unidades monetarias, y tener valores incluso de billones, mientras que el crecimiento es un porcentaje. De esta forma, la escala de las variables es muy diferente y el algoritmo tenderá a agrupar con base en la variable de mayor escala, en este caso el PIB. Para evitar esto, las variables pueden estandarizarse (llevar a series con media 0 y varianza 1) o reescalarse (todas tienen el mismo mínimo y máximo).\n",
        "\n",
        "> **📝 Nota:** Los procesos de estandarización o reescalamiento no aplican si las variables que describen al individuo son categóricas. En este caso, se debe recurrir a opciones distintas como la construcción de variables dummys (dicotómicas, de ceros y unos) o utilizar medidas de distancia capaces de tratar con este tipo de información."
      ]
    },
    {
      "cell_type": "markdown",
      "metadata": {
        "id": "K59RnP3_b5tZ"
      },
      "source": [
        "## 2.1. Medidas de distancia\n",
        "\n",
        "La distancia entre dos observaciones mide su cercanía (como era de esperar). Para un grupo de individuos, se puede obtener una matriz que contenga la distancia entre todos ellos. Como resultado, la matriz de distancias es cuadrada (igual número de filas y columnas) y tiene ceros en su diagonal principal.\n",
        "\n",
        "La distancia entre un par de individuos 1 y 2, definidos a partir de p variables $x_{1i}, x_{2i}, ... x_{pi}$ con $i = 1,2$ se puede calcular como:\n",
        "\n",
        "* Distancia Euclídea: $d (x_1, x_2) = \\sqrt{\\sum_{j=1}^{p} (x_{j1}-x_{j2})^2}$.\n",
        "* Distancia Manhattan (o del taxista):  $d (x_1, x_2) = \\sum_{j=1}^{p} |x_{j1}-x_{j2}|$.\n",
        "* Distancia de Mahalanobis: $d (x_1, x_2) = \\sqrt{{(x_{j1}-x_{j2})^T} * {\\Sigma}^{-1} (x_{1}-x_{2})}$ donde $\\Sigma$ es la matriz de varianzas y covarianzas entre $x_1$ y $x_2$.\n",
        "\n",
        "También existen otras medidas basadas en la correlaci\u0013on entre individuos que son utilizadas en contextos\n",
        "específicos. En este caso, se considera que dos individuos son parecidos si tienen una alta correlación en sus características, aún cuando los valores que éstas tomen sean muy diferentes:\n",
        "* Distancia de correlación Pearson: $d (x_1, x_2) = 1 - \\dfrac{\\sum_{j=1}^{p} (x_{j1} - \\bar x)(x_{j2} - \\bar x)}{\\sqrt{\\sum_{j=1}^{p} (x_{j1} - \\bar x)^2(x_{j2} - \\bar x)^2}}$.\n",
        "\n",
        "Muchas de las medidas de distancia aplican únicamente a variables numéricas, pero en la práctica es\n",
        "usual que las características de los individuos estén definidas como series ordinales o incluso categoricas.\n",
        "\n",
        "Para estos casos se ha desarrollado la distancia de Gower, que agrupa las variables de un conjunto de datos de acuerdo con su naturaleza y aplica las medidas de distancias pertinentes según cada caso: para variables numéricas y ordinales se utiliza la distancia Manhattan (con un ajuste por empates para el segundo caso), y para variables nominales con k categorías se generan k variables indicadoras (dicotómicas) y luego se aplican medidas de similaridad adecuadas. Las distancias de cada caso se combinan de manera lineal, usualmente como un promedio simple."
      ]
    },
    {
      "cell_type": "markdown",
      "metadata": {
        "id": "jDgpUQoCcczJ"
      },
      "source": [
        "## 3. Implementando algoritmos en Python\n",
        "\n",
        "### 3.1. Carga y exploración de datos\n",
        "A continuación se utilizarán datos empresariales con informaci\u0013on de estados financieros. En primera instancia, se cargan y exploran los datos, para esto se utilizará la libreria de Pandas:\n"
      ]
    },
    {
      "cell_type": "code",
      "metadata": {
        "id": "Tiq6fd2S_vJs",
        "colab": {
          "base_uri": "https://localhost:8080/"
        },
        "outputId": "e1b76cdf-09c0-4856-9a6d-304a195d46e6"
      },
      "source": [
        "# Clonar repo de Git\n",
        "!git clone https://github.com/dfbeltran/cursotomadecisiones.git"
      ],
      "execution_count": 1,
      "outputs": [
        {
          "output_type": "stream",
          "name": "stdout",
          "text": [
            "Cloning into 'cursotomadecisiones'...\n",
            "remote: Enumerating objects: 44, done.\u001b[K\n",
            "remote: Counting objects: 100% (44/44), done.\u001b[K\n",
            "remote: Compressing objects: 100% (40/40), done.\u001b[K\n",
            "remote: Total 44 (delta 5), reused 40 (delta 4), pack-reused 0\u001b[K\n",
            "Unpacking objects: 100% (44/44), done.\n"
          ]
        }
      ]
    },
    {
      "cell_type": "code",
      "metadata": {
        "id": "R2l9sHGQnYly"
      },
      "source": [
        "# Importar librerias que se van a usar\n",
        "import pandas as pd\n",
        "\n",
        "# Cargar los datos\n",
        "caratula = pd.read_csv('/content/cursotomadecisiones/datos/tema_4/Supersociedades SIREM 201706 - Caratula.csv',\n",
        "                       encoding='latin-1', # Tipo de codificación del archivo (latin-1 dado a que tiene comas)\n",
        "                       sep = ';') # Seleccionar separador \n",
        "\n",
        "efe = pd.read_csv('/content/cursotomadecisiones/datos/tema_4/Supersociedades SIREM 201706 - EFE.csv',\n",
        "                       encoding='latin-1',\n",
        "                       sep = ';')\n",
        "\n",
        "eri = pd.read_csv('/content/cursotomadecisiones/datos/tema_4/Supersociedades SIREM 201706 - ERI.csv',\n",
        "                       encoding='latin-1',\n",
        "                       sep = ';')\n",
        "\n",
        "esf = pd.read_csv('/content/cursotomadecisiones/datos/tema_4/Supersociedades SIREM 201706 - ESF.csv',\n",
        "                       encoding='latin-1',\n",
        "                       sep = ';')\n",
        "\n",
        "ori = pd.read_csv('/content/cursotomadecisiones/datos/tema_4/Supersociedades SIREM 201706 - ORI.csv',\n",
        "                       encoding='latin-1',\n",
        "                       sep = ';')"
      ],
      "execution_count": 14,
      "outputs": []
    },
    {
      "cell_type": "code",
      "metadata": {
        "colab": {
          "base_uri": "https://localhost:8080/"
        },
        "id": "QMUoQlQ-LfMB",
        "outputId": "1cf1b868-60f9-4010-f80a-0f1207a955d7"
      },
      "source": [
        "caratula.info()"
      ],
      "execution_count": 16,
      "outputs": [
        {
          "output_type": "stream",
          "name": "stdout",
          "text": [
            "<class 'pandas.core.frame.DataFrame'>\n",
            "RangeIndex: 15955 entries, 0 to 15954\n",
            "Data columns (total 12 columns):\n",
            " #   Column                                                         Non-Null Count  Dtype \n",
            "---  ------                                                         --------------  ----- \n",
            " 0   NIT                                                            15955 non-null  int64 \n",
            " 1   FECHA CORTE                                                    15955 non-null  object\n",
            " 2   Razón social de la sociedad                                    15955 non-null  object\n",
            " 3   Corte de cuentas según estatutos                               15955 non-null  object\n",
            " 4   Estado actual                                                  15955 non-null  object\n",
            " 5   Clasificación Industrial Internacional Uniforme Versión 4 A.C  15955 non-null  object\n",
            " 6   Tipo societario                                                15955 non-null  object\n",
            " 7   La sociedad es                                                 15955 non-null  object\n",
            " 8   Departamento de la dirección de notificación judicial          15955 non-null  object\n",
            " 9   Ciudad de la dirección de notificación judicial                15955 non-null  object\n",
            " 10  Departamento de la dirección del domicilio                     15955 non-null  object\n",
            " 11  Ciudad de la dirección del domicilio                           15955 non-null  object\n",
            "dtypes: int64(1), object(11)\n",
            "memory usage: 1.5+ MB\n"
          ]
        }
      ]
    },
    {
      "cell_type": "code",
      "metadata": {
        "colab": {
          "base_uri": "https://localhost:8080/"
        },
        "id": "EZ2d9Np0NVlC",
        "outputId": "16a66139-1ece-4479-93e3-a583e800e565"
      },
      "source": [
        "efe.info()"
      ],
      "execution_count": 17,
      "outputs": [
        {
          "output_type": "stream",
          "name": "stdout",
          "text": [
            "<class 'pandas.core.frame.DataFrame'>\n",
            "RangeIndex: 16027 entries, 0 to 16026\n",
            "Data columns (total 57 columns):\n",
            " #   Column                                                                                                                         Non-Null Count  Dtype  \n",
            "---  ------                                                                                                                         --------------  -----  \n",
            " 0   NIT                                                                                                                            16027 non-null  int64  \n",
            " 1   FECHA CORTE                                                                                                                    16027 non-null  object \n",
            " 2   DURACION                                                                                                                       16027 non-null  object \n",
            " 3   (+/-) Ganancia (pérdida)                                                                                                       16024 non-null  float64\n",
            " 4   (+/-) Ajustes por gastos por impuestos a las ganancias                                                                         8644 non-null   float64\n",
            " 5   ( + ) Ajustes por gastos de depreciación y amortización                                                                        12154 non-null  float64\n",
            " 6   (+/-) Ajustes por deterioro de valor (reversiones de pérdidas por deterioro de valor) reconocidas en el resultado del periodo  4621 non-null   float64\n",
            " 7   (+) Ajustes por provisiones                                                                                                    4593 non-null   float64\n",
            " 8   (+) Ajustes por costos financieros                                                                                             3795 non-null   float64\n",
            " 9   (+/-) Ajustes por pérdidas (ganancias) de moneda extranjera no realizadas                                                      3383 non-null   float64\n",
            " 10  (+/-) Ajustes por pérdidas (ganancias) del valor razonable                                                                     3556 non-null   float64\n",
            " 11  (-) Ajustes por ganancias no distribuidas de asociadas                                                                         2982 non-null   float64\n",
            " 12  (+/-) Ajustes por pérdidas (ganancias) por la disposición de activos no corrientes                                             3617 non-null   float64\n",
            " 13  (+/-) Otros ajustes para conciliar la ganancia (pérdida)                                                                       5369 non-null   float64\n",
            " 14  Total ajustes para conciliar la ganancia (pérdida)                                                                             13629 non-null  float64\n",
            " 15  (+/-) Ajustes por disminuciones (incrementos) en los inventarios                                                               10318 non-null  float64\n",
            " 16  (+/-) Ajustes por la disminución (incremento) de cuentas por cobrar de origen comercial                                        13603 non-null  float64\n",
            " 17  (+/-) Ajustes por disminuciones (incrementos) en otras cuentas por cobrar derivadas de las actividades de operación            8935 non-null   float64\n",
            " 18  (+/-) Ajustes por el incremento (disminución) de cuentas por pagar de origen comercial                                         13037 non-null  float64\n",
            " 19  (+/-) Ajustes por incrementos (disminuciones) en otras cuentas por pagar derivadas de las actividades de operación             11338 non-null  float64\n",
            " 20  (+/-) Otras entradas (salidas) de efectivo                                                                                     8921 non-null   float64\n",
            " 21  Flujos de efectivo netos procedentes de (utilizados en) actividades de operación                                               15138 non-null  float64\n",
            " 22  (+) Flujos de efectivo procedentes de la pérdida de control de subsidiarias u otros negocios                                   2800 non-null   float64\n",
            " 23  (-) Flujos de efectivo utilizados para obtener el control de subsidiarias u otros negocios                                     2796 non-null   float64\n",
            " 24  (+) Otros cobros por la venta de patrimonio o instrumentos de deuda de otras entidades                                         2943 non-null   float64\n",
            " 25  (-) Otros pagos para adquirir patrimonio o instrumentos de deuda de otras entidades                                            3200 non-null   float64\n",
            " 26  (+) Otros cobros por la venta de participaciones en negocios conjuntos                                                         2785 non-null   float64\n",
            " 27  (-) Otros pagos para adquirir participaciones en negocios conjuntos                                                            2848 non-null   float64\n",
            " 28  (+) Importes procedentes de la venta de propiedades, planta y equipo                                                           4499 non-null   float64\n",
            " 29  (-) Compras de propiedades, planta y equipo                                                                                    9973 non-null   float64\n",
            " 30  (+) Importes procedentes de ventas de activos intangibles                                                                      3133 non-null   float64\n",
            " 31  (-) Compras de activos intangibles                                                                                             4200 non-null   float64\n",
            " 32  (+) Recursos por ventas de otros activos a largo plazo                                                                         3013 non-null   float64\n",
            " 33  (-) Compras de otros activos a largo plazo                                                                                     3520 non-null   float64\n",
            " 34  (-) Pagos derivados de contratos de futuro, a término, de opciones y de permuta financiera                                     2758 non-null   float64\n",
            " 35  (+) Cobros procedentes de contratos de futuro, a término, de opciones y de permuta financiera                                  2750 non-null   float64\n",
            " 36  (+) Dividendos recibidos                                                                                                       2873 non-null   float64\n",
            " 37  (+) Intereses recibidos                                                                                                        3230 non-null   float64\n",
            " 38  (+/-) Otras entradas (salidas) de efectivo.1                                                                                   5474 non-null   float64\n",
            " 39  Flujos de efectivo netos procedentes de (utilizados en) actividades de inversión                                               12550 non-null  float64\n",
            " 40  (+) Importes procedentes de aumento de capital y/o recolocación de acciones                                                    3852 non-null   float64\n",
            " 41  (-) Disminución de capital social y/o readquisición de acciones                                                                2849 non-null   float64\n",
            " 42  (-) Pagos por otras participaciones en el patrimonio                                                                           2968 non-null   float64\n",
            " 43  (+) Importe procedente del aumento prima por emisión                                                                           2906 non-null   float64\n",
            " 44  (-) Disminución de prima por emisión                                                                                           2691 non-null   float64\n",
            " 45  (+) Importes procedentes de préstamos                                                                                          5916 non-null   float64\n",
            " 46  (-) Reembolsos de préstamos                                                                                                    5737 non-null   float64\n",
            " 47  (-) Pagos de pasivos por arrendamientos financieros                                                                            3202 non-null   float64\n",
            " 48  (-) Dividendos pagados                                                                                                         5107 non-null   float64\n",
            " 49  (-) Intereses pagados                                                                                                          3624 non-null   float64\n",
            " 50  (+/-) Otras entradas (salidas) de efectivo.2                                                                                   5971 non-null   float64\n",
            " 51  Flujos de efectivo netos procedentes de (utilizados en) actividades de financiación                                            11642 non-null  float64\n",
            " 52  Incremento (disminución) neto de efectivo y equivalentes al efectivo, antes del efecto de los cambios en la tasa de cambio     14990 non-null  float64\n",
            " 53  (+/-) Efectos de la variación en la tasa de cambio sobre el efectivo y equivalentes al efectivo                                2865 non-null   float64\n",
            " 54  Incremento (disminución) neto de efectivo y equivalentes al efectivo                                                           15202 non-null  float64\n",
            " 55  Efectivo y equivalentes al efectivo al principio del periodo                                                                   14297 non-null  float64\n",
            " 56  Efectivo y equivalentes al efectivo al final del periodo                                                                       14326 non-null  float64\n",
            "dtypes: float64(54), int64(1), object(2)\n",
            "memory usage: 7.0+ MB\n"
          ]
        }
      ]
    },
    {
      "cell_type": "code",
      "metadata": {
        "colab": {
          "base_uri": "https://localhost:8080/"
        },
        "id": "B5ojH6n4NfKx",
        "outputId": "44e2c030-95d4-4907-81a4-c5c0aac65f1c"
      },
      "source": [
        "eri.info()"
      ],
      "execution_count": 18,
      "outputs": [
        {
          "output_type": "stream",
          "name": "stdout",
          "text": [
            "<class 'pandas.core.frame.DataFrame'>\n",
            "RangeIndex: 16005 entries, 0 to 16004\n",
            "Data columns (total 19 columns):\n",
            " #   Column                                                       Non-Null Count  Dtype  \n",
            "---  ------                                                       --------------  -----  \n",
            " 0   Nit                                                          16005 non-null  int64  \n",
            " 1   Fecha Corte                                                  16005 non-null  object \n",
            " 2   Duracion                                                     16005 non-null  object \n",
            " 3   Ingresos de actividades ordinarias                           16005 non-null  float64\n",
            " 4   Costo de ventas                                              13633 non-null  float64\n",
            " 5   Ganancia bruta                                               16005 non-null  float64\n",
            " 6   Otros ingresos                                               16005 non-null  float64\n",
            " 7   Gastos de ventas                                             11296 non-null  float64\n",
            " 8   Gastos de administración                                     15696 non-null  float64\n",
            " 9   Otros gastos                                                 14007 non-null  float64\n",
            " 10  Otras ganancias (pérdidas)                                   5728 non-null   float64\n",
            " 11  Ganancia (pérdida) por actividades de operación              16005 non-null  int64  \n",
            " 12  Ingresos financieros                                         9685 non-null   float64\n",
            " 13  Costos financieros                                           11785 non-null  float64\n",
            " 14  Ganancia (pérdida), antes de impuestos                       16005 non-null  int64  \n",
            " 15  Ingreso (gasto) por impuestos                                14588 non-null  float64\n",
            " 16  Ganancia (pérdida) procedente de operaciones continuadas     16005 non-null  int64  \n",
            " 17  Ganancia (pérdida) procedente de operaciones discontinuadas  4701 non-null   float64\n",
            " 18  Ganancia (pérdida)                                           16005 non-null  int64  \n",
            "dtypes: float64(12), int64(5), object(2)\n",
            "memory usage: 2.3+ MB\n"
          ]
        }
      ]
    },
    {
      "cell_type": "code",
      "metadata": {
        "colab": {
          "base_uri": "https://localhost:8080/"
        },
        "id": "WGZHDFCsNmYJ",
        "outputId": "83aefebb-35a8-442e-e2b9-ab962f877721"
      },
      "source": [
        "esf.info()"
      ],
      "execution_count": 19,
      "outputs": [
        {
          "output_type": "stream",
          "name": "stdout",
          "text": [
            "<class 'pandas.core.frame.DataFrame'>\n",
            "RangeIndex: 15988 entries, 0 to 15987\n",
            "Data columns (total 64 columns):\n",
            " #   Column                                                                                                                                                                                                                  Non-Null Count  Dtype  \n",
            "---  ------                                                                                                                                                                                                                  --------------  -----  \n",
            " 0   Nit                                                                                                                                                                                                                     15988 non-null  int64  \n",
            " 1   Fecha Corte                                                                                                                                                                                                             15988 non-null  object \n",
            " 2   Instante                                                                                                                                                                                                                15988 non-null  object \n",
            " 3   Efectivo y equivalentes al efectivo                                                                                                                                                                                     15868 non-null  float64\n",
            " 4   Cuentas comerciales por cobrar y otras cuentas por cobrar corrientes                                                                                                                                                    15518 non-null  float64\n",
            " 5   Inventarios corrientes                                                                                                                                                                                                  11504 non-null  float64\n",
            " 6   Activos por impuestos corrientes, corriente                                                                                                                                                                             10246 non-null  float64\n",
            " 7   Activos biológicos corrientes, al costo menos depreciación acumulada y deterioro de valor                                                                                                                               4471 non-null   float64\n",
            " 8   Activos biológicos corrientes, al valor razonable                                                                                                                                                                       4518 non-null   float64\n",
            " 9   Otros activos financieros corrientes                                                                                                                                                                                    7332 non-null   float64\n",
            " 10  Otros activos no financieros corrientes                                                                                                                                                                                 7127 non-null   float64\n",
            " 11  Activos corrientes distintos al efectivo pignorados como garantía colateral para las que el receptor de transferencias tiene derecho por contrato o costumbre a vender o pignorar de nuevo dicha garantía colateral     4237 non-null   float64\n",
            " 12  Total activos corrientes distintos de los activos no corrientes o grupo de activos para su disposición clasificados como mantenidos para la venta o como mantenidos para distribuir a los propietarios                  15970 non-null  float64\n",
            " 13  Activos no corrientes o grupos de activos para su disposición clasificados como mantenidos para la venta o como mantenidos para distribuir a los propietarios                                                           4042 non-null   float64\n",
            " 14  Activos corrientes totales                                                                                                                                                                                              15970 non-null  float64\n",
            " 15  Propiedades, planta y equipo                                                                                                                                                                                            14693 non-null  float64\n",
            " 16  Propiedades de inversión al costo menos depreciación acumulada y deterioro                                                                                                                                              5414 non-null   float64\n",
            " 17  Propiedades de inversión a valor razonable con cambios en resultados                                                                                                                                                    5219 non-null   float64\n",
            " 18  Plusvalía                                                                                                                                                                                                               4117 non-null   float64\n",
            " 19  Activos intangibles distintos de la plusvalía                                                                                                                                                                           6864 non-null   float64\n",
            " 20  Activos biológicos no corrientes, al costo menos depreciación acumulada y deterioro del valor                                                                                                                           4222 non-null   float64\n",
            " 21  Activos biológicos no corrientes, al valor razonable                                                                                                                                                                    4209 non-null   float64\n",
            " 22  Cuentas comerciales por cobrar y otras cuentas por cobrar no corrientes                                                                                                                                                 5615 non-null   float64\n",
            " 23  Inventarios no corrientes                                                                                                                                                                                               4159 non-null   float64\n",
            " 24  Activos por impuestos diferidos                                                                                                                                                                                         7866 non-null   float64\n",
            " 25  Activos por impuestos corrientes, no corriente                                                                                                                                                                          4274 non-null   float64\n",
            " 26  Otros activos financieros no corrientes                                                                                                                                                                                 6391 non-null   float64\n",
            " 27  Otros activos no financieros no corrientes                                                                                                                                                                              5842 non-null   float64\n",
            " 28  Activos no corrientes distintos al efectivo pignorados como garantía colateral para las que el receptor de transferencias tiene derecho por contrato o costumbre a vender o pignorar de nuevo dicha garantía colateral  3996 non-null   float64\n",
            " 29  Total de activos no corrientes                                                                                                                                                                                          15672 non-null  float64\n",
            " 30  Total de activos                                                                                                                                                                                                        15988 non-null  int64  \n",
            " 31  Provisiones corrientes por beneficios a los empleados                                                                                                                                                                   10787 non-null  float64\n",
            " 32  Otras provisiones corrientes                                                                                                                                                                                            5649 non-null   float64\n",
            " 33  Total provisiones corrientes                                                                                                                                                                                            11256 non-null  float64\n",
            " 34  Cuentas por pagar comerciales y otras cuentas por pagar                                                                                                                                                                 15421 non-null  float64\n",
            " 35  Pasivos por impuestos corrientes, corriente                                                                                                                                                                             14477 non-null  float64\n",
            " 36  Otros pasivos financieros corrientes                                                                                                                                                                                    10797 non-null  float64\n",
            " 37  Préstamos corrientes                                                                                                                                                                                                    10058 non-null  float64\n",
            " 38  Parte corriente de préstamos no corrientes                                                                                                                                                                              5343 non-null   float64\n",
            " 39  Otros pasivos no financieros corrientes                                                                                                                                                                                 9312 non-null   float64\n",
            " 40  Total pasivos corrientes distintos de los pasivos incluidos en grupos de activos para su disposición clasificados como mantenidos para la venta                                                                         15937 non-null  float64\n",
            " 41  Pasivos incluidos en grupos de activos para su disposición clasificados como mantenidos para la venta                                                                                                                   4182 non-null   float64\n",
            " 42  Pasivos corrientes totales                                                                                                                                                                                              15939 non-null  float64\n",
            " 43  Provisiones no corrientes por beneficios a los empleados                                                                                                                                                                4782 non-null   float64\n",
            " 44  Otras provisiones no corrientes                                                                                                                                                                                         4831 non-null   float64\n",
            " 45  Total provisiones no corrientes                                                                                                                                                                                         5281 non-null   float64\n",
            " 46  Cuentas comerciales por pagar y otras cuentas por pagar no corrientes                                                                                                                                                   7323 non-null   float64\n",
            " 47  Pasivo por impuestos diferidos                                                                                                                                                                                          8625 non-null   float64\n",
            " 48  Pasivos por impuestos corrientes, no corriente                                                                                                                                                                          5051 non-null   float64\n",
            " 49  Otros pasivos financieros no corrientes                                                                                                                                                                                 7910 non-null   float64\n",
            " 50  Parte no corriente de préstamos no corrientes                                                                                                                                                                           7552 non-null   float64\n",
            " 51  Otros pasivos no financieros no corrientes                                                                                                                                                                              6567 non-null   float64\n",
            " 52  Total de pasivos no corrientes                                                                                                                                                                                          13111 non-null  float64\n",
            " 53  Total pasivos                                                                                                                                                                                                           15988 non-null  int64  \n",
            " 54  Capital emitido                                                                                                                                                                                                         15931 non-null  float64\n",
            " 55  Prima de emisión                                                                                                                                                                                                        6265 non-null   float64\n",
            " 56  Acciones propias en cartera                                                                                                                                                                                             4046 non-null   float64\n",
            " 57  Inversión suplementaria al capital asignado                                                                                                                                                                             4229 non-null   float64\n",
            " 58  Otras participaciones en el patrimonio                                                                                                                                                                                  5383 non-null   float64\n",
            " 59  Superavit por revaluación                                                                                                                                                                                               6161 non-null   float64\n",
            " 60  Otras reservas                                                                                                                                                                                                          13414 non-null  float64\n",
            " 61  Ganancias acumuladas                                                                                                                                                                                                    15890 non-null  float64\n",
            " 62  Patrimonio total                                                                                                                                                                                                        15988 non-null  int64  \n",
            " 63  Total de patrimonio y pasivos                                                                                                                                                                                           15988 non-null  int64  \n",
            "dtypes: float64(57), int64(5), object(2)\n",
            "memory usage: 7.8+ MB\n"
          ]
        }
      ]
    },
    {
      "cell_type": "code",
      "metadata": {
        "colab": {
          "base_uri": "https://localhost:8080/"
        },
        "id": "Zc9dMvocNpzS",
        "outputId": "03e18fca-837f-4e2e-e9e7-1d242c5036f4"
      },
      "source": [
        "ori.info()"
      ],
      "execution_count": 20,
      "outputs": [
        {
          "output_type": "stream",
          "name": "stdout",
          "text": [
            "<class 'pandas.core.frame.DataFrame'>\n",
            "RangeIndex: 16009 entries, 0 to 16008\n",
            "Data columns (total 12 columns):\n",
            " #   Column                                                                                                           Non-Null Count  Dtype  \n",
            "---  ------                                                                                                           --------------  -----  \n",
            " 0   Nit                                                                                                              16009 non-null  int64  \n",
            " 1   Fecha Corte                                                                                                      16009 non-null  object \n",
            " 2   Duracion                                                                                                         16009 non-null  object \n",
            " 3   Ganancia (pérdida)                                                                                               16005 non-null  float64\n",
            " 4   Otro resultado integral, neto de impuestos, ganancias (pérdidas) por revaluación                                 3643 non-null   float64\n",
            " 5   Total otro resultado integral que no se reclasificará al resultado del periodo, neto de impuestos                4172 non-null   float64\n",
            " 6   Total otro resultado integral                                                                                    4280 non-null   float64\n",
            " 7   Resultado integral total                                                                                         7206 non-null   float64\n",
            " 8   Otro resultado integral, neto de impuestos, diferencias de cambio por conversión                                 3664 non-null   float64\n",
            " 9   Otro resultado integral, neto de impuestos, ganancias (pérdidas) actuariales por planes de beneficios definidos  3279 non-null   float64\n",
            " 10  Ganancias (pérdidas) por coberturas de flujos de efectivo, neto de impuestos                                     3139 non-null   float64\n",
            " 11  Total otro resultado integral que se reclasificará al resultado del periodo, neto de impuestos                   3145 non-null   float64\n",
            "dtypes: float64(9), int64(1), object(2)\n",
            "memory usage: 1.5+ MB\n"
          ]
        }
      ]
    },
    {
      "cell_type": "markdown",
      "metadata": {
        "id": "4aNK2yFDNuvB"
      },
      "source": [
        "A continuación se unen los archivos utilizando como llave el numero de identificación tributaria (NIT) de las empresas. Aquí, se debe notar que la variable identificadora se llama NIT para los elementos Caratula y efe y Nit para los elementos esf y ori, con lo cual se debe estandarizar el nombre.\n",
        "\n",
        "Una de las buenas practicas cuando se trabaja con bases de datos relacionales es minimizar todas las columnas y reemplazar los espacios por un guión bajo ( _ ), esto facilitá luego autocompletar cuando se usa un IDE. "
      ]
    },
    {
      "cell_type": "code",
      "metadata": {
        "id": "8g6-K6w9TYfh"
      },
      "source": [
        "def df_bajas_guion_bajo(df):\n",
        "    '''\n",
        "    Convierte las columnas de un DataFrame a bajas y transforma\n",
        "    los espacios en guiones bajo \n",
        "\n",
        "    Args:\n",
        "        df (pd.DataFrame) : El dataframe al que se le aplicará la transformación\n",
        "\n",
        "    Returns:\n",
        "        df (pd.DataFrame): El dataframe transformado\n",
        "\n",
        "    '''   \n",
        "    df.columns = df.columns.str.lower().str.replace(' ','_')\n",
        "    return df"
      ],
      "execution_count": 35,
      "outputs": []
    },
    {
      "cell_type": "code",
      "metadata": {
        "id": "0jxSeIp1PG2K"
      },
      "source": [
        "# Mapea función a todos los dataframes\n",
        "caratula, efe, eri, esf, ori = map(df_bajas_guion_bajo, [caratula, efe, eri, esf, ori]) "
      ],
      "execution_count": 45,
      "outputs": []
    },
    {
      "cell_type": "code",
      "metadata": {
        "colab": {
          "base_uri": "https://localhost:8080/",
          "height": 153
        },
        "id": "clgzy6u6ZG0J",
        "outputId": "edefce71-cfc5-4720-d815-b8867ce7c1fc"
      },
      "source": [
        "caratula.head(1)"
      ],
      "execution_count": 47,
      "outputs": [
        {
          "output_type": "execute_result",
          "data": {
            "text/html": [
              "<div>\n",
              "<style scoped>\n",
              "    .dataframe tbody tr th:only-of-type {\n",
              "        vertical-align: middle;\n",
              "    }\n",
              "\n",
              "    .dataframe tbody tr th {\n",
              "        vertical-align: top;\n",
              "    }\n",
              "\n",
              "    .dataframe thead th {\n",
              "        text-align: right;\n",
              "    }\n",
              "</style>\n",
              "<table border=\"1\" class=\"dataframe\">\n",
              "  <thead>\n",
              "    <tr style=\"text-align: right;\">\n",
              "      <th></th>\n",
              "      <th>nit</th>\n",
              "      <th>fecha_corte</th>\n",
              "      <th>razón_social_de_la_sociedad</th>\n",
              "      <th>corte_de_cuentas_según_estatutos</th>\n",
              "      <th>estado_actual</th>\n",
              "      <th>clasificación_industrial_internacional_uniforme_versión_4_a.c</th>\n",
              "      <th>tipo_societario</th>\n",
              "      <th>la_sociedad_es</th>\n",
              "      <th>departamento_de_la_dirección_de_notificación_judicial</th>\n",
              "      <th>ciudad_de_la_dirección_de_notificación_judicial</th>\n",
              "      <th>departamento_de_la_dirección_del_domicilio</th>\n",
              "      <th>ciudad_de_la_dirección_del_domicilio</th>\n",
              "    </tr>\n",
              "  </thead>\n",
              "  <tbody>\n",
              "    <tr>\n",
              "      <th>0</th>\n",
              "      <td>800000090</td>\n",
              "      <td>31/12/2016</td>\n",
              "      <td>INGENIEROS SERVICIOS CONSTRUCTIVOS SA</td>\n",
              "      <td>01. ANUAL</td>\n",
              "      <td>ACTIVA</td>\n",
              "      <td>F4111 - Construcción de edificios residenciales</td>\n",
              "      <td>01. SOCIEDAD ANÓNIMA</td>\n",
              "      <td>05. ACTIVIDAD ECONÓMICA DIFERENTE A LAS ANTERI...</td>\n",
              "      <td>ANTIOQUIA</td>\n",
              "      <td>MEDELLIN-ANTIOQUIA</td>\n",
              "      <td>ANTIOQUIA</td>\n",
              "      <td>MEDELLIN-ANTIOQUIA</td>\n",
              "    </tr>\n",
              "  </tbody>\n",
              "</table>\n",
              "</div>"
            ],
            "text/plain": [
              "         nit  ... ciudad_de_la_dirección_del_domicilio\n",
              "0  800000090  ...                   MEDELLIN-ANTIOQUIA\n",
              "\n",
              "[1 rows x 12 columns]"
            ]
          },
          "metadata": {},
          "execution_count": 47
        }
      ]
    },
    {
      "cell_type": "code",
      "metadata": {
        "id": "zNkc3fygZhcx"
      },
      "source": [
        ""
      ],
      "execution_count": null,
      "outputs": []
    }
  ]
}