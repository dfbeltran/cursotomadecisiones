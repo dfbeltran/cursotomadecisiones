{
  "nbformat": 4,
  "nbformat_minor": 0,
  "metadata": {
    "colab": {
      "name": "4. Análisis_clúster_y_análisis_de_anomalías.ipynb",
      "provenance": [],
      "collapsed_sections": [],
      "toc_visible": true
    },
    "kernelspec": {
      "name": "python3",
      "display_name": "Python 3"
    },
    "language_info": {
      "name": "python"
    }
  },
  "cells": [
    {
      "cell_type": "markdown",
      "metadata": {
        "id": "WG39cUZlZUHw"
      },
      "source": [
        "# Análisis clúster y análisis de anomalías\n",
        "\n",
        "## 1. Introducción\n",
        "Una de las tareas del análisis de datos consiste en la identificación de agrupaciones naturales de individuos.\n",
        "\n",
        "Para esto, normalmente se cuenta con una base de datos cuyas fílas son los individuos de interés\n",
        "(personas, empresas, transacciones, etc.) y las columnas son sus características. Esto último, que existan muchas variables por cada registro, es muy relevante en esta parte del curso y justifíca el uso de metodologías\n",
        "\n",
        "multivariadas de agrupación. Estas técnicas usualmente se grupan bajo el título de análisis clúster.\n",
        "Para el aprendizaje de máquina (machine learning) el análisis clúster hace parte del aprendizaje no\n",
        "supervisado porque no se tienen concepciones a priori sobre cómo conformar los grupos."
      ]
    },
    {
      "cell_type": "markdown",
      "metadata": {
        "id": "sTsxNsVyZv87"
      },
      "source": [
        "## 2. Análisis clúster\n",
        "\n",
        "El objetivo del análisis clúster es la identificación de grupos de individuos (o de variables) en conjuntos de datos multidimensionales. Los individuos (variables) que pertenecen a un mismo grupo deben ser parecidos, mientras que los grupos deben ser diferentes entre sí. Aquí, el concepto de parecido (o diferente) dependende de algún tipo de distancia entre las observaciones.\n",
        "El análisis clúster es popular siempre que exista inter\u0013es en grupos de individuos (variables). Por ejemplo, en mercadeo, es importante hacer segmentaciones de clientes de acuerdo con sus características para después aplicar estrategias de ventas diferentes enfocadas a cada subgrupo.\n",
        "En la práctica, se deben tener en cuenta las siguientes recomendaciones:\n",
        "* En los datos, los elementos que se quieren agrupar deben estar organizados por fílas, mientras que las caracterésticas que definen a estos elementos van por columnas.\n",
        "* Se debe evitar la presencia de valores perdidos. Si existen se deben imputar o eliminar la observación, teniendo muy en cuenta las posibles consecuencias en términos de sesgo en los datos.\n",
        "* Las variables deben tener escalas similares.\n",
        "\n",
        "Con respecto al último punto, los algoritmos de clustering, en general, son sensibles a la escala de las variables. Por ejemplo, en una base de datos de países, se pueden tener como variables el producto interno bruto (PIB) y el crecimiento. Aquí, el PIB suele venir en unidades monetarias, y tener valores incluso de billones, mientras que el crecimiento es un porcentaje. De esta forma, la escala de las variables es muy diferente y el algoritmo tenderá a agrupar con base en la variable de mayor escala, en este caso el PIB. Para evitar esto, las variables pueden estandarizarse (llevar a series con media 0 y varianza 1) o reescalarse (todas tienen el mismo mínimo y máximo).\n",
        "\n",
        "> **📝 Nota:** Los procesos de estandarización o reescalamiento no aplican si las variables que describen al individuo son categóricas. En este caso, se debe recurrir a opciones distintas como la construcción de variables dummys (dicotómicas, de ceros y unos) o utilizar medidas de distancia capaces de tratar con este tipo de información."
      ]
    },
    {
      "cell_type": "markdown",
      "metadata": {
        "id": "K59RnP3_b5tZ"
      },
      "source": [
        "## 2.1. Medidas de distancia\n",
        "\n",
        "La distancia entre dos observaciones mide su cercanía (como era de esperar). Para un grupo de individuos, se puede obtener una matriz que contenga la distancia entre todos ellos. Como resultado, la matriz de distancias es cuadrada (igual número de filas y columnas) y tiene ceros en su diagonal principal.\n",
        "\n",
        "La distancia entre un par de individuos 1 y 2, definidos a partir de p variables $x_{1i}, x_{2i}, ... x_{pi}$ con $i = 1,2$ se puede calcular como:\n",
        "\n",
        "* Distancia Euclídea: $d (x_1, x_2) = \\sqrt{\\sum_{j=1}^{p} (x_{j1}-x_{j2})^2}$.\n",
        "* Distancia Manhattan (o del taxista):  $d (x_1, x_2) = \\sum_{j=1}^{p} |x_{j1}-x_{j2}|$.\n",
        "* Distancia de Mahalanobis: $d (x_1, x_2) = \\sqrt{{(x_{j1}-x_{j2})^T} * {\\Sigma}^{-1} (x_{1}-x_{2})}$ donde $\\Sigma$ es la matriz de varianzas y covarianzas entre $x_1$ y $x_2$.\n",
        "\n",
        "También existen otras medidas basadas en la correlaci\u0013on entre individuos que son utilizadas en contextos\n",
        "específicos. En este caso, se considera que dos individuos son parecidos si tienen una alta correlación en sus características, aún cuando los valores que éstas tomen sean muy diferentes:\n",
        "* Distancia de correlación Pearson: $d (x_1, x_2) = 1 - \\dfrac{\\sum_{j=1}^{p} (x_{j1} - \\bar x)(x_{j2} - \\bar x)}{\\sqrt{\\sum_{j=1}^{p} (x_{j1} - \\bar x)^2(x_{j2} - \\bar x)^2}}$.\n",
        "\n",
        "Muchas de las medidas de distancia aplican únicamente a variables numéricas, pero en la práctica es\n",
        "usual que las características de los individuos estén definidas como series ordinales o incluso categoricas.\n",
        "\n",
        "Para estos casos se ha desarrollado la distancia de Gower, que agrupa las variables de un conjunto de datos de acuerdo con su naturaleza y aplica las medidas de distancias pertinentes según cada caso: para variables numéricas y ordinales se utiliza la distancia Manhattan (con un ajuste por empates para el segundo caso), y para variables nominales con k categorías se generan k variables indicadoras (dicotómicas) y luego se aplican medidas de similaridad adecuadas. Las distancias de cada caso se combinan de manera lineal, usualmente como un promedio simple."
      ]
    },
    {
      "cell_type": "markdown",
      "metadata": {
        "id": "jDgpUQoCcczJ"
      },
      "source": [
        "### 2.1.1. Carga y exploración de datos\n",
        "A continuación se utilizarán datos empresariales con informaci\u0013on de estados financieros. En primera instancia, se cargan y exploran los datos, para esto se utilizará la libreria de Pandas:\n"
      ]
    },
    {
      "cell_type": "code",
      "metadata": {
        "id": "Tiq6fd2S_vJs",
        "colab": {
          "base_uri": "https://localhost:8080/"
        },
        "outputId": "4f589ecc-7eec-407a-9d88-4a8dc2f8f5c3"
      },
      "source": [
        "# Clonar repo de Git\n",
        "!git clone https://github.com/dfbeltran/cursotomadecisiones.git"
      ],
      "execution_count": 1,
      "outputs": [
        {
          "output_type": "stream",
          "name": "stdout",
          "text": [
            "Cloning into 'cursotomadecisiones'...\n",
            "remote: Enumerating objects: 53, done.\u001b[K\n",
            "remote: Counting objects: 100% (53/53), done.\u001b[K\n",
            "remote: Compressing objects: 100% (47/47), done.\u001b[K\n",
            "remote: Total 53 (delta 10), reused 46 (delta 6), pack-reused 0\u001b[K\n",
            "Unpacking objects: 100% (53/53), done.\n"
          ]
        }
      ]
    },
    {
      "cell_type": "code",
      "metadata": {
        "id": "R2l9sHGQnYly"
      },
      "source": [
        "# Importar librerias que se van a usar\n",
        "import pandas as pd\n",
        "from functools import reduce\n",
        "import numpy as np\n",
        "\n",
        "# Cargar los datos\n",
        "caratula = pd.read_csv('/content/cursotomadecisiones/datos/tema_4/Supersociedades SIREM 201706 - Caratula.csv',\n",
        "                       encoding='latin-1', # Tipo de codificación del archivo (latin-1 dado a que tiene comas)\n",
        "                       sep = ';') # Seleccionar separador \n",
        "\n",
        "efe = pd.read_csv('/content/cursotomadecisiones/datos/tema_4/Supersociedades SIREM 201706 - EFE.csv',\n",
        "                       encoding='latin-1',\n",
        "                       sep = ';')\n",
        "\n",
        "eri = pd.read_csv('/content/cursotomadecisiones/datos/tema_4/Supersociedades SIREM 201706 - ERI.csv',\n",
        "                       encoding='latin-1',\n",
        "                       sep = ';')\n",
        "\n",
        "esf = pd.read_csv('/content/cursotomadecisiones/datos/tema_4/Supersociedades SIREM 201706 - ESF.csv',\n",
        "                       encoding='latin-1',\n",
        "                       sep = ';')\n",
        "\n",
        "ori = pd.read_csv('/content/cursotomadecisiones/datos/tema_4/Supersociedades SIREM 201706 - ORI.csv',\n",
        "                       encoding='latin-1',\n",
        "                       sep = ';')"
      ],
      "execution_count": 2,
      "outputs": []
    },
    {
      "cell_type": "code",
      "metadata": {
        "colab": {
          "base_uri": "https://localhost:8080/"
        },
        "id": "QMUoQlQ-LfMB",
        "outputId": "7167bf52-6e75-4c31-d834-d66be5af0a4b"
      },
      "source": [
        "caratula.info()"
      ],
      "execution_count": 3,
      "outputs": [
        {
          "output_type": "stream",
          "name": "stdout",
          "text": [
            "<class 'pandas.core.frame.DataFrame'>\n",
            "RangeIndex: 15955 entries, 0 to 15954\n",
            "Data columns (total 12 columns):\n",
            " #   Column                                                         Non-Null Count  Dtype \n",
            "---  ------                                                         --------------  ----- \n",
            " 0   NIT                                                            15955 non-null  int64 \n",
            " 1   FECHA CORTE                                                    15955 non-null  object\n",
            " 2   Razón social de la sociedad                                    15955 non-null  object\n",
            " 3   Corte de cuentas según estatutos                               15955 non-null  object\n",
            " 4   Estado actual                                                  15955 non-null  object\n",
            " 5   Clasificación Industrial Internacional Uniforme Versión 4 A.C  15955 non-null  object\n",
            " 6   Tipo societario                                                15955 non-null  object\n",
            " 7   La sociedad es                                                 15955 non-null  object\n",
            " 8   Departamento de la dirección de notificación judicial          15955 non-null  object\n",
            " 9   Ciudad de la dirección de notificación judicial                15955 non-null  object\n",
            " 10  Departamento de la dirección del domicilio                     15955 non-null  object\n",
            " 11  Ciudad de la dirección del domicilio                           15955 non-null  object\n",
            "dtypes: int64(1), object(11)\n",
            "memory usage: 1.5+ MB\n"
          ]
        }
      ]
    },
    {
      "cell_type": "code",
      "metadata": {
        "colab": {
          "base_uri": "https://localhost:8080/"
        },
        "id": "EZ2d9Np0NVlC",
        "outputId": "e534d626-bd1d-4737-a110-6461a1810a03"
      },
      "source": [
        "efe.info()"
      ],
      "execution_count": 4,
      "outputs": [
        {
          "output_type": "stream",
          "name": "stdout",
          "text": [
            "<class 'pandas.core.frame.DataFrame'>\n",
            "RangeIndex: 16027 entries, 0 to 16026\n",
            "Data columns (total 57 columns):\n",
            " #   Column                                                                                                                         Non-Null Count  Dtype  \n",
            "---  ------                                                                                                                         --------------  -----  \n",
            " 0   NIT                                                                                                                            16027 non-null  int64  \n",
            " 1   FECHA CORTE                                                                                                                    16027 non-null  object \n",
            " 2   DURACION                                                                                                                       16027 non-null  object \n",
            " 3   (+/-) Ganancia (pérdida)                                                                                                       16024 non-null  float64\n",
            " 4   (+/-) Ajustes por gastos por impuestos a las ganancias                                                                         8644 non-null   float64\n",
            " 5   ( + ) Ajustes por gastos de depreciación y amortización                                                                        12154 non-null  float64\n",
            " 6   (+/-) Ajustes por deterioro de valor (reversiones de pérdidas por deterioro de valor) reconocidas en el resultado del periodo  4621 non-null   float64\n",
            " 7   (+) Ajustes por provisiones                                                                                                    4593 non-null   float64\n",
            " 8   (+) Ajustes por costos financieros                                                                                             3795 non-null   float64\n",
            " 9   (+/-) Ajustes por pérdidas (ganancias) de moneda extranjera no realizadas                                                      3383 non-null   float64\n",
            " 10  (+/-) Ajustes por pérdidas (ganancias) del valor razonable                                                                     3556 non-null   float64\n",
            " 11  (-) Ajustes por ganancias no distribuidas de asociadas                                                                         2982 non-null   float64\n",
            " 12  (+/-) Ajustes por pérdidas (ganancias) por la disposición de activos no corrientes                                             3617 non-null   float64\n",
            " 13  (+/-) Otros ajustes para conciliar la ganancia (pérdida)                                                                       5369 non-null   float64\n",
            " 14  Total ajustes para conciliar la ganancia (pérdida)                                                                             13629 non-null  float64\n",
            " 15  (+/-) Ajustes por disminuciones (incrementos) en los inventarios                                                               10318 non-null  float64\n",
            " 16  (+/-) Ajustes por la disminución (incremento) de cuentas por cobrar de origen comercial                                        13603 non-null  float64\n",
            " 17  (+/-) Ajustes por disminuciones (incrementos) en otras cuentas por cobrar derivadas de las actividades de operación            8935 non-null   float64\n",
            " 18  (+/-) Ajustes por el incremento (disminución) de cuentas por pagar de origen comercial                                         13037 non-null  float64\n",
            " 19  (+/-) Ajustes por incrementos (disminuciones) en otras cuentas por pagar derivadas de las actividades de operación             11338 non-null  float64\n",
            " 20  (+/-) Otras entradas (salidas) de efectivo                                                                                     8921 non-null   float64\n",
            " 21  Flujos de efectivo netos procedentes de (utilizados en) actividades de operación                                               15138 non-null  float64\n",
            " 22  (+) Flujos de efectivo procedentes de la pérdida de control de subsidiarias u otros negocios                                   2800 non-null   float64\n",
            " 23  (-) Flujos de efectivo utilizados para obtener el control de subsidiarias u otros negocios                                     2796 non-null   float64\n",
            " 24  (+) Otros cobros por la venta de patrimonio o instrumentos de deuda de otras entidades                                         2943 non-null   float64\n",
            " 25  (-) Otros pagos para adquirir patrimonio o instrumentos de deuda de otras entidades                                            3200 non-null   float64\n",
            " 26  (+) Otros cobros por la venta de participaciones en negocios conjuntos                                                         2785 non-null   float64\n",
            " 27  (-) Otros pagos para adquirir participaciones en negocios conjuntos                                                            2848 non-null   float64\n",
            " 28  (+) Importes procedentes de la venta de propiedades, planta y equipo                                                           4499 non-null   float64\n",
            " 29  (-) Compras de propiedades, planta y equipo                                                                                    9973 non-null   float64\n",
            " 30  (+) Importes procedentes de ventas de activos intangibles                                                                      3133 non-null   float64\n",
            " 31  (-) Compras de activos intangibles                                                                                             4200 non-null   float64\n",
            " 32  (+) Recursos por ventas de otros activos a largo plazo                                                                         3013 non-null   float64\n",
            " 33  (-) Compras de otros activos a largo plazo                                                                                     3520 non-null   float64\n",
            " 34  (-) Pagos derivados de contratos de futuro, a término, de opciones y de permuta financiera                                     2758 non-null   float64\n",
            " 35  (+) Cobros procedentes de contratos de futuro, a término, de opciones y de permuta financiera                                  2750 non-null   float64\n",
            " 36  (+) Dividendos recibidos                                                                                                       2873 non-null   float64\n",
            " 37  (+) Intereses recibidos                                                                                                        3230 non-null   float64\n",
            " 38  (+/-) Otras entradas (salidas) de efectivo.1                                                                                   5474 non-null   float64\n",
            " 39  Flujos de efectivo netos procedentes de (utilizados en) actividades de inversión                                               12550 non-null  float64\n",
            " 40  (+) Importes procedentes de aumento de capital y/o recolocación de acciones                                                    3852 non-null   float64\n",
            " 41  (-) Disminución de capital social y/o readquisición de acciones                                                                2849 non-null   float64\n",
            " 42  (-) Pagos por otras participaciones en el patrimonio                                                                           2968 non-null   float64\n",
            " 43  (+) Importe procedente del aumento prima por emisión                                                                           2906 non-null   float64\n",
            " 44  (-) Disminución de prima por emisión                                                                                           2691 non-null   float64\n",
            " 45  (+) Importes procedentes de préstamos                                                                                          5916 non-null   float64\n",
            " 46  (-) Reembolsos de préstamos                                                                                                    5737 non-null   float64\n",
            " 47  (-) Pagos de pasivos por arrendamientos financieros                                                                            3202 non-null   float64\n",
            " 48  (-) Dividendos pagados                                                                                                         5107 non-null   float64\n",
            " 49  (-) Intereses pagados                                                                                                          3624 non-null   float64\n",
            " 50  (+/-) Otras entradas (salidas) de efectivo.2                                                                                   5971 non-null   float64\n",
            " 51  Flujos de efectivo netos procedentes de (utilizados en) actividades de financiación                                            11642 non-null  float64\n",
            " 52  Incremento (disminución) neto de efectivo y equivalentes al efectivo, antes del efecto de los cambios en la tasa de cambio     14990 non-null  float64\n",
            " 53  (+/-) Efectos de la variación en la tasa de cambio sobre el efectivo y equivalentes al efectivo                                2865 non-null   float64\n",
            " 54  Incremento (disminución) neto de efectivo y equivalentes al efectivo                                                           15202 non-null  float64\n",
            " 55  Efectivo y equivalentes al efectivo al principio del periodo                                                                   14297 non-null  float64\n",
            " 56  Efectivo y equivalentes al efectivo al final del periodo                                                                       14326 non-null  float64\n",
            "dtypes: float64(54), int64(1), object(2)\n",
            "memory usage: 7.0+ MB\n"
          ]
        }
      ]
    },
    {
      "cell_type": "code",
      "metadata": {
        "colab": {
          "base_uri": "https://localhost:8080/"
        },
        "id": "B5ojH6n4NfKx",
        "outputId": "a0c116e5-f11b-4743-f126-70c9aa7ccc03"
      },
      "source": [
        "eri.info()"
      ],
      "execution_count": 5,
      "outputs": [
        {
          "output_type": "stream",
          "name": "stdout",
          "text": [
            "<class 'pandas.core.frame.DataFrame'>\n",
            "RangeIndex: 16005 entries, 0 to 16004\n",
            "Data columns (total 19 columns):\n",
            " #   Column                                                       Non-Null Count  Dtype  \n",
            "---  ------                                                       --------------  -----  \n",
            " 0   Nit                                                          16005 non-null  int64  \n",
            " 1   Fecha Corte                                                  16005 non-null  object \n",
            " 2   Duracion                                                     16005 non-null  object \n",
            " 3   Ingresos de actividades ordinarias                           16005 non-null  float64\n",
            " 4   Costo de ventas                                              13633 non-null  float64\n",
            " 5   Ganancia bruta                                               16005 non-null  float64\n",
            " 6   Otros ingresos                                               16005 non-null  float64\n",
            " 7   Gastos de ventas                                             11296 non-null  float64\n",
            " 8   Gastos de administración                                     15696 non-null  float64\n",
            " 9   Otros gastos                                                 14007 non-null  float64\n",
            " 10  Otras ganancias (pérdidas)                                   5728 non-null   float64\n",
            " 11  Ganancia (pérdida) por actividades de operación              16005 non-null  int64  \n",
            " 12  Ingresos financieros                                         9685 non-null   float64\n",
            " 13  Costos financieros                                           11785 non-null  float64\n",
            " 14  Ganancia (pérdida), antes de impuestos                       16005 non-null  int64  \n",
            " 15  Ingreso (gasto) por impuestos                                14588 non-null  float64\n",
            " 16  Ganancia (pérdida) procedente de operaciones continuadas     16005 non-null  int64  \n",
            " 17  Ganancia (pérdida) procedente de operaciones discontinuadas  4701 non-null   float64\n",
            " 18  Ganancia (pérdida)                                           16005 non-null  int64  \n",
            "dtypes: float64(12), int64(5), object(2)\n",
            "memory usage: 2.3+ MB\n"
          ]
        }
      ]
    },
    {
      "cell_type": "code",
      "metadata": {
        "colab": {
          "base_uri": "https://localhost:8080/"
        },
        "id": "WGZHDFCsNmYJ",
        "outputId": "d0c0de12-297d-487d-8fb3-b0add089d871"
      },
      "source": [
        "esf.info()"
      ],
      "execution_count": 6,
      "outputs": [
        {
          "output_type": "stream",
          "name": "stdout",
          "text": [
            "<class 'pandas.core.frame.DataFrame'>\n",
            "RangeIndex: 15988 entries, 0 to 15987\n",
            "Data columns (total 64 columns):\n",
            " #   Column                                                                                                                                                                                                                  Non-Null Count  Dtype  \n",
            "---  ------                                                                                                                                                                                                                  --------------  -----  \n",
            " 0   Nit                                                                                                                                                                                                                     15988 non-null  int64  \n",
            " 1   Fecha Corte                                                                                                                                                                                                             15988 non-null  object \n",
            " 2   Instante                                                                                                                                                                                                                15988 non-null  object \n",
            " 3   Efectivo y equivalentes al efectivo                                                                                                                                                                                     15868 non-null  float64\n",
            " 4   Cuentas comerciales por cobrar y otras cuentas por cobrar corrientes                                                                                                                                                    15518 non-null  float64\n",
            " 5   Inventarios corrientes                                                                                                                                                                                                  11504 non-null  float64\n",
            " 6   Activos por impuestos corrientes, corriente                                                                                                                                                                             10246 non-null  float64\n",
            " 7   Activos biológicos corrientes, al costo menos depreciación acumulada y deterioro de valor                                                                                                                               4471 non-null   float64\n",
            " 8   Activos biológicos corrientes, al valor razonable                                                                                                                                                                       4518 non-null   float64\n",
            " 9   Otros activos financieros corrientes                                                                                                                                                                                    7332 non-null   float64\n",
            " 10  Otros activos no financieros corrientes                                                                                                                                                                                 7127 non-null   float64\n",
            " 11  Activos corrientes distintos al efectivo pignorados como garantía colateral para las que el receptor de transferencias tiene derecho por contrato o costumbre a vender o pignorar de nuevo dicha garantía colateral     4237 non-null   float64\n",
            " 12  Total activos corrientes distintos de los activos no corrientes o grupo de activos para su disposición clasificados como mantenidos para la venta o como mantenidos para distribuir a los propietarios                  15970 non-null  float64\n",
            " 13  Activos no corrientes o grupos de activos para su disposición clasificados como mantenidos para la venta o como mantenidos para distribuir a los propietarios                                                           4042 non-null   float64\n",
            " 14  Activos corrientes totales                                                                                                                                                                                              15970 non-null  float64\n",
            " 15  Propiedades, planta y equipo                                                                                                                                                                                            14693 non-null  float64\n",
            " 16  Propiedades de inversión al costo menos depreciación acumulada y deterioro                                                                                                                                              5414 non-null   float64\n",
            " 17  Propiedades de inversión a valor razonable con cambios en resultados                                                                                                                                                    5219 non-null   float64\n",
            " 18  Plusvalía                                                                                                                                                                                                               4117 non-null   float64\n",
            " 19  Activos intangibles distintos de la plusvalía                                                                                                                                                                           6864 non-null   float64\n",
            " 20  Activos biológicos no corrientes, al costo menos depreciación acumulada y deterioro del valor                                                                                                                           4222 non-null   float64\n",
            " 21  Activos biológicos no corrientes, al valor razonable                                                                                                                                                                    4209 non-null   float64\n",
            " 22  Cuentas comerciales por cobrar y otras cuentas por cobrar no corrientes                                                                                                                                                 5615 non-null   float64\n",
            " 23  Inventarios no corrientes                                                                                                                                                                                               4159 non-null   float64\n",
            " 24  Activos por impuestos diferidos                                                                                                                                                                                         7866 non-null   float64\n",
            " 25  Activos por impuestos corrientes, no corriente                                                                                                                                                                          4274 non-null   float64\n",
            " 26  Otros activos financieros no corrientes                                                                                                                                                                                 6391 non-null   float64\n",
            " 27  Otros activos no financieros no corrientes                                                                                                                                                                              5842 non-null   float64\n",
            " 28  Activos no corrientes distintos al efectivo pignorados como garantía colateral para las que el receptor de transferencias tiene derecho por contrato o costumbre a vender o pignorar de nuevo dicha garantía colateral  3996 non-null   float64\n",
            " 29  Total de activos no corrientes                                                                                                                                                                                          15672 non-null  float64\n",
            " 30  Total de activos                                                                                                                                                                                                        15988 non-null  int64  \n",
            " 31  Provisiones corrientes por beneficios a los empleados                                                                                                                                                                   10787 non-null  float64\n",
            " 32  Otras provisiones corrientes                                                                                                                                                                                            5649 non-null   float64\n",
            " 33  Total provisiones corrientes                                                                                                                                                                                            11256 non-null  float64\n",
            " 34  Cuentas por pagar comerciales y otras cuentas por pagar                                                                                                                                                                 15421 non-null  float64\n",
            " 35  Pasivos por impuestos corrientes, corriente                                                                                                                                                                             14477 non-null  float64\n",
            " 36  Otros pasivos financieros corrientes                                                                                                                                                                                    10797 non-null  float64\n",
            " 37  Préstamos corrientes                                                                                                                                                                                                    10058 non-null  float64\n",
            " 38  Parte corriente de préstamos no corrientes                                                                                                                                                                              5343 non-null   float64\n",
            " 39  Otros pasivos no financieros corrientes                                                                                                                                                                                 9312 non-null   float64\n",
            " 40  Total pasivos corrientes distintos de los pasivos incluidos en grupos de activos para su disposición clasificados como mantenidos para la venta                                                                         15937 non-null  float64\n",
            " 41  Pasivos incluidos en grupos de activos para su disposición clasificados como mantenidos para la venta                                                                                                                   4182 non-null   float64\n",
            " 42  Pasivos corrientes totales                                                                                                                                                                                              15939 non-null  float64\n",
            " 43  Provisiones no corrientes por beneficios a los empleados                                                                                                                                                                4782 non-null   float64\n",
            " 44  Otras provisiones no corrientes                                                                                                                                                                                         4831 non-null   float64\n",
            " 45  Total provisiones no corrientes                                                                                                                                                                                         5281 non-null   float64\n",
            " 46  Cuentas comerciales por pagar y otras cuentas por pagar no corrientes                                                                                                                                                   7323 non-null   float64\n",
            " 47  Pasivo por impuestos diferidos                                                                                                                                                                                          8625 non-null   float64\n",
            " 48  Pasivos por impuestos corrientes, no corriente                                                                                                                                                                          5051 non-null   float64\n",
            " 49  Otros pasivos financieros no corrientes                                                                                                                                                                                 7910 non-null   float64\n",
            " 50  Parte no corriente de préstamos no corrientes                                                                                                                                                                           7552 non-null   float64\n",
            " 51  Otros pasivos no financieros no corrientes                                                                                                                                                                              6567 non-null   float64\n",
            " 52  Total de pasivos no corrientes                                                                                                                                                                                          13111 non-null  float64\n",
            " 53  Total pasivos                                                                                                                                                                                                           15988 non-null  int64  \n",
            " 54  Capital emitido                                                                                                                                                                                                         15931 non-null  float64\n",
            " 55  Prima de emisión                                                                                                                                                                                                        6265 non-null   float64\n",
            " 56  Acciones propias en cartera                                                                                                                                                                                             4046 non-null   float64\n",
            " 57  Inversión suplementaria al capital asignado                                                                                                                                                                             4229 non-null   float64\n",
            " 58  Otras participaciones en el patrimonio                                                                                                                                                                                  5383 non-null   float64\n",
            " 59  Superavit por revaluación                                                                                                                                                                                               6161 non-null   float64\n",
            " 60  Otras reservas                                                                                                                                                                                                          13414 non-null  float64\n",
            " 61  Ganancias acumuladas                                                                                                                                                                                                    15890 non-null  float64\n",
            " 62  Patrimonio total                                                                                                                                                                                                        15988 non-null  int64  \n",
            " 63  Total de patrimonio y pasivos                                                                                                                                                                                           15988 non-null  int64  \n",
            "dtypes: float64(57), int64(5), object(2)\n",
            "memory usage: 7.8+ MB\n"
          ]
        }
      ]
    },
    {
      "cell_type": "code",
      "metadata": {
        "colab": {
          "base_uri": "https://localhost:8080/"
        },
        "id": "Zc9dMvocNpzS",
        "outputId": "d5845b57-32ee-4380-f5f7-1dd533c9226a"
      },
      "source": [
        "ori.info()"
      ],
      "execution_count": 7,
      "outputs": [
        {
          "output_type": "stream",
          "name": "stdout",
          "text": [
            "<class 'pandas.core.frame.DataFrame'>\n",
            "RangeIndex: 16009 entries, 0 to 16008\n",
            "Data columns (total 12 columns):\n",
            " #   Column                                                                                                           Non-Null Count  Dtype  \n",
            "---  ------                                                                                                           --------------  -----  \n",
            " 0   Nit                                                                                                              16009 non-null  int64  \n",
            " 1   Fecha Corte                                                                                                      16009 non-null  object \n",
            " 2   Duracion                                                                                                         16009 non-null  object \n",
            " 3   Ganancia (pérdida)                                                                                               16005 non-null  float64\n",
            " 4   Otro resultado integral, neto de impuestos, ganancias (pérdidas) por revaluación                                 3643 non-null   float64\n",
            " 5   Total otro resultado integral que no se reclasificará al resultado del periodo, neto de impuestos                4172 non-null   float64\n",
            " 6   Total otro resultado integral                                                                                    4280 non-null   float64\n",
            " 7   Resultado integral total                                                                                         7206 non-null   float64\n",
            " 8   Otro resultado integral, neto de impuestos, diferencias de cambio por conversión                                 3664 non-null   float64\n",
            " 9   Otro resultado integral, neto de impuestos, ganancias (pérdidas) actuariales por planes de beneficios definidos  3279 non-null   float64\n",
            " 10  Ganancias (pérdidas) por coberturas de flujos de efectivo, neto de impuestos                                     3139 non-null   float64\n",
            " 11  Total otro resultado integral que se reclasificará al resultado del periodo, neto de impuestos                   3145 non-null   float64\n",
            "dtypes: float64(9), int64(1), object(2)\n",
            "memory usage: 1.5+ MB\n"
          ]
        }
      ]
    },
    {
      "cell_type": "markdown",
      "metadata": {
        "id": "4aNK2yFDNuvB"
      },
      "source": [
        "A continuación se unen los archivos utilizando como llave el numero de identificación tributaria (NIT) de las empresas. Aquí, se debe notar que la variable identificadora se llama NIT para los elementos Caratula y efe y Nit para los elementos esf y ori, con lo cual se debe estandarizar el nombre.\n",
        "\n",
        "Una de las buenas practicas cuando se trabaja con bases de datos relacionales es minimizar todas las columnas y reemplazar los espacios por un guión bajo ( _ ), esto facilitá luego autocompletar cuando se usa un IDE. "
      ]
    },
    {
      "cell_type": "code",
      "metadata": {
        "id": "8g6-K6w9TYfh"
      },
      "source": [
        "def df_bajas_guion_bajo(df):\n",
        "    '''\n",
        "    Convierte las columnas de un DataFrame a bajas y transforma\n",
        "    los espacios en guiones bajo \n",
        "\n",
        "    Args:\n",
        "        df (pd.DataFrame) : El dataframe al que se le aplicará la transformación\n",
        "\n",
        "    Returns:\n",
        "        df (pd.DataFrame): El dataframe transformado\n",
        "\n",
        "    '''   \n",
        "    df.columns = df.columns.str.lower().str.replace(' ','_')\n",
        "    return df"
      ],
      "execution_count": 8,
      "outputs": []
    },
    {
      "cell_type": "code",
      "metadata": {
        "id": "0jxSeIp1PG2K"
      },
      "source": [
        "# Mapea función a todos los dataframes\n",
        "caratula, efe, eri, esf, ori = map(df_bajas_guion_bajo, [caratula, efe, eri, esf, ori]) "
      ],
      "execution_count": 9,
      "outputs": []
    },
    {
      "cell_type": "code",
      "metadata": {
        "colab": {
          "base_uri": "https://localhost:8080/",
          "height": 442
        },
        "id": "eTfrMlBcfKXd",
        "outputId": "3ecf3196-9498-4238-ca29-9d72a10992ba"
      },
      "source": [
        "efe"
      ],
      "execution_count": 10,
      "outputs": [
        {
          "output_type": "execute_result",
          "data": {
            "text/html": [
              "<div>\n",
              "<style scoped>\n",
              "    .dataframe tbody tr th:only-of-type {\n",
              "        vertical-align: middle;\n",
              "    }\n",
              "\n",
              "    .dataframe tbody tr th {\n",
              "        vertical-align: top;\n",
              "    }\n",
              "\n",
              "    .dataframe thead th {\n",
              "        text-align: right;\n",
              "    }\n",
              "</style>\n",
              "<table border=\"1\" class=\"dataframe\">\n",
              "  <thead>\n",
              "    <tr style=\"text-align: right;\">\n",
              "      <th></th>\n",
              "      <th>nit</th>\n",
              "      <th>fecha_corte</th>\n",
              "      <th>duracion</th>\n",
              "      <th>(+/-)_ganancia_(pérdida)</th>\n",
              "      <th>(+/-)_ajustes_por_gastos_por_impuestos_a_las_ganancias</th>\n",
              "      <th>(_+_)_ajustes_por_gastos_de_depreciación_y_amortización</th>\n",
              "      <th>(+/-)_ajustes_por_deterioro_de_valor_(reversiones_de_pérdidas_por_deterioro_de_valor)_reconocidas_en_el_resultado_del_periodo</th>\n",
              "      <th>(+)_ajustes_por_provisiones</th>\n",
              "      <th>(+)_ajustes_por_costos_financieros</th>\n",
              "      <th>(+/-)_ajustes_por_pérdidas_(ganancias)_de_moneda_extranjera_no_realizadas</th>\n",
              "      <th>(+/-)_ajustes_por_pérdidas_(ganancias)_del_valor_razonable</th>\n",
              "      <th>(-)_ajustes_por_ganancias_no_distribuidas_de_asociadas</th>\n",
              "      <th>(+/-)_ajustes_por_pérdidas_(ganancias)_por_la_disposición_de_activos_no_corrientes</th>\n",
              "      <th>(+/-)_otros_ajustes_para_conciliar_la_ganancia_(pérdida)</th>\n",
              "      <th>total_ajustes_para_conciliar_la_ganancia_(pérdida)</th>\n",
              "      <th>(+/-)_ajustes_por_disminuciones_(incrementos)_en_los_inventarios</th>\n",
              "      <th>(+/-)_ajustes_por_la_disminución_(incremento)_de_cuentas_por_cobrar_de_origen_comercial</th>\n",
              "      <th>(+/-)_ajustes_por_disminuciones_(incrementos)_en_otras_cuentas_por_cobrar_derivadas_de_las_actividades_de_operación</th>\n",
              "      <th>(+/-)_ajustes_por_el_incremento_(disminución)_de_cuentas_por_pagar_de_origen_comercial</th>\n",
              "      <th>(+/-)_ajustes_por_incrementos_(disminuciones)_en_otras_cuentas_por_pagar_derivadas_de_las_actividades_de_operación</th>\n",
              "      <th>(+/-)_otras_entradas_(salidas)_de_efectivo</th>\n",
              "      <th>flujos_de_efectivo_netos_procedentes_de_(utilizados_en)_actividades_de_operación</th>\n",
              "      <th>(+)_flujos_de_efectivo_procedentes_de_la_pérdida_de_control_de_subsidiarias_u_otros_negocios</th>\n",
              "      <th>(-)_flujos_de_efectivo_utilizados_para_obtener_el_control_de_subsidiarias_u_otros_negocios</th>\n",
              "      <th>(+)_otros_cobros_por_la_venta_de_patrimonio_o_instrumentos_de_deuda_de_otras_entidades</th>\n",
              "      <th>(-)_otros_pagos_para_adquirir_patrimonio_o_instrumentos_de_deuda_de_otras_entidades</th>\n",
              "      <th>(+)_otros_cobros_por_la_venta_de_participaciones_en_negocios_conjuntos</th>\n",
              "      <th>(-)_otros_pagos_para_adquirir_participaciones_en_negocios_conjuntos</th>\n",
              "      <th>(+)_importes_procedentes_de_la_venta_de_propiedades,_planta_y_equipo</th>\n",
              "      <th>(-)_compras_de_propiedades,_planta_y_equipo</th>\n",
              "      <th>(+)_importes_procedentes_de_ventas_de_activos_intangibles</th>\n",
              "      <th>(-)_compras_de_activos_intangibles</th>\n",
              "      <th>(+)_recursos_por_ventas_de_otros_activos_a_largo_plazo</th>\n",
              "      <th>(-)_compras_de_otros_activos_a_largo_plazo</th>\n",
              "      <th>(-)_pagos_derivados_de_contratos_de_futuro,_a_término,_de_opciones_y_de_permuta_financiera</th>\n",
              "      <th>(+)_cobros_procedentes_de_contratos_de_futuro,_a_término,_de_opciones_y_de_permuta_financiera</th>\n",
              "      <th>(+)_dividendos_recibidos</th>\n",
              "      <th>(+)_intereses_recibidos</th>\n",
              "      <th>(+/-)_otras_entradas_(salidas)_de_efectivo.1</th>\n",
              "      <th>flujos_de_efectivo_netos_procedentes_de_(utilizados_en)_actividades_de_inversión</th>\n",
              "      <th>(+)_importes_procedentes_de_aumento_de_capital_y/o_recolocación_de_acciones</th>\n",
              "      <th>(-)_disminución_de_capital_social_y/o_readquisición_de_acciones</th>\n",
              "      <th>(-)_pagos_por_otras_participaciones_en_el_patrimonio</th>\n",
              "      <th>(+)_importe_procedente_del_aumento_prima_por_emisión</th>\n",
              "      <th>(-)_disminución_de_prima_por_emisión</th>\n",
              "      <th>(+)_importes_procedentes_de_préstamos</th>\n",
              "      <th>(-)_reembolsos_de_préstamos</th>\n",
              "      <th>(-)_pagos_de_pasivos_por_arrendamientos_financieros</th>\n",
              "      <th>(-)_dividendos_pagados</th>\n",
              "      <th>(-)_intereses_pagados</th>\n",
              "      <th>(+/-)_otras_entradas_(salidas)_de_efectivo.2</th>\n",
              "      <th>flujos_de_efectivo_netos_procedentes_de_(utilizados_en)_actividades_de_financiación</th>\n",
              "      <th>incremento_(disminución)_neto_de_efectivo_y_equivalentes_al_efectivo,_antes_del_efecto_de_los_cambios_en_la_tasa_de_cambio</th>\n",
              "      <th>(+/-)_efectos_de_la_variación_en_la_tasa_de_cambio_sobre_el_efectivo_y_equivalentes_al_efectivo</th>\n",
              "      <th>incremento_(disminución)_neto_de_efectivo_y_equivalentes_al_efectivo</th>\n",
              "      <th>efectivo_y_equivalentes_al_efectivo_al_principio_del_periodo</th>\n",
              "      <th>efectivo_y_equivalentes_al_efectivo_al_final_del_periodo</th>\n",
              "    </tr>\n",
              "  </thead>\n",
              "  <tbody>\n",
              "    <tr>\n",
              "      <th>0</th>\n",
              "      <td>800000090</td>\n",
              "      <td>31/12/2016</td>\n",
              "      <td>2016</td>\n",
              "      <td>12469.0</td>\n",
              "      <td>NaN</td>\n",
              "      <td>167834.0</td>\n",
              "      <td>NaN</td>\n",
              "      <td>NaN</td>\n",
              "      <td>NaN</td>\n",
              "      <td>NaN</td>\n",
              "      <td>NaN</td>\n",
              "      <td>NaN</td>\n",
              "      <td>66795.0</td>\n",
              "      <td>NaN</td>\n",
              "      <td>234629.0</td>\n",
              "      <td>-17838.0</td>\n",
              "      <td>-182132.0</td>\n",
              "      <td>NaN</td>\n",
              "      <td>-42904.0</td>\n",
              "      <td>228693.0</td>\n",
              "      <td>38158.0</td>\n",
              "      <td>271075.0</td>\n",
              "      <td>NaN</td>\n",
              "      <td>NaN</td>\n",
              "      <td>4500.0</td>\n",
              "      <td>NaN</td>\n",
              "      <td>NaN</td>\n",
              "      <td>NaN</td>\n",
              "      <td>NaN</td>\n",
              "      <td>133033.0</td>\n",
              "      <td>NaN</td>\n",
              "      <td>NaN</td>\n",
              "      <td>NaN</td>\n",
              "      <td>NaN</td>\n",
              "      <td>NaN</td>\n",
              "      <td>NaN</td>\n",
              "      <td>NaN</td>\n",
              "      <td>NaN</td>\n",
              "      <td>-150461.0</td>\n",
              "      <td>-278994.0</td>\n",
              "      <td>NaN</td>\n",
              "      <td>NaN</td>\n",
              "      <td>NaN</td>\n",
              "      <td>NaN</td>\n",
              "      <td>NaN</td>\n",
              "      <td>NaN</td>\n",
              "      <td>NaN</td>\n",
              "      <td>NaN</td>\n",
              "      <td>NaN</td>\n",
              "      <td>NaN</td>\n",
              "      <td>NaN</td>\n",
              "      <td>NaN</td>\n",
              "      <td>-7919.0</td>\n",
              "      <td>NaN</td>\n",
              "      <td>-7919.0</td>\n",
              "      <td>23134.0</td>\n",
              "      <td>15215.0</td>\n",
              "    </tr>\n",
              "    <tr>\n",
              "      <th>1</th>\n",
              "      <td>800000268</td>\n",
              "      <td>31/12/2016</td>\n",
              "      <td>2016</td>\n",
              "      <td>15955.0</td>\n",
              "      <td>-12380.0</td>\n",
              "      <td>126463.0</td>\n",
              "      <td>NaN</td>\n",
              "      <td>NaN</td>\n",
              "      <td>NaN</td>\n",
              "      <td>NaN</td>\n",
              "      <td>NaN</td>\n",
              "      <td>NaN</td>\n",
              "      <td>NaN</td>\n",
              "      <td>NaN</td>\n",
              "      <td>114083.0</td>\n",
              "      <td>4076.0</td>\n",
              "      <td>0.0</td>\n",
              "      <td>-3341.0</td>\n",
              "      <td>73974.0</td>\n",
              "      <td>-228532.0</td>\n",
              "      <td>NaN</td>\n",
              "      <td>-23785.0</td>\n",
              "      <td>NaN</td>\n",
              "      <td>NaN</td>\n",
              "      <td>NaN</td>\n",
              "      <td>NaN</td>\n",
              "      <td>NaN</td>\n",
              "      <td>NaN</td>\n",
              "      <td>NaN</td>\n",
              "      <td>NaN</td>\n",
              "      <td>NaN</td>\n",
              "      <td>NaN</td>\n",
              "      <td>NaN</td>\n",
              "      <td>NaN</td>\n",
              "      <td>NaN</td>\n",
              "      <td>NaN</td>\n",
              "      <td>NaN</td>\n",
              "      <td>NaN</td>\n",
              "      <td>NaN</td>\n",
              "      <td>NaN</td>\n",
              "      <td>NaN</td>\n",
              "      <td>NaN</td>\n",
              "      <td>NaN</td>\n",
              "      <td>NaN</td>\n",
              "      <td>NaN</td>\n",
              "      <td>NaN</td>\n",
              "      <td>NaN</td>\n",
              "      <td>NaN</td>\n",
              "      <td>NaN</td>\n",
              "      <td>NaN</td>\n",
              "      <td>NaN</td>\n",
              "      <td>NaN</td>\n",
              "      <td>-23785.0</td>\n",
              "      <td>NaN</td>\n",
              "      <td>-23785.0</td>\n",
              "      <td>220875.0</td>\n",
              "      <td>197090.0</td>\n",
              "    </tr>\n",
              "    <tr>\n",
              "      <th>2</th>\n",
              "      <td>800000276</td>\n",
              "      <td>31/12/2016</td>\n",
              "      <td>2016</td>\n",
              "      <td>268204.0</td>\n",
              "      <td>783188.0</td>\n",
              "      <td>3497579.0</td>\n",
              "      <td>0.0</td>\n",
              "      <td>0.0</td>\n",
              "      <td>0.0</td>\n",
              "      <td>0.0</td>\n",
              "      <td>0.0</td>\n",
              "      <td>0.0</td>\n",
              "      <td>0.0</td>\n",
              "      <td>0.0</td>\n",
              "      <td>4280767.0</td>\n",
              "      <td>3559552.0</td>\n",
              "      <td>-2177148.0</td>\n",
              "      <td>0.0</td>\n",
              "      <td>-4545023.0</td>\n",
              "      <td>1901623.0</td>\n",
              "      <td>5328470.0</td>\n",
              "      <td>8616445.0</td>\n",
              "      <td>NaN</td>\n",
              "      <td>NaN</td>\n",
              "      <td>NaN</td>\n",
              "      <td>NaN</td>\n",
              "      <td>NaN</td>\n",
              "      <td>NaN</td>\n",
              "      <td>NaN</td>\n",
              "      <td>16722032.0</td>\n",
              "      <td>NaN</td>\n",
              "      <td>NaN</td>\n",
              "      <td>NaN</td>\n",
              "      <td>NaN</td>\n",
              "      <td>NaN</td>\n",
              "      <td>NaN</td>\n",
              "      <td>NaN</td>\n",
              "      <td>NaN</td>\n",
              "      <td>NaN</td>\n",
              "      <td>-16722032.0</td>\n",
              "      <td>9733647.0</td>\n",
              "      <td>NaN</td>\n",
              "      <td>NaN</td>\n",
              "      <td>NaN</td>\n",
              "      <td>NaN</td>\n",
              "      <td>NaN</td>\n",
              "      <td>NaN</td>\n",
              "      <td>NaN</td>\n",
              "      <td>617609.0</td>\n",
              "      <td>NaN</td>\n",
              "      <td>-837625.0</td>\n",
              "      <td>8278413.0</td>\n",
              "      <td>172826.0</td>\n",
              "      <td>0.0</td>\n",
              "      <td>172826.0</td>\n",
              "      <td>1951397.0</td>\n",
              "      <td>2124223.0</td>\n",
              "    </tr>\n",
              "    <tr>\n",
              "      <th>3</th>\n",
              "      <td>800000313</td>\n",
              "      <td>31/12/2016</td>\n",
              "      <td>2016</td>\n",
              "      <td>17134.0</td>\n",
              "      <td>NaN</td>\n",
              "      <td>NaN</td>\n",
              "      <td>NaN</td>\n",
              "      <td>NaN</td>\n",
              "      <td>NaN</td>\n",
              "      <td>NaN</td>\n",
              "      <td>NaN</td>\n",
              "      <td>NaN</td>\n",
              "      <td>NaN</td>\n",
              "      <td>NaN</td>\n",
              "      <td>NaN</td>\n",
              "      <td>NaN</td>\n",
              "      <td>NaN</td>\n",
              "      <td>NaN</td>\n",
              "      <td>NaN</td>\n",
              "      <td>NaN</td>\n",
              "      <td>NaN</td>\n",
              "      <td>NaN</td>\n",
              "      <td>NaN</td>\n",
              "      <td>NaN</td>\n",
              "      <td>NaN</td>\n",
              "      <td>NaN</td>\n",
              "      <td>NaN</td>\n",
              "      <td>NaN</td>\n",
              "      <td>NaN</td>\n",
              "      <td>NaN</td>\n",
              "      <td>NaN</td>\n",
              "      <td>NaN</td>\n",
              "      <td>NaN</td>\n",
              "      <td>NaN</td>\n",
              "      <td>NaN</td>\n",
              "      <td>NaN</td>\n",
              "      <td>NaN</td>\n",
              "      <td>NaN</td>\n",
              "      <td>NaN</td>\n",
              "      <td>NaN</td>\n",
              "      <td>NaN</td>\n",
              "      <td>NaN</td>\n",
              "      <td>NaN</td>\n",
              "      <td>NaN</td>\n",
              "      <td>NaN</td>\n",
              "      <td>NaN</td>\n",
              "      <td>NaN</td>\n",
              "      <td>NaN</td>\n",
              "      <td>NaN</td>\n",
              "      <td>NaN</td>\n",
              "      <td>NaN</td>\n",
              "      <td>NaN</td>\n",
              "      <td>NaN</td>\n",
              "      <td>NaN</td>\n",
              "      <td>NaN</td>\n",
              "      <td>NaN</td>\n",
              "      <td>NaN</td>\n",
              "    </tr>\n",
              "    <tr>\n",
              "      <th>4</th>\n",
              "      <td>800000439</td>\n",
              "      <td>31/12/2016</td>\n",
              "      <td>2016</td>\n",
              "      <td>191601.0</td>\n",
              "      <td>103240.0</td>\n",
              "      <td>22530.0</td>\n",
              "      <td>NaN</td>\n",
              "      <td>NaN</td>\n",
              "      <td>NaN</td>\n",
              "      <td>NaN</td>\n",
              "      <td>NaN</td>\n",
              "      <td>NaN</td>\n",
              "      <td>NaN</td>\n",
              "      <td>NaN</td>\n",
              "      <td>125770.0</td>\n",
              "      <td>-75317.0</td>\n",
              "      <td>-88114.0</td>\n",
              "      <td>NaN</td>\n",
              "      <td>96090.0</td>\n",
              "      <td>330632.0</td>\n",
              "      <td>0.0</td>\n",
              "      <td>580662.0</td>\n",
              "      <td>NaN</td>\n",
              "      <td>NaN</td>\n",
              "      <td>NaN</td>\n",
              "      <td>NaN</td>\n",
              "      <td>NaN</td>\n",
              "      <td>NaN</td>\n",
              "      <td>NaN</td>\n",
              "      <td>NaN</td>\n",
              "      <td>NaN</td>\n",
              "      <td>NaN</td>\n",
              "      <td>NaN</td>\n",
              "      <td>NaN</td>\n",
              "      <td>NaN</td>\n",
              "      <td>NaN</td>\n",
              "      <td>NaN</td>\n",
              "      <td>NaN</td>\n",
              "      <td>NaN</td>\n",
              "      <td>NaN</td>\n",
              "      <td>NaN</td>\n",
              "      <td>NaN</td>\n",
              "      <td>NaN</td>\n",
              "      <td>NaN</td>\n",
              "      <td>NaN</td>\n",
              "      <td>206145.0</td>\n",
              "      <td>NaN</td>\n",
              "      <td>NaN</td>\n",
              "      <td>334118.0</td>\n",
              "      <td>147659.0</td>\n",
              "      <td>100444.0</td>\n",
              "      <td>-175188.0</td>\n",
              "      <td>405474.0</td>\n",
              "      <td>NaN</td>\n",
              "      <td>405474.0</td>\n",
              "      <td>86895.0</td>\n",
              "      <td>492369.0</td>\n",
              "    </tr>\n",
              "    <tr>\n",
              "      <th>...</th>\n",
              "      <td>...</td>\n",
              "      <td>...</td>\n",
              "      <td>...</td>\n",
              "      <td>...</td>\n",
              "      <td>...</td>\n",
              "      <td>...</td>\n",
              "      <td>...</td>\n",
              "      <td>...</td>\n",
              "      <td>...</td>\n",
              "      <td>...</td>\n",
              "      <td>...</td>\n",
              "      <td>...</td>\n",
              "      <td>...</td>\n",
              "      <td>...</td>\n",
              "      <td>...</td>\n",
              "      <td>...</td>\n",
              "      <td>...</td>\n",
              "      <td>...</td>\n",
              "      <td>...</td>\n",
              "      <td>...</td>\n",
              "      <td>...</td>\n",
              "      <td>...</td>\n",
              "      <td>...</td>\n",
              "      <td>...</td>\n",
              "      <td>...</td>\n",
              "      <td>...</td>\n",
              "      <td>...</td>\n",
              "      <td>...</td>\n",
              "      <td>...</td>\n",
              "      <td>...</td>\n",
              "      <td>...</td>\n",
              "      <td>...</td>\n",
              "      <td>...</td>\n",
              "      <td>...</td>\n",
              "      <td>...</td>\n",
              "      <td>...</td>\n",
              "      <td>...</td>\n",
              "      <td>...</td>\n",
              "      <td>...</td>\n",
              "      <td>...</td>\n",
              "      <td>...</td>\n",
              "      <td>...</td>\n",
              "      <td>...</td>\n",
              "      <td>...</td>\n",
              "      <td>...</td>\n",
              "      <td>...</td>\n",
              "      <td>...</td>\n",
              "      <td>...</td>\n",
              "      <td>...</td>\n",
              "      <td>...</td>\n",
              "      <td>...</td>\n",
              "      <td>...</td>\n",
              "      <td>...</td>\n",
              "      <td>...</td>\n",
              "      <td>...</td>\n",
              "      <td>...</td>\n",
              "      <td>...</td>\n",
              "    </tr>\n",
              "    <tr>\n",
              "      <th>16022</th>\n",
              "      <td>900946019</td>\n",
              "      <td>31/12/2016</td>\n",
              "      <td>2016</td>\n",
              "      <td>14426.0</td>\n",
              "      <td>0.0</td>\n",
              "      <td>0.0</td>\n",
              "      <td>0.0</td>\n",
              "      <td>0.0</td>\n",
              "      <td>NaN</td>\n",
              "      <td>0.0</td>\n",
              "      <td>0.0</td>\n",
              "      <td>0.0</td>\n",
              "      <td>0.0</td>\n",
              "      <td>0.0</td>\n",
              "      <td>0.0</td>\n",
              "      <td>0.0</td>\n",
              "      <td>229144.0</td>\n",
              "      <td>0.0</td>\n",
              "      <td>0.0</td>\n",
              "      <td>0.0</td>\n",
              "      <td>68139.0</td>\n",
              "      <td>311709.0</td>\n",
              "      <td>0.0</td>\n",
              "      <td>0.0</td>\n",
              "      <td>0.0</td>\n",
              "      <td>0.0</td>\n",
              "      <td>0.0</td>\n",
              "      <td>0.0</td>\n",
              "      <td>0.0</td>\n",
              "      <td>0.0</td>\n",
              "      <td>0.0</td>\n",
              "      <td>0.0</td>\n",
              "      <td>0.0</td>\n",
              "      <td>0.0</td>\n",
              "      <td>0.0</td>\n",
              "      <td>0.0</td>\n",
              "      <td>0.0</td>\n",
              "      <td>0.0</td>\n",
              "      <td>-311462.0</td>\n",
              "      <td>-311462.0</td>\n",
              "      <td>0.0</td>\n",
              "      <td>0.0</td>\n",
              "      <td>0.0</td>\n",
              "      <td>0.0</td>\n",
              "      <td>0.0</td>\n",
              "      <td>0.0</td>\n",
              "      <td>0.0</td>\n",
              "      <td>0.0</td>\n",
              "      <td>0.0</td>\n",
              "      <td>0.0</td>\n",
              "      <td>0.0</td>\n",
              "      <td>0.0</td>\n",
              "      <td>247.0</td>\n",
              "      <td>0.0</td>\n",
              "      <td>247.0</td>\n",
              "      <td>0.0</td>\n",
              "      <td>247.0</td>\n",
              "    </tr>\n",
              "    <tr>\n",
              "      <th>16023</th>\n",
              "      <td>900949013</td>\n",
              "      <td>31/12/2016</td>\n",
              "      <td>2016</td>\n",
              "      <td>-24971.0</td>\n",
              "      <td>0.0</td>\n",
              "      <td>0.0</td>\n",
              "      <td>0.0</td>\n",
              "      <td>0.0</td>\n",
              "      <td>0.0</td>\n",
              "      <td>0.0</td>\n",
              "      <td>0.0</td>\n",
              "      <td>0.0</td>\n",
              "      <td>0.0</td>\n",
              "      <td>0.0</td>\n",
              "      <td>0.0</td>\n",
              "      <td>0.0</td>\n",
              "      <td>0.0</td>\n",
              "      <td>-389096.0</td>\n",
              "      <td>0.0</td>\n",
              "      <td>473044.0</td>\n",
              "      <td>0.0</td>\n",
              "      <td>58977.0</td>\n",
              "      <td>0.0</td>\n",
              "      <td>0.0</td>\n",
              "      <td>0.0</td>\n",
              "      <td>0.0</td>\n",
              "      <td>0.0</td>\n",
              "      <td>0.0</td>\n",
              "      <td>0.0</td>\n",
              "      <td>0.0</td>\n",
              "      <td>0.0</td>\n",
              "      <td>0.0</td>\n",
              "      <td>0.0</td>\n",
              "      <td>0.0</td>\n",
              "      <td>0.0</td>\n",
              "      <td>0.0</td>\n",
              "      <td>0.0</td>\n",
              "      <td>0.0</td>\n",
              "      <td>0.0</td>\n",
              "      <td>0.0</td>\n",
              "      <td>47500.0</td>\n",
              "      <td>0.0</td>\n",
              "      <td>0.0</td>\n",
              "      <td>262500.0</td>\n",
              "      <td>0.0</td>\n",
              "      <td>0.0</td>\n",
              "      <td>0.0</td>\n",
              "      <td>0.0</td>\n",
              "      <td>0.0</td>\n",
              "      <td>0.0</td>\n",
              "      <td>0.0</td>\n",
              "      <td>310000.0</td>\n",
              "      <td>368977.0</td>\n",
              "      <td>0.0</td>\n",
              "      <td>368977.0</td>\n",
              "      <td>0.0</td>\n",
              "      <td>368977.0</td>\n",
              "    </tr>\n",
              "    <tr>\n",
              "      <th>16024</th>\n",
              "      <td>900966498</td>\n",
              "      <td>31/12/2016</td>\n",
              "      <td>2016</td>\n",
              "      <td>159722.0</td>\n",
              "      <td>NaN</td>\n",
              "      <td>NaN</td>\n",
              "      <td>NaN</td>\n",
              "      <td>NaN</td>\n",
              "      <td>NaN</td>\n",
              "      <td>NaN</td>\n",
              "      <td>NaN</td>\n",
              "      <td>NaN</td>\n",
              "      <td>NaN</td>\n",
              "      <td>NaN</td>\n",
              "      <td>NaN</td>\n",
              "      <td>NaN</td>\n",
              "      <td>252905207.0</td>\n",
              "      <td>NaN</td>\n",
              "      <td>NaN</td>\n",
              "      <td>18015000.0</td>\n",
              "      <td>NaN</td>\n",
              "      <td>271079929.0</td>\n",
              "      <td>NaN</td>\n",
              "      <td>NaN</td>\n",
              "      <td>NaN</td>\n",
              "      <td>NaN</td>\n",
              "      <td>NaN</td>\n",
              "      <td>NaN</td>\n",
              "      <td>NaN</td>\n",
              "      <td>NaN</td>\n",
              "      <td>NaN</td>\n",
              "      <td>NaN</td>\n",
              "      <td>NaN</td>\n",
              "      <td>NaN</td>\n",
              "      <td>NaN</td>\n",
              "      <td>NaN</td>\n",
              "      <td>NaN</td>\n",
              "      <td>NaN</td>\n",
              "      <td>-265019266.0</td>\n",
              "      <td>-265019266.0</td>\n",
              "      <td>NaN</td>\n",
              "      <td>NaN</td>\n",
              "      <td>NaN</td>\n",
              "      <td>NaN</td>\n",
              "      <td>NaN</td>\n",
              "      <td>NaN</td>\n",
              "      <td>NaN</td>\n",
              "      <td>NaN</td>\n",
              "      <td>NaN</td>\n",
              "      <td>NaN</td>\n",
              "      <td>NaN</td>\n",
              "      <td>NaN</td>\n",
              "      <td>6060663.0</td>\n",
              "      <td>NaN</td>\n",
              "      <td>6060663.0</td>\n",
              "      <td>0.0</td>\n",
              "      <td>6060663.0</td>\n",
              "    </tr>\n",
              "    <tr>\n",
              "      <th>16025</th>\n",
              "      <td>900967491</td>\n",
              "      <td>31/12/2016</td>\n",
              "      <td>2016</td>\n",
              "      <td>0.0</td>\n",
              "      <td>0.0</td>\n",
              "      <td>0.0</td>\n",
              "      <td>0.0</td>\n",
              "      <td>0.0</td>\n",
              "      <td>0.0</td>\n",
              "      <td>0.0</td>\n",
              "      <td>0.0</td>\n",
              "      <td>0.0</td>\n",
              "      <td>0.0</td>\n",
              "      <td>0.0</td>\n",
              "      <td>0.0</td>\n",
              "      <td>0.0</td>\n",
              "      <td>0.0</td>\n",
              "      <td>0.0</td>\n",
              "      <td>0.0</td>\n",
              "      <td>0.0</td>\n",
              "      <td>50000.0</td>\n",
              "      <td>50000.0</td>\n",
              "      <td>0.0</td>\n",
              "      <td>0.0</td>\n",
              "      <td>0.0</td>\n",
              "      <td>0.0</td>\n",
              "      <td>0.0</td>\n",
              "      <td>0.0</td>\n",
              "      <td>0.0</td>\n",
              "      <td>0.0</td>\n",
              "      <td>0.0</td>\n",
              "      <td>0.0</td>\n",
              "      <td>0.0</td>\n",
              "      <td>0.0</td>\n",
              "      <td>0.0</td>\n",
              "      <td>0.0</td>\n",
              "      <td>0.0</td>\n",
              "      <td>0.0</td>\n",
              "      <td>0.0</td>\n",
              "      <td>0.0</td>\n",
              "      <td>NaN</td>\n",
              "      <td>0.0</td>\n",
              "      <td>45664.0</td>\n",
              "      <td>0.0</td>\n",
              "      <td>0.0</td>\n",
              "      <td>0.0</td>\n",
              "      <td>0.0</td>\n",
              "      <td>0.0</td>\n",
              "      <td>0.0</td>\n",
              "      <td>0.0</td>\n",
              "      <td>0.0</td>\n",
              "      <td>-45664.0</td>\n",
              "      <td>4336.0</td>\n",
              "      <td>0.0</td>\n",
              "      <td>4336.0</td>\n",
              "      <td>0.0</td>\n",
              "      <td>4336.0</td>\n",
              "    </tr>\n",
              "    <tr>\n",
              "      <th>16026</th>\n",
              "      <td>900984398</td>\n",
              "      <td>31/12/2016</td>\n",
              "      <td>2016</td>\n",
              "      <td>-7336733.0</td>\n",
              "      <td>NaN</td>\n",
              "      <td>NaN</td>\n",
              "      <td>NaN</td>\n",
              "      <td>NaN</td>\n",
              "      <td>NaN</td>\n",
              "      <td>NaN</td>\n",
              "      <td>NaN</td>\n",
              "      <td>NaN</td>\n",
              "      <td>NaN</td>\n",
              "      <td>NaN</td>\n",
              "      <td>NaN</td>\n",
              "      <td>NaN</td>\n",
              "      <td>NaN</td>\n",
              "      <td>NaN</td>\n",
              "      <td>NaN</td>\n",
              "      <td>NaN</td>\n",
              "      <td>NaN</td>\n",
              "      <td>NaN</td>\n",
              "      <td>NaN</td>\n",
              "      <td>NaN</td>\n",
              "      <td>NaN</td>\n",
              "      <td>NaN</td>\n",
              "      <td>NaN</td>\n",
              "      <td>NaN</td>\n",
              "      <td>NaN</td>\n",
              "      <td>NaN</td>\n",
              "      <td>NaN</td>\n",
              "      <td>NaN</td>\n",
              "      <td>NaN</td>\n",
              "      <td>NaN</td>\n",
              "      <td>NaN</td>\n",
              "      <td>NaN</td>\n",
              "      <td>NaN</td>\n",
              "      <td>NaN</td>\n",
              "      <td>NaN</td>\n",
              "      <td>NaN</td>\n",
              "      <td>NaN</td>\n",
              "      <td>NaN</td>\n",
              "      <td>NaN</td>\n",
              "      <td>NaN</td>\n",
              "      <td>NaN</td>\n",
              "      <td>NaN</td>\n",
              "      <td>NaN</td>\n",
              "      <td>NaN</td>\n",
              "      <td>NaN</td>\n",
              "      <td>NaN</td>\n",
              "      <td>NaN</td>\n",
              "      <td>NaN</td>\n",
              "      <td>NaN</td>\n",
              "      <td>NaN</td>\n",
              "      <td>NaN</td>\n",
              "      <td>NaN</td>\n",
              "      <td>NaN</td>\n",
              "    </tr>\n",
              "  </tbody>\n",
              "</table>\n",
              "<p>16027 rows × 57 columns</p>\n",
              "</div>"
            ],
            "text/plain": [
              "             nit  ... efectivo_y_equivalentes_al_efectivo_al_final_del_periodo\n",
              "0      800000090  ...                                            15215.0      \n",
              "1      800000268  ...                                           197090.0      \n",
              "2      800000276  ...                                          2124223.0      \n",
              "3      800000313  ...                                                NaN      \n",
              "4      800000439  ...                                           492369.0      \n",
              "...          ...  ...                                                ...      \n",
              "16022  900946019  ...                                              247.0      \n",
              "16023  900949013  ...                                           368977.0      \n",
              "16024  900966498  ...                                          6060663.0      \n",
              "16025  900967491  ...                                             4336.0      \n",
              "16026  900984398  ...                                                NaN      \n",
              "\n",
              "[16027 rows x 57 columns]"
            ]
          },
          "metadata": {},
          "execution_count": 10
        }
      ]
    },
    {
      "cell_type": "code",
      "metadata": {
        "colab": {
          "base_uri": "https://localhost:8080/"
        },
        "id": "clgzy6u6ZG0J",
        "outputId": "67060dcd-17c8-440b-c76a-e5e230dfde08"
      },
      "source": [
        "# Unir todos los DataFrames\n",
        "df_financial = reduce(lambda  left,right: pd.merge(left,right,on=['nit','fecha_corte', 'duracion'], how='inner', suffixes=('', '_y')), [efe, eri, ori])\n",
        "df_merged = reduce(lambda  left,right: pd.merge(left,right,on=['nit','fecha_corte'], how='inner'), [caratula, esf, df_financial])\n",
        "df_merged.info()"
      ],
      "execution_count": 11,
      "outputs": [
        {
          "output_type": "stream",
          "name": "stdout",
          "text": [
            "<class 'pandas.core.frame.DataFrame'>\n",
            "Int64Index: 16060 entries, 0 to 16059\n",
            "Columns: 154 entries, nit to total_otro_resultado_integral_que_se_reclasificará_al_resultado_del_periodo,_neto_de_impuestos\n",
            "dtypes: float64(132), int64(9), object(13)\n",
            "memory usage: 19.0+ MB\n"
          ]
        }
      ]
    },
    {
      "cell_type": "markdown",
      "metadata": {
        "id": "vEojF2Ajc27c"
      },
      "source": [
        "A continuación se seleccionan las características sobre las cuales se aplicarán los algoritmos de clasificación y se analiza el tipo de cada variables mediante el comando `dtype`"
      ]
    },
    {
      "cell_type": "code",
      "metadata": {
        "id": "A_yOkrFTdNos"
      },
      "source": [
        "columnas = ['nit', 'razón_social_de_la_sociedad', 'estado_actual',\n",
        " 'clasificación_industrial_internacional_uniforme_versión_4_a.c',\n",
        " 'tipo_societario', 'departamento_de_la_dirección_de_notificación_judicial',\n",
        " 'ciudad_de_la_dirección_de_notificación_judicial','activos_corrientes_totales',\n",
        " 'total_de_activos_no_corrientes','total_de_activos','pasivos_corrientes_totales',\n",
        " 'total_de_pasivos_no_corrientes','total_pasivos','patrimonio_total',\n",
        " 'ingresos_de_actividades_ordinarias','costo_de_ventas','ganancia_bruta',\n",
        " 'otros_ingresos', 'gastos_de_ventas', 'gastos_de_administración', 'otros_gastos',\n",
        " 'ganancia_(pérdida)_por_actividades_de_operación','ingresos_financieros',\n",
        " 'costos_financieros','ganancia_(pérdida),_antes_de_impuestos','ganancia_(pérdida)']\n",
        "\n",
        "new_col_names = ['nit','nombre','estado','ciiu','tipo_soc','dpto','ciudad',\n",
        "                  'activo_cte','activo_no_cte','activo','pasivo_cte','pasivo_no_cte',\n",
        "                  'pasivo','patrimonio','ingreso','costo_venta','ganancia_bruta',\n",
        "                  'otro_ingreso','gasto_venta','gasto_admon','gasto_otro','ganancia_operacion',\n",
        "                  'ingreso_fin','costo_fin','ganancia_antes_imp', 'ganancia']"
      ],
      "execution_count": 12,
      "outputs": []
    },
    {
      "cell_type": "code",
      "metadata": {
        "colab": {
          "base_uri": "https://localhost:8080/"
        },
        "id": "PZ0AlP2VjFd3",
        "outputId": "ddb99753-ccea-4fde-f515-7f21c80732a1"
      },
      "source": [
        "datos = df_merged[columnas].copy()\n",
        "datos.columns = new_col_names\n",
        "datos.dtypes"
      ],
      "execution_count": 13,
      "outputs": [
        {
          "output_type": "execute_result",
          "data": {
            "text/plain": [
              "nit                     int64\n",
              "nombre                 object\n",
              "estado                 object\n",
              "ciiu                   object\n",
              "tipo_soc               object\n",
              "dpto                   object\n",
              "ciudad                 object\n",
              "activo_cte            float64\n",
              "activo_no_cte         float64\n",
              "activo                  int64\n",
              "pasivo_cte            float64\n",
              "pasivo_no_cte         float64\n",
              "pasivo                  int64\n",
              "patrimonio              int64\n",
              "ingreso               float64\n",
              "costo_venta           float64\n",
              "ganancia_bruta        float64\n",
              "otro_ingreso          float64\n",
              "gasto_venta           float64\n",
              "gasto_admon           float64\n",
              "gasto_otro            float64\n",
              "ganancia_operacion      int64\n",
              "ingreso_fin           float64\n",
              "costo_fin             float64\n",
              "ganancia_antes_imp      int64\n",
              "ganancia                int64\n",
              "dtype: object"
            ]
          },
          "metadata": {},
          "execution_count": 13
        }
      ]
    },
    {
      "cell_type": "markdown",
      "metadata": {
        "id": "qoxp4fQWh6fu"
      },
      "source": [
        "Se construyen algunos indicadores financieros adicionales y se calcula la cantidad de observaciones perdidas en el elemento datos:"
      ]
    },
    {
      "cell_type": "code",
      "metadata": {
        "id": "LqPrwLMmoMkw"
      },
      "source": [
        "datos['ingreso_activo'] = datos['ingreso']/datos['activo']\n",
        "datos['ingreso_activo'] = datos['ingreso_activo'].replace(np.inf, 0) # en caso de división por 0 \n",
        "datos['ingreso_patrimonio'] = datos['ingreso']/datos['patrimonio']\n",
        "datos['ingreso_patrimonio'] = datos['ingreso_patrimonio'].replace(np.inf, 0) # en caso de división por 0 "
      ],
      "execution_count": 14,
      "outputs": []
    },
    {
      "cell_type": "markdown",
      "metadata": {
        "id": "OAz40VTKeqwj"
      },
      "source": [
        "Una de las buenas practicas dentro de la industria es reducir el consumo de RAM asignando la precisión númerica correcta, en especial cuando se trabajan con grandes set de datos. Se construye por lo tanto se construye una función que permite reducir el tamaño en RAM del set de datos."
      ]
    },
    {
      "cell_type": "code",
      "metadata": {
        "id": "I3pnpd8lJ8Cp"
      },
      "source": [
        "def load_and_reduce_mem_usage(df):\n",
        "    \"\"\"\n",
        "    Load a dataframe using pandas and reduce memory according to max-min\n",
        "    in each column\n",
        "    \"\"\"\n",
        "    start_mem = df.memory_usage().sum() / 1024**2\n",
        "    print(f'Start memory usage of dataframe is {start_mem:.2f} MB')\n",
        "    \n",
        "    for col in df.columns:\n",
        "        col_type = df[col].dtype\n",
        "        \n",
        "        if col_type != object and col_type.name != 'category':\n",
        "            c_min = df[col].min()\n",
        "            c_max = df[col].max()\n",
        "            if str(col_type)[:3] == 'int':\n",
        "                if c_min > np.iinfo(np.int8).min and c_max < np.iinfo(np.int8).max:\n",
        "                    df[col] = df[col].astype(np.int8)\n",
        "                elif c_min > np.iinfo(np.int16).min and c_max < np.iinfo(np.int16).max:\n",
        "                    df[col] = df[col].astype(np.int16)\n",
        "                elif c_min > np.iinfo(np.int32).min and c_max < np.iinfo(np.int32).max:\n",
        "                    df[col] = df[col].astype(np.int32)\n",
        "                elif c_min > np.iinfo(np.int64).min and c_max < np.iinfo(np.int64).max:\n",
        "                    df[col] = df[col].astype(np.int64)\n",
        "            else:\n",
        "                if c_min > np.finfo(np.float16).min and c_max < np.finfo(np.float16).max:\n",
        "                    df[col] = df[col].astype(np.float32)\n",
        "                elif c_min > np.finfo(np.float32).min and c_max < np.finfo(np.float32).max:\n",
        "                    df[col] = df[col].astype(np.float32)\n",
        "                else:\n",
        "                    df[col] = df[col].astype(np.float64)\n",
        "        else:\n",
        "            df[col] = df[col].astype('category')\n",
        "    \n",
        "    if df[col].nunique() < 60:\n",
        "        df[col] = df[col].astype('category')\n",
        "\n",
        "    end_mem = df.memory_usage().sum() / 1024**2\n",
        "    print(f'Memory usage after optimization is {end_mem:.2f} MB')\n",
        "    delta_memory = (start_mem - end_mem) / start_mem\n",
        "    print(f'Decreased by {delta_memory:.1%} \\n --------')\n",
        "\n",
        "    return df"
      ],
      "execution_count": 15,
      "outputs": []
    },
    {
      "cell_type": "code",
      "metadata": {
        "colab": {
          "base_uri": "https://localhost:8080/"
        },
        "id": "CjUgTQr9KDjx",
        "outputId": "2c1c0cc7-ed0e-4e96-bf86-cd146d07f3eb"
      },
      "source": [
        "datos = load_and_reduce_mem_usage(datos)"
      ],
      "execution_count": 16,
      "outputs": [
        {
          "output_type": "stream",
          "name": "stdout",
          "text": [
            "Start memory usage of dataframe is 3.55 MB\n",
            "Memory usage after optimization is 2.51 MB\n",
            "Decreased by 29.3% \n",
            " --------\n"
          ]
        }
      ]
    },
    {
      "cell_type": "code",
      "metadata": {
        "colab": {
          "base_uri": "https://localhost:8080/"
        },
        "id": "SWrRr1iriD9r",
        "outputId": "b4421180-0cca-4e63-cfd2-966e29787332"
      },
      "source": [
        "datos.dtypes"
      ],
      "execution_count": 17,
      "outputs": [
        {
          "output_type": "execute_result",
          "data": {
            "text/plain": [
              "nit                      int32\n",
              "nombre                category\n",
              "estado                category\n",
              "ciiu                  category\n",
              "tipo_soc              category\n",
              "dpto                  category\n",
              "ciudad                category\n",
              "activo_cte             float32\n",
              "activo_no_cte          float32\n",
              "activo                   int64\n",
              "pasivo_cte             float32\n",
              "pasivo_no_cte          float32\n",
              "pasivo                   int32\n",
              "patrimonio               int64\n",
              "ingreso                float32\n",
              "costo_venta            float32\n",
              "ganancia_bruta         float32\n",
              "otro_ingreso           float32\n",
              "gasto_venta            float32\n",
              "gasto_admon            float32\n",
              "gasto_otro             float32\n",
              "ganancia_operacion       int32\n",
              "ingreso_fin            float32\n",
              "costo_fin              float32\n",
              "ganancia_antes_imp       int32\n",
              "ganancia                 int32\n",
              "ingreso_activo         float32\n",
              "ingreso_patrimonio     float32\n",
              "dtype: object"
            ]
          },
          "metadata": {},
          "execution_count": 17
        }
      ]
    },
    {
      "cell_type": "markdown",
      "metadata": {
        "id": "0FwQ7OKn-4k5"
      },
      "source": [
        "### 2.1.2. Procesamiento de datos"
      ]
    },
    {
      "cell_type": "markdown",
      "metadata": {
        "id": "EtdVJkFsJQcH"
      },
      "source": [
        "Como se mencionó anteriormente, para calcular la distancia entre un grupo de individuos se deben estandarizar (o reescalar) sus variables previamente.\n",
        "\n",
        "En python y particularmente en la industria una de las buenas practicas es usar Pipelines (tuberias) de datos, los pipelines facilitan el preprocesamiento, limpiando código y colapsando todos los pasos de preprocesamiento y modelado en una sola línea de código."
      ]
    },
    {
      "cell_type": "code",
      "metadata": {
        "id": "BwLDf4HBJTdI"
      },
      "source": [
        "from sklearn.preprocessing import OneHotEncoder, StandardScaler\n",
        "from sklearn.pipeline import Pipeline\n",
        "from sklearn.compose import ColumnTransformer\n",
        "from sklearn.impute import SimpleImputer"
      ],
      "execution_count": 18,
      "outputs": []
    },
    {
      "cell_type": "code",
      "metadata": {
        "id": "-X0enQbKiuui"
      },
      "source": [
        "def pipeline_transformacion(df, crear_dummies = False):\n",
        "    '''\n",
        "    Pipeline de preprocesamiento\n",
        "    '''\n",
        "    columnas_numericas = df.select_dtypes('number').columns.to_list()\n",
        "\n",
        "    if 'nit' in columnas_numericas:\n",
        "        columnas_numericas.remove('nit')\n",
        "\n",
        "    columnas_categoricas =  df.select_dtypes('category').columns.to_list()\n",
        "\n",
        "    transformador_numerico =  Pipeline(steps=[('inputar', SimpleImputer(strategy='mean')),\n",
        "                                              ('scaler', StandardScaler())])\n",
        "    if crear_dummies:\n",
        "        scaler = ColumnTransformer(transformers=[('num', transformador_numerico, columnas_numericas),\n",
        "                                                ('cat', OneHotEncoder(), columnas_categoricas)], \n",
        "                                remainder = 'passthrough')\n",
        "    else: \n",
        "        scaler = ColumnTransformer(transformers=[('num', transformador_numerico, columnas_numericas)], \n",
        "                                                remainder = 'passthrough')\n",
        "    \n",
        "    return scaler.fit(df)"
      ],
      "execution_count": 19,
      "outputs": []
    },
    {
      "cell_type": "code",
      "metadata": {
        "colab": {
          "base_uri": "https://localhost:8080/",
          "height": 362
        },
        "id": "_75SSullt3tu",
        "outputId": "5cea35d6-02a6-4cd5-f454-e2fda10269e8"
      },
      "source": [
        "primeros_10_datos = datos.iloc[[0,1,3,4,5,7,8,9,10,11], :]\n",
        "transformador = pipeline_transformacion(primeros_10_datos, crear_dummies = False)\n",
        "primeros_10_datos[['activo','pasivo']]"
      ],
      "execution_count": 20,
      "outputs": [
        {
          "output_type": "execute_result",
          "data": {
            "text/html": [
              "<div>\n",
              "<style scoped>\n",
              "    .dataframe tbody tr th:only-of-type {\n",
              "        vertical-align: middle;\n",
              "    }\n",
              "\n",
              "    .dataframe tbody tr th {\n",
              "        vertical-align: top;\n",
              "    }\n",
              "\n",
              "    .dataframe thead th {\n",
              "        text-align: right;\n",
              "    }\n",
              "</style>\n",
              "<table border=\"1\" class=\"dataframe\">\n",
              "  <thead>\n",
              "    <tr style=\"text-align: right;\">\n",
              "      <th></th>\n",
              "      <th>activo</th>\n",
              "      <th>pasivo</th>\n",
              "    </tr>\n",
              "  </thead>\n",
              "  <tbody>\n",
              "    <tr>\n",
              "      <th>0</th>\n",
              "      <td>6542076</td>\n",
              "      <td>5352469</td>\n",
              "    </tr>\n",
              "    <tr>\n",
              "      <th>1</th>\n",
              "      <td>3419876</td>\n",
              "      <td>2499818</td>\n",
              "    </tr>\n",
              "    <tr>\n",
              "      <th>3</th>\n",
              "      <td>6078941</td>\n",
              "      <td>2981565</td>\n",
              "    </tr>\n",
              "    <tr>\n",
              "      <th>4</th>\n",
              "      <td>3011514</td>\n",
              "      <td>1656877</td>\n",
              "    </tr>\n",
              "    <tr>\n",
              "      <th>5</th>\n",
              "      <td>3338792</td>\n",
              "      <td>1189886</td>\n",
              "    </tr>\n",
              "    <tr>\n",
              "      <th>7</th>\n",
              "      <td>3895103</td>\n",
              "      <td>1599243</td>\n",
              "    </tr>\n",
              "    <tr>\n",
              "      <th>8</th>\n",
              "      <td>26067582</td>\n",
              "      <td>5874421</td>\n",
              "    </tr>\n",
              "    <tr>\n",
              "      <th>9</th>\n",
              "      <td>3668777</td>\n",
              "      <td>1273890</td>\n",
              "    </tr>\n",
              "    <tr>\n",
              "      <th>10</th>\n",
              "      <td>58531475</td>\n",
              "      <td>22447935</td>\n",
              "    </tr>\n",
              "    <tr>\n",
              "      <th>11</th>\n",
              "      <td>15048091</td>\n",
              "      <td>7511824</td>\n",
              "    </tr>\n",
              "  </tbody>\n",
              "</table>\n",
              "</div>"
            ],
            "text/plain": [
              "      activo    pasivo\n",
              "0    6542076   5352469\n",
              "1    3419876   2499818\n",
              "3    6078941   2981565\n",
              "4    3011514   1656877\n",
              "5    3338792   1189886\n",
              "7    3895103   1599243\n",
              "8   26067582   5874421\n",
              "9    3668777   1273890\n",
              "10  58531475  22447935\n",
              "11  15048091   7511824"
            ]
          },
          "metadata": {},
          "execution_count": 20
        }
      ]
    },
    {
      "cell_type": "code",
      "metadata": {
        "colab": {
          "base_uri": "https://localhost:8080/",
          "height": 362
        },
        "id": "19iFuMr6mSb5",
        "outputId": "5a705bc6-0cf0-484d-83fc-5d5bd4149619"
      },
      "source": [
        "columns = list(transformador.transformers_[0][2]) + list(datos.columns[list(transformador.transformers_[1][2])])\n",
        "primeros_10_datos_transformados = pd.DataFrame(transformador.transform(primeros_10_datos),\n",
        "                                               columns=columns)\n",
        "primeros_10_datos_transformados = primeros_10_datos_transformados.astype({'activo':'float', 'pasivo':'float'})\n",
        "primeros_10_datos_transformados[['activo','pasivo']]"
      ],
      "execution_count": 21,
      "outputs": [
        {
          "output_type": "execute_result",
          "data": {
            "text/html": [
              "<div>\n",
              "<style scoped>\n",
              "    .dataframe tbody tr th:only-of-type {\n",
              "        vertical-align: middle;\n",
              "    }\n",
              "\n",
              "    .dataframe tbody tr th {\n",
              "        vertical-align: top;\n",
              "    }\n",
              "\n",
              "    .dataframe thead th {\n",
              "        text-align: right;\n",
              "    }\n",
              "</style>\n",
              "<table border=\"1\" class=\"dataframe\">\n",
              "  <thead>\n",
              "    <tr style=\"text-align: right;\">\n",
              "      <th></th>\n",
              "      <th>activo</th>\n",
              "      <th>pasivo</th>\n",
              "    </tr>\n",
              "  </thead>\n",
              "  <tbody>\n",
              "    <tr>\n",
              "      <th>0</th>\n",
              "      <td>-0.384071</td>\n",
              "      <td>0.018625</td>\n",
              "    </tr>\n",
              "    <tr>\n",
              "      <th>1</th>\n",
              "      <td>-0.570908</td>\n",
              "      <td>-0.448756</td>\n",
              "    </tr>\n",
              "    <tr>\n",
              "      <th>2</th>\n",
              "      <td>-0.411786</td>\n",
              "      <td>-0.369826</td>\n",
              "    </tr>\n",
              "    <tr>\n",
              "      <th>3</th>\n",
              "      <td>-0.595345</td>\n",
              "      <td>-0.586864</td>\n",
              "    </tr>\n",
              "    <tr>\n",
              "      <th>4</th>\n",
              "      <td>-0.575760</td>\n",
              "      <td>-0.663376</td>\n",
              "    </tr>\n",
              "    <tr>\n",
              "      <th>5</th>\n",
              "      <td>-0.542470</td>\n",
              "      <td>-0.596306</td>\n",
              "    </tr>\n",
              "    <tr>\n",
              "      <th>6</th>\n",
              "      <td>0.784363</td>\n",
              "      <td>0.104142</td>\n",
              "    </tr>\n",
              "    <tr>\n",
              "      <th>7</th>\n",
              "      <td>-0.556013</td>\n",
              "      <td>-0.649612</td>\n",
              "    </tr>\n",
              "    <tr>\n",
              "      <th>8</th>\n",
              "      <td>2.727048</td>\n",
              "      <td>2.819558</td>\n",
              "    </tr>\n",
              "    <tr>\n",
              "      <th>9</th>\n",
              "      <td>0.124941</td>\n",
              "      <td>0.372415</td>\n",
              "    </tr>\n",
              "  </tbody>\n",
              "</table>\n",
              "</div>"
            ],
            "text/plain": [
              "     activo    pasivo\n",
              "0 -0.384071  0.018625\n",
              "1 -0.570908 -0.448756\n",
              "2 -0.411786 -0.369826\n",
              "3 -0.595345 -0.586864\n",
              "4 -0.575760 -0.663376\n",
              "5 -0.542470 -0.596306\n",
              "6  0.784363  0.104142\n",
              "7 -0.556013 -0.649612\n",
              "8  2.727048  2.819558\n",
              "9  0.124941  0.372415"
            ]
          },
          "metadata": {},
          "execution_count": 21
        }
      ]
    },
    {
      "cell_type": "markdown",
      "metadata": {
        "id": "IY_e3noPq7rX"
      },
      "source": [
        "Con los Pipelines fue posible transformar todos los datos numéricos, adicionalmente si queremos crear variables dummies para nuestros datos categóricos, lo podemos hacer fácilmente. \n",
        "\n",
        "La gran ventaja que tienen los pipelines es que puedo recibir otra base después y las columnas pueden pasar por el mismo proceso, esto es extremadamente útil particularmente en el aprendizaje por refuerzo supervisado cuando se tiene un conjunto de datos para el entrenamiento y otro de pruebas y se le quiere realizar las mismas transformaciones. "
      ]
    },
    {
      "cell_type": "code",
      "metadata": {
        "colab": {
          "base_uri": "https://localhost:8080/",
          "height": 442
        },
        "id": "WgvLnwCOw3gF",
        "outputId": "3a3335f3-9b83-4d29-a6d8-49c4b9eaf328"
      },
      "source": [
        "import seaborn as sns\n",
        "import matplotlib.pyplot as plt\n",
        "\n",
        "fig, ax = plt.subplots(figsize=(7,7))\n",
        "sns.scatterplot(data=primeros_10_datos_transformados, x=\"activo\", y=\"pasivo\", s= 20);"
      ],
      "execution_count": 22,
      "outputs": [
        {
          "output_type": "display_data",
          "data": {
            "image/png": "[encoded data removed]",
            "text/plain": [
              "<Figure size 504x504 with 1 Axes>"
            ]
          },
          "metadata": {
            "needs_background": "light"
          }
        }
      ]
    },
    {
      "cell_type": "markdown",
      "metadata": {
        "id": "wXff05jX_IZa"
      },
      "source": [
        "### 2.1.3. Matrices de distancias"
      ]
    },
    {
      "cell_type": "markdown",
      "metadata": {
        "id": "uJI3tWWSxEJV"
      },
      "source": [
        "La matriz de distancias Euclídeas entre los 10 individuos seleccionados se calcula mediante el la libreria de Sklearn, importando `euclidean_distances`"
      ]
    },
    {
      "cell_type": "code",
      "metadata": {
        "colab": {
          "base_uri": "https://localhost:8080/",
          "height": 362
        },
        "id": "R9bCXI3y15YU",
        "outputId": "0723a3ca-a1ce-49b1-d055-f6289e211ff1"
      },
      "source": [
        "from sklearn.metrics.pairwise import euclidean_distances\n",
        "\n",
        "dist_eucl = pd.DataFrame(euclidean_distances(primeros_10_datos_transformados[['activo','pasivo']]))\n",
        "dist_eucl"
      ],
      "execution_count": 23,
      "outputs": [
        {
          "output_type": "execute_result",
          "data": {
            "text/html": [
              "<div>\n",
              "<style scoped>\n",
              "    .dataframe tbody tr th:only-of-type {\n",
              "        vertical-align: middle;\n",
              "    }\n",
              "\n",
              "    .dataframe tbody tr th {\n",
              "        vertical-align: top;\n",
              "    }\n",
              "\n",
              "    .dataframe thead th {\n",
              "        text-align: right;\n",
              "    }\n",
              "</style>\n",
              "<table border=\"1\" class=\"dataframe\">\n",
              "  <thead>\n",
              "    <tr style=\"text-align: right;\">\n",
              "      <th></th>\n",
              "      <th>0</th>\n",
              "      <th>1</th>\n",
              "      <th>2</th>\n",
              "      <th>3</th>\n",
              "      <th>4</th>\n",
              "      <th>5</th>\n",
              "      <th>6</th>\n",
              "      <th>7</th>\n",
              "      <th>8</th>\n",
              "      <th>9</th>\n",
              "    </tr>\n",
              "  </thead>\n",
              "  <tbody>\n",
              "    <tr>\n",
              "      <th>0</th>\n",
              "      <td>0.000000</td>\n",
              "      <td>0.503341</td>\n",
              "      <td>0.389438</td>\n",
              "      <td>0.641290</td>\n",
              "      <td>0.708427</td>\n",
              "      <td>0.635004</td>\n",
              "      <td>1.171559</td>\n",
              "      <td>0.690004</td>\n",
              "      <td>4.186202</td>\n",
              "      <td>0.619888</td>\n",
              "    </tr>\n",
              "    <tr>\n",
              "      <th>1</th>\n",
              "      <td>0.503341</td>\n",
              "      <td>0.000000</td>\n",
              "      <td>0.177623</td>\n",
              "      <td>0.140253</td>\n",
              "      <td>0.214675</td>\n",
              "      <td>0.150266</td>\n",
              "      <td>1.463713</td>\n",
              "      <td>0.201408</td>\n",
              "      <td>4.643101</td>\n",
              "      <td>1.076349</td>\n",
              "    </tr>\n",
              "    <tr>\n",
              "      <th>2</th>\n",
              "      <td>0.389438</td>\n",
              "      <td>0.177623</td>\n",
              "      <td>0.000000</td>\n",
              "      <td>0.284252</td>\n",
              "      <td>0.336243</td>\n",
              "      <td>0.261480</td>\n",
              "      <td>1.286630</td>\n",
              "      <td>0.314773</td>\n",
              "      <td>4.474868</td>\n",
              "      <td>0.915968</td>\n",
              "    </tr>\n",
              "    <tr>\n",
              "      <th>3</th>\n",
              "      <td>0.641290</td>\n",
              "      <td>0.140253</td>\n",
              "      <td>0.284252</td>\n",
              "      <td>0.000000</td>\n",
              "      <td>0.078979</td>\n",
              "      <td>0.053712</td>\n",
              "      <td>1.543075</td>\n",
              "      <td>0.074057</td>\n",
              "      <td>4.758362</td>\n",
              "      <td>1.199595</td>\n",
              "    </tr>\n",
              "    <tr>\n",
              "      <th>4</th>\n",
              "      <td>0.708427</td>\n",
              "      <td>0.214675</td>\n",
              "      <td>0.336243</td>\n",
              "      <td>0.078979</td>\n",
              "      <td>0.000000</td>\n",
              "      <td>0.074877</td>\n",
              "      <td>1.561735</td>\n",
              "      <td>0.024070</td>\n",
              "      <td>4.799934</td>\n",
              "      <td>1.250538</td>\n",
              "    </tr>\n",
              "    <tr>\n",
              "      <th>5</th>\n",
              "      <td>0.635004</td>\n",
              "      <td>0.150266</td>\n",
              "      <td>0.261480</td>\n",
              "      <td>0.053712</td>\n",
              "      <td>0.074877</td>\n",
              "      <td>0.000000</td>\n",
              "      <td>1.500371</td>\n",
              "      <td>0.055000</td>\n",
              "      <td>4.728412</td>\n",
              "      <td>1.176375</td>\n",
              "    </tr>\n",
              "    <tr>\n",
              "      <th>6</th>\n",
              "      <td>1.171559</td>\n",
              "      <td>1.463713</td>\n",
              "      <td>1.286630</td>\n",
              "      <td>1.543075</td>\n",
              "      <td>1.561735</td>\n",
              "      <td>1.500371</td>\n",
              "      <td>0.000000</td>\n",
              "      <td>1.537776</td>\n",
              "      <td>3.338789</td>\n",
              "      <td>0.711904</td>\n",
              "    </tr>\n",
              "    <tr>\n",
              "      <th>7</th>\n",
              "      <td>0.690004</td>\n",
              "      <td>0.201408</td>\n",
              "      <td>0.314773</td>\n",
              "      <td>0.074057</td>\n",
              "      <td>0.024070</td>\n",
              "      <td>0.055000</td>\n",
              "      <td>1.537776</td>\n",
              "      <td>0.000000</td>\n",
              "      <td>4.776362</td>\n",
              "      <td>1.228104</td>\n",
              "    </tr>\n",
              "    <tr>\n",
              "      <th>8</th>\n",
              "      <td>4.186202</td>\n",
              "      <td>4.643101</td>\n",
              "      <td>4.474868</td>\n",
              "      <td>4.758362</td>\n",
              "      <td>4.799934</td>\n",
              "      <td>4.728412</td>\n",
              "      <td>3.338789</td>\n",
              "      <td>4.776362</td>\n",
              "      <td>0.000000</td>\n",
              "      <td>3.572040</td>\n",
              "    </tr>\n",
              "    <tr>\n",
              "      <th>9</th>\n",
              "      <td>0.619888</td>\n",
              "      <td>1.076349</td>\n",
              "      <td>0.915968</td>\n",
              "      <td>1.199595</td>\n",
              "      <td>1.250538</td>\n",
              "      <td>1.176375</td>\n",
              "      <td>0.711904</td>\n",
              "      <td>1.228104</td>\n",
              "      <td>3.572040</td>\n",
              "      <td>0.000000</td>\n",
              "    </tr>\n",
              "  </tbody>\n",
              "</table>\n",
              "</div>"
            ],
            "text/plain": [
              "          0         1         2  ...         7         8         9\n",
              "0  0.000000  0.503341  0.389438  ...  0.690004  4.186202  0.619888\n",
              "1  0.503341  0.000000  0.177623  ...  0.201408  4.643101  1.076349\n",
              "2  0.389438  0.177623  0.000000  ...  0.314773  4.474868  0.915968\n",
              "3  0.641290  0.140253  0.284252  ...  0.074057  4.758362  1.199595\n",
              "4  0.708427  0.214675  0.336243  ...  0.024070  4.799934  1.250538\n",
              "5  0.635004  0.150266  0.261480  ...  0.055000  4.728412  1.176375\n",
              "6  1.171559  1.463713  1.286630  ...  1.537776  3.338789  0.711904\n",
              "7  0.690004  0.201408  0.314773  ...  0.000000  4.776362  1.228104\n",
              "8  4.186202  4.643101  4.474868  ...  4.776362  0.000000  3.572040\n",
              "9  0.619888  1.076349  0.915968  ...  1.228104  3.572040  0.000000\n",
              "\n",
              "[10 rows x 10 columns]"
            ]
          },
          "metadata": {},
          "execution_count": 23
        }
      ]
    },
    {
      "cell_type": "markdown",
      "metadata": {
        "id": "cmLhDg8f2JkM"
      },
      "source": [
        "La misma matriz pero utilizando la distancia Mahattan se obtiene de importando `manhattan_distances`"
      ]
    },
    {
      "cell_type": "code",
      "metadata": {
        "colab": {
          "base_uri": "https://localhost:8080/",
          "height": 362
        },
        "id": "5acwN_hm3L50",
        "outputId": "dfb6a46a-f1c0-49d1-fbb0-086ec490f53c"
      },
      "source": [
        "from sklearn.metrics.pairwise import manhattan_distances\n",
        "\n",
        "dist_man = pd.DataFrame(manhattan_distances(primeros_10_datos_transformados[['activo','pasivo']]))\n",
        "dist_man"
      ],
      "execution_count": 24,
      "outputs": [
        {
          "output_type": "execute_result",
          "data": {
            "text/html": [
              "<div>\n",
              "<style scoped>\n",
              "    .dataframe tbody tr th:only-of-type {\n",
              "        vertical-align: middle;\n",
              "    }\n",
              "\n",
              "    .dataframe tbody tr th {\n",
              "        vertical-align: top;\n",
              "    }\n",
              "\n",
              "    .dataframe thead th {\n",
              "        text-align: right;\n",
              "    }\n",
              "</style>\n",
              "<table border=\"1\" class=\"dataframe\">\n",
              "  <thead>\n",
              "    <tr style=\"text-align: right;\">\n",
              "      <th></th>\n",
              "      <th>0</th>\n",
              "      <th>1</th>\n",
              "      <th>2</th>\n",
              "      <th>3</th>\n",
              "      <th>4</th>\n",
              "      <th>5</th>\n",
              "      <th>6</th>\n",
              "      <th>7</th>\n",
              "      <th>8</th>\n",
              "      <th>9</th>\n",
              "    </tr>\n",
              "  </thead>\n",
              "  <tbody>\n",
              "    <tr>\n",
              "      <th>0</th>\n",
              "      <td>0.000000</td>\n",
              "      <td>0.654217</td>\n",
              "      <td>0.416165</td>\n",
              "      <td>0.816762</td>\n",
              "      <td>0.873690</td>\n",
              "      <td>0.773330</td>\n",
              "      <td>1.253951</td>\n",
              "      <td>0.840180</td>\n",
              "      <td>5.912052</td>\n",
              "      <td>0.862802</td>\n",
              "    </tr>\n",
              "    <tr>\n",
              "      <th>1</th>\n",
              "      <td>0.654217</td>\n",
              "      <td>0.000000</td>\n",
              "      <td>0.238052</td>\n",
              "      <td>0.162545</td>\n",
              "      <td>0.219472</td>\n",
              "      <td>0.175989</td>\n",
              "      <td>1.908168</td>\n",
              "      <td>0.215752</td>\n",
              "      <td>6.566270</td>\n",
              "      <td>1.517019</td>\n",
              "    </tr>\n",
              "    <tr>\n",
              "      <th>2</th>\n",
              "      <td>0.416165</td>\n",
              "      <td>0.238052</td>\n",
              "      <td>0.000000</td>\n",
              "      <td>0.400597</td>\n",
              "      <td>0.457524</td>\n",
              "      <td>0.357165</td>\n",
              "      <td>1.670116</td>\n",
              "      <td>0.424014</td>\n",
              "      <td>6.328218</td>\n",
              "      <td>1.278967</td>\n",
              "    </tr>\n",
              "    <tr>\n",
              "      <th>3</th>\n",
              "      <td>0.816762</td>\n",
              "      <td>0.162545</td>\n",
              "      <td>0.400597</td>\n",
              "      <td>0.000000</td>\n",
              "      <td>0.096097</td>\n",
              "      <td>0.062318</td>\n",
              "      <td>2.070713</td>\n",
              "      <td>0.102080</td>\n",
              "      <td>6.728815</td>\n",
              "      <td>1.679564</td>\n",
              "    </tr>\n",
              "    <tr>\n",
              "      <th>4</th>\n",
              "      <td>0.873690</td>\n",
              "      <td>0.219472</td>\n",
              "      <td>0.457524</td>\n",
              "      <td>0.096097</td>\n",
              "      <td>0.000000</td>\n",
              "      <td>0.100360</td>\n",
              "      <td>2.127640</td>\n",
              "      <td>0.033510</td>\n",
              "      <td>6.785742</td>\n",
              "      <td>1.736492</td>\n",
              "    </tr>\n",
              "    <tr>\n",
              "      <th>5</th>\n",
              "      <td>0.773330</td>\n",
              "      <td>0.175989</td>\n",
              "      <td>0.357165</td>\n",
              "      <td>0.062318</td>\n",
              "      <td>0.100360</td>\n",
              "      <td>0.000000</td>\n",
              "      <td>2.027281</td>\n",
              "      <td>0.066850</td>\n",
              "      <td>6.685382</td>\n",
              "      <td>1.636132</td>\n",
              "    </tr>\n",
              "    <tr>\n",
              "      <th>6</th>\n",
              "      <td>1.253951</td>\n",
              "      <td>1.908168</td>\n",
              "      <td>1.670116</td>\n",
              "      <td>2.070713</td>\n",
              "      <td>2.127640</td>\n",
              "      <td>2.027281</td>\n",
              "      <td>0.000000</td>\n",
              "      <td>2.094130</td>\n",
              "      <td>4.658102</td>\n",
              "      <td>0.927695</td>\n",
              "    </tr>\n",
              "    <tr>\n",
              "      <th>7</th>\n",
              "      <td>0.840180</td>\n",
              "      <td>0.215752</td>\n",
              "      <td>0.424014</td>\n",
              "      <td>0.102080</td>\n",
              "      <td>0.033510</td>\n",
              "      <td>0.066850</td>\n",
              "      <td>2.094130</td>\n",
              "      <td>0.000000</td>\n",
              "      <td>6.752232</td>\n",
              "      <td>1.702982</td>\n",
              "    </tr>\n",
              "    <tr>\n",
              "      <th>8</th>\n",
              "      <td>5.912052</td>\n",
              "      <td>6.566270</td>\n",
              "      <td>6.328218</td>\n",
              "      <td>6.728815</td>\n",
              "      <td>6.785742</td>\n",
              "      <td>6.685382</td>\n",
              "      <td>4.658102</td>\n",
              "      <td>6.752232</td>\n",
              "      <td>0.000000</td>\n",
              "      <td>5.049250</td>\n",
              "    </tr>\n",
              "    <tr>\n",
              "      <th>9</th>\n",
              "      <td>0.862802</td>\n",
              "      <td>1.517019</td>\n",
              "      <td>1.278967</td>\n",
              "      <td>1.679564</td>\n",
              "      <td>1.736492</td>\n",
              "      <td>1.636132</td>\n",
              "      <td>0.927695</td>\n",
              "      <td>1.702982</td>\n",
              "      <td>5.049250</td>\n",
              "      <td>0.000000</td>\n",
              "    </tr>\n",
              "  </tbody>\n",
              "</table>\n",
              "</div>"
            ],
            "text/plain": [
              "          0         1         2  ...         7         8         9\n",
              "0  0.000000  0.654217  0.416165  ...  0.840180  5.912052  0.862802\n",
              "1  0.654217  0.000000  0.238052  ...  0.215752  6.566270  1.517019\n",
              "2  0.416165  0.238052  0.000000  ...  0.424014  6.328218  1.278967\n",
              "3  0.816762  0.162545  0.400597  ...  0.102080  6.728815  1.679564\n",
              "4  0.873690  0.219472  0.457524  ...  0.033510  6.785742  1.736492\n",
              "5  0.773330  0.175989  0.357165  ...  0.066850  6.685382  1.636132\n",
              "6  1.253951  1.908168  1.670116  ...  2.094130  4.658102  0.927695\n",
              "7  0.840180  0.215752  0.424014  ...  0.000000  6.752232  1.702982\n",
              "8  5.912052  6.566270  6.328218  ...  6.752232  0.000000  5.049250\n",
              "9  0.862802  1.517019  1.278967  ...  1.702982  5.049250  0.000000\n",
              "\n",
              "[10 rows x 10 columns]"
            ]
          },
          "metadata": {},
          "execution_count": 24
        }
      ]
    },
    {
      "cell_type": "markdown",
      "metadata": {
        "id": "LkOh2cTd8s3r"
      },
      "source": [
        "Si se desea incluir la variable categorica `ciiu` se debe recurrir a la distancia Gower. En este caso se utiliza Sklearn no cuenta aun con soporte para esta distancia por lo que importamos la libreria `gower` y usamos la función `gower_matrix`."
      ]
    },
    {
      "cell_type": "code",
      "metadata": {
        "colab": {
          "base_uri": "https://localhost:8080/"
        },
        "id": "oOw08Tvn6gqz",
        "outputId": "73f2fa2d-1ce6-429e-f9ca-a15d00bf088f"
      },
      "source": [
        "!pip install gower"
      ],
      "execution_count": 25,
      "outputs": [
        {
          "output_type": "stream",
          "name": "stdout",
          "text": [
            "Collecting gower\n",
            "  Downloading gower-0.0.5.tar.gz (4.4 kB)\n",
            "Requirement already satisfied: numpy in /usr/local/lib/python3.7/dist-packages (from gower) (1.19.5)\n",
            "Requirement already satisfied: scipy in /usr/local/lib/python3.7/dist-packages (from gower) (1.4.1)\n",
            "Building wheels for collected packages: gower\n",
            "  Building wheel for gower (setup.py) ... \u001b[?25l\u001b[?25hdone\n",
            "  Created wheel for gower: filename=gower-0.0.5-py3-none-any.whl size=4231 sha256=010330083624262ce3048a19a36d055fb628d1ccf2b07542acb46db8407bacef\n",
            "  Stored in directory: /root/.cache/pip/wheels/3e/f9/9a/67122a959a424e9cbb4557a8366c871a30e31cd75f0d003db4\n",
            "Successfully built gower\n",
            "Installing collected packages: gower\n",
            "Successfully installed gower-0.0.5\n"
          ]
        }
      ]
    },
    {
      "cell_type": "code",
      "metadata": {
        "colab": {
          "base_uri": "https://localhost:8080/",
          "height": 362
        },
        "id": "AhpuJY5a3kLd",
        "outputId": "ee130aa5-bd31-4eab-c7d5-6b4984e930b2"
      },
      "source": [
        "import gower\n",
        "dist_gow = gower.gower_matrix(primeros_10_datos_transformados[['activo','pasivo','ciiu']], cat_features=[False,False,True])\n",
        "pd.DataFrame(dist_gow)"
      ],
      "execution_count": 26,
      "outputs": [
        {
          "output_type": "execute_result",
          "data": {
            "text/html": [
              "<div>\n",
              "<style scoped>\n",
              "    .dataframe tbody tr th:only-of-type {\n",
              "        vertical-align: middle;\n",
              "    }\n",
              "\n",
              "    .dataframe tbody tr th {\n",
              "        vertical-align: top;\n",
              "    }\n",
              "\n",
              "    .dataframe thead th {\n",
              "        text-align: right;\n",
              "    }\n",
              "</style>\n",
              "<table border=\"1\" class=\"dataframe\">\n",
              "  <thead>\n",
              "    <tr style=\"text-align: right;\">\n",
              "      <th></th>\n",
              "      <th>0</th>\n",
              "      <th>1</th>\n",
              "      <th>2</th>\n",
              "      <th>3</th>\n",
              "      <th>4</th>\n",
              "      <th>5</th>\n",
              "      <th>6</th>\n",
              "      <th>7</th>\n",
              "      <th>8</th>\n",
              "      <th>9</th>\n",
              "    </tr>\n",
              "  </thead>\n",
              "  <tbody>\n",
              "    <tr>\n",
              "      <th>0</th>\n",
              "      <td>0.000000</td>\n",
              "      <td>0.396809</td>\n",
              "      <td>0.373290</td>\n",
              "      <td>0.412478</td>\n",
              "      <td>0.417836</td>\n",
              "      <td>0.408077</td>\n",
              "      <td>0.458746</td>\n",
              "      <td>0.414538</td>\n",
              "      <td>0.913532</td>\n",
              "      <td>0.418262</td>\n",
              "    </tr>\n",
              "    <tr>\n",
              "      <th>1</th>\n",
              "      <td>0.396809</td>\n",
              "      <td>0.000000</td>\n",
              "      <td>0.356852</td>\n",
              "      <td>0.349003</td>\n",
              "      <td>0.354360</td>\n",
              "      <td>0.350308</td>\n",
              "      <td>0.522222</td>\n",
              "      <td>0.354051</td>\n",
              "      <td>0.977008</td>\n",
              "      <td>0.481737</td>\n",
              "    </tr>\n",
              "    <tr>\n",
              "      <th>2</th>\n",
              "      <td>0.373290</td>\n",
              "      <td>0.356852</td>\n",
              "      <td>0.000000</td>\n",
              "      <td>0.372521</td>\n",
              "      <td>0.377879</td>\n",
              "      <td>0.368120</td>\n",
              "      <td>0.498703</td>\n",
              "      <td>0.374581</td>\n",
              "      <td>0.953490</td>\n",
              "      <td>0.458219</td>\n",
              "    </tr>\n",
              "    <tr>\n",
              "      <th>3</th>\n",
              "      <td>0.412478</td>\n",
              "      <td>0.349003</td>\n",
              "      <td>0.372521</td>\n",
              "      <td>0.000000</td>\n",
              "      <td>0.342621</td>\n",
              "      <td>0.339542</td>\n",
              "      <td>0.537891</td>\n",
              "      <td>0.343285</td>\n",
              "      <td>0.992677</td>\n",
              "      <td>0.164073</td>\n",
              "    </tr>\n",
              "    <tr>\n",
              "      <th>4</th>\n",
              "      <td>0.417836</td>\n",
              "      <td>0.354360</td>\n",
              "      <td>0.377879</td>\n",
              "      <td>0.342621</td>\n",
              "      <td>0.000000</td>\n",
              "      <td>0.343092</td>\n",
              "      <td>0.543249</td>\n",
              "      <td>0.336632</td>\n",
              "      <td>0.998035</td>\n",
              "      <td>0.502764</td>\n",
              "    </tr>\n",
              "    <tr>\n",
              "      <th>5</th>\n",
              "      <td>0.408077</td>\n",
              "      <td>0.350308</td>\n",
              "      <td>0.368120</td>\n",
              "      <td>0.339542</td>\n",
              "      <td>0.343092</td>\n",
              "      <td>0.000000</td>\n",
              "      <td>0.533490</td>\n",
              "      <td>0.339794</td>\n",
              "      <td>0.988276</td>\n",
              "      <td>0.493005</td>\n",
              "    </tr>\n",
              "    <tr>\n",
              "      <th>6</th>\n",
              "      <td>0.458746</td>\n",
              "      <td>0.522222</td>\n",
              "      <td>0.498703</td>\n",
              "      <td>0.537891</td>\n",
              "      <td>0.543249</td>\n",
              "      <td>0.533490</td>\n",
              "      <td>0.000000</td>\n",
              "      <td>0.539950</td>\n",
              "      <td>0.788120</td>\n",
              "      <td>0.425168</td>\n",
              "    </tr>\n",
              "    <tr>\n",
              "      <th>7</th>\n",
              "      <td>0.414538</td>\n",
              "      <td>0.354051</td>\n",
              "      <td>0.374581</td>\n",
              "      <td>0.343285</td>\n",
              "      <td>0.336632</td>\n",
              "      <td>0.339794</td>\n",
              "      <td>0.539950</td>\n",
              "      <td>0.000000</td>\n",
              "      <td>0.994737</td>\n",
              "      <td>0.499466</td>\n",
              "    </tr>\n",
              "    <tr>\n",
              "      <th>8</th>\n",
              "      <td>0.913532</td>\n",
              "      <td>0.977008</td>\n",
              "      <td>0.953490</td>\n",
              "      <td>0.992677</td>\n",
              "      <td>0.998035</td>\n",
              "      <td>0.988276</td>\n",
              "      <td>0.788120</td>\n",
              "      <td>0.994737</td>\n",
              "      <td>0.000000</td>\n",
              "      <td>0.828604</td>\n",
              "    </tr>\n",
              "    <tr>\n",
              "      <th>9</th>\n",
              "      <td>0.418262</td>\n",
              "      <td>0.481737</td>\n",
              "      <td>0.458219</td>\n",
              "      <td>0.164073</td>\n",
              "      <td>0.502764</td>\n",
              "      <td>0.493005</td>\n",
              "      <td>0.425168</td>\n",
              "      <td>0.499466</td>\n",
              "      <td>0.828604</td>\n",
              "      <td>0.000000</td>\n",
              "    </tr>\n",
              "  </tbody>\n",
              "</table>\n",
              "</div>"
            ],
            "text/plain": [
              "          0         1         2  ...         7         8         9\n",
              "0  0.000000  0.396809  0.373290  ...  0.414538  0.913532  0.418262\n",
              "1  0.396809  0.000000  0.356852  ...  0.354051  0.977008  0.481737\n",
              "2  0.373290  0.356852  0.000000  ...  0.374581  0.953490  0.458219\n",
              "3  0.412478  0.349003  0.372521  ...  0.343285  0.992677  0.164073\n",
              "4  0.417836  0.354360  0.377879  ...  0.336632  0.998035  0.502764\n",
              "5  0.408077  0.350308  0.368120  ...  0.339794  0.988276  0.493005\n",
              "6  0.458746  0.522222  0.498703  ...  0.539950  0.788120  0.425168\n",
              "7  0.414538  0.354051  0.374581  ...  0.000000  0.994737  0.499466\n",
              "8  0.913532  0.977008  0.953490  ...  0.994737  0.000000  0.828604\n",
              "9  0.418262  0.481737  0.458219  ...  0.499466  0.828604  0.000000\n",
              "\n",
              "[10 rows x 10 columns]"
            ]
          },
          "metadata": {},
          "execution_count": 26
        }
      ]
    },
    {
      "cell_type": "markdown",
      "metadata": {
        "id": "NPJmcL563aFT"
      },
      "source": [
        "Mediante la libreria seaborn se puede generar una representación visual de las distancias entre individuos, tomando como argumento las distancias previamente calculadas:"
      ]
    },
    {
      "cell_type": "code",
      "metadata": {
        "colab": {
          "base_uri": "https://localhost:8080/",
          "height": 428
        },
        "id": "jeTBQonp8TeD",
        "outputId": "6f3936ab-4bed-4693-ed97-07d7d97b7fc0"
      },
      "source": [
        "fig, ax = plt.subplots(figsize=(10,7))\n",
        "sns.heatmap(dist_man, cmap='Blues', annot=True, fmt='.1f');"
      ],
      "execution_count": 27,
      "outputs": [
        {
          "output_type": "display_data",
          "data": {
            "image/png": "[encoded data removed]",
            "text/plain": [
              "<Figure size 720x504 with 2 Axes>"
            ]
          },
          "metadata": {
            "needs_background": "light"
          }
        }
      ]
    },
    {
      "cell_type": "markdown",
      "metadata": {
        "id": "3dK9IWvc-RlC"
      },
      "source": [
        "## 2.2. Clustering particional\n",
        "\n",
        "Los métodos de clustering particional buscan clasificar los individuos en uno de varios grupos posibles, generados a partir del conjunto de datos con el que se está trabajando. Para esto se utiliza su similaridad (distancia), tratando que todas las observaciones en un grupo sean parecidas, mientras que los grupos sean diferentes entre sí. En esta sección se presentará el método de K-medias y K-medioides."
      ]
    },
    {
      "cell_type": "markdown",
      "metadata": {
        "id": "FNAkAtUZ_Tiq"
      },
      "source": [
        "### 2.2.1. Clustering por K-medias\n",
        "\n",
        "El procedimiento de K-medias fue propuesto por MacQueen en 1967, y busca dividir un conjunto de datos en K grupos, maximizando la similaridad intraclase y minimizando la similaridad interclase. Cada grupo está caracterizado por su promedio (p dimensional).\n",
        "\n",
        "Se define la variación total entre cluster como la suma de las distancias entre los individuos y el centroide del grupo:\n",
        "\n",
        "$W(C_k) = \\sum_{x_i \\in c_k} dist(x_i, \\mu_k)$\n",
        "\n",
        "donde $x_i$ es un vector que caracteriza al individuo $i$, $\\mu_k$ es el vector de medias para las observaciones que pertenencen al grupo $k$ y $dist$ es una medida de distancia, usualmente la distancia Euclídea. De esta forma, cada registro se asigna a un grupo tal que su distancia al centro del grupo es mínima. Adicionalmente, se\n",
        "define la variación total entre cluster como:\n",
        "\n",
        "$VTC = \\sum_{k=1}^{K} W(C_k) = \\sum_{k=1}^{K} \\sum_{x_i \\in c_k} dist(x_i, \\mu_k)$ \n",
        "\n",
        "El primer paso en el algoritmo consiste en la selección de K. Posteriormente, los individuos se asignan aleatoriamente para conformar K grupos y se calculan los centroides (mediante medias) respectivos. Tomando los 10 individuos del ejemplo anterior y K = 2 se tiene:"
      ]
    },
    {
      "cell_type": "code",
      "metadata": {
        "id": "4rzDDKCm_b8S"
      },
      "source": [
        "np.random.seed(777)\n",
        "cluster = primeros_10_datos_transformados[['activo','pasivo']].copy()\n",
        "cluster['g1'] = np.random.randint(1, 3, size = cluster.shape[0])"
      ],
      "execution_count": 28,
      "outputs": []
    },
    {
      "cell_type": "code",
      "metadata": {
        "colab": {
          "base_uri": "https://localhost:8080/",
          "height": 143
        },
        "id": "bC3qzpuD_8nU",
        "outputId": "aca8aba1-1080-4b8e-dad4-d6ea37bd6502"
      },
      "source": [
        "cluster_centro = cluster.groupby('g1').agg({'activo':'mean', 'pasivo':'mean'})\n",
        "cluster_centro"
      ],
      "execution_count": 29,
      "outputs": [
        {
          "output_type": "execute_result",
          "data": {
            "text/html": [
              "<div>\n",
              "<style scoped>\n",
              "    .dataframe tbody tr th:only-of-type {\n",
              "        vertical-align: middle;\n",
              "    }\n",
              "\n",
              "    .dataframe tbody tr th {\n",
              "        vertical-align: top;\n",
              "    }\n",
              "\n",
              "    .dataframe thead th {\n",
              "        text-align: right;\n",
              "    }\n",
              "</style>\n",
              "<table border=\"1\" class=\"dataframe\">\n",
              "  <thead>\n",
              "    <tr style=\"text-align: right;\">\n",
              "      <th></th>\n",
              "      <th>activo</th>\n",
              "      <th>pasivo</th>\n",
              "    </tr>\n",
              "    <tr>\n",
              "      <th>g1</th>\n",
              "      <th></th>\n",
              "      <th></th>\n",
              "    </tr>\n",
              "  </thead>\n",
              "  <tbody>\n",
              "    <tr>\n",
              "      <th>1</th>\n",
              "      <td>-0.235202</td>\n",
              "      <td>-0.107224</td>\n",
              "    </tr>\n",
              "    <tr>\n",
              "      <th>2</th>\n",
              "      <td>0.058800</td>\n",
              "      <td>0.026806</td>\n",
              "    </tr>\n",
              "  </tbody>\n",
              "</table>\n",
              "</div>"
            ],
            "text/plain": [
              "      activo    pasivo\n",
              "g1                    \n",
              "1  -0.235202 -0.107224\n",
              "2   0.058800  0.026806"
            ]
          },
          "metadata": {},
          "execution_count": 29
        }
      ]
    },
    {
      "cell_type": "markdown",
      "metadata": {
        "id": "bbIQKnBzDNjk"
      },
      "source": [
        "Posteriormente se calculan las distancias (por ejemplo, Euclídea) de los individuos al centroide de cada grupo, y las observaciones se asignan al grupo donde la distancia al centro es menor:"
      ]
    },
    {
      "cell_type": "code",
      "metadata": {
        "colab": {
          "base_uri": "https://localhost:8080/",
          "height": 362
        },
        "id": "5A87jUdzDU5L",
        "outputId": "c0e3e2ad-568d-4dda-aba5-6b687b63ce39"
      },
      "source": [
        "cluster['dg1'] = np.sqrt(np.square(cluster['activo']-cluster_centro['activo'][1]) + \n",
        "                         np.square(cluster['pasivo']-cluster_centro['pasivo'][1]))\n",
        "cluster['dg2'] = np.sqrt(np.square(cluster['activo']-cluster_centro['activo'][2]) +\n",
        "                         np.square(cluster['pasivo']-cluster_centro['pasivo'][2]))\n",
        "cluster['g2'] = 1\n",
        "cluster['g2'] = np.where(cluster['dg2']< cluster['dg1'], 2, cluster['g2'])\n",
        "cluster"
      ],
      "execution_count": 30,
      "outputs": [
        {
          "output_type": "execute_result",
          "data": {
            "text/html": [
              "<div>\n",
              "<style scoped>\n",
              "    .dataframe tbody tr th:only-of-type {\n",
              "        vertical-align: middle;\n",
              "    }\n",
              "\n",
              "    .dataframe tbody tr th {\n",
              "        vertical-align: top;\n",
              "    }\n",
              "\n",
              "    .dataframe thead th {\n",
              "        text-align: right;\n",
              "    }\n",
              "</style>\n",
              "<table border=\"1\" class=\"dataframe\">\n",
              "  <thead>\n",
              "    <tr style=\"text-align: right;\">\n",
              "      <th></th>\n",
              "      <th>activo</th>\n",
              "      <th>pasivo</th>\n",
              "      <th>g1</th>\n",
              "      <th>dg1</th>\n",
              "      <th>dg2</th>\n",
              "      <th>g2</th>\n",
              "    </tr>\n",
              "  </thead>\n",
              "  <tbody>\n",
              "    <tr>\n",
              "      <th>0</th>\n",
              "      <td>-0.384071</td>\n",
              "      <td>0.018625</td>\n",
              "      <td>2</td>\n",
              "      <td>0.194936</td>\n",
              "      <td>0.442947</td>\n",
              "      <td>1</td>\n",
              "    </tr>\n",
              "    <tr>\n",
              "      <th>1</th>\n",
              "      <td>-0.570908</td>\n",
              "      <td>-0.448756</td>\n",
              "      <td>2</td>\n",
              "      <td>0.478897</td>\n",
              "      <td>0.789108</td>\n",
              "      <td>1</td>\n",
              "    </tr>\n",
              "    <tr>\n",
              "      <th>2</th>\n",
              "      <td>-0.411786</td>\n",
              "      <td>-0.369826</td>\n",
              "      <td>2</td>\n",
              "      <td>0.316451</td>\n",
              "      <td>0.615441</td>\n",
              "      <td>1</td>\n",
              "    </tr>\n",
              "    <tr>\n",
              "      <th>3</th>\n",
              "      <td>-0.595345</td>\n",
              "      <td>-0.586864</td>\n",
              "      <td>1</td>\n",
              "      <td>0.599797</td>\n",
              "      <td>0.896937</td>\n",
              "      <td>1</td>\n",
              "    </tr>\n",
              "    <tr>\n",
              "      <th>4</th>\n",
              "      <td>-0.575760</td>\n",
              "      <td>-0.663376</td>\n",
              "      <td>2</td>\n",
              "      <td>0.652138</td>\n",
              "      <td>0.937560</td>\n",
              "      <td>1</td>\n",
              "    </tr>\n",
              "    <tr>\n",
              "      <th>5</th>\n",
              "      <td>-0.542470</td>\n",
              "      <td>-0.596306</td>\n",
              "      <td>2</td>\n",
              "      <td>0.577594</td>\n",
              "      <td>0.865907</td>\n",
              "      <td>1</td>\n",
              "    </tr>\n",
              "    <tr>\n",
              "      <th>6</th>\n",
              "      <td>0.784363</td>\n",
              "      <td>0.104142</td>\n",
              "      <td>2</td>\n",
              "      <td>1.041244</td>\n",
              "      <td>0.729672</td>\n",
              "      <td>2</td>\n",
              "    </tr>\n",
              "    <tr>\n",
              "      <th>7</th>\n",
              "      <td>-0.556013</td>\n",
              "      <td>-0.649612</td>\n",
              "      <td>2</td>\n",
              "      <td>0.630163</td>\n",
              "      <td>0.914078</td>\n",
              "      <td>1</td>\n",
              "    </tr>\n",
              "    <tr>\n",
              "      <th>8</th>\n",
              "      <td>2.727048</td>\n",
              "      <td>2.819558</td>\n",
              "      <td>2</td>\n",
              "      <td>4.164250</td>\n",
              "      <td>3.862513</td>\n",
              "      <td>2</td>\n",
              "    </tr>\n",
              "    <tr>\n",
              "      <th>9</th>\n",
              "      <td>0.124941</td>\n",
              "      <td>0.372415</td>\n",
              "      <td>1</td>\n",
              "      <td>0.599797</td>\n",
              "      <td>0.351881</td>\n",
              "      <td>2</td>\n",
              "    </tr>\n",
              "  </tbody>\n",
              "</table>\n",
              "</div>"
            ],
            "text/plain": [
              "     activo    pasivo  g1       dg1       dg2  g2\n",
              "0 -0.384071  0.018625   2  0.194936  0.442947   1\n",
              "1 -0.570908 -0.448756   2  0.478897  0.789108   1\n",
              "2 -0.411786 -0.369826   2  0.316451  0.615441   1\n",
              "3 -0.595345 -0.586864   1  0.599797  0.896937   1\n",
              "4 -0.575760 -0.663376   2  0.652138  0.937560   1\n",
              "5 -0.542470 -0.596306   2  0.577594  0.865907   1\n",
              "6  0.784363  0.104142   2  1.041244  0.729672   2\n",
              "7 -0.556013 -0.649612   2  0.630163  0.914078   1\n",
              "8  2.727048  2.819558   2  4.164250  3.862513   2\n",
              "9  0.124941  0.372415   1  0.599797  0.351881   2"
            ]
          },
          "metadata": {},
          "execution_count": 30
        }
      ]
    },
    {
      "cell_type": "markdown",
      "metadata": {
        "id": "gkxfTVd2FsoD"
      },
      "source": [
        "A partir de los nuevos grupos, el procedimiento de cálculo de centroides, cálculo de distancias y asignación en grupos se repite hasta que no haya variación:"
      ]
    },
    {
      "cell_type": "code",
      "metadata": {
        "colab": {
          "base_uri": "https://localhost:8080/"
        },
        "id": "t4IsAkFsF558",
        "outputId": "4d6391ed-c0ff-472a-f8cb-12dba7fefda1"
      },
      "source": [
        "variacion = 1\n",
        "while variacion > 0: \n",
        "    cluster_centro = cluster.groupby('g2').agg({'activo':'mean', 'pasivo':'mean'})\n",
        "    cluster['dg1'] = np.sqrt(np.square(cluster['activo']-cluster_centro['activo'][1]) + \n",
        "                             np.square(cluster['pasivo']-cluster_centro['pasivo'][1]))\n",
        "    cluster['dg2'] = np.sqrt(np.square(cluster['activo']-cluster_centro['activo'][2]) + \n",
        "                             np.square(cluster['pasivo']-cluster_centro['pasivo'][2]))\n",
        "    grupo = cluster['g2'].copy()\n",
        "    cluster['g2']= 1\n",
        "    cluster['g2'] = np.where(cluster['dg2']< cluster['dg1'], 2, cluster['g2'])\n",
        "    variacion = np.sum(np.square(grupo - cluster['g2']))\n",
        "    print(variacion)"
      ],
      "execution_count": 31,
      "outputs": [
        {
          "output_type": "stream",
          "name": "stdout",
          "text": [
            "1\n",
            "1\n",
            "0\n"
          ]
        }
      ]
    },
    {
      "cell_type": "code",
      "metadata": {
        "colab": {
          "base_uri": "https://localhost:8080/",
          "height": 442
        },
        "id": "7hJVYdWiG4Zs",
        "outputId": "019fc15c-badb-45e0-833b-af0546d1c3f8"
      },
      "source": [
        "fig, ax = plt.subplots(figsize=(7,7))\n",
        "sns.scatterplot(data=cluster, x=\"activo\", y=\"pasivo\", s= 20, hue='g2',  palette=['red','blue']);"
      ],
      "execution_count": 32,
      "outputs": [
        {
          "output_type": "display_data",
          "data": {
            "image/png": "[encoded data removed]",
            "text/plain": [
              "<Figure size 504x504 with 1 Axes>"
            ]
          },
          "metadata": {
            "needs_background": "light"
          }
        }
      ]
    },
    {
      "cell_type": "markdown",
      "metadata": {
        "id": "-x-vSWCMKKgd"
      },
      "source": [
        "Ahora, en python podemos utilizar la libreria Sklearn e importar kmeans. Utilizaremos el elemento datos con las variables activo y pasivo, y generaremos K = 5 grupos:"
      ]
    },
    {
      "cell_type": "code",
      "metadata": {
        "id": "cuoZNuKfMNMF"
      },
      "source": [
        "from sklearn.cluster import KMeans\n",
        "\n",
        "transformador = pipeline_transformacion(datos[['activo','pasivo']], crear_dummies = False)\n",
        "cluster = pd.DataFrame(transformador.transform(datos[['activo','pasivo']]), columns=['activo','pasivo'])\n",
        "\n",
        "kmeans = KMeans(n_clusters=7, random_state=2021).fit(cluster)\n",
        "\n",
        "cluster['kmean_cluster'] = kmeans.predict(cluster)"
      ],
      "execution_count": 43,
      "outputs": []
    },
    {
      "cell_type": "code",
      "metadata": {
        "colab": {
          "base_uri": "https://localhost:8080/"
        },
        "id": "8MvzsUyzNVYs",
        "outputId": "624f1c07-a9ad-4acf-f231-e19eab66e7c4"
      },
      "source": [
        "cluster['kmean_cluster'].value_counts().sort_index()"
      ],
      "execution_count": 44,
      "outputs": [
        {
          "output_type": "execute_result",
          "data": {
            "text/plain": [
              "0    14076\n",
              "1       38\n",
              "2        1\n",
              "3      234\n",
              "4        2\n",
              "5     1669\n",
              "6       40\n",
              "Name: kmean_cluster, dtype: int64"
            ]
          },
          "metadata": {},
          "execution_count": 44
        }
      ]
    },
    {
      "cell_type": "markdown",
      "metadata": {
        "id": "fEm3iZ8HOVQG"
      },
      "source": [
        "Seguramente, la primera inquietud que surge es cómo escoger K. Para esto, se ha propuesto generar clusters con $K = 2, 3, ...,N-1$ (o algún límite superior, usualmente muy por debajo de N-1) y analizar\n",
        "el comportamiento de la suma de cuadrados al interior para cada caso. "
      ]
    },
    {
      "cell_type": "code",
      "metadata": {
        "id": "u7W7E5gnQZON"
      },
      "source": [
        "!pip install yellowbrick -U"
      ],
      "execution_count": null,
      "outputs": []
    },
    {
      "cell_type": "code",
      "metadata": {
        "colab": {
          "base_uri": "https://localhost:8080/",
          "height": 376
        },
        "id": "Y2dP-OSsODuv",
        "outputId": "6b4312bc-ff97-484c-e936-33b967001f1a"
      },
      "source": [
        "from yellowbrick.cluster import KElbowVisualizer\n",
        "\n",
        "transformador = pipeline_transformacion(datos[['activo','pasivo']], crear_dummies = False)\n",
        "cluster = pd.DataFrame(transformador.transform(datos[['activo','pasivo']]), columns=['activo','pasivo'])\n",
        "\n",
        "# Inicializar el modelo de clustering model y visualizador\n",
        "model = KMeans(random_state=2021)\n",
        "visualizer = KElbowVisualizer(model,\n",
        "                              k=(2,12), \n",
        "                              metric='distortion',\n",
        "                              timings=False,\n",
        "                              locate_elbow=True)\n",
        "\n",
        "visualizer.fit(cluster) \n",
        "visualizer.show();"
      ],
      "execution_count": 52,
      "outputs": [
        {
          "output_type": "display_data",
          "data": {
            "image/png": "[encoded data removed]",
            "text/plain": [
              "<Figure size 576x396 with 1 Axes>"
            ]
          },
          "metadata": {}
        }
      ]
    },
    {
      "cell_type": "markdown",
      "metadata": {
        "id": "2tjOfbJ7Tq7B"
      },
      "source": [
        "Se observa que la medida de error de clasificación disminuye en la medida que aumenta K. Aquí se escoge\n",
        "K en el punto donde se observe un codo, aparentemente en K = 5. Finalmente, se genera la agrupación\n",
        "con K = 5, utilizando la opción n_init = 20 para forzar a que el algoritmo se ejecute 20 veces y escoja el\n",
        "resultado con mejor desempeño:"
      ]
    },
    {
      "cell_type": "code",
      "metadata": {
        "colab": {
          "base_uri": "https://localhost:8080/"
        },
        "id": "JlHS0XZDUBWd",
        "outputId": "12c414b1-66f0-48fa-dc33-882b03f309c6"
      },
      "source": [
        "kmeans = KMeans(n_clusters=5, random_state=2021, n_init=20).fit(cluster)\n",
        "cluster['kmean_cluster'] = kmeans.predict(cluster)\n",
        "cluster['kmean_cluster'].value_counts().sort_index()"
      ],
      "execution_count": 53,
      "outputs": [
        {
          "output_type": "execute_result",
          "data": {
            "text/plain": [
              "0    15052\n",
              "1       70\n",
              "2        1\n",
              "3      935\n",
              "4        2\n",
              "Name: kmean_cluster, dtype: int64"
            ]
          },
          "metadata": {},
          "execution_count": 53
        }
      ]
    },
    {
      "cell_type": "code",
      "metadata": {
        "colab": {
          "base_uri": "https://localhost:8080/",
          "height": 444
        },
        "id": "KyYi5IiIUW6W",
        "outputId": "16cdb6e9-6916-42f4-d34b-9b151b2842f9"
      },
      "source": [
        "fig, ax = plt.subplots(figsize=(7,7))\n",
        "sns.scatterplot(data=cluster, x=\"activo\", y=\"pasivo\", s= 30, hue='kmean_cluster',\n",
        "                palette=sns.color_palette(\"hls\", cluster['kmean_cluster'].nunique()))\n",
        "ax.grid(False);"
      ],
      "execution_count": 62,
      "outputs": [
        {
          "output_type": "display_data",
          "data": {
            "image/png": "[encoded data removed]",
            "text/plain": [
              "<Figure size 504x504 with 1 Axes>"
            ]
          },
          "metadata": {}
        }
      ]
    },
    {
      "cell_type": "code",
      "metadata": {
        "id": "H2_7pU_vTVkm"
      },
      "source": [
        ""
      ],
      "execution_count": null,
      "outputs": []
    }
  ]
}