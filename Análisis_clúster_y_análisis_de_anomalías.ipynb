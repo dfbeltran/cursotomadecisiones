{
  "nbformat": 4,
  "nbformat_minor": 0,
  "metadata": {
    "colab": {
      "name": "4. Análisis_clúster_y_análisis_de_anomalías.ipynb",
      "provenance": [],
      "collapsed_sections": [],
      "toc_visible": true
    },
    "kernelspec": {
      "name": "python3",
      "display_name": "Python 3"
    },
    "language_info": {
      "name": "python"
    }
  },
  "cells": [
    {
      "cell_type": "markdown",
      "metadata": {
        "id": "F543Lv6Vdvs-"
      },
      "source": [
        "[![Open In Colab](https://colab.research.google.com/assets/colab-badge.svg)](https://colab.research.google.com/github/dfbeltran/cursotomadecisiones/blob/main/An%C3%A1lisis_cl%C3%BAster_y_an%C3%A1lisis_de_anomal%C3%ADas.ipynb)"
      ]
    },
    {
      "cell_type": "markdown",
      "metadata": {
        "id": "WG39cUZlZUHw"
      },
      "source": [
        "# Análisis clúster y análisis de anomalías\n",
        "\n",
        "## 1. Introducción\n",
        "Una de las tareas del análisis de datos consiste en la identificación de agrupaciones naturales de individuos.\n",
        "\n",
        "Para esto, normalmente se cuenta con una base de datos cuyas fílas son los individuos de interés\n",
        "(personas, empresas, transacciones, etc.) y las columnas son sus características. Esto último, que existan muchas variables por cada registro, es muy relevante en esta parte del curso y justifíca el uso de metodologías\n",
        "\n",
        "multivariadas de agrupación. Estas técnicas usualmente se grupan bajo el título de análisis clúster.\n",
        "Para el aprendizaje de máquina (machine learning) el análisis clúster hace parte del aprendizaje no\n",
        "supervisado porque no se tienen concepciones a priori sobre cómo conformar los grupos."
      ]
    },
    {
      "cell_type": "markdown",
      "metadata": {
        "id": "sTsxNsVyZv87"
      },
      "source": [
        "## 2. Análisis clúster\n",
        "\n",
        "El objetivo del análisis clúster es la identificación de grupos de individuos (o de variables) en conjuntos de datos multidimensionales. Los individuos (variables) que pertenecen a un mismo grupo deben ser parecidos, mientras que los grupos deben ser diferentes entre sí. Aquí, el concepto de parecido (o diferente) dependende de algún tipo de distancia entre las observaciones.\n",
        "El análisis clúster es popular siempre que exista inter\u0013es en grupos de individuos (variables). Por ejemplo, en mercadeo, es importante hacer segmentaciones de clientes de acuerdo con sus características para después aplicar estrategias de ventas diferentes enfocadas a cada subgrupo.\n",
        "En la práctica, se deben tener en cuenta las siguientes recomendaciones:\n",
        "* En los datos, los elementos que se quieren agrupar deben estar organizados por fílas, mientras que las caracterésticas que definen a estos elementos van por columnas.\n",
        "* Se debe evitar la presencia de valores perdidos. Si existen se deben imputar o eliminar la observación, teniendo muy en cuenta las posibles consecuencias en términos de sesgo en los datos.\n",
        "* Las variables deben tener escalas similares.\n",
        "\n",
        "Con respecto al último punto, los algoritmos de clustering, en general, son sensibles a la escala de las variables. Por ejemplo, en una base de datos de países, se pueden tener como variables el producto interno bruto (PIB) y el crecimiento. Aquí, el PIB suele venir en unidades monetarias, y tener valores incluso de billones, mientras que el crecimiento es un porcentaje. De esta forma, la escala de las variables es muy diferente y el algoritmo tenderá a agrupar con base en la variable de mayor escala, en este caso el PIB. Para evitar esto, las variables pueden estandarizarse (llevar a series con media 0 y varianza 1) o reescalarse (todas tienen el mismo mínimo y máximo).\n",
        "\n",
        "> **📝 Nota:** Los procesos de estandarización o reescalamiento no aplican si las variables que describen al individuo son categóricas. En este caso, se debe recurrir a opciones distintas como la construcción de variables dummys (dicotómicas, de ceros y unos) o utilizar medidas de distancia capaces de tratar con este tipo de información."
      ]
    },
    {
      "cell_type": "markdown",
      "metadata": {
        "id": "K59RnP3_b5tZ"
      },
      "source": [
        "## 2.1. Medidas de distancia\n",
        "\n",
        "La distancia entre dos observaciones mide su cercanía (como era de esperar). Para un grupo de individuos, se puede obtener una matriz que contenga la distancia entre todos ellos. Como resultado, la matriz de distancias es cuadrada (igual número de filas y columnas) y tiene ceros en su diagonal principal.\n",
        "\n",
        "La distancia entre un par de individuos 1 y 2, definidos a partir de p variables $x_{1i}, x_{2i}, ... x_{pi}$ con $i = 1,2$ se puede calcular como:\n",
        "\n",
        "* Distancia Euclídea: $d (x_1, x_2) = \\sqrt{\\sum_{j=1}^{p} (x_{j1}-x_{j2})^2}$.\n",
        "* Distancia Manhattan (o del taxista):  $d (x_1, x_2) = \\sum_{j=1}^{p} |x_{j1}-x_{j2}|$.\n",
        "* Distancia de Mahalanobis: $d (x_1, x_2) = \\sqrt{{(x_{j1}-x_{j2})^T} * {\\Sigma}^{-1} (x_{1}-x_{2})}$ donde $\\Sigma$ es la matriz de varianzas y covarianzas entre $x_1$ y $x_2$.\n",
        "\n",
        "También existen otras medidas basadas en la correlaci\u0013on entre individuos que son utilizadas en contextos\n",
        "específicos. En este caso, se considera que dos individuos son parecidos si tienen una alta correlación en sus características, aún cuando los valores que éstas tomen sean muy diferentes:\n",
        "* Distancia de correlación Pearson: $d (x_1, x_2) = 1 - \\dfrac{\\sum_{j=1}^{p} (x_{j1} - \\bar x)(x_{j2} - \\bar x)}{\\sqrt{\\sum_{j=1}^{p} (x_{j1} - \\bar x)^2(x_{j2} - \\bar x)^2}}$.\n",
        "\n",
        "Muchas de las medidas de distancia aplican únicamente a variables numéricas, pero en la práctica es\n",
        "usual que las características de los individuos estén definidas como series ordinales o incluso categoricas.\n",
        "\n",
        "Para estos casos se ha desarrollado la distancia de Gower, que agrupa las variables de un conjunto de datos de acuerdo con su naturaleza y aplica las medidas de distancias pertinentes según cada caso: para variables numéricas y ordinales se utiliza la distancia Manhattan (con un ajuste por empates para el segundo caso), y para variables nominales con k categorías se generan k variables indicadoras (dicotómicas) y luego se aplican medidas de similaridad adecuadas. Las distancias de cada caso se combinan de manera lineal, usualmente como un promedio simple."
      ]
    },
    {
      "cell_type": "markdown",
      "metadata": {
        "id": "jDgpUQoCcczJ"
      },
      "source": [
        "### 2.1.1. Carga y exploración de datos\n",
        "A continuación se utilizarán datos empresariales con informaci\u0013on de estados financieros. En primera instancia, se cargan y exploran los datos, para esto se utilizará la libreria de Pandas:\n"
      ]
    },
    {
      "cell_type": "code",
      "metadata": {
        "id": "Tiq6fd2S_vJs",
        "colab": {
          "base_uri": "https://localhost:8080/"
        },
        "outputId": "68b62a8a-230a-4219-ffa1-498cfe903909"
      },
      "source": [
        "# Clonar repo de Git\n",
        "!git clone https://github.com/dfbeltran/cursotomadecisiones.git"
      ],
      "execution_count": null,
      "outputs": [
        {
          "output_type": "stream",
          "name": "stdout",
          "text": [
            "Cloning into 'cursotomadecisiones'...\n",
            "remote: Enumerating objects: 135, done.\u001b[K\n",
            "remote: Counting objects: 100% (135/135), done.\u001b[K\n",
            "remote: Compressing objects: 100% (111/111), done.\u001b[K\n",
            "remote: Total 135 (delta 45), reused 111 (delta 24), pack-reused 0\u001b[K\n",
            "Receiving objects: 100% (135/135), 32.39 MiB | 19.25 MiB/s, done.\n",
            "Resolving deltas: 100% (45/45), done.\n"
          ]
        }
      ]
    },
    {
      "cell_type": "code",
      "metadata": {
        "id": "R2l9sHGQnYly"
      },
      "source": [
        "# Importar librerias que se van a usar\n",
        "import pandas as pd\n",
        "from functools import reduce\n",
        "import numpy as np\n",
        "\n",
        "# Cargar los datos\n",
        "caratula = pd.read_csv('/content/cursotomadecisiones/datos/tema_4/Supersociedades SIREM 201706 - Caratula.csv',\n",
        "                       encoding='latin-1', # Tipo de codificación del archivo (latin-1 dado a que tiene comas)\n",
        "                       sep = ';') # Seleccionar separador \n",
        "\n",
        "efe = pd.read_csv('/content/cursotomadecisiones/datos/tema_4/Supersociedades SIREM 201706 - EFE.csv',\n",
        "                       encoding='latin-1',\n",
        "                       sep = ';')\n",
        "\n",
        "eri = pd.read_csv('/content/cursotomadecisiones/datos/tema_4/Supersociedades SIREM 201706 - ERI.csv',\n",
        "                       encoding='latin-1',\n",
        "                       sep = ';')\n",
        "\n",
        "esf = pd.read_csv('/content/cursotomadecisiones/datos/tema_4/Supersociedades SIREM 201706 - ESF.csv',\n",
        "                       encoding='latin-1',\n",
        "                       sep = ';')\n",
        "\n",
        "ori = pd.read_csv('/content/cursotomadecisiones/datos/tema_4/Supersociedades SIREM 201706 - ORI.csv',\n",
        "                       encoding='latin-1',\n",
        "                       sep = ';')"
      ],
      "execution_count": null,
      "outputs": []
    },
    {
      "cell_type": "code",
      "metadata": {
        "colab": {
          "base_uri": "https://localhost:8080/"
        },
        "id": "QMUoQlQ-LfMB",
        "outputId": "4f2d11b2-01d0-49f6-ba2f-4bdd5c6309c9"
      },
      "source": [
        "caratula.info()"
      ],
      "execution_count": null,
      "outputs": [
        {
          "output_type": "stream",
          "name": "stdout",
          "text": [
            "<class 'pandas.core.frame.DataFrame'>\n",
            "RangeIndex: 15955 entries, 0 to 15954\n",
            "Data columns (total 12 columns):\n",
            " #   Column                                                         Non-Null Count  Dtype \n",
            "---  ------                                                         --------------  ----- \n",
            " 0   NIT                                                            15955 non-null  int64 \n",
            " 1   FECHA CORTE                                                    15955 non-null  object\n",
            " 2   Razón social de la sociedad                                    15955 non-null  object\n",
            " 3   Corte de cuentas según estatutos                               15955 non-null  object\n",
            " 4   Estado actual                                                  15955 non-null  object\n",
            " 5   Clasificación Industrial Internacional Uniforme Versión 4 A.C  15955 non-null  object\n",
            " 6   Tipo societario                                                15955 non-null  object\n",
            " 7   La sociedad es                                                 15955 non-null  object\n",
            " 8   Departamento de la dirección de notificación judicial          15955 non-null  object\n",
            " 9   Ciudad de la dirección de notificación judicial                15955 non-null  object\n",
            " 10  Departamento de la dirección del domicilio                     15955 non-null  object\n",
            " 11  Ciudad de la dirección del domicilio                           15955 non-null  object\n",
            "dtypes: int64(1), object(11)\n",
            "memory usage: 1.5+ MB\n"
          ]
        }
      ]
    },
    {
      "cell_type": "code",
      "metadata": {
        "colab": {
          "base_uri": "https://localhost:8080/"
        },
        "id": "EZ2d9Np0NVlC",
        "outputId": "310ce467-1a3c-4a17-fccb-c58510d1648c"
      },
      "source": [
        "efe.info()"
      ],
      "execution_count": null,
      "outputs": [
        {
          "output_type": "stream",
          "name": "stdout",
          "text": [
            "<class 'pandas.core.frame.DataFrame'>\n",
            "RangeIndex: 16027 entries, 0 to 16026\n",
            "Data columns (total 57 columns):\n",
            " #   Column                                                                                                                         Non-Null Count  Dtype  \n",
            "---  ------                                                                                                                         --------------  -----  \n",
            " 0   NIT                                                                                                                            16027 non-null  int64  \n",
            " 1   FECHA CORTE                                                                                                                    16027 non-null  object \n",
            " 2   DURACION                                                                                                                       16027 non-null  object \n",
            " 3   (+/-) Ganancia (pérdida)                                                                                                       16024 non-null  float64\n",
            " 4   (+/-) Ajustes por gastos por impuestos a las ganancias                                                                         8644 non-null   float64\n",
            " 5   ( + ) Ajustes por gastos de depreciación y amortización                                                                        12154 non-null  float64\n",
            " 6   (+/-) Ajustes por deterioro de valor (reversiones de pérdidas por deterioro de valor) reconocidas en el resultado del periodo  4621 non-null   float64\n",
            " 7   (+) Ajustes por provisiones                                                                                                    4593 non-null   float64\n",
            " 8   (+) Ajustes por costos financieros                                                                                             3795 non-null   float64\n",
            " 9   (+/-) Ajustes por pérdidas (ganancias) de moneda extranjera no realizadas                                                      3383 non-null   float64\n",
            " 10  (+/-) Ajustes por pérdidas (ganancias) del valor razonable                                                                     3556 non-null   float64\n",
            " 11  (-) Ajustes por ganancias no distribuidas de asociadas                                                                         2982 non-null   float64\n",
            " 12  (+/-) Ajustes por pérdidas (ganancias) por la disposición de activos no corrientes                                             3617 non-null   float64\n",
            " 13  (+/-) Otros ajustes para conciliar la ganancia (pérdida)                                                                       5369 non-null   float64\n",
            " 14  Total ajustes para conciliar la ganancia (pérdida)                                                                             13629 non-null  float64\n",
            " 15  (+/-) Ajustes por disminuciones (incrementos) en los inventarios                                                               10318 non-null  float64\n",
            " 16  (+/-) Ajustes por la disminución (incremento) de cuentas por cobrar de origen comercial                                        13603 non-null  float64\n",
            " 17  (+/-) Ajustes por disminuciones (incrementos) en otras cuentas por cobrar derivadas de las actividades de operación            8935 non-null   float64\n",
            " 18  (+/-) Ajustes por el incremento (disminución) de cuentas por pagar de origen comercial                                         13037 non-null  float64\n",
            " 19  (+/-) Ajustes por incrementos (disminuciones) en otras cuentas por pagar derivadas de las actividades de operación             11338 non-null  float64\n",
            " 20  (+/-) Otras entradas (salidas) de efectivo                                                                                     8921 non-null   float64\n",
            " 21  Flujos de efectivo netos procedentes de (utilizados en) actividades de operación                                               15138 non-null  float64\n",
            " 22  (+) Flujos de efectivo procedentes de la pérdida de control de subsidiarias u otros negocios                                   2800 non-null   float64\n",
            " 23  (-) Flujos de efectivo utilizados para obtener el control de subsidiarias u otros negocios                                     2796 non-null   float64\n",
            " 24  (+) Otros cobros por la venta de patrimonio o instrumentos de deuda de otras entidades                                         2943 non-null   float64\n",
            " 25  (-) Otros pagos para adquirir patrimonio o instrumentos de deuda de otras entidades                                            3200 non-null   float64\n",
            " 26  (+) Otros cobros por la venta de participaciones en negocios conjuntos                                                         2785 non-null   float64\n",
            " 27  (-) Otros pagos para adquirir participaciones en negocios conjuntos                                                            2848 non-null   float64\n",
            " 28  (+) Importes procedentes de la venta de propiedades, planta y equipo                                                           4499 non-null   float64\n",
            " 29  (-) Compras de propiedades, planta y equipo                                                                                    9973 non-null   float64\n",
            " 30  (+) Importes procedentes de ventas de activos intangibles                                                                      3133 non-null   float64\n",
            " 31  (-) Compras de activos intangibles                                                                                             4200 non-null   float64\n",
            " 32  (+) Recursos por ventas de otros activos a largo plazo                                                                         3013 non-null   float64\n",
            " 33  (-) Compras de otros activos a largo plazo                                                                                     3520 non-null   float64\n",
            " 34  (-) Pagos derivados de contratos de futuro, a término, de opciones y de permuta financiera                                     2758 non-null   float64\n",
            " 35  (+) Cobros procedentes de contratos de futuro, a término, de opciones y de permuta financiera                                  2750 non-null   float64\n",
            " 36  (+) Dividendos recibidos                                                                                                       2873 non-null   float64\n",
            " 37  (+) Intereses recibidos                                                                                                        3230 non-null   float64\n",
            " 38  (+/-) Otras entradas (salidas) de efectivo.1                                                                                   5474 non-null   float64\n",
            " 39  Flujos de efectivo netos procedentes de (utilizados en) actividades de inversión                                               12550 non-null  float64\n",
            " 40  (+) Importes procedentes de aumento de capital y/o recolocación de acciones                                                    3852 non-null   float64\n",
            " 41  (-) Disminución de capital social y/o readquisición de acciones                                                                2849 non-null   float64\n",
            " 42  (-) Pagos por otras participaciones en el patrimonio                                                                           2968 non-null   float64\n",
            " 43  (+) Importe procedente del aumento prima por emisión                                                                           2906 non-null   float64\n",
            " 44  (-) Disminución de prima por emisión                                                                                           2691 non-null   float64\n",
            " 45  (+) Importes procedentes de préstamos                                                                                          5916 non-null   float64\n",
            " 46  (-) Reembolsos de préstamos                                                                                                    5737 non-null   float64\n",
            " 47  (-) Pagos de pasivos por arrendamientos financieros                                                                            3202 non-null   float64\n",
            " 48  (-) Dividendos pagados                                                                                                         5107 non-null   float64\n",
            " 49  (-) Intereses pagados                                                                                                          3624 non-null   float64\n",
            " 50  (+/-) Otras entradas (salidas) de efectivo.2                                                                                   5971 non-null   float64\n",
            " 51  Flujos de efectivo netos procedentes de (utilizados en) actividades de financiación                                            11642 non-null  float64\n",
            " 52  Incremento (disminución) neto de efectivo y equivalentes al efectivo, antes del efecto de los cambios en la tasa de cambio     14990 non-null  float64\n",
            " 53  (+/-) Efectos de la variación en la tasa de cambio sobre el efectivo y equivalentes al efectivo                                2865 non-null   float64\n",
            " 54  Incremento (disminución) neto de efectivo y equivalentes al efectivo                                                           15202 non-null  float64\n",
            " 55  Efectivo y equivalentes al efectivo al principio del periodo                                                                   14297 non-null  float64\n",
            " 56  Efectivo y equivalentes al efectivo al final del periodo                                                                       14326 non-null  float64\n",
            "dtypes: float64(54), int64(1), object(2)\n",
            "memory usage: 7.0+ MB\n"
          ]
        }
      ]
    },
    {
      "cell_type": "code",
      "metadata": {
        "colab": {
          "base_uri": "https://localhost:8080/"
        },
        "id": "B5ojH6n4NfKx",
        "outputId": "85f10269-c7f3-4d10-c735-df796d3b678a"
      },
      "source": [
        "eri.info()"
      ],
      "execution_count": null,
      "outputs": [
        {
          "output_type": "stream",
          "name": "stdout",
          "text": [
            "<class 'pandas.core.frame.DataFrame'>\n",
            "RangeIndex: 16005 entries, 0 to 16004\n",
            "Data columns (total 19 columns):\n",
            " #   Column                                                       Non-Null Count  Dtype  \n",
            "---  ------                                                       --------------  -----  \n",
            " 0   Nit                                                          16005 non-null  int64  \n",
            " 1   Fecha Corte                                                  16005 non-null  object \n",
            " 2   Duracion                                                     16005 non-null  object \n",
            " 3   Ingresos de actividades ordinarias                           16005 non-null  float64\n",
            " 4   Costo de ventas                                              13633 non-null  float64\n",
            " 5   Ganancia bruta                                               16005 non-null  float64\n",
            " 6   Otros ingresos                                               16005 non-null  float64\n",
            " 7   Gastos de ventas                                             11296 non-null  float64\n",
            " 8   Gastos de administración                                     15696 non-null  float64\n",
            " 9   Otros gastos                                                 14007 non-null  float64\n",
            " 10  Otras ganancias (pérdidas)                                   5728 non-null   float64\n",
            " 11  Ganancia (pérdida) por actividades de operación              16005 non-null  int64  \n",
            " 12  Ingresos financieros                                         9685 non-null   float64\n",
            " 13  Costos financieros                                           11785 non-null  float64\n",
            " 14  Ganancia (pérdida), antes de impuestos                       16005 non-null  int64  \n",
            " 15  Ingreso (gasto) por impuestos                                14588 non-null  float64\n",
            " 16  Ganancia (pérdida) procedente de operaciones continuadas     16005 non-null  int64  \n",
            " 17  Ganancia (pérdida) procedente de operaciones discontinuadas  4701 non-null   float64\n",
            " 18  Ganancia (pérdida)                                           16005 non-null  int64  \n",
            "dtypes: float64(12), int64(5), object(2)\n",
            "memory usage: 2.3+ MB\n"
          ]
        }
      ]
    },
    {
      "cell_type": "code",
      "metadata": {
        "colab": {
          "base_uri": "https://localhost:8080/"
        },
        "id": "WGZHDFCsNmYJ",
        "outputId": "1c5c25b0-6703-48e7-8d95-0bb3878b62bb"
      },
      "source": [
        "esf.info()"
      ],
      "execution_count": null,
      "outputs": [
        {
          "output_type": "stream",
          "name": "stdout",
          "text": [
            "<class 'pandas.core.frame.DataFrame'>\n",
            "RangeIndex: 15988 entries, 0 to 15987\n",
            "Data columns (total 64 columns):\n",
            " #   Column                                                                                                                                                                                                                  Non-Null Count  Dtype  \n",
            "---  ------                                                                                                                                                                                                                  --------------  -----  \n",
            " 0   Nit                                                                                                                                                                                                                     15988 non-null  int64  \n",
            " 1   Fecha Corte                                                                                                                                                                                                             15988 non-null  object \n",
            " 2   Instante                                                                                                                                                                                                                15988 non-null  object \n",
            " 3   Efectivo y equivalentes al efectivo                                                                                                                                                                                     15868 non-null  float64\n",
            " 4   Cuentas comerciales por cobrar y otras cuentas por cobrar corrientes                                                                                                                                                    15518 non-null  float64\n",
            " 5   Inventarios corrientes                                                                                                                                                                                                  11504 non-null  float64\n",
            " 6   Activos por impuestos corrientes, corriente                                                                                                                                                                             10246 non-null  float64\n",
            " 7   Activos biológicos corrientes, al costo menos depreciación acumulada y deterioro de valor                                                                                                                               4471 non-null   float64\n",
            " 8   Activos biológicos corrientes, al valor razonable                                                                                                                                                                       4518 non-null   float64\n",
            " 9   Otros activos financieros corrientes                                                                                                                                                                                    7332 non-null   float64\n",
            " 10  Otros activos no financieros corrientes                                                                                                                                                                                 7127 non-null   float64\n",
            " 11  Activos corrientes distintos al efectivo pignorados como garantía colateral para las que el receptor de transferencias tiene derecho por contrato o costumbre a vender o pignorar de nuevo dicha garantía colateral     4237 non-null   float64\n",
            " 12  Total activos corrientes distintos de los activos no corrientes o grupo de activos para su disposición clasificados como mantenidos para la venta o como mantenidos para distribuir a los propietarios                  15970 non-null  float64\n",
            " 13  Activos no corrientes o grupos de activos para su disposición clasificados como mantenidos para la venta o como mantenidos para distribuir a los propietarios                                                           4042 non-null   float64\n",
            " 14  Activos corrientes totales                                                                                                                                                                                              15970 non-null  float64\n",
            " 15  Propiedades, planta y equipo                                                                                                                                                                                            14693 non-null  float64\n",
            " 16  Propiedades de inversión al costo menos depreciación acumulada y deterioro                                                                                                                                              5414 non-null   float64\n",
            " 17  Propiedades de inversión a valor razonable con cambios en resultados                                                                                                                                                    5219 non-null   float64\n",
            " 18  Plusvalía                                                                                                                                                                                                               4117 non-null   float64\n",
            " 19  Activos intangibles distintos de la plusvalía                                                                                                                                                                           6864 non-null   float64\n",
            " 20  Activos biológicos no corrientes, al costo menos depreciación acumulada y deterioro del valor                                                                                                                           4222 non-null   float64\n",
            " 21  Activos biológicos no corrientes, al valor razonable                                                                                                                                                                    4209 non-null   float64\n",
            " 22  Cuentas comerciales por cobrar y otras cuentas por cobrar no corrientes                                                                                                                                                 5615 non-null   float64\n",
            " 23  Inventarios no corrientes                                                                                                                                                                                               4159 non-null   float64\n",
            " 24  Activos por impuestos diferidos                                                                                                                                                                                         7866 non-null   float64\n",
            " 25  Activos por impuestos corrientes, no corriente                                                                                                                                                                          4274 non-null   float64\n",
            " 26  Otros activos financieros no corrientes                                                                                                                                                                                 6391 non-null   float64\n",
            " 27  Otros activos no financieros no corrientes                                                                                                                                                                              5842 non-null   float64\n",
            " 28  Activos no corrientes distintos al efectivo pignorados como garantía colateral para las que el receptor de transferencias tiene derecho por contrato o costumbre a vender o pignorar de nuevo dicha garantía colateral  3996 non-null   float64\n",
            " 29  Total de activos no corrientes                                                                                                                                                                                          15672 non-null  float64\n",
            " 30  Total de activos                                                                                                                                                                                                        15988 non-null  int64  \n",
            " 31  Provisiones corrientes por beneficios a los empleados                                                                                                                                                                   10787 non-null  float64\n",
            " 32  Otras provisiones corrientes                                                                                                                                                                                            5649 non-null   float64\n",
            " 33  Total provisiones corrientes                                                                                                                                                                                            11256 non-null  float64\n",
            " 34  Cuentas por pagar comerciales y otras cuentas por pagar                                                                                                                                                                 15421 non-null  float64\n",
            " 35  Pasivos por impuestos corrientes, corriente                                                                                                                                                                             14477 non-null  float64\n",
            " 36  Otros pasivos financieros corrientes                                                                                                                                                                                    10797 non-null  float64\n",
            " 37  Préstamos corrientes                                                                                                                                                                                                    10058 non-null  float64\n",
            " 38  Parte corriente de préstamos no corrientes                                                                                                                                                                              5343 non-null   float64\n",
            " 39  Otros pasivos no financieros corrientes                                                                                                                                                                                 9312 non-null   float64\n",
            " 40  Total pasivos corrientes distintos de los pasivos incluidos en grupos de activos para su disposición clasificados como mantenidos para la venta                                                                         15937 non-null  float64\n",
            " 41  Pasivos incluidos en grupos de activos para su disposición clasificados como mantenidos para la venta                                                                                                                   4182 non-null   float64\n",
            " 42  Pasivos corrientes totales                                                                                                                                                                                              15939 non-null  float64\n",
            " 43  Provisiones no corrientes por beneficios a los empleados                                                                                                                                                                4782 non-null   float64\n",
            " 44  Otras provisiones no corrientes                                                                                                                                                                                         4831 non-null   float64\n",
            " 45  Total provisiones no corrientes                                                                                                                                                                                         5281 non-null   float64\n",
            " 46  Cuentas comerciales por pagar y otras cuentas por pagar no corrientes                                                                                                                                                   7323 non-null   float64\n",
            " 47  Pasivo por impuestos diferidos                                                                                                                                                                                          8625 non-null   float64\n",
            " 48  Pasivos por impuestos corrientes, no corriente                                                                                                                                                                          5051 non-null   float64\n",
            " 49  Otros pasivos financieros no corrientes                                                                                                                                                                                 7910 non-null   float64\n",
            " 50  Parte no corriente de préstamos no corrientes                                                                                                                                                                           7552 non-null   float64\n",
            " 51  Otros pasivos no financieros no corrientes                                                                                                                                                                              6567 non-null   float64\n",
            " 52  Total de pasivos no corrientes                                                                                                                                                                                          13111 non-null  float64\n",
            " 53  Total pasivos                                                                                                                                                                                                           15988 non-null  int64  \n",
            " 54  Capital emitido                                                                                                                                                                                                         15931 non-null  float64\n",
            " 55  Prima de emisión                                                                                                                                                                                                        6265 non-null   float64\n",
            " 56  Acciones propias en cartera                                                                                                                                                                                             4046 non-null   float64\n",
            " 57  Inversión suplementaria al capital asignado                                                                                                                                                                             4229 non-null   float64\n",
            " 58  Otras participaciones en el patrimonio                                                                                                                                                                                  5383 non-null   float64\n",
            " 59  Superavit por revaluación                                                                                                                                                                                               6161 non-null   float64\n",
            " 60  Otras reservas                                                                                                                                                                                                          13414 non-null  float64\n",
            " 61  Ganancias acumuladas                                                                                                                                                                                                    15890 non-null  float64\n",
            " 62  Patrimonio total                                                                                                                                                                                                        15988 non-null  int64  \n",
            " 63  Total de patrimonio y pasivos                                                                                                                                                                                           15988 non-null  int64  \n",
            "dtypes: float64(57), int64(5), object(2)\n",
            "memory usage: 7.8+ MB\n"
          ]
        }
      ]
    },
    {
      "cell_type": "code",
      "metadata": {
        "colab": {
          "base_uri": "https://localhost:8080/"
        },
        "id": "Zc9dMvocNpzS",
        "outputId": "2125a7bb-f92c-4c73-fd2b-740cd3688a8f"
      },
      "source": [
        "ori.info()"
      ],
      "execution_count": null,
      "outputs": [
        {
          "output_type": "stream",
          "name": "stdout",
          "text": [
            "<class 'pandas.core.frame.DataFrame'>\n",
            "RangeIndex: 16009 entries, 0 to 16008\n",
            "Data columns (total 12 columns):\n",
            " #   Column                                                                                                           Non-Null Count  Dtype  \n",
            "---  ------                                                                                                           --------------  -----  \n",
            " 0   Nit                                                                                                              16009 non-null  int64  \n",
            " 1   Fecha Corte                                                                                                      16009 non-null  object \n",
            " 2   Duracion                                                                                                         16009 non-null  object \n",
            " 3   Ganancia (pérdida)                                                                                               16005 non-null  float64\n",
            " 4   Otro resultado integral, neto de impuestos, ganancias (pérdidas) por revaluación                                 3643 non-null   float64\n",
            " 5   Total otro resultado integral que no se reclasificará al resultado del periodo, neto de impuestos                4172 non-null   float64\n",
            " 6   Total otro resultado integral                                                                                    4280 non-null   float64\n",
            " 7   Resultado integral total                                                                                         7206 non-null   float64\n",
            " 8   Otro resultado integral, neto de impuestos, diferencias de cambio por conversión                                 3664 non-null   float64\n",
            " 9   Otro resultado integral, neto de impuestos, ganancias (pérdidas) actuariales por planes de beneficios definidos  3279 non-null   float64\n",
            " 10  Ganancias (pérdidas) por coberturas de flujos de efectivo, neto de impuestos                                     3139 non-null   float64\n",
            " 11  Total otro resultado integral que se reclasificará al resultado del periodo, neto de impuestos                   3145 non-null   float64\n",
            "dtypes: float64(9), int64(1), object(2)\n",
            "memory usage: 1.5+ MB\n"
          ]
        }
      ]
    },
    {
      "cell_type": "markdown",
      "metadata": {
        "id": "4aNK2yFDNuvB"
      },
      "source": [
        "A continuación se unen los archivos utilizando como llave el numero de identificación tributaria (NIT) de las empresas. Aquí, se debe notar que la variable identificadora se llama NIT para los elementos Caratula y efe y Nit para los elementos esf y ori, con lo cual se debe estandarizar el nombre.\n",
        "\n",
        "Una de las buenas practicas cuando se trabaja con bases de datos relacionales es minimizar todas las columnas y reemplazar los espacios por un guión bajo ( _ ), esto facilitá luego autocompletar cuando se usa un IDE. "
      ]
    },
    {
      "cell_type": "code",
      "metadata": {
        "id": "8g6-K6w9TYfh"
      },
      "source": [
        "def df_bajas_guion_bajo(df):\n",
        "    '''\n",
        "    Convierte las columnas de un DataFrame a bajas y transforma\n",
        "    los espacios en guiones bajo \n",
        "\n",
        "    Args:\n",
        "        df (pd.DataFrame) : El dataframe al que se le aplicará la transformación\n",
        "\n",
        "    Returns:\n",
        "        df (pd.DataFrame): El dataframe transformado\n",
        "\n",
        "    '''   \n",
        "    df.columns = df.columns.str.lower().str.replace(' ','_')\n",
        "    return df"
      ],
      "execution_count": null,
      "outputs": []
    },
    {
      "cell_type": "code",
      "metadata": {
        "id": "0jxSeIp1PG2K"
      },
      "source": [
        "# Mapea función a todos los dataframes\n",
        "caratula, efe, eri, esf, ori = map(df_bajas_guion_bajo, [caratula, efe, eri, esf, ori]) "
      ],
      "execution_count": null,
      "outputs": []
    },
    {
      "cell_type": "code",
      "metadata": {
        "colab": {
          "base_uri": "https://localhost:8080/",
          "height": 444
        },
        "id": "eTfrMlBcfKXd",
        "outputId": "7d86b595-1c7a-46bf-96fe-3f030bd0746b"
      },
      "source": [
        "efe"
      ],
      "execution_count": null,
      "outputs": [
        {
          "output_type": "execute_result",
          "data": {
            "text/html": [
              "<div>\n",
              "<style scoped>\n",
              "    .dataframe tbody tr th:only-of-type {\n",
              "        vertical-align: middle;\n",
              "    }\n",
              "\n",
              "    .dataframe tbody tr th {\n",
              "        vertical-align: top;\n",
              "    }\n",
              "\n",
              "    .dataframe thead th {\n",
              "        text-align: right;\n",
              "    }\n",
              "</style>\n",
              "<table border=\"1\" class=\"dataframe\">\n",
              "  <thead>\n",
              "    <tr style=\"text-align: right;\">\n",
              "      <th></th>\n",
              "      <th>nit</th>\n",
              "      <th>fecha_corte</th>\n",
              "      <th>duracion</th>\n",
              "      <th>(+/-)_ganancia_(pérdida)</th>\n",
              "      <th>(+/-)_ajustes_por_gastos_por_impuestos_a_las_ganancias</th>\n",
              "      <th>(_+_)_ajustes_por_gastos_de_depreciación_y_amortización</th>\n",
              "      <th>(+/-)_ajustes_por_deterioro_de_valor_(reversiones_de_pérdidas_por_deterioro_de_valor)_reconocidas_en_el_resultado_del_periodo</th>\n",
              "      <th>(+)_ajustes_por_provisiones</th>\n",
              "      <th>(+)_ajustes_por_costos_financieros</th>\n",
              "      <th>(+/-)_ajustes_por_pérdidas_(ganancias)_de_moneda_extranjera_no_realizadas</th>\n",
              "      <th>(+/-)_ajustes_por_pérdidas_(ganancias)_del_valor_razonable</th>\n",
              "      <th>(-)_ajustes_por_ganancias_no_distribuidas_de_asociadas</th>\n",
              "      <th>(+/-)_ajustes_por_pérdidas_(ganancias)_por_la_disposición_de_activos_no_corrientes</th>\n",
              "      <th>(+/-)_otros_ajustes_para_conciliar_la_ganancia_(pérdida)</th>\n",
              "      <th>total_ajustes_para_conciliar_la_ganancia_(pérdida)</th>\n",
              "      <th>(+/-)_ajustes_por_disminuciones_(incrementos)_en_los_inventarios</th>\n",
              "      <th>(+/-)_ajustes_por_la_disminución_(incremento)_de_cuentas_por_cobrar_de_origen_comercial</th>\n",
              "      <th>(+/-)_ajustes_por_disminuciones_(incrementos)_en_otras_cuentas_por_cobrar_derivadas_de_las_actividades_de_operación</th>\n",
              "      <th>(+/-)_ajustes_por_el_incremento_(disminución)_de_cuentas_por_pagar_de_origen_comercial</th>\n",
              "      <th>(+/-)_ajustes_por_incrementos_(disminuciones)_en_otras_cuentas_por_pagar_derivadas_de_las_actividades_de_operación</th>\n",
              "      <th>(+/-)_otras_entradas_(salidas)_de_efectivo</th>\n",
              "      <th>flujos_de_efectivo_netos_procedentes_de_(utilizados_en)_actividades_de_operación</th>\n",
              "      <th>(+)_flujos_de_efectivo_procedentes_de_la_pérdida_de_control_de_subsidiarias_u_otros_negocios</th>\n",
              "      <th>(-)_flujos_de_efectivo_utilizados_para_obtener_el_control_de_subsidiarias_u_otros_negocios</th>\n",
              "      <th>(+)_otros_cobros_por_la_venta_de_patrimonio_o_instrumentos_de_deuda_de_otras_entidades</th>\n",
              "      <th>(-)_otros_pagos_para_adquirir_patrimonio_o_instrumentos_de_deuda_de_otras_entidades</th>\n",
              "      <th>(+)_otros_cobros_por_la_venta_de_participaciones_en_negocios_conjuntos</th>\n",
              "      <th>(-)_otros_pagos_para_adquirir_participaciones_en_negocios_conjuntos</th>\n",
              "      <th>(+)_importes_procedentes_de_la_venta_de_propiedades,_planta_y_equipo</th>\n",
              "      <th>(-)_compras_de_propiedades,_planta_y_equipo</th>\n",
              "      <th>(+)_importes_procedentes_de_ventas_de_activos_intangibles</th>\n",
              "      <th>(-)_compras_de_activos_intangibles</th>\n",
              "      <th>(+)_recursos_por_ventas_de_otros_activos_a_largo_plazo</th>\n",
              "      <th>(-)_compras_de_otros_activos_a_largo_plazo</th>\n",
              "      <th>(-)_pagos_derivados_de_contratos_de_futuro,_a_término,_de_opciones_y_de_permuta_financiera</th>\n",
              "      <th>(+)_cobros_procedentes_de_contratos_de_futuro,_a_término,_de_opciones_y_de_permuta_financiera</th>\n",
              "      <th>(+)_dividendos_recibidos</th>\n",
              "      <th>(+)_intereses_recibidos</th>\n",
              "      <th>(+/-)_otras_entradas_(salidas)_de_efectivo.1</th>\n",
              "      <th>flujos_de_efectivo_netos_procedentes_de_(utilizados_en)_actividades_de_inversión</th>\n",
              "      <th>(+)_importes_procedentes_de_aumento_de_capital_y/o_recolocación_de_acciones</th>\n",
              "      <th>(-)_disminución_de_capital_social_y/o_readquisición_de_acciones</th>\n",
              "      <th>(-)_pagos_por_otras_participaciones_en_el_patrimonio</th>\n",
              "      <th>(+)_importe_procedente_del_aumento_prima_por_emisión</th>\n",
              "      <th>(-)_disminución_de_prima_por_emisión</th>\n",
              "      <th>(+)_importes_procedentes_de_préstamos</th>\n",
              "      <th>(-)_reembolsos_de_préstamos</th>\n",
              "      <th>(-)_pagos_de_pasivos_por_arrendamientos_financieros</th>\n",
              "      <th>(-)_dividendos_pagados</th>\n",
              "      <th>(-)_intereses_pagados</th>\n",
              "      <th>(+/-)_otras_entradas_(salidas)_de_efectivo.2</th>\n",
              "      <th>flujos_de_efectivo_netos_procedentes_de_(utilizados_en)_actividades_de_financiación</th>\n",
              "      <th>incremento_(disminución)_neto_de_efectivo_y_equivalentes_al_efectivo,_antes_del_efecto_de_los_cambios_en_la_tasa_de_cambio</th>\n",
              "      <th>(+/-)_efectos_de_la_variación_en_la_tasa_de_cambio_sobre_el_efectivo_y_equivalentes_al_efectivo</th>\n",
              "      <th>incremento_(disminución)_neto_de_efectivo_y_equivalentes_al_efectivo</th>\n",
              "      <th>efectivo_y_equivalentes_al_efectivo_al_principio_del_periodo</th>\n",
              "      <th>efectivo_y_equivalentes_al_efectivo_al_final_del_periodo</th>\n",
              "    </tr>\n",
              "  </thead>\n",
              "  <tbody>\n",
              "    <tr>\n",
              "      <th>0</th>\n",
              "      <td>800000090</td>\n",
              "      <td>31/12/2016</td>\n",
              "      <td>2016</td>\n",
              "      <td>12469.0</td>\n",
              "      <td>NaN</td>\n",
              "      <td>167834.0</td>\n",
              "      <td>NaN</td>\n",
              "      <td>NaN</td>\n",
              "      <td>NaN</td>\n",
              "      <td>NaN</td>\n",
              "      <td>NaN</td>\n",
              "      <td>NaN</td>\n",
              "      <td>66795.0</td>\n",
              "      <td>NaN</td>\n",
              "      <td>234629.0</td>\n",
              "      <td>-17838.0</td>\n",
              "      <td>-182132.0</td>\n",
              "      <td>NaN</td>\n",
              "      <td>-42904.0</td>\n",
              "      <td>228693.0</td>\n",
              "      <td>38158.0</td>\n",
              "      <td>271075.0</td>\n",
              "      <td>NaN</td>\n",
              "      <td>NaN</td>\n",
              "      <td>4500.0</td>\n",
              "      <td>NaN</td>\n",
              "      <td>NaN</td>\n",
              "      <td>NaN</td>\n",
              "      <td>NaN</td>\n",
              "      <td>133033.0</td>\n",
              "      <td>NaN</td>\n",
              "      <td>NaN</td>\n",
              "      <td>NaN</td>\n",
              "      <td>NaN</td>\n",
              "      <td>NaN</td>\n",
              "      <td>NaN</td>\n",
              "      <td>NaN</td>\n",
              "      <td>NaN</td>\n",
              "      <td>-150461.0</td>\n",
              "      <td>-278994.0</td>\n",
              "      <td>NaN</td>\n",
              "      <td>NaN</td>\n",
              "      <td>NaN</td>\n",
              "      <td>NaN</td>\n",
              "      <td>NaN</td>\n",
              "      <td>NaN</td>\n",
              "      <td>NaN</td>\n",
              "      <td>NaN</td>\n",
              "      <td>NaN</td>\n",
              "      <td>NaN</td>\n",
              "      <td>NaN</td>\n",
              "      <td>NaN</td>\n",
              "      <td>-7919.0</td>\n",
              "      <td>NaN</td>\n",
              "      <td>-7919.0</td>\n",
              "      <td>23134.0</td>\n",
              "      <td>15215.0</td>\n",
              "    </tr>\n",
              "    <tr>\n",
              "      <th>1</th>\n",
              "      <td>800000268</td>\n",
              "      <td>31/12/2016</td>\n",
              "      <td>2016</td>\n",
              "      <td>15955.0</td>\n",
              "      <td>-12380.0</td>\n",
              "      <td>126463.0</td>\n",
              "      <td>NaN</td>\n",
              "      <td>NaN</td>\n",
              "      <td>NaN</td>\n",
              "      <td>NaN</td>\n",
              "      <td>NaN</td>\n",
              "      <td>NaN</td>\n",
              "      <td>NaN</td>\n",
              "      <td>NaN</td>\n",
              "      <td>114083.0</td>\n",
              "      <td>4076.0</td>\n",
              "      <td>0.0</td>\n",
              "      <td>-3341.0</td>\n",
              "      <td>73974.0</td>\n",
              "      <td>-228532.0</td>\n",
              "      <td>NaN</td>\n",
              "      <td>-23785.0</td>\n",
              "      <td>NaN</td>\n",
              "      <td>NaN</td>\n",
              "      <td>NaN</td>\n",
              "      <td>NaN</td>\n",
              "      <td>NaN</td>\n",
              "      <td>NaN</td>\n",
              "      <td>NaN</td>\n",
              "      <td>NaN</td>\n",
              "      <td>NaN</td>\n",
              "      <td>NaN</td>\n",
              "      <td>NaN</td>\n",
              "      <td>NaN</td>\n",
              "      <td>NaN</td>\n",
              "      <td>NaN</td>\n",
              "      <td>NaN</td>\n",
              "      <td>NaN</td>\n",
              "      <td>NaN</td>\n",
              "      <td>NaN</td>\n",
              "      <td>NaN</td>\n",
              "      <td>NaN</td>\n",
              "      <td>NaN</td>\n",
              "      <td>NaN</td>\n",
              "      <td>NaN</td>\n",
              "      <td>NaN</td>\n",
              "      <td>NaN</td>\n",
              "      <td>NaN</td>\n",
              "      <td>NaN</td>\n",
              "      <td>NaN</td>\n",
              "      <td>NaN</td>\n",
              "      <td>NaN</td>\n",
              "      <td>-23785.0</td>\n",
              "      <td>NaN</td>\n",
              "      <td>-23785.0</td>\n",
              "      <td>220875.0</td>\n",
              "      <td>197090.0</td>\n",
              "    </tr>\n",
              "    <tr>\n",
              "      <th>2</th>\n",
              "      <td>800000276</td>\n",
              "      <td>31/12/2016</td>\n",
              "      <td>2016</td>\n",
              "      <td>268204.0</td>\n",
              "      <td>783188.0</td>\n",
              "      <td>3497579.0</td>\n",
              "      <td>0.0</td>\n",
              "      <td>0.0</td>\n",
              "      <td>0.0</td>\n",
              "      <td>0.0</td>\n",
              "      <td>0.0</td>\n",
              "      <td>0.0</td>\n",
              "      <td>0.0</td>\n",
              "      <td>0.0</td>\n",
              "      <td>4280767.0</td>\n",
              "      <td>3559552.0</td>\n",
              "      <td>-2177148.0</td>\n",
              "      <td>0.0</td>\n",
              "      <td>-4545023.0</td>\n",
              "      <td>1901623.0</td>\n",
              "      <td>5328470.0</td>\n",
              "      <td>8616445.0</td>\n",
              "      <td>NaN</td>\n",
              "      <td>NaN</td>\n",
              "      <td>NaN</td>\n",
              "      <td>NaN</td>\n",
              "      <td>NaN</td>\n",
              "      <td>NaN</td>\n",
              "      <td>NaN</td>\n",
              "      <td>16722032.0</td>\n",
              "      <td>NaN</td>\n",
              "      <td>NaN</td>\n",
              "      <td>NaN</td>\n",
              "      <td>NaN</td>\n",
              "      <td>NaN</td>\n",
              "      <td>NaN</td>\n",
              "      <td>NaN</td>\n",
              "      <td>NaN</td>\n",
              "      <td>NaN</td>\n",
              "      <td>-16722032.0</td>\n",
              "      <td>9733647.0</td>\n",
              "      <td>NaN</td>\n",
              "      <td>NaN</td>\n",
              "      <td>NaN</td>\n",
              "      <td>NaN</td>\n",
              "      <td>NaN</td>\n",
              "      <td>NaN</td>\n",
              "      <td>NaN</td>\n",
              "      <td>617609.0</td>\n",
              "      <td>NaN</td>\n",
              "      <td>-837625.0</td>\n",
              "      <td>8278413.0</td>\n",
              "      <td>172826.0</td>\n",
              "      <td>0.0</td>\n",
              "      <td>172826.0</td>\n",
              "      <td>1951397.0</td>\n",
              "      <td>2124223.0</td>\n",
              "    </tr>\n",
              "    <tr>\n",
              "      <th>3</th>\n",
              "      <td>800000313</td>\n",
              "      <td>31/12/2016</td>\n",
              "      <td>2016</td>\n",
              "      <td>17134.0</td>\n",
              "      <td>NaN</td>\n",
              "      <td>NaN</td>\n",
              "      <td>NaN</td>\n",
              "      <td>NaN</td>\n",
              "      <td>NaN</td>\n",
              "      <td>NaN</td>\n",
              "      <td>NaN</td>\n",
              "      <td>NaN</td>\n",
              "      <td>NaN</td>\n",
              "      <td>NaN</td>\n",
              "      <td>NaN</td>\n",
              "      <td>NaN</td>\n",
              "      <td>NaN</td>\n",
              "      <td>NaN</td>\n",
              "      <td>NaN</td>\n",
              "      <td>NaN</td>\n",
              "      <td>NaN</td>\n",
              "      <td>NaN</td>\n",
              "      <td>NaN</td>\n",
              "      <td>NaN</td>\n",
              "      <td>NaN</td>\n",
              "      <td>NaN</td>\n",
              "      <td>NaN</td>\n",
              "      <td>NaN</td>\n",
              "      <td>NaN</td>\n",
              "      <td>NaN</td>\n",
              "      <td>NaN</td>\n",
              "      <td>NaN</td>\n",
              "      <td>NaN</td>\n",
              "      <td>NaN</td>\n",
              "      <td>NaN</td>\n",
              "      <td>NaN</td>\n",
              "      <td>NaN</td>\n",
              "      <td>NaN</td>\n",
              "      <td>NaN</td>\n",
              "      <td>NaN</td>\n",
              "      <td>NaN</td>\n",
              "      <td>NaN</td>\n",
              "      <td>NaN</td>\n",
              "      <td>NaN</td>\n",
              "      <td>NaN</td>\n",
              "      <td>NaN</td>\n",
              "      <td>NaN</td>\n",
              "      <td>NaN</td>\n",
              "      <td>NaN</td>\n",
              "      <td>NaN</td>\n",
              "      <td>NaN</td>\n",
              "      <td>NaN</td>\n",
              "      <td>NaN</td>\n",
              "      <td>NaN</td>\n",
              "      <td>NaN</td>\n",
              "      <td>NaN</td>\n",
              "      <td>NaN</td>\n",
              "    </tr>\n",
              "    <tr>\n",
              "      <th>4</th>\n",
              "      <td>800000439</td>\n",
              "      <td>31/12/2016</td>\n",
              "      <td>2016</td>\n",
              "      <td>191601.0</td>\n",
              "      <td>103240.0</td>\n",
              "      <td>22530.0</td>\n",
              "      <td>NaN</td>\n",
              "      <td>NaN</td>\n",
              "      <td>NaN</td>\n",
              "      <td>NaN</td>\n",
              "      <td>NaN</td>\n",
              "      <td>NaN</td>\n",
              "      <td>NaN</td>\n",
              "      <td>NaN</td>\n",
              "      <td>125770.0</td>\n",
              "      <td>-75317.0</td>\n",
              "      <td>-88114.0</td>\n",
              "      <td>NaN</td>\n",
              "      <td>96090.0</td>\n",
              "      <td>330632.0</td>\n",
              "      <td>0.0</td>\n",
              "      <td>580662.0</td>\n",
              "      <td>NaN</td>\n",
              "      <td>NaN</td>\n",
              "      <td>NaN</td>\n",
              "      <td>NaN</td>\n",
              "      <td>NaN</td>\n",
              "      <td>NaN</td>\n",
              "      <td>NaN</td>\n",
              "      <td>NaN</td>\n",
              "      <td>NaN</td>\n",
              "      <td>NaN</td>\n",
              "      <td>NaN</td>\n",
              "      <td>NaN</td>\n",
              "      <td>NaN</td>\n",
              "      <td>NaN</td>\n",
              "      <td>NaN</td>\n",
              "      <td>NaN</td>\n",
              "      <td>NaN</td>\n",
              "      <td>NaN</td>\n",
              "      <td>NaN</td>\n",
              "      <td>NaN</td>\n",
              "      <td>NaN</td>\n",
              "      <td>NaN</td>\n",
              "      <td>NaN</td>\n",
              "      <td>206145.0</td>\n",
              "      <td>NaN</td>\n",
              "      <td>NaN</td>\n",
              "      <td>334118.0</td>\n",
              "      <td>147659.0</td>\n",
              "      <td>100444.0</td>\n",
              "      <td>-175188.0</td>\n",
              "      <td>405474.0</td>\n",
              "      <td>NaN</td>\n",
              "      <td>405474.0</td>\n",
              "      <td>86895.0</td>\n",
              "      <td>492369.0</td>\n",
              "    </tr>\n",
              "    <tr>\n",
              "      <th>...</th>\n",
              "      <td>...</td>\n",
              "      <td>...</td>\n",
              "      <td>...</td>\n",
              "      <td>...</td>\n",
              "      <td>...</td>\n",
              "      <td>...</td>\n",
              "      <td>...</td>\n",
              "      <td>...</td>\n",
              "      <td>...</td>\n",
              "      <td>...</td>\n",
              "      <td>...</td>\n",
              "      <td>...</td>\n",
              "      <td>...</td>\n",
              "      <td>...</td>\n",
              "      <td>...</td>\n",
              "      <td>...</td>\n",
              "      <td>...</td>\n",
              "      <td>...</td>\n",
              "      <td>...</td>\n",
              "      <td>...</td>\n",
              "      <td>...</td>\n",
              "      <td>...</td>\n",
              "      <td>...</td>\n",
              "      <td>...</td>\n",
              "      <td>...</td>\n",
              "      <td>...</td>\n",
              "      <td>...</td>\n",
              "      <td>...</td>\n",
              "      <td>...</td>\n",
              "      <td>...</td>\n",
              "      <td>...</td>\n",
              "      <td>...</td>\n",
              "      <td>...</td>\n",
              "      <td>...</td>\n",
              "      <td>...</td>\n",
              "      <td>...</td>\n",
              "      <td>...</td>\n",
              "      <td>...</td>\n",
              "      <td>...</td>\n",
              "      <td>...</td>\n",
              "      <td>...</td>\n",
              "      <td>...</td>\n",
              "      <td>...</td>\n",
              "      <td>...</td>\n",
              "      <td>...</td>\n",
              "      <td>...</td>\n",
              "      <td>...</td>\n",
              "      <td>...</td>\n",
              "      <td>...</td>\n",
              "      <td>...</td>\n",
              "      <td>...</td>\n",
              "      <td>...</td>\n",
              "      <td>...</td>\n",
              "      <td>...</td>\n",
              "      <td>...</td>\n",
              "      <td>...</td>\n",
              "      <td>...</td>\n",
              "    </tr>\n",
              "    <tr>\n",
              "      <th>16022</th>\n",
              "      <td>900946019</td>\n",
              "      <td>31/12/2016</td>\n",
              "      <td>2016</td>\n",
              "      <td>14426.0</td>\n",
              "      <td>0.0</td>\n",
              "      <td>0.0</td>\n",
              "      <td>0.0</td>\n",
              "      <td>0.0</td>\n",
              "      <td>NaN</td>\n",
              "      <td>0.0</td>\n",
              "      <td>0.0</td>\n",
              "      <td>0.0</td>\n",
              "      <td>0.0</td>\n",
              "      <td>0.0</td>\n",
              "      <td>0.0</td>\n",
              "      <td>0.0</td>\n",
              "      <td>229144.0</td>\n",
              "      <td>0.0</td>\n",
              "      <td>0.0</td>\n",
              "      <td>0.0</td>\n",
              "      <td>68139.0</td>\n",
              "      <td>311709.0</td>\n",
              "      <td>0.0</td>\n",
              "      <td>0.0</td>\n",
              "      <td>0.0</td>\n",
              "      <td>0.0</td>\n",
              "      <td>0.0</td>\n",
              "      <td>0.0</td>\n",
              "      <td>0.0</td>\n",
              "      <td>0.0</td>\n",
              "      <td>0.0</td>\n",
              "      <td>0.0</td>\n",
              "      <td>0.0</td>\n",
              "      <td>0.0</td>\n",
              "      <td>0.0</td>\n",
              "      <td>0.0</td>\n",
              "      <td>0.0</td>\n",
              "      <td>0.0</td>\n",
              "      <td>-311462.0</td>\n",
              "      <td>-311462.0</td>\n",
              "      <td>0.0</td>\n",
              "      <td>0.0</td>\n",
              "      <td>0.0</td>\n",
              "      <td>0.0</td>\n",
              "      <td>0.0</td>\n",
              "      <td>0.0</td>\n",
              "      <td>0.0</td>\n",
              "      <td>0.0</td>\n",
              "      <td>0.0</td>\n",
              "      <td>0.0</td>\n",
              "      <td>0.0</td>\n",
              "      <td>0.0</td>\n",
              "      <td>247.0</td>\n",
              "      <td>0.0</td>\n",
              "      <td>247.0</td>\n",
              "      <td>0.0</td>\n",
              "      <td>247.0</td>\n",
              "    </tr>\n",
              "    <tr>\n",
              "      <th>16023</th>\n",
              "      <td>900949013</td>\n",
              "      <td>31/12/2016</td>\n",
              "      <td>2016</td>\n",
              "      <td>-24971.0</td>\n",
              "      <td>0.0</td>\n",
              "      <td>0.0</td>\n",
              "      <td>0.0</td>\n",
              "      <td>0.0</td>\n",
              "      <td>0.0</td>\n",
              "      <td>0.0</td>\n",
              "      <td>0.0</td>\n",
              "      <td>0.0</td>\n",
              "      <td>0.0</td>\n",
              "      <td>0.0</td>\n",
              "      <td>0.0</td>\n",
              "      <td>0.0</td>\n",
              "      <td>0.0</td>\n",
              "      <td>-389096.0</td>\n",
              "      <td>0.0</td>\n",
              "      <td>473044.0</td>\n",
              "      <td>0.0</td>\n",
              "      <td>58977.0</td>\n",
              "      <td>0.0</td>\n",
              "      <td>0.0</td>\n",
              "      <td>0.0</td>\n",
              "      <td>0.0</td>\n",
              "      <td>0.0</td>\n",
              "      <td>0.0</td>\n",
              "      <td>0.0</td>\n",
              "      <td>0.0</td>\n",
              "      <td>0.0</td>\n",
              "      <td>0.0</td>\n",
              "      <td>0.0</td>\n",
              "      <td>0.0</td>\n",
              "      <td>0.0</td>\n",
              "      <td>0.0</td>\n",
              "      <td>0.0</td>\n",
              "      <td>0.0</td>\n",
              "      <td>0.0</td>\n",
              "      <td>0.0</td>\n",
              "      <td>47500.0</td>\n",
              "      <td>0.0</td>\n",
              "      <td>0.0</td>\n",
              "      <td>262500.0</td>\n",
              "      <td>0.0</td>\n",
              "      <td>0.0</td>\n",
              "      <td>0.0</td>\n",
              "      <td>0.0</td>\n",
              "      <td>0.0</td>\n",
              "      <td>0.0</td>\n",
              "      <td>0.0</td>\n",
              "      <td>310000.0</td>\n",
              "      <td>368977.0</td>\n",
              "      <td>0.0</td>\n",
              "      <td>368977.0</td>\n",
              "      <td>0.0</td>\n",
              "      <td>368977.0</td>\n",
              "    </tr>\n",
              "    <tr>\n",
              "      <th>16024</th>\n",
              "      <td>900966498</td>\n",
              "      <td>31/12/2016</td>\n",
              "      <td>2016</td>\n",
              "      <td>159722.0</td>\n",
              "      <td>NaN</td>\n",
              "      <td>NaN</td>\n",
              "      <td>NaN</td>\n",
              "      <td>NaN</td>\n",
              "      <td>NaN</td>\n",
              "      <td>NaN</td>\n",
              "      <td>NaN</td>\n",
              "      <td>NaN</td>\n",
              "      <td>NaN</td>\n",
              "      <td>NaN</td>\n",
              "      <td>NaN</td>\n",
              "      <td>NaN</td>\n",
              "      <td>252905207.0</td>\n",
              "      <td>NaN</td>\n",
              "      <td>NaN</td>\n",
              "      <td>18015000.0</td>\n",
              "      <td>NaN</td>\n",
              "      <td>271079929.0</td>\n",
              "      <td>NaN</td>\n",
              "      <td>NaN</td>\n",
              "      <td>NaN</td>\n",
              "      <td>NaN</td>\n",
              "      <td>NaN</td>\n",
              "      <td>NaN</td>\n",
              "      <td>NaN</td>\n",
              "      <td>NaN</td>\n",
              "      <td>NaN</td>\n",
              "      <td>NaN</td>\n",
              "      <td>NaN</td>\n",
              "      <td>NaN</td>\n",
              "      <td>NaN</td>\n",
              "      <td>NaN</td>\n",
              "      <td>NaN</td>\n",
              "      <td>NaN</td>\n",
              "      <td>-265019266.0</td>\n",
              "      <td>-265019266.0</td>\n",
              "      <td>NaN</td>\n",
              "      <td>NaN</td>\n",
              "      <td>NaN</td>\n",
              "      <td>NaN</td>\n",
              "      <td>NaN</td>\n",
              "      <td>NaN</td>\n",
              "      <td>NaN</td>\n",
              "      <td>NaN</td>\n",
              "      <td>NaN</td>\n",
              "      <td>NaN</td>\n",
              "      <td>NaN</td>\n",
              "      <td>NaN</td>\n",
              "      <td>6060663.0</td>\n",
              "      <td>NaN</td>\n",
              "      <td>6060663.0</td>\n",
              "      <td>0.0</td>\n",
              "      <td>6060663.0</td>\n",
              "    </tr>\n",
              "    <tr>\n",
              "      <th>16025</th>\n",
              "      <td>900967491</td>\n",
              "      <td>31/12/2016</td>\n",
              "      <td>2016</td>\n",
              "      <td>0.0</td>\n",
              "      <td>0.0</td>\n",
              "      <td>0.0</td>\n",
              "      <td>0.0</td>\n",
              "      <td>0.0</td>\n",
              "      <td>0.0</td>\n",
              "      <td>0.0</td>\n",
              "      <td>0.0</td>\n",
              "      <td>0.0</td>\n",
              "      <td>0.0</td>\n",
              "      <td>0.0</td>\n",
              "      <td>0.0</td>\n",
              "      <td>0.0</td>\n",
              "      <td>0.0</td>\n",
              "      <td>0.0</td>\n",
              "      <td>0.0</td>\n",
              "      <td>0.0</td>\n",
              "      <td>50000.0</td>\n",
              "      <td>50000.0</td>\n",
              "      <td>0.0</td>\n",
              "      <td>0.0</td>\n",
              "      <td>0.0</td>\n",
              "      <td>0.0</td>\n",
              "      <td>0.0</td>\n",
              "      <td>0.0</td>\n",
              "      <td>0.0</td>\n",
              "      <td>0.0</td>\n",
              "      <td>0.0</td>\n",
              "      <td>0.0</td>\n",
              "      <td>0.0</td>\n",
              "      <td>0.0</td>\n",
              "      <td>0.0</td>\n",
              "      <td>0.0</td>\n",
              "      <td>0.0</td>\n",
              "      <td>0.0</td>\n",
              "      <td>0.0</td>\n",
              "      <td>0.0</td>\n",
              "      <td>NaN</td>\n",
              "      <td>0.0</td>\n",
              "      <td>45664.0</td>\n",
              "      <td>0.0</td>\n",
              "      <td>0.0</td>\n",
              "      <td>0.0</td>\n",
              "      <td>0.0</td>\n",
              "      <td>0.0</td>\n",
              "      <td>0.0</td>\n",
              "      <td>0.0</td>\n",
              "      <td>0.0</td>\n",
              "      <td>-45664.0</td>\n",
              "      <td>4336.0</td>\n",
              "      <td>0.0</td>\n",
              "      <td>4336.0</td>\n",
              "      <td>0.0</td>\n",
              "      <td>4336.0</td>\n",
              "    </tr>\n",
              "    <tr>\n",
              "      <th>16026</th>\n",
              "      <td>900984398</td>\n",
              "      <td>31/12/2016</td>\n",
              "      <td>2016</td>\n",
              "      <td>-7336733.0</td>\n",
              "      <td>NaN</td>\n",
              "      <td>NaN</td>\n",
              "      <td>NaN</td>\n",
              "      <td>NaN</td>\n",
              "      <td>NaN</td>\n",
              "      <td>NaN</td>\n",
              "      <td>NaN</td>\n",
              "      <td>NaN</td>\n",
              "      <td>NaN</td>\n",
              "      <td>NaN</td>\n",
              "      <td>NaN</td>\n",
              "      <td>NaN</td>\n",
              "      <td>NaN</td>\n",
              "      <td>NaN</td>\n",
              "      <td>NaN</td>\n",
              "      <td>NaN</td>\n",
              "      <td>NaN</td>\n",
              "      <td>NaN</td>\n",
              "      <td>NaN</td>\n",
              "      <td>NaN</td>\n",
              "      <td>NaN</td>\n",
              "      <td>NaN</td>\n",
              "      <td>NaN</td>\n",
              "      <td>NaN</td>\n",
              "      <td>NaN</td>\n",
              "      <td>NaN</td>\n",
              "      <td>NaN</td>\n",
              "      <td>NaN</td>\n",
              "      <td>NaN</td>\n",
              "      <td>NaN</td>\n",
              "      <td>NaN</td>\n",
              "      <td>NaN</td>\n",
              "      <td>NaN</td>\n",
              "      <td>NaN</td>\n",
              "      <td>NaN</td>\n",
              "      <td>NaN</td>\n",
              "      <td>NaN</td>\n",
              "      <td>NaN</td>\n",
              "      <td>NaN</td>\n",
              "      <td>NaN</td>\n",
              "      <td>NaN</td>\n",
              "      <td>NaN</td>\n",
              "      <td>NaN</td>\n",
              "      <td>NaN</td>\n",
              "      <td>NaN</td>\n",
              "      <td>NaN</td>\n",
              "      <td>NaN</td>\n",
              "      <td>NaN</td>\n",
              "      <td>NaN</td>\n",
              "      <td>NaN</td>\n",
              "      <td>NaN</td>\n",
              "      <td>NaN</td>\n",
              "      <td>NaN</td>\n",
              "    </tr>\n",
              "  </tbody>\n",
              "</table>\n",
              "<p>16027 rows × 57 columns</p>\n",
              "</div>"
            ],
            "text/plain": [
              "             nit  ... efectivo_y_equivalentes_al_efectivo_al_final_del_periodo\n",
              "0      800000090  ...                                            15215.0      \n",
              "1      800000268  ...                                           197090.0      \n",
              "2      800000276  ...                                          2124223.0      \n",
              "3      800000313  ...                                                NaN      \n",
              "4      800000439  ...                                           492369.0      \n",
              "...          ...  ...                                                ...      \n",
              "16022  900946019  ...                                              247.0      \n",
              "16023  900949013  ...                                           368977.0      \n",
              "16024  900966498  ...                                          6060663.0      \n",
              "16025  900967491  ...                                             4336.0      \n",
              "16026  900984398  ...                                                NaN      \n",
              "\n",
              "[16027 rows x 57 columns]"
            ]
          },
          "metadata": {},
          "execution_count": 10
        }
      ]
    },
    {
      "cell_type": "code",
      "metadata": {
        "colab": {
          "base_uri": "https://localhost:8080/"
        },
        "id": "clgzy6u6ZG0J",
        "outputId": "9f084086-7fb7-4029-9f69-27125fddc96e"
      },
      "source": [
        "# Unir todos los DataFrames\n",
        "df_financial = reduce(lambda  left,right: pd.merge(left,right,on=['nit','fecha_corte', 'duracion'], how='inner', suffixes=('', '_y')), [efe, eri, ori])\n",
        "df_merged = reduce(lambda  left,right: pd.merge(left,right,on=['nit','fecha_corte'], how='inner'), [caratula, esf, df_financial])\n",
        "df_merged.info()"
      ],
      "execution_count": null,
      "outputs": [
        {
          "output_type": "stream",
          "name": "stdout",
          "text": [
            "<class 'pandas.core.frame.DataFrame'>\n",
            "Int64Index: 16060 entries, 0 to 16059\n",
            "Columns: 154 entries, nit to total_otro_resultado_integral_que_se_reclasificará_al_resultado_del_periodo,_neto_de_impuestos\n",
            "dtypes: float64(132), int64(9), object(13)\n",
            "memory usage: 19.0+ MB\n"
          ]
        }
      ]
    },
    {
      "cell_type": "markdown",
      "metadata": {
        "id": "vEojF2Ajc27c"
      },
      "source": [
        "A continuación se seleccionan las características sobre las cuales se aplicarán los algoritmos de clasificación y se analiza el tipo de cada variables mediante el comando `dtype`"
      ]
    },
    {
      "cell_type": "code",
      "metadata": {
        "id": "A_yOkrFTdNos"
      },
      "source": [
        "columnas = ['nit', 'razón_social_de_la_sociedad', 'estado_actual',\n",
        " 'clasificación_industrial_internacional_uniforme_versión_4_a.c',\n",
        " 'tipo_societario', 'departamento_de_la_dirección_de_notificación_judicial',\n",
        " 'ciudad_de_la_dirección_de_notificación_judicial','activos_corrientes_totales',\n",
        " 'total_de_activos_no_corrientes','total_de_activos','pasivos_corrientes_totales',\n",
        " 'total_de_pasivos_no_corrientes','total_pasivos','patrimonio_total',\n",
        " 'ingresos_de_actividades_ordinarias','costo_de_ventas','ganancia_bruta',\n",
        " 'otros_ingresos', 'gastos_de_ventas', 'gastos_de_administración', 'otros_gastos',\n",
        " 'ganancia_(pérdida)_por_actividades_de_operación','ingresos_financieros',\n",
        " 'costos_financieros','ganancia_(pérdida),_antes_de_impuestos','ganancia_(pérdida)']\n",
        "\n",
        "new_col_names = ['nit','nombre','estado','ciiu','tipo_soc','dpto','ciudad',\n",
        "                  'activo_cte','activo_no_cte','activo','pasivo_cte','pasivo_no_cte',\n",
        "                  'pasivo','patrimonio','ingreso','costo_venta','ganancia_bruta',\n",
        "                  'otro_ingreso','gasto_venta','gasto_admon','gasto_otro','ganancia_operacion',\n",
        "                  'ingreso_fin','costo_fin','ganancia_antes_imp', 'ganancia']"
      ],
      "execution_count": null,
      "outputs": []
    },
    {
      "cell_type": "code",
      "metadata": {
        "colab": {
          "base_uri": "https://localhost:8080/"
        },
        "id": "PZ0AlP2VjFd3",
        "outputId": "6b72b118-5f41-4e78-c634-7ba0497b80fa"
      },
      "source": [
        "datos = df_merged[columnas].copy()\n",
        "datos.columns = new_col_names\n",
        "datos.dtypes"
      ],
      "execution_count": null,
      "outputs": [
        {
          "output_type": "execute_result",
          "data": {
            "text/plain": [
              "nit                     int64\n",
              "nombre                 object\n",
              "estado                 object\n",
              "ciiu                   object\n",
              "tipo_soc               object\n",
              "dpto                   object\n",
              "ciudad                 object\n",
              "activo_cte            float64\n",
              "activo_no_cte         float64\n",
              "activo                  int64\n",
              "pasivo_cte            float64\n",
              "pasivo_no_cte         float64\n",
              "pasivo                  int64\n",
              "patrimonio              int64\n",
              "ingreso               float64\n",
              "costo_venta           float64\n",
              "ganancia_bruta        float64\n",
              "otro_ingreso          float64\n",
              "gasto_venta           float64\n",
              "gasto_admon           float64\n",
              "gasto_otro            float64\n",
              "ganancia_operacion      int64\n",
              "ingreso_fin           float64\n",
              "costo_fin             float64\n",
              "ganancia_antes_imp      int64\n",
              "ganancia                int64\n",
              "dtype: object"
            ]
          },
          "metadata": {},
          "execution_count": 13
        }
      ]
    },
    {
      "cell_type": "markdown",
      "metadata": {
        "id": "qoxp4fQWh6fu"
      },
      "source": [
        "Se construyen algunos indicadores financieros adicionales y se calcula la cantidad de observaciones perdidas en el elemento datos:"
      ]
    },
    {
      "cell_type": "code",
      "metadata": {
        "id": "LqPrwLMmoMkw"
      },
      "source": [
        "datos['ingreso_activo'] = datos['ingreso']/datos['activo']\n",
        "datos['ingreso_activo'] = datos['ingreso_activo'].replace(np.inf, 0) # en caso de división por 0 \n",
        "datos['ingreso_patrimonio'] = datos['ingreso']/datos['patrimonio']\n",
        "datos['ingreso_patrimonio'] = datos['ingreso_patrimonio'].replace(np.inf, 0) # en caso de división por 0 "
      ],
      "execution_count": null,
      "outputs": []
    },
    {
      "cell_type": "markdown",
      "metadata": {
        "id": "OAz40VTKeqwj"
      },
      "source": [
        "Una de las buenas practicas dentro de la industria es reducir el consumo de RAM asignando la precisión númerica correcta, en especial cuando se trabajan con grandes set de datos. Se construye por lo tanto se construye una función que permite reducir el tamaño en RAM del set de datos."
      ]
    },
    {
      "cell_type": "code",
      "metadata": {
        "id": "I3pnpd8lJ8Cp"
      },
      "source": [
        "def load_and_reduce_mem_usage(df):\n",
        "    \"\"\"\n",
        "    Load a dataframe using pandas and reduce memory according to max-min\n",
        "    in each column\n",
        "    \"\"\"\n",
        "    start_mem = df.memory_usage().sum() / 1024**2\n",
        "    print(f'Start memory usage of dataframe is {start_mem:.2f} MB')\n",
        "    \n",
        "    for col in df.columns:\n",
        "        col_type = df[col].dtype\n",
        "        \n",
        "        if col_type != object and col_type.name != 'category':\n",
        "            c_min = df[col].min()\n",
        "            c_max = df[col].max()\n",
        "            if str(col_type)[:3] == 'int':\n",
        "                if c_min > np.iinfo(np.int8).min and c_max < np.iinfo(np.int8).max:\n",
        "                    df[col] = df[col].astype(np.int8)\n",
        "                elif c_min > np.iinfo(np.int16).min and c_max < np.iinfo(np.int16).max:\n",
        "                    df[col] = df[col].astype(np.int16)\n",
        "                elif c_min > np.iinfo(np.int32).min and c_max < np.iinfo(np.int32).max:\n",
        "                    df[col] = df[col].astype(np.int32)\n",
        "                elif c_min > np.iinfo(np.int64).min and c_max < np.iinfo(np.int64).max:\n",
        "                    df[col] = df[col].astype(np.int64)\n",
        "            else:\n",
        "                if c_min > np.finfo(np.float16).min and c_max < np.finfo(np.float16).max:\n",
        "                    df[col] = df[col].astype(np.float32)\n",
        "                elif c_min > np.finfo(np.float32).min and c_max < np.finfo(np.float32).max:\n",
        "                    df[col] = df[col].astype(np.float32)\n",
        "                else:\n",
        "                    df[col] = df[col].astype(np.float64)\n",
        "        else:\n",
        "            df[col] = df[col].astype('category')\n",
        "    \n",
        "    if df[col].nunique() < 60:\n",
        "        df[col] = df[col].astype('category')\n",
        "\n",
        "    end_mem = df.memory_usage().sum() / 1024**2\n",
        "    print(f'Memory usage after optimization is {end_mem:.2f} MB')\n",
        "    delta_memory = (start_mem - end_mem) / start_mem\n",
        "    print(f'Decreased by {delta_memory:.1%} \\n --------')\n",
        "\n",
        "    return df"
      ],
      "execution_count": null,
      "outputs": []
    },
    {
      "cell_type": "code",
      "metadata": {
        "colab": {
          "base_uri": "https://localhost:8080/"
        },
        "id": "CjUgTQr9KDjx",
        "outputId": "3b421352-ac87-45f5-8ab8-23e6f537806c"
      },
      "source": [
        "datos = load_and_reduce_mem_usage(datos)"
      ],
      "execution_count": null,
      "outputs": [
        {
          "output_type": "stream",
          "name": "stdout",
          "text": [
            "Start memory usage of dataframe is 3.55 MB\n",
            "Memory usage after optimization is 2.51 MB\n",
            "Decreased by 29.3% \n",
            " --------\n"
          ]
        }
      ]
    },
    {
      "cell_type": "code",
      "metadata": {
        "colab": {
          "base_uri": "https://localhost:8080/"
        },
        "id": "SWrRr1iriD9r",
        "outputId": "8a29fa6b-7c26-4607-e211-eda286904b31"
      },
      "source": [
        "datos.dtypes"
      ],
      "execution_count": null,
      "outputs": [
        {
          "output_type": "execute_result",
          "data": {
            "text/plain": [
              "nit                      int32\n",
              "nombre                category\n",
              "estado                category\n",
              "ciiu                  category\n",
              "tipo_soc              category\n",
              "dpto                  category\n",
              "ciudad                category\n",
              "activo_cte             float32\n",
              "activo_no_cte          float32\n",
              "activo                   int64\n",
              "pasivo_cte             float32\n",
              "pasivo_no_cte          float32\n",
              "pasivo                   int32\n",
              "patrimonio               int64\n",
              "ingreso                float32\n",
              "costo_venta            float32\n",
              "ganancia_bruta         float32\n",
              "otro_ingreso           float32\n",
              "gasto_venta            float32\n",
              "gasto_admon            float32\n",
              "gasto_otro             float32\n",
              "ganancia_operacion       int32\n",
              "ingreso_fin            float32\n",
              "costo_fin              float32\n",
              "ganancia_antes_imp       int32\n",
              "ganancia                 int32\n",
              "ingreso_activo         float32\n",
              "ingreso_patrimonio     float32\n",
              "dtype: object"
            ]
          },
          "metadata": {},
          "execution_count": 17
        }
      ]
    },
    {
      "cell_type": "markdown",
      "metadata": {
        "id": "0FwQ7OKn-4k5"
      },
      "source": [
        "### 2.1.2. Procesamiento de datos"
      ]
    },
    {
      "cell_type": "markdown",
      "metadata": {
        "id": "EtdVJkFsJQcH"
      },
      "source": [
        "Como se mencionó anteriormente, para calcular la distancia entre un grupo de individuos se deben estandarizar (o reescalar) sus variables previamente.\n",
        "\n",
        "En python y particularmente en la industria una de las buenas practicas es usar Pipelines (tuberias) de datos, los pipelines facilitan el preprocesamiento, limpiando código y colapsando todos los pasos de preprocesamiento y modelado en una sola línea de código."
      ]
    },
    {
      "cell_type": "code",
      "metadata": {
        "id": "BwLDf4HBJTdI"
      },
      "source": [
        "from sklearn.preprocessing import OneHotEncoder, StandardScaler\n",
        "from sklearn.pipeline import Pipeline\n",
        "from sklearn.compose import ColumnTransformer\n",
        "from sklearn.impute import SimpleImputer"
      ],
      "execution_count": null,
      "outputs": []
    },
    {
      "cell_type": "code",
      "metadata": {
        "id": "-X0enQbKiuui"
      },
      "source": [
        "def pipeline_transformacion(df, crear_dummies = False):\n",
        "    '''\n",
        "    Pipeline de preprocesamiento\n",
        "    '''\n",
        "    columnas_numericas = df.select_dtypes('number').columns.to_list()\n",
        "\n",
        "    if 'nit' in columnas_numericas:\n",
        "        columnas_numericas.remove('nit')\n",
        "\n",
        "    columnas_categoricas =  df.select_dtypes('category').columns.to_list()\n",
        "\n",
        "    transformador_numerico =  Pipeline(steps=[('inputar', SimpleImputer(strategy='mean')),\n",
        "                                              ('scaler', StandardScaler())])\n",
        "    if crear_dummies:\n",
        "        scaler = ColumnTransformer(transformers=[('num', transformador_numerico, columnas_numericas),\n",
        "                                                ('cat', OneHotEncoder(), columnas_categoricas)], \n",
        "                                remainder = 'passthrough')\n",
        "    else: \n",
        "        scaler = ColumnTransformer(transformers=[('num', transformador_numerico, columnas_numericas)], \n",
        "                                                remainder = 'passthrough')\n",
        "    \n",
        "    return scaler.fit(df)"
      ],
      "execution_count": null,
      "outputs": []
    },
    {
      "cell_type": "code",
      "metadata": {
        "colab": {
          "base_uri": "https://localhost:8080/",
          "height": 363
        },
        "id": "_75SSullt3tu",
        "outputId": "cb3c96c3-5258-4b25-8686-467505958126"
      },
      "source": [
        "primeros_10_datos = datos.iloc[[0,1,3,4,5,7,8,9,10,11], :]\n",
        "transformador = pipeline_transformacion(primeros_10_datos, crear_dummies = False)\n",
        "primeros_10_datos[['activo','pasivo']]"
      ],
      "execution_count": null,
      "outputs": [
        {
          "output_type": "execute_result",
          "data": {
            "text/html": [
              "<div>\n",
              "<style scoped>\n",
              "    .dataframe tbody tr th:only-of-type {\n",
              "        vertical-align: middle;\n",
              "    }\n",
              "\n",
              "    .dataframe tbody tr th {\n",
              "        vertical-align: top;\n",
              "    }\n",
              "\n",
              "    .dataframe thead th {\n",
              "        text-align: right;\n",
              "    }\n",
              "</style>\n",
              "<table border=\"1\" class=\"dataframe\">\n",
              "  <thead>\n",
              "    <tr style=\"text-align: right;\">\n",
              "      <th></th>\n",
              "      <th>activo</th>\n",
              "      <th>pasivo</th>\n",
              "    </tr>\n",
              "  </thead>\n",
              "  <tbody>\n",
              "    <tr>\n",
              "      <th>0</th>\n",
              "      <td>6542076</td>\n",
              "      <td>5352469</td>\n",
              "    </tr>\n",
              "    <tr>\n",
              "      <th>1</th>\n",
              "      <td>3419876</td>\n",
              "      <td>2499818</td>\n",
              "    </tr>\n",
              "    <tr>\n",
              "      <th>3</th>\n",
              "      <td>6078941</td>\n",
              "      <td>2981565</td>\n",
              "    </tr>\n",
              "    <tr>\n",
              "      <th>4</th>\n",
              "      <td>3011514</td>\n",
              "      <td>1656877</td>\n",
              "    </tr>\n",
              "    <tr>\n",
              "      <th>5</th>\n",
              "      <td>3338792</td>\n",
              "      <td>1189886</td>\n",
              "    </tr>\n",
              "    <tr>\n",
              "      <th>7</th>\n",
              "      <td>3895103</td>\n",
              "      <td>1599243</td>\n",
              "    </tr>\n",
              "    <tr>\n",
              "      <th>8</th>\n",
              "      <td>26067582</td>\n",
              "      <td>5874421</td>\n",
              "    </tr>\n",
              "    <tr>\n",
              "      <th>9</th>\n",
              "      <td>3668777</td>\n",
              "      <td>1273890</td>\n",
              "    </tr>\n",
              "    <tr>\n",
              "      <th>10</th>\n",
              "      <td>58531475</td>\n",
              "      <td>22447935</td>\n",
              "    </tr>\n",
              "    <tr>\n",
              "      <th>11</th>\n",
              "      <td>15048091</td>\n",
              "      <td>7511824</td>\n",
              "    </tr>\n",
              "  </tbody>\n",
              "</table>\n",
              "</div>"
            ],
            "text/plain": [
              "      activo    pasivo\n",
              "0    6542076   5352469\n",
              "1    3419876   2499818\n",
              "3    6078941   2981565\n",
              "4    3011514   1656877\n",
              "5    3338792   1189886\n",
              "7    3895103   1599243\n",
              "8   26067582   5874421\n",
              "9    3668777   1273890\n",
              "10  58531475  22447935\n",
              "11  15048091   7511824"
            ]
          },
          "metadata": {},
          "execution_count": 20
        }
      ]
    },
    {
      "cell_type": "code",
      "metadata": {
        "colab": {
          "base_uri": "https://localhost:8080/",
          "height": 363
        },
        "id": "19iFuMr6mSb5",
        "outputId": "51980991-ae16-49bc-a0b1-465009a1206e"
      },
      "source": [
        "columns = list(transformador.transformers_[0][2]) + list(datos.columns[list(transformador.transformers_[1][2])])\n",
        "primeros_10_datos_transformados = pd.DataFrame(transformador.transform(primeros_10_datos),\n",
        "                                               columns=columns)\n",
        "primeros_10_datos_transformados = primeros_10_datos_transformados.astype({'activo':'float', 'pasivo':'float'})\n",
        "primeros_10_datos_transformados[['activo','pasivo']]"
      ],
      "execution_count": null,
      "outputs": [
        {
          "output_type": "execute_result",
          "data": {
            "text/html": [
              "<div>\n",
              "<style scoped>\n",
              "    .dataframe tbody tr th:only-of-type {\n",
              "        vertical-align: middle;\n",
              "    }\n",
              "\n",
              "    .dataframe tbody tr th {\n",
              "        vertical-align: top;\n",
              "    }\n",
              "\n",
              "    .dataframe thead th {\n",
              "        text-align: right;\n",
              "    }\n",
              "</style>\n",
              "<table border=\"1\" class=\"dataframe\">\n",
              "  <thead>\n",
              "    <tr style=\"text-align: right;\">\n",
              "      <th></th>\n",
              "      <th>activo</th>\n",
              "      <th>pasivo</th>\n",
              "    </tr>\n",
              "  </thead>\n",
              "  <tbody>\n",
              "    <tr>\n",
              "      <th>0</th>\n",
              "      <td>-0.384071</td>\n",
              "      <td>0.018625</td>\n",
              "    </tr>\n",
              "    <tr>\n",
              "      <th>1</th>\n",
              "      <td>-0.570908</td>\n",
              "      <td>-0.448756</td>\n",
              "    </tr>\n",
              "    <tr>\n",
              "      <th>2</th>\n",
              "      <td>-0.411786</td>\n",
              "      <td>-0.369826</td>\n",
              "    </tr>\n",
              "    <tr>\n",
              "      <th>3</th>\n",
              "      <td>-0.595345</td>\n",
              "      <td>-0.586864</td>\n",
              "    </tr>\n",
              "    <tr>\n",
              "      <th>4</th>\n",
              "      <td>-0.575760</td>\n",
              "      <td>-0.663376</td>\n",
              "    </tr>\n",
              "    <tr>\n",
              "      <th>5</th>\n",
              "      <td>-0.542470</td>\n",
              "      <td>-0.596306</td>\n",
              "    </tr>\n",
              "    <tr>\n",
              "      <th>6</th>\n",
              "      <td>0.784363</td>\n",
              "      <td>0.104142</td>\n",
              "    </tr>\n",
              "    <tr>\n",
              "      <th>7</th>\n",
              "      <td>-0.556013</td>\n",
              "      <td>-0.649612</td>\n",
              "    </tr>\n",
              "    <tr>\n",
              "      <th>8</th>\n",
              "      <td>2.727048</td>\n",
              "      <td>2.819558</td>\n",
              "    </tr>\n",
              "    <tr>\n",
              "      <th>9</th>\n",
              "      <td>0.124941</td>\n",
              "      <td>0.372415</td>\n",
              "    </tr>\n",
              "  </tbody>\n",
              "</table>\n",
              "</div>"
            ],
            "text/plain": [
              "     activo    pasivo\n",
              "0 -0.384071  0.018625\n",
              "1 -0.570908 -0.448756\n",
              "2 -0.411786 -0.369826\n",
              "3 -0.595345 -0.586864\n",
              "4 -0.575760 -0.663376\n",
              "5 -0.542470 -0.596306\n",
              "6  0.784363  0.104142\n",
              "7 -0.556013 -0.649612\n",
              "8  2.727048  2.819558\n",
              "9  0.124941  0.372415"
            ]
          },
          "metadata": {},
          "execution_count": 21
        }
      ]
    },
    {
      "cell_type": "markdown",
      "metadata": {
        "id": "IY_e3noPq7rX"
      },
      "source": [
        "Con los Pipelines fue posible transformar todos los datos numéricos, adicionalmente si queremos crear variables dummies para nuestros datos categóricos, lo podemos hacer fácilmente. \n",
        "\n",
        "La gran ventaja que tienen los pipelines es que puedo recibir otra base después y las columnas pueden pasar por el mismo proceso, esto es extremadamente útil particularmente en el aprendizaje por refuerzo supervisado cuando se tiene un conjunto de datos para el entrenamiento y otro de pruebas y se le quiere realizar las mismas transformaciones. "
      ]
    },
    {
      "cell_type": "code",
      "metadata": {
        "colab": {
          "base_uri": "https://localhost:8080/",
          "height": 442
        },
        "id": "WgvLnwCOw3gF",
        "outputId": "23b8a936-99d4-4e7d-8bfe-24540d902116"
      },
      "source": [
        "import seaborn as sns\n",
        "import matplotlib.pyplot as plt\n",
        "\n",
        "fig, ax = plt.subplots(figsize=(7,7))\n",
        "sns.scatterplot(data=primeros_10_datos_transformados, x=\"activo\", y=\"pasivo\", s= 20);"
      ],
      "execution_count": null,
      "outputs": [
        {
          "output_type": "display_data",
          "data": {
            "image/png": "[encoded data removed]",
            "text/plain": [
              "<Figure size 504x504 with 1 Axes>"
            ]
          },
          "metadata": {
            "needs_background": "light"
          }
        }
      ]
    },
    {
      "cell_type": "markdown",
      "metadata": {
        "id": "wXff05jX_IZa"
      },
      "source": [
        "### 2.1.3. Matrices de distancias"
      ]
    },
    {
      "cell_type": "markdown",
      "metadata": {
        "id": "uJI3tWWSxEJV"
      },
      "source": [
        "La matriz de distancias Euclídeas entre los 10 individuos seleccionados se calcula mediante el la libreria de Sklearn, importando `euclidean_distances`"
      ]
    },
    {
      "cell_type": "code",
      "metadata": {
        "colab": {
          "base_uri": "https://localhost:8080/",
          "height": 363
        },
        "id": "R9bCXI3y15YU",
        "outputId": "9ed2e364-42a8-45a6-ecd3-1ca010c9cd9b"
      },
      "source": [
        "from sklearn.metrics.pairwise import euclidean_distances\n",
        "\n",
        "dist_eucl = pd.DataFrame(euclidean_distances(primeros_10_datos_transformados[['activo','pasivo']]))\n",
        "dist_eucl"
      ],
      "execution_count": null,
      "outputs": [
        {
          "output_type": "execute_result",
          "data": {
            "text/html": [
              "<div>\n",
              "<style scoped>\n",
              "    .dataframe tbody tr th:only-of-type {\n",
              "        vertical-align: middle;\n",
              "    }\n",
              "\n",
              "    .dataframe tbody tr th {\n",
              "        vertical-align: top;\n",
              "    }\n",
              "\n",
              "    .dataframe thead th {\n",
              "        text-align: right;\n",
              "    }\n",
              "</style>\n",
              "<table border=\"1\" class=\"dataframe\">\n",
              "  <thead>\n",
              "    <tr style=\"text-align: right;\">\n",
              "      <th></th>\n",
              "      <th>0</th>\n",
              "      <th>1</th>\n",
              "      <th>2</th>\n",
              "      <th>3</th>\n",
              "      <th>4</th>\n",
              "      <th>5</th>\n",
              "      <th>6</th>\n",
              "      <th>7</th>\n",
              "      <th>8</th>\n",
              "      <th>9</th>\n",
              "    </tr>\n",
              "  </thead>\n",
              "  <tbody>\n",
              "    <tr>\n",
              "      <th>0</th>\n",
              "      <td>0.000000</td>\n",
              "      <td>0.503341</td>\n",
              "      <td>0.389438</td>\n",
              "      <td>0.641290</td>\n",
              "      <td>0.708427</td>\n",
              "      <td>0.635004</td>\n",
              "      <td>1.171559</td>\n",
              "      <td>0.690004</td>\n",
              "      <td>4.186202</td>\n",
              "      <td>0.619888</td>\n",
              "    </tr>\n",
              "    <tr>\n",
              "      <th>1</th>\n",
              "      <td>0.503341</td>\n",
              "      <td>0.000000</td>\n",
              "      <td>0.177623</td>\n",
              "      <td>0.140253</td>\n",
              "      <td>0.214675</td>\n",
              "      <td>0.150266</td>\n",
              "      <td>1.463713</td>\n",
              "      <td>0.201408</td>\n",
              "      <td>4.643101</td>\n",
              "      <td>1.076349</td>\n",
              "    </tr>\n",
              "    <tr>\n",
              "      <th>2</th>\n",
              "      <td>0.389438</td>\n",
              "      <td>0.177623</td>\n",
              "      <td>0.000000</td>\n",
              "      <td>0.284252</td>\n",
              "      <td>0.336243</td>\n",
              "      <td>0.261480</td>\n",
              "      <td>1.286630</td>\n",
              "      <td>0.314773</td>\n",
              "      <td>4.474868</td>\n",
              "      <td>0.915968</td>\n",
              "    </tr>\n",
              "    <tr>\n",
              "      <th>3</th>\n",
              "      <td>0.641290</td>\n",
              "      <td>0.140253</td>\n",
              "      <td>0.284252</td>\n",
              "      <td>0.000000</td>\n",
              "      <td>0.078979</td>\n",
              "      <td>0.053712</td>\n",
              "      <td>1.543075</td>\n",
              "      <td>0.074057</td>\n",
              "      <td>4.758362</td>\n",
              "      <td>1.199595</td>\n",
              "    </tr>\n",
              "    <tr>\n",
              "      <th>4</th>\n",
              "      <td>0.708427</td>\n",
              "      <td>0.214675</td>\n",
              "      <td>0.336243</td>\n",
              "      <td>0.078979</td>\n",
              "      <td>0.000000</td>\n",
              "      <td>0.074877</td>\n",
              "      <td>1.561735</td>\n",
              "      <td>0.024070</td>\n",
              "      <td>4.799934</td>\n",
              "      <td>1.250538</td>\n",
              "    </tr>\n",
              "    <tr>\n",
              "      <th>5</th>\n",
              "      <td>0.635004</td>\n",
              "      <td>0.150266</td>\n",
              "      <td>0.261480</td>\n",
              "      <td>0.053712</td>\n",
              "      <td>0.074877</td>\n",
              "      <td>0.000000</td>\n",
              "      <td>1.500371</td>\n",
              "      <td>0.055000</td>\n",
              "      <td>4.728412</td>\n",
              "      <td>1.176375</td>\n",
              "    </tr>\n",
              "    <tr>\n",
              "      <th>6</th>\n",
              "      <td>1.171559</td>\n",
              "      <td>1.463713</td>\n",
              "      <td>1.286630</td>\n",
              "      <td>1.543075</td>\n",
              "      <td>1.561735</td>\n",
              "      <td>1.500371</td>\n",
              "      <td>0.000000</td>\n",
              "      <td>1.537776</td>\n",
              "      <td>3.338789</td>\n",
              "      <td>0.711904</td>\n",
              "    </tr>\n",
              "    <tr>\n",
              "      <th>7</th>\n",
              "      <td>0.690004</td>\n",
              "      <td>0.201408</td>\n",
              "      <td>0.314773</td>\n",
              "      <td>0.074057</td>\n",
              "      <td>0.024070</td>\n",
              "      <td>0.055000</td>\n",
              "      <td>1.537776</td>\n",
              "      <td>0.000000</td>\n",
              "      <td>4.776362</td>\n",
              "      <td>1.228104</td>\n",
              "    </tr>\n",
              "    <tr>\n",
              "      <th>8</th>\n",
              "      <td>4.186202</td>\n",
              "      <td>4.643101</td>\n",
              "      <td>4.474868</td>\n",
              "      <td>4.758362</td>\n",
              "      <td>4.799934</td>\n",
              "      <td>4.728412</td>\n",
              "      <td>3.338789</td>\n",
              "      <td>4.776362</td>\n",
              "      <td>0.000000</td>\n",
              "      <td>3.572040</td>\n",
              "    </tr>\n",
              "    <tr>\n",
              "      <th>9</th>\n",
              "      <td>0.619888</td>\n",
              "      <td>1.076349</td>\n",
              "      <td>0.915968</td>\n",
              "      <td>1.199595</td>\n",
              "      <td>1.250538</td>\n",
              "      <td>1.176375</td>\n",
              "      <td>0.711904</td>\n",
              "      <td>1.228104</td>\n",
              "      <td>3.572040</td>\n",
              "      <td>0.000000</td>\n",
              "    </tr>\n",
              "  </tbody>\n",
              "</table>\n",
              "</div>"
            ],
            "text/plain": [
              "          0         1         2  ...         7         8         9\n",
              "0  0.000000  0.503341  0.389438  ...  0.690004  4.186202  0.619888\n",
              "1  0.503341  0.000000  0.177623  ...  0.201408  4.643101  1.076349\n",
              "2  0.389438  0.177623  0.000000  ...  0.314773  4.474868  0.915968\n",
              "3  0.641290  0.140253  0.284252  ...  0.074057  4.758362  1.199595\n",
              "4  0.708427  0.214675  0.336243  ...  0.024070  4.799934  1.250538\n",
              "5  0.635004  0.150266  0.261480  ...  0.055000  4.728412  1.176375\n",
              "6  1.171559  1.463713  1.286630  ...  1.537776  3.338789  0.711904\n",
              "7  0.690004  0.201408  0.314773  ...  0.000000  4.776362  1.228104\n",
              "8  4.186202  4.643101  4.474868  ...  4.776362  0.000000  3.572040\n",
              "9  0.619888  1.076349  0.915968  ...  1.228104  3.572040  0.000000\n",
              "\n",
              "[10 rows x 10 columns]"
            ]
          },
          "metadata": {},
          "execution_count": 23
        }
      ]
    },
    {
      "cell_type": "markdown",
      "metadata": {
        "id": "cmLhDg8f2JkM"
      },
      "source": [
        "La misma matriz pero utilizando la distancia Mahattan se obtiene de importando `manhattan_distances`"
      ]
    },
    {
      "cell_type": "code",
      "metadata": {
        "colab": {
          "base_uri": "https://localhost:8080/",
          "height": 363
        },
        "id": "5acwN_hm3L50",
        "outputId": "72702beb-e6eb-4493-c239-2156b781043d"
      },
      "source": [
        "from sklearn.metrics.pairwise import manhattan_distances\n",
        "\n",
        "dist_man = pd.DataFrame(manhattan_distances(primeros_10_datos_transformados[['activo','pasivo']]))\n",
        "dist_man"
      ],
      "execution_count": null,
      "outputs": [
        {
          "output_type": "execute_result",
          "data": {
            "text/html": [
              "<div>\n",
              "<style scoped>\n",
              "    .dataframe tbody tr th:only-of-type {\n",
              "        vertical-align: middle;\n",
              "    }\n",
              "\n",
              "    .dataframe tbody tr th {\n",
              "        vertical-align: top;\n",
              "    }\n",
              "\n",
              "    .dataframe thead th {\n",
              "        text-align: right;\n",
              "    }\n",
              "</style>\n",
              "<table border=\"1\" class=\"dataframe\">\n",
              "  <thead>\n",
              "    <tr style=\"text-align: right;\">\n",
              "      <th></th>\n",
              "      <th>0</th>\n",
              "      <th>1</th>\n",
              "      <th>2</th>\n",
              "      <th>3</th>\n",
              "      <th>4</th>\n",
              "      <th>5</th>\n",
              "      <th>6</th>\n",
              "      <th>7</th>\n",
              "      <th>8</th>\n",
              "      <th>9</th>\n",
              "    </tr>\n",
              "  </thead>\n",
              "  <tbody>\n",
              "    <tr>\n",
              "      <th>0</th>\n",
              "      <td>0.000000</td>\n",
              "      <td>0.654217</td>\n",
              "      <td>0.416165</td>\n",
              "      <td>0.816762</td>\n",
              "      <td>0.873690</td>\n",
              "      <td>0.773330</td>\n",
              "      <td>1.253951</td>\n",
              "      <td>0.840180</td>\n",
              "      <td>5.912052</td>\n",
              "      <td>0.862802</td>\n",
              "    </tr>\n",
              "    <tr>\n",
              "      <th>1</th>\n",
              "      <td>0.654217</td>\n",
              "      <td>0.000000</td>\n",
              "      <td>0.238052</td>\n",
              "      <td>0.162545</td>\n",
              "      <td>0.219472</td>\n",
              "      <td>0.175989</td>\n",
              "      <td>1.908168</td>\n",
              "      <td>0.215752</td>\n",
              "      <td>6.566270</td>\n",
              "      <td>1.517019</td>\n",
              "    </tr>\n",
              "    <tr>\n",
              "      <th>2</th>\n",
              "      <td>0.416165</td>\n",
              "      <td>0.238052</td>\n",
              "      <td>0.000000</td>\n",
              "      <td>0.400597</td>\n",
              "      <td>0.457524</td>\n",
              "      <td>0.357165</td>\n",
              "      <td>1.670116</td>\n",
              "      <td>0.424014</td>\n",
              "      <td>6.328218</td>\n",
              "      <td>1.278967</td>\n",
              "    </tr>\n",
              "    <tr>\n",
              "      <th>3</th>\n",
              "      <td>0.816762</td>\n",
              "      <td>0.162545</td>\n",
              "      <td>0.400597</td>\n",
              "      <td>0.000000</td>\n",
              "      <td>0.096097</td>\n",
              "      <td>0.062318</td>\n",
              "      <td>2.070713</td>\n",
              "      <td>0.102080</td>\n",
              "      <td>6.728815</td>\n",
              "      <td>1.679564</td>\n",
              "    </tr>\n",
              "    <tr>\n",
              "      <th>4</th>\n",
              "      <td>0.873690</td>\n",
              "      <td>0.219472</td>\n",
              "      <td>0.457524</td>\n",
              "      <td>0.096097</td>\n",
              "      <td>0.000000</td>\n",
              "      <td>0.100360</td>\n",
              "      <td>2.127640</td>\n",
              "      <td>0.033510</td>\n",
              "      <td>6.785742</td>\n",
              "      <td>1.736492</td>\n",
              "    </tr>\n",
              "    <tr>\n",
              "      <th>5</th>\n",
              "      <td>0.773330</td>\n",
              "      <td>0.175989</td>\n",
              "      <td>0.357165</td>\n",
              "      <td>0.062318</td>\n",
              "      <td>0.100360</td>\n",
              "      <td>0.000000</td>\n",
              "      <td>2.027281</td>\n",
              "      <td>0.066850</td>\n",
              "      <td>6.685382</td>\n",
              "      <td>1.636132</td>\n",
              "    </tr>\n",
              "    <tr>\n",
              "      <th>6</th>\n",
              "      <td>1.253951</td>\n",
              "      <td>1.908168</td>\n",
              "      <td>1.670116</td>\n",
              "      <td>2.070713</td>\n",
              "      <td>2.127640</td>\n",
              "      <td>2.027281</td>\n",
              "      <td>0.000000</td>\n",
              "      <td>2.094130</td>\n",
              "      <td>4.658102</td>\n",
              "      <td>0.927695</td>\n",
              "    </tr>\n",
              "    <tr>\n",
              "      <th>7</th>\n",
              "      <td>0.840180</td>\n",
              "      <td>0.215752</td>\n",
              "      <td>0.424014</td>\n",
              "      <td>0.102080</td>\n",
              "      <td>0.033510</td>\n",
              "      <td>0.066850</td>\n",
              "      <td>2.094130</td>\n",
              "      <td>0.000000</td>\n",
              "      <td>6.752232</td>\n",
              "      <td>1.702982</td>\n",
              "    </tr>\n",
              "    <tr>\n",
              "      <th>8</th>\n",
              "      <td>5.912052</td>\n",
              "      <td>6.566270</td>\n",
              "      <td>6.328218</td>\n",
              "      <td>6.728815</td>\n",
              "      <td>6.785742</td>\n",
              "      <td>6.685382</td>\n",
              "      <td>4.658102</td>\n",
              "      <td>6.752232</td>\n",
              "      <td>0.000000</td>\n",
              "      <td>5.049250</td>\n",
              "    </tr>\n",
              "    <tr>\n",
              "      <th>9</th>\n",
              "      <td>0.862802</td>\n",
              "      <td>1.517019</td>\n",
              "      <td>1.278967</td>\n",
              "      <td>1.679564</td>\n",
              "      <td>1.736492</td>\n",
              "      <td>1.636132</td>\n",
              "      <td>0.927695</td>\n",
              "      <td>1.702982</td>\n",
              "      <td>5.049250</td>\n",
              "      <td>0.000000</td>\n",
              "    </tr>\n",
              "  </tbody>\n",
              "</table>\n",
              "</div>"
            ],
            "text/plain": [
              "          0         1         2  ...         7         8         9\n",
              "0  0.000000  0.654217  0.416165  ...  0.840180  5.912052  0.862802\n",
              "1  0.654217  0.000000  0.238052  ...  0.215752  6.566270  1.517019\n",
              "2  0.416165  0.238052  0.000000  ...  0.424014  6.328218  1.278967\n",
              "3  0.816762  0.162545  0.400597  ...  0.102080  6.728815  1.679564\n",
              "4  0.873690  0.219472  0.457524  ...  0.033510  6.785742  1.736492\n",
              "5  0.773330  0.175989  0.357165  ...  0.066850  6.685382  1.636132\n",
              "6  1.253951  1.908168  1.670116  ...  2.094130  4.658102  0.927695\n",
              "7  0.840180  0.215752  0.424014  ...  0.000000  6.752232  1.702982\n",
              "8  5.912052  6.566270  6.328218  ...  6.752232  0.000000  5.049250\n",
              "9  0.862802  1.517019  1.278967  ...  1.702982  5.049250  0.000000\n",
              "\n",
              "[10 rows x 10 columns]"
            ]
          },
          "metadata": {},
          "execution_count": 24
        }
      ]
    },
    {
      "cell_type": "markdown",
      "metadata": {
        "id": "LkOh2cTd8s3r"
      },
      "source": [
        "Si se desea incluir la variable categorica `ciiu` se debe recurrir a la distancia Gower. En este caso se utiliza Sklearn no cuenta aun con soporte para esta distancia por lo que importamos la libreria `gower` y usamos la función `gower_matrix`."
      ]
    },
    {
      "cell_type": "code",
      "metadata": {
        "colab": {
          "base_uri": "https://localhost:8080/"
        },
        "id": "oOw08Tvn6gqz",
        "outputId": "9453796d-1200-457d-b52f-324cbdf63c60"
      },
      "source": [
        "!pip install gower"
      ],
      "execution_count": null,
      "outputs": [
        {
          "output_type": "stream",
          "name": "stdout",
          "text": [
            "Collecting gower\n",
            "  Downloading gower-0.0.5.tar.gz (4.4 kB)\n",
            "Requirement already satisfied: numpy in /usr/local/lib/python3.7/dist-packages (from gower) (1.19.5)\n",
            "Requirement already satisfied: scipy in /usr/local/lib/python3.7/dist-packages (from gower) (1.4.1)\n",
            "Building wheels for collected packages: gower\n",
            "  Building wheel for gower (setup.py) ... \u001b[?25l\u001b[?25hdone\n",
            "  Created wheel for gower: filename=gower-0.0.5-py3-none-any.whl size=4231 sha256=c92994a0c29e84c0e033edf268dcea449071a3c6497e0b2786713cd77986bd64\n",
            "  Stored in directory: /root/.cache/pip/wheels/3e/f9/9a/67122a959a424e9cbb4557a8366c871a30e31cd75f0d003db4\n",
            "Successfully built gower\n",
            "Installing collected packages: gower\n",
            "Successfully installed gower-0.0.5\n"
          ]
        }
      ]
    },
    {
      "cell_type": "code",
      "metadata": {
        "colab": {
          "base_uri": "https://localhost:8080/",
          "height": 363
        },
        "id": "AhpuJY5a3kLd",
        "outputId": "ea7e0185-9051-4960-e5ff-00870a80a74f"
      },
      "source": [
        "import gower\n",
        "dist_gow = gower.gower_matrix(primeros_10_datos_transformados[['activo','pasivo','ciiu']], cat_features=[False,False,True])\n",
        "pd.DataFrame(dist_gow)"
      ],
      "execution_count": null,
      "outputs": [
        {
          "output_type": "execute_result",
          "data": {
            "text/html": [
              "<div>\n",
              "<style scoped>\n",
              "    .dataframe tbody tr th:only-of-type {\n",
              "        vertical-align: middle;\n",
              "    }\n",
              "\n",
              "    .dataframe tbody tr th {\n",
              "        vertical-align: top;\n",
              "    }\n",
              "\n",
              "    .dataframe thead th {\n",
              "        text-align: right;\n",
              "    }\n",
              "</style>\n",
              "<table border=\"1\" class=\"dataframe\">\n",
              "  <thead>\n",
              "    <tr style=\"text-align: right;\">\n",
              "      <th></th>\n",
              "      <th>0</th>\n",
              "      <th>1</th>\n",
              "      <th>2</th>\n",
              "      <th>3</th>\n",
              "      <th>4</th>\n",
              "      <th>5</th>\n",
              "      <th>6</th>\n",
              "      <th>7</th>\n",
              "      <th>8</th>\n",
              "      <th>9</th>\n",
              "    </tr>\n",
              "  </thead>\n",
              "  <tbody>\n",
              "    <tr>\n",
              "      <th>0</th>\n",
              "      <td>0.000000</td>\n",
              "      <td>0.396809</td>\n",
              "      <td>0.373290</td>\n",
              "      <td>0.412478</td>\n",
              "      <td>0.417836</td>\n",
              "      <td>0.408077</td>\n",
              "      <td>0.458746</td>\n",
              "      <td>0.414538</td>\n",
              "      <td>0.913532</td>\n",
              "      <td>0.418262</td>\n",
              "    </tr>\n",
              "    <tr>\n",
              "      <th>1</th>\n",
              "      <td>0.396809</td>\n",
              "      <td>0.000000</td>\n",
              "      <td>0.356852</td>\n",
              "      <td>0.349003</td>\n",
              "      <td>0.354360</td>\n",
              "      <td>0.350308</td>\n",
              "      <td>0.522222</td>\n",
              "      <td>0.354051</td>\n",
              "      <td>0.977008</td>\n",
              "      <td>0.481737</td>\n",
              "    </tr>\n",
              "    <tr>\n",
              "      <th>2</th>\n",
              "      <td>0.373290</td>\n",
              "      <td>0.356852</td>\n",
              "      <td>0.000000</td>\n",
              "      <td>0.372521</td>\n",
              "      <td>0.377879</td>\n",
              "      <td>0.368120</td>\n",
              "      <td>0.498703</td>\n",
              "      <td>0.374581</td>\n",
              "      <td>0.953490</td>\n",
              "      <td>0.458219</td>\n",
              "    </tr>\n",
              "    <tr>\n",
              "      <th>3</th>\n",
              "      <td>0.412478</td>\n",
              "      <td>0.349003</td>\n",
              "      <td>0.372521</td>\n",
              "      <td>0.000000</td>\n",
              "      <td>0.342621</td>\n",
              "      <td>0.339542</td>\n",
              "      <td>0.537891</td>\n",
              "      <td>0.343285</td>\n",
              "      <td>0.992677</td>\n",
              "      <td>0.164073</td>\n",
              "    </tr>\n",
              "    <tr>\n",
              "      <th>4</th>\n",
              "      <td>0.417836</td>\n",
              "      <td>0.354360</td>\n",
              "      <td>0.377879</td>\n",
              "      <td>0.342621</td>\n",
              "      <td>0.000000</td>\n",
              "      <td>0.343092</td>\n",
              "      <td>0.543249</td>\n",
              "      <td>0.336632</td>\n",
              "      <td>0.998035</td>\n",
              "      <td>0.502764</td>\n",
              "    </tr>\n",
              "    <tr>\n",
              "      <th>5</th>\n",
              "      <td>0.408077</td>\n",
              "      <td>0.350308</td>\n",
              "      <td>0.368120</td>\n",
              "      <td>0.339542</td>\n",
              "      <td>0.343092</td>\n",
              "      <td>0.000000</td>\n",
              "      <td>0.533490</td>\n",
              "      <td>0.339794</td>\n",
              "      <td>0.988276</td>\n",
              "      <td>0.493005</td>\n",
              "    </tr>\n",
              "    <tr>\n",
              "      <th>6</th>\n",
              "      <td>0.458746</td>\n",
              "      <td>0.522222</td>\n",
              "      <td>0.498703</td>\n",
              "      <td>0.537891</td>\n",
              "      <td>0.543249</td>\n",
              "      <td>0.533490</td>\n",
              "      <td>0.000000</td>\n",
              "      <td>0.539950</td>\n",
              "      <td>0.788120</td>\n",
              "      <td>0.425168</td>\n",
              "    </tr>\n",
              "    <tr>\n",
              "      <th>7</th>\n",
              "      <td>0.414538</td>\n",
              "      <td>0.354051</td>\n",
              "      <td>0.374581</td>\n",
              "      <td>0.343285</td>\n",
              "      <td>0.336632</td>\n",
              "      <td>0.339794</td>\n",
              "      <td>0.539950</td>\n",
              "      <td>0.000000</td>\n",
              "      <td>0.994737</td>\n",
              "      <td>0.499466</td>\n",
              "    </tr>\n",
              "    <tr>\n",
              "      <th>8</th>\n",
              "      <td>0.913532</td>\n",
              "      <td>0.977008</td>\n",
              "      <td>0.953490</td>\n",
              "      <td>0.992677</td>\n",
              "      <td>0.998035</td>\n",
              "      <td>0.988276</td>\n",
              "      <td>0.788120</td>\n",
              "      <td>0.994737</td>\n",
              "      <td>0.000000</td>\n",
              "      <td>0.828604</td>\n",
              "    </tr>\n",
              "    <tr>\n",
              "      <th>9</th>\n",
              "      <td>0.418262</td>\n",
              "      <td>0.481737</td>\n",
              "      <td>0.458219</td>\n",
              "      <td>0.164073</td>\n",
              "      <td>0.502764</td>\n",
              "      <td>0.493005</td>\n",
              "      <td>0.425168</td>\n",
              "      <td>0.499466</td>\n",
              "      <td>0.828604</td>\n",
              "      <td>0.000000</td>\n",
              "    </tr>\n",
              "  </tbody>\n",
              "</table>\n",
              "</div>"
            ],
            "text/plain": [
              "          0         1         2  ...         7         8         9\n",
              "0  0.000000  0.396809  0.373290  ...  0.414538  0.913532  0.418262\n",
              "1  0.396809  0.000000  0.356852  ...  0.354051  0.977008  0.481737\n",
              "2  0.373290  0.356852  0.000000  ...  0.374581  0.953490  0.458219\n",
              "3  0.412478  0.349003  0.372521  ...  0.343285  0.992677  0.164073\n",
              "4  0.417836  0.354360  0.377879  ...  0.336632  0.998035  0.502764\n",
              "5  0.408077  0.350308  0.368120  ...  0.339794  0.988276  0.493005\n",
              "6  0.458746  0.522222  0.498703  ...  0.539950  0.788120  0.425168\n",
              "7  0.414538  0.354051  0.374581  ...  0.000000  0.994737  0.499466\n",
              "8  0.913532  0.977008  0.953490  ...  0.994737  0.000000  0.828604\n",
              "9  0.418262  0.481737  0.458219  ...  0.499466  0.828604  0.000000\n",
              "\n",
              "[10 rows x 10 columns]"
            ]
          },
          "metadata": {},
          "execution_count": 26
        }
      ]
    },
    {
      "cell_type": "markdown",
      "metadata": {
        "id": "NPJmcL563aFT"
      },
      "source": [
        "Mediante la libreria seaborn se puede generar una representación visual de las distancias entre individuos, tomando como argumento las distancias previamente calculadas:"
      ]
    },
    {
      "cell_type": "code",
      "metadata": {
        "colab": {
          "base_uri": "https://localhost:8080/",
          "height": 428
        },
        "id": "jeTBQonp8TeD",
        "outputId": "d936f71d-d6a5-401f-db59-7800fe1be6d4"
      },
      "source": [
        "fig, ax = plt.subplots(figsize=(10,7))\n",
        "sns.heatmap(dist_man, cmap='Blues', annot=True, fmt='.1f');"
      ],
      "execution_count": null,
      "outputs": [
        {
          "output_type": "display_data",
          "data": {
            "image/png": "[encoded data removed]",
            "text/plain": [
              "<Figure size 720x504 with 2 Axes>"
            ]
          },
          "metadata": {
            "needs_background": "light"
          }
        }
      ]
    },
    {
      "cell_type": "markdown",
      "metadata": {
        "id": "3dK9IWvc-RlC"
      },
      "source": [
        "## 2.2. Clustering particional\n",
        "\n",
        "Los métodos de clustering particional buscan clasificar los individuos en uno de varios grupos posibles, generados a partir del conjunto de datos con el que se está trabajando. Para esto se utiliza su similaridad (distancia), tratando que todas las observaciones en un grupo sean parecidas, mientras que los grupos sean diferentes entre sí. En esta sección se presentará el método de K-medias y K-medioides."
      ]
    },
    {
      "cell_type": "markdown",
      "metadata": {
        "id": "FNAkAtUZ_Tiq"
      },
      "source": [
        "### 2.2.1. Clustering por K-medias\n",
        "\n",
        "El procedimiento de K-medias fue propuesto por MacQueen en 1967, y busca dividir un conjunto de datos en K grupos, maximizando la similaridad intraclase y minimizando la similaridad interclase. Cada grupo está caracterizado por su promedio (p dimensional).\n",
        "\n",
        "Se define la variación total entre cluster como la suma de las distancias entre los individuos y el centroide del grupo:\n",
        "\n",
        "<center>$W(C_k) = \\sum_{x_i \\in c_k} dist(x_i, \\mu_k)$</center>\n",
        "\n",
        "donde $x_i$ es un vector que caracteriza al individuo $i$, $\\mu_k$ es el vector de medias para las observaciones que pertenencen al grupo $k$ y $dist$ es una medida de distancia, usualmente la distancia Euclídea. De esta forma, cada registro se asigna a un grupo tal que su distancia al centro del grupo es mínima. Adicionalmente, se\n",
        "define la variación total entre cluster como:\n",
        "\n",
        "<center>$VTC = \\sum_{k=1}^{K} W(C_k) = \\sum_{k=1}^{K} \\sum_{x_i \\in c_k} dist(x_i, \\mu_k)$ </center>\n",
        "\n",
        "El primer paso en el algoritmo consiste en la selección de K. Posteriormente, los individuos se asignan aleatoriamente para conformar K grupos y se calculan los centroides (mediante medias) respectivos. Tomando los 10 individuos del ejemplo anterior y K = 2 se tiene:"
      ]
    },
    {
      "cell_type": "code",
      "metadata": {
        "id": "4rzDDKCm_b8S"
      },
      "source": [
        "np.random.seed(777)\n",
        "cluster = primeros_10_datos_transformados[['activo','pasivo']].copy()\n",
        "cluster['g1'] = np.random.randint(1, 3, size = cluster.shape[0])"
      ],
      "execution_count": null,
      "outputs": []
    },
    {
      "cell_type": "code",
      "metadata": {
        "colab": {
          "base_uri": "https://localhost:8080/",
          "height": 143
        },
        "id": "bC3qzpuD_8nU",
        "outputId": "ebaaa584-d504-4f96-aced-2b28599e8f0d"
      },
      "source": [
        "cluster_centro = cluster.groupby('g1').agg({'activo':'mean', 'pasivo':'mean'})\n",
        "cluster_centro"
      ],
      "execution_count": null,
      "outputs": [
        {
          "output_type": "execute_result",
          "data": {
            "text/html": [
              "<div>\n",
              "<style scoped>\n",
              "    .dataframe tbody tr th:only-of-type {\n",
              "        vertical-align: middle;\n",
              "    }\n",
              "\n",
              "    .dataframe tbody tr th {\n",
              "        vertical-align: top;\n",
              "    }\n",
              "\n",
              "    .dataframe thead th {\n",
              "        text-align: right;\n",
              "    }\n",
              "</style>\n",
              "<table border=\"1\" class=\"dataframe\">\n",
              "  <thead>\n",
              "    <tr style=\"text-align: right;\">\n",
              "      <th></th>\n",
              "      <th>activo</th>\n",
              "      <th>pasivo</th>\n",
              "    </tr>\n",
              "    <tr>\n",
              "      <th>g1</th>\n",
              "      <th></th>\n",
              "      <th></th>\n",
              "    </tr>\n",
              "  </thead>\n",
              "  <tbody>\n",
              "    <tr>\n",
              "      <th>1</th>\n",
              "      <td>-0.235202</td>\n",
              "      <td>-0.107224</td>\n",
              "    </tr>\n",
              "    <tr>\n",
              "      <th>2</th>\n",
              "      <td>0.058800</td>\n",
              "      <td>0.026806</td>\n",
              "    </tr>\n",
              "  </tbody>\n",
              "</table>\n",
              "</div>"
            ],
            "text/plain": [
              "      activo    pasivo\n",
              "g1                    \n",
              "1  -0.235202 -0.107224\n",
              "2   0.058800  0.026806"
            ]
          },
          "metadata": {},
          "execution_count": 29
        }
      ]
    },
    {
      "cell_type": "markdown",
      "metadata": {
        "id": "bbIQKnBzDNjk"
      },
      "source": [
        "Posteriormente se calculan las distancias (por ejemplo, Euclídea) de los individuos al centroide de cada grupo, y las observaciones se asignan al grupo donde la distancia al centro es menor:"
      ]
    },
    {
      "cell_type": "code",
      "metadata": {
        "colab": {
          "base_uri": "https://localhost:8080/",
          "height": 363
        },
        "id": "5A87jUdzDU5L",
        "outputId": "c151fcb9-92e7-45d1-df9d-cf5066f5744d"
      },
      "source": [
        "cluster['dg1'] = np.sqrt(np.square(cluster['activo']-cluster_centro['activo'][1]) + \n",
        "                         np.square(cluster['pasivo']-cluster_centro['pasivo'][1]))\n",
        "cluster['dg2'] = np.sqrt(np.square(cluster['activo']-cluster_centro['activo'][2]) +\n",
        "                         np.square(cluster['pasivo']-cluster_centro['pasivo'][2]))\n",
        "cluster['g2'] = 1\n",
        "cluster['g2'] = np.where(cluster['dg2']< cluster['dg1'], 2, cluster['g2'])\n",
        "cluster"
      ],
      "execution_count": null,
      "outputs": [
        {
          "output_type": "execute_result",
          "data": {
            "text/html": [
              "<div>\n",
              "<style scoped>\n",
              "    .dataframe tbody tr th:only-of-type {\n",
              "        vertical-align: middle;\n",
              "    }\n",
              "\n",
              "    .dataframe tbody tr th {\n",
              "        vertical-align: top;\n",
              "    }\n",
              "\n",
              "    .dataframe thead th {\n",
              "        text-align: right;\n",
              "    }\n",
              "</style>\n",
              "<table border=\"1\" class=\"dataframe\">\n",
              "  <thead>\n",
              "    <tr style=\"text-align: right;\">\n",
              "      <th></th>\n",
              "      <th>activo</th>\n",
              "      <th>pasivo</th>\n",
              "      <th>g1</th>\n",
              "      <th>dg1</th>\n",
              "      <th>dg2</th>\n",
              "      <th>g2</th>\n",
              "    </tr>\n",
              "  </thead>\n",
              "  <tbody>\n",
              "    <tr>\n",
              "      <th>0</th>\n",
              "      <td>-0.384071</td>\n",
              "      <td>0.018625</td>\n",
              "      <td>2</td>\n",
              "      <td>0.194936</td>\n",
              "      <td>0.442947</td>\n",
              "      <td>1</td>\n",
              "    </tr>\n",
              "    <tr>\n",
              "      <th>1</th>\n",
              "      <td>-0.570908</td>\n",
              "      <td>-0.448756</td>\n",
              "      <td>2</td>\n",
              "      <td>0.478897</td>\n",
              "      <td>0.789108</td>\n",
              "      <td>1</td>\n",
              "    </tr>\n",
              "    <tr>\n",
              "      <th>2</th>\n",
              "      <td>-0.411786</td>\n",
              "      <td>-0.369826</td>\n",
              "      <td>2</td>\n",
              "      <td>0.316451</td>\n",
              "      <td>0.615441</td>\n",
              "      <td>1</td>\n",
              "    </tr>\n",
              "    <tr>\n",
              "      <th>3</th>\n",
              "      <td>-0.595345</td>\n",
              "      <td>-0.586864</td>\n",
              "      <td>1</td>\n",
              "      <td>0.599797</td>\n",
              "      <td>0.896937</td>\n",
              "      <td>1</td>\n",
              "    </tr>\n",
              "    <tr>\n",
              "      <th>4</th>\n",
              "      <td>-0.575760</td>\n",
              "      <td>-0.663376</td>\n",
              "      <td>2</td>\n",
              "      <td>0.652138</td>\n",
              "      <td>0.937560</td>\n",
              "      <td>1</td>\n",
              "    </tr>\n",
              "    <tr>\n",
              "      <th>5</th>\n",
              "      <td>-0.542470</td>\n",
              "      <td>-0.596306</td>\n",
              "      <td>2</td>\n",
              "      <td>0.577594</td>\n",
              "      <td>0.865907</td>\n",
              "      <td>1</td>\n",
              "    </tr>\n",
              "    <tr>\n",
              "      <th>6</th>\n",
              "      <td>0.784363</td>\n",
              "      <td>0.104142</td>\n",
              "      <td>2</td>\n",
              "      <td>1.041244</td>\n",
              "      <td>0.729672</td>\n",
              "      <td>2</td>\n",
              "    </tr>\n",
              "    <tr>\n",
              "      <th>7</th>\n",
              "      <td>-0.556013</td>\n",
              "      <td>-0.649612</td>\n",
              "      <td>2</td>\n",
              "      <td>0.630163</td>\n",
              "      <td>0.914078</td>\n",
              "      <td>1</td>\n",
              "    </tr>\n",
              "    <tr>\n",
              "      <th>8</th>\n",
              "      <td>2.727048</td>\n",
              "      <td>2.819558</td>\n",
              "      <td>2</td>\n",
              "      <td>4.164250</td>\n",
              "      <td>3.862513</td>\n",
              "      <td>2</td>\n",
              "    </tr>\n",
              "    <tr>\n",
              "      <th>9</th>\n",
              "      <td>0.124941</td>\n",
              "      <td>0.372415</td>\n",
              "      <td>1</td>\n",
              "      <td>0.599797</td>\n",
              "      <td>0.351881</td>\n",
              "      <td>2</td>\n",
              "    </tr>\n",
              "  </tbody>\n",
              "</table>\n",
              "</div>"
            ],
            "text/plain": [
              "     activo    pasivo  g1       dg1       dg2  g2\n",
              "0 -0.384071  0.018625   2  0.194936  0.442947   1\n",
              "1 -0.570908 -0.448756   2  0.478897  0.789108   1\n",
              "2 -0.411786 -0.369826   2  0.316451  0.615441   1\n",
              "3 -0.595345 -0.586864   1  0.599797  0.896937   1\n",
              "4 -0.575760 -0.663376   2  0.652138  0.937560   1\n",
              "5 -0.542470 -0.596306   2  0.577594  0.865907   1\n",
              "6  0.784363  0.104142   2  1.041244  0.729672   2\n",
              "7 -0.556013 -0.649612   2  0.630163  0.914078   1\n",
              "8  2.727048  2.819558   2  4.164250  3.862513   2\n",
              "9  0.124941  0.372415   1  0.599797  0.351881   2"
            ]
          },
          "metadata": {},
          "execution_count": 30
        }
      ]
    },
    {
      "cell_type": "markdown",
      "metadata": {
        "id": "gkxfTVd2FsoD"
      },
      "source": [
        "A partir de los nuevos grupos, el procedimiento de cálculo de centroides, cálculo de distancias y asignación en grupos se repite hasta que no haya variación:"
      ]
    },
    {
      "cell_type": "code",
      "metadata": {
        "colab": {
          "base_uri": "https://localhost:8080/"
        },
        "id": "t4IsAkFsF558",
        "outputId": "fcda759a-61cb-4124-8372-b2bcb0b3c8e2"
      },
      "source": [
        "variacion = 1\n",
        "while variacion > 0: \n",
        "    cluster_centro = cluster.groupby('g2').agg({'activo':'mean', 'pasivo':'mean'})\n",
        "    cluster['dg1'] = np.sqrt(np.square(cluster['activo']-cluster_centro['activo'][1]) + \n",
        "                             np.square(cluster['pasivo']-cluster_centro['pasivo'][1]))\n",
        "    cluster['dg2'] = np.sqrt(np.square(cluster['activo']-cluster_centro['activo'][2]) + \n",
        "                             np.square(cluster['pasivo']-cluster_centro['pasivo'][2]))\n",
        "    grupo = cluster['g2'].copy()\n",
        "    cluster['g2']= 1\n",
        "    cluster['g2'] = np.where(cluster['dg2']< cluster['dg1'], 2, cluster['g2'])\n",
        "    variacion = np.sum(np.square(grupo - cluster['g2']))\n",
        "    print(variacion)"
      ],
      "execution_count": null,
      "outputs": [
        {
          "output_type": "stream",
          "name": "stdout",
          "text": [
            "1\n",
            "1\n",
            "0\n"
          ]
        }
      ]
    },
    {
      "cell_type": "code",
      "metadata": {
        "colab": {
          "base_uri": "https://localhost:8080/",
          "height": 363
        },
        "id": "VTBUXVSdRjaY",
        "outputId": "13f019bd-7c71-45df-afc8-4759f3b41c09"
      },
      "source": [
        "cluster"
      ],
      "execution_count": null,
      "outputs": [
        {
          "output_type": "execute_result",
          "data": {
            "text/html": [
              "<div>\n",
              "<style scoped>\n",
              "    .dataframe tbody tr th:only-of-type {\n",
              "        vertical-align: middle;\n",
              "    }\n",
              "\n",
              "    .dataframe tbody tr th {\n",
              "        vertical-align: top;\n",
              "    }\n",
              "\n",
              "    .dataframe thead th {\n",
              "        text-align: right;\n",
              "    }\n",
              "</style>\n",
              "<table border=\"1\" class=\"dataframe\">\n",
              "  <thead>\n",
              "    <tr style=\"text-align: right;\">\n",
              "      <th></th>\n",
              "      <th>activo</th>\n",
              "      <th>pasivo</th>\n",
              "      <th>g1</th>\n",
              "      <th>dg1</th>\n",
              "      <th>dg2</th>\n",
              "      <th>g2</th>\n",
              "    </tr>\n",
              "  </thead>\n",
              "  <tbody>\n",
              "    <tr>\n",
              "      <th>0</th>\n",
              "      <td>-0.384071</td>\n",
              "      <td>0.018625</td>\n",
              "      <td>2</td>\n",
              "      <td>0.341665</td>\n",
              "      <td>4.186202</td>\n",
              "      <td>1</td>\n",
              "    </tr>\n",
              "    <tr>\n",
              "      <th>1</th>\n",
              "      <td>-0.570908</td>\n",
              "      <td>-0.448756</td>\n",
              "      <td>2</td>\n",
              "      <td>0.300207</td>\n",
              "      <td>4.643101</td>\n",
              "      <td>1</td>\n",
              "    </tr>\n",
              "    <tr>\n",
              "      <th>2</th>\n",
              "      <td>-0.411786</td>\n",
              "      <td>-0.369826</td>\n",
              "      <td>2</td>\n",
              "      <td>0.122597</td>\n",
              "      <td>4.474868</td>\n",
              "      <td>1</td>\n",
              "    </tr>\n",
              "    <tr>\n",
              "      <th>3</th>\n",
              "      <td>-0.595345</td>\n",
              "      <td>-0.586864</td>\n",
              "      <td>1</td>\n",
              "      <td>0.400385</td>\n",
              "      <td>4.758362</td>\n",
              "      <td>1</td>\n",
              "    </tr>\n",
              "    <tr>\n",
              "      <th>4</th>\n",
              "      <td>-0.575760</td>\n",
              "      <td>-0.663376</td>\n",
              "      <td>2</td>\n",
              "      <td>0.443801</td>\n",
              "      <td>4.799934</td>\n",
              "      <td>1</td>\n",
              "    </tr>\n",
              "    <tr>\n",
              "      <th>5</th>\n",
              "      <td>-0.542470</td>\n",
              "      <td>-0.596306</td>\n",
              "      <td>2</td>\n",
              "      <td>0.370735</td>\n",
              "      <td>4.728412</td>\n",
              "      <td>1</td>\n",
              "    </tr>\n",
              "    <tr>\n",
              "      <th>6</th>\n",
              "      <td>0.784363</td>\n",
              "      <td>0.104142</td>\n",
              "      <td>2</td>\n",
              "      <td>1.164738</td>\n",
              "      <td>3.338789</td>\n",
              "      <td>1</td>\n",
              "    </tr>\n",
              "    <tr>\n",
              "      <th>7</th>\n",
              "      <td>-0.556013</td>\n",
              "      <td>-0.649612</td>\n",
              "      <td>2</td>\n",
              "      <td>0.420868</td>\n",
              "      <td>4.776362</td>\n",
              "      <td>1</td>\n",
              "    </tr>\n",
              "    <tr>\n",
              "      <th>8</th>\n",
              "      <td>2.727048</td>\n",
              "      <td>2.819558</td>\n",
              "      <td>2</td>\n",
              "      <td>4.358432</td>\n",
              "      <td>0.000000</td>\n",
              "      <td>2</td>\n",
              "    </tr>\n",
              "    <tr>\n",
              "      <th>9</th>\n",
              "      <td>0.124941</td>\n",
              "      <td>0.372415</td>\n",
              "      <td>1</td>\n",
              "      <td>0.808283</td>\n",
              "      <td>3.572040</td>\n",
              "      <td>1</td>\n",
              "    </tr>\n",
              "  </tbody>\n",
              "</table>\n",
              "</div>"
            ],
            "text/plain": [
              "     activo    pasivo  g1       dg1       dg2  g2\n",
              "0 -0.384071  0.018625   2  0.341665  4.186202   1\n",
              "1 -0.570908 -0.448756   2  0.300207  4.643101   1\n",
              "2 -0.411786 -0.369826   2  0.122597  4.474868   1\n",
              "3 -0.595345 -0.586864   1  0.400385  4.758362   1\n",
              "4 -0.575760 -0.663376   2  0.443801  4.799934   1\n",
              "5 -0.542470 -0.596306   2  0.370735  4.728412   1\n",
              "6  0.784363  0.104142   2  1.164738  3.338789   1\n",
              "7 -0.556013 -0.649612   2  0.420868  4.776362   1\n",
              "8  2.727048  2.819558   2  4.358432  0.000000   2\n",
              "9  0.124941  0.372415   1  0.808283  3.572040   1"
            ]
          },
          "metadata": {},
          "execution_count": 32
        }
      ]
    },
    {
      "cell_type": "code",
      "metadata": {
        "colab": {
          "base_uri": "https://localhost:8080/",
          "height": 442
        },
        "id": "7hJVYdWiG4Zs",
        "outputId": "39492311-f8f5-4c8b-bb89-ffded32178ff"
      },
      "source": [
        "fig, ax = plt.subplots(figsize=(7,7))\n",
        "sns.scatterplot(data=cluster, x=\"activo\", y=\"pasivo\", s= 20, hue='g2',  palette=['red','blue']);"
      ],
      "execution_count": null,
      "outputs": [
        {
          "output_type": "display_data",
          "data": {
            "image/png": "[encoded data removed]",
            "text/plain": [
              "<Figure size 504x504 with 1 Axes>"
            ]
          },
          "metadata": {
            "needs_background": "light"
          }
        }
      ]
    },
    {
      "cell_type": "markdown",
      "metadata": {
        "id": "-x-vSWCMKKgd"
      },
      "source": [
        "Ahora, en python podemos utilizar la libreria Sklearn e importar kmeans. Utilizaremos el elemento datos con las variables activo y pasivo, y generaremos K = 5 grupos:"
      ]
    },
    {
      "cell_type": "code",
      "metadata": {
        "id": "4a8ghVmGSDQZ"
      },
      "source": [
        "filtro = cluster.isna()"
      ],
      "execution_count": null,
      "outputs": []
    },
    {
      "cell_type": "code",
      "metadata": {
        "colab": {
          "base_uri": "https://localhost:8080/",
          "height": 424
        },
        "id": "jsRXGxoMSMfh",
        "outputId": "f4f7796a-f577-48ee-bcd6-578d9844405f"
      },
      "source": [
        "datos[['activo','pasivo','dpto']]"
      ],
      "execution_count": null,
      "outputs": [
        {
          "output_type": "execute_result",
          "data": {
            "text/html": [
              "<div>\n",
              "<style scoped>\n",
              "    .dataframe tbody tr th:only-of-type {\n",
              "        vertical-align: middle;\n",
              "    }\n",
              "\n",
              "    .dataframe tbody tr th {\n",
              "        vertical-align: top;\n",
              "    }\n",
              "\n",
              "    .dataframe thead th {\n",
              "        text-align: right;\n",
              "    }\n",
              "</style>\n",
              "<table border=\"1\" class=\"dataframe\">\n",
              "  <thead>\n",
              "    <tr style=\"text-align: right;\">\n",
              "      <th></th>\n",
              "      <th>activo</th>\n",
              "      <th>pasivo</th>\n",
              "      <th>dpto</th>\n",
              "    </tr>\n",
              "  </thead>\n",
              "  <tbody>\n",
              "    <tr>\n",
              "      <th>0</th>\n",
              "      <td>6542076</td>\n",
              "      <td>5352469</td>\n",
              "      <td>ANTIOQUIA</td>\n",
              "    </tr>\n",
              "    <tr>\n",
              "      <th>1</th>\n",
              "      <td>3419876</td>\n",
              "      <td>2499818</td>\n",
              "      <td>ATLANTICO</td>\n",
              "    </tr>\n",
              "    <tr>\n",
              "      <th>2</th>\n",
              "      <td>141586731</td>\n",
              "      <td>94570079</td>\n",
              "      <td>SANTANDER</td>\n",
              "    </tr>\n",
              "    <tr>\n",
              "      <th>3</th>\n",
              "      <td>6078941</td>\n",
              "      <td>2981565</td>\n",
              "      <td>BOGOTA D.C.</td>\n",
              "    </tr>\n",
              "    <tr>\n",
              "      <th>4</th>\n",
              "      <td>3011514</td>\n",
              "      <td>1656877</td>\n",
              "      <td>BOGOTA D.C.</td>\n",
              "    </tr>\n",
              "    <tr>\n",
              "      <th>...</th>\n",
              "      <td>...</td>\n",
              "      <td>...</td>\n",
              "      <td>...</td>\n",
              "    </tr>\n",
              "    <tr>\n",
              "      <th>16055</th>\n",
              "      <td>311709</td>\n",
              "      <td>292284</td>\n",
              "      <td>BOGOTA D.C.</td>\n",
              "    </tr>\n",
              "    <tr>\n",
              "      <th>16056</th>\n",
              "      <td>758073</td>\n",
              "      <td>473044</td>\n",
              "      <td>BOGOTA D.C.</td>\n",
              "    </tr>\n",
              "    <tr>\n",
              "      <th>16057</th>\n",
              "      <td>87028762</td>\n",
              "      <td>66870040</td>\n",
              "      <td>VALLE</td>\n",
              "    </tr>\n",
              "    <tr>\n",
              "      <th>16058</th>\n",
              "      <td>750000</td>\n",
              "      <td>700000</td>\n",
              "      <td>VALLE</td>\n",
              "    </tr>\n",
              "    <tr>\n",
              "      <th>16059</th>\n",
              "      <td>69529867</td>\n",
              "      <td>66866600</td>\n",
              "      <td>BOGOTA D.C.</td>\n",
              "    </tr>\n",
              "  </tbody>\n",
              "</table>\n",
              "<p>16060 rows × 3 columns</p>\n",
              "</div>"
            ],
            "text/plain": [
              "          activo    pasivo         dpto\n",
              "0        6542076   5352469    ANTIOQUIA\n",
              "1        3419876   2499818    ATLANTICO\n",
              "2      141586731  94570079    SANTANDER\n",
              "3        6078941   2981565  BOGOTA D.C.\n",
              "4        3011514   1656877  BOGOTA D.C.\n",
              "...          ...       ...          ...\n",
              "16055     311709    292284  BOGOTA D.C.\n",
              "16056     758073    473044  BOGOTA D.C.\n",
              "16057   87028762  66870040        VALLE\n",
              "16058     750000    700000        VALLE\n",
              "16059   69529867  66866600  BOGOTA D.C.\n",
              "\n",
              "[16060 rows x 3 columns]"
            ]
          },
          "metadata": {},
          "execution_count": 35
        }
      ]
    },
    {
      "cell_type": "code",
      "metadata": {
        "id": "cuoZNuKfMNMF"
      },
      "source": [
        "from sklearn.cluster import KMeans\n",
        "\n",
        "transformador = pipeline_transformacion(datos[['activo','pasivo','dpto']], crear_dummies=False)\n",
        "cluster = pd.DataFrame(transformador.transform(datos[['activo','pasivo','dpto']]), columns=['activo','pasivo','dpto'])\n",
        "cluster = cluster[(cluster['dpto']=='VALLE') & (~cluster.isna().any(axis=1))][['activo','pasivo']]\n",
        "\n",
        "kmeans = KMeans(n_clusters=7, random_state=2021).fit(cluster)\n",
        "\n",
        "cluster['kmean_cluster'] = kmeans.predict(cluster)\n"
      ],
      "execution_count": null,
      "outputs": []
    },
    {
      "cell_type": "code",
      "metadata": {
        "colab": {
          "base_uri": "https://localhost:8080/"
        },
        "id": "8MvzsUyzNVYs",
        "outputId": "454f58dc-b55a-4b2d-ff6f-1be0ccaa0e97"
      },
      "source": [
        "cluster['kmean_cluster'].value_counts().sort_index()"
      ],
      "execution_count": null,
      "outputs": [
        {
          "output_type": "execute_result",
          "data": {
            "text/plain": [
              "0    317\n",
              "1     12\n",
              "2      4\n",
              "3     38\n",
              "4      5\n",
              "5     98\n",
              "6    861\n",
              "Name: kmean_cluster, dtype: int64"
            ]
          },
          "metadata": {},
          "execution_count": 37
        }
      ]
    },
    {
      "cell_type": "markdown",
      "metadata": {
        "id": "fEm3iZ8HOVQG"
      },
      "source": [
        "Seguramente, la primera inquietud que surge es cómo escoger K. Para esto, se ha propuesto generar clusters con $K = 2, 3, ...,N-1$ (o algún límite superior, usualmente muy por debajo de N-1) y analizar\n",
        "el comportamiento de la suma de cuadrados al interior para cada caso. "
      ]
    },
    {
      "cell_type": "code",
      "metadata": {
        "id": "u7W7E5gnQZON",
        "colab": {
          "base_uri": "https://localhost:8080/"
        },
        "outputId": "98a1c703-0ea9-434a-b801-b498a580ac05"
      },
      "source": [
        "!pip install yellowbrick -U"
      ],
      "execution_count": null,
      "outputs": [
        {
          "output_type": "stream",
          "name": "stdout",
          "text": [
            "Requirement already satisfied: yellowbrick in /usr/local/lib/python3.7/dist-packages (1.3.post1)\n",
            "Requirement already satisfied: scipy>=1.0.0 in /usr/local/lib/python3.7/dist-packages (from yellowbrick) (1.4.1)\n",
            "Requirement already satisfied: matplotlib!=3.0.0,>=2.0.2 in /usr/local/lib/python3.7/dist-packages (from yellowbrick) (3.2.2)\n",
            "Requirement already satisfied: scikit-learn>=0.20 in /usr/local/lib/python3.7/dist-packages (from yellowbrick) (1.0.1)\n",
            "Requirement already satisfied: numpy<1.20,>=1.16.0 in /usr/local/lib/python3.7/dist-packages (from yellowbrick) (1.19.5)\n",
            "Requirement already satisfied: cycler>=0.10.0 in /usr/local/lib/python3.7/dist-packages (from yellowbrick) (0.11.0)\n",
            "Requirement already satisfied: pyparsing!=2.0.4,!=2.1.2,!=2.1.6,>=2.0.1 in /usr/local/lib/python3.7/dist-packages (from matplotlib!=3.0.0,>=2.0.2->yellowbrick) (3.0.6)\n",
            "Requirement already satisfied: kiwisolver>=1.0.1 in /usr/local/lib/python3.7/dist-packages (from matplotlib!=3.0.0,>=2.0.2->yellowbrick) (1.3.2)\n",
            "Requirement already satisfied: python-dateutil>=2.1 in /usr/local/lib/python3.7/dist-packages (from matplotlib!=3.0.0,>=2.0.2->yellowbrick) (2.8.2)\n",
            "Requirement already satisfied: six>=1.5 in /usr/local/lib/python3.7/dist-packages (from python-dateutil>=2.1->matplotlib!=3.0.0,>=2.0.2->yellowbrick) (1.15.0)\n",
            "Requirement already satisfied: joblib>=0.11 in /usr/local/lib/python3.7/dist-packages (from scikit-learn>=0.20->yellowbrick) (1.1.0)\n",
            "Requirement already satisfied: threadpoolctl>=2.0.0 in /usr/local/lib/python3.7/dist-packages (from scikit-learn>=0.20->yellowbrick) (3.0.0)\n"
          ]
        }
      ]
    },
    {
      "cell_type": "code",
      "metadata": {
        "colab": {
          "base_uri": "https://localhost:8080/",
          "height": 376
        },
        "id": "Y2dP-OSsODuv",
        "outputId": "76f2e869-a5d1-4afc-b7ff-8cc5ffc2296d"
      },
      "source": [
        "from yellowbrick.cluster import KElbowVisualizer\n",
        "\n",
        "transformador = pipeline_transformacion(datos[['activo','pasivo','dpto']], crear_dummies=False)\n",
        "cluster = pd.DataFrame(transformador.transform(datos[['activo','pasivo','dpto']]), columns=['activo','pasivo','dpto'])\n",
        "cluster = cluster[(cluster['dpto']=='VALLE') & (~cluster.isna().any(axis=1))][['activo','pasivo']]\n",
        "\n",
        "\n",
        "# Inicializar el modelo de clustering model y visualizador\n",
        "model = KMeans(random_state=2021)\n",
        "visualizer = KElbowVisualizer(model,\n",
        "                              k=(2,12), \n",
        "                              metric='distortion',\n",
        "                              timings=False,\n",
        "                              locate_elbow=True)\n",
        "\n",
        "visualizer.fit(cluster) \n",
        "visualizer.show();"
      ],
      "execution_count": null,
      "outputs": [
        {
          "output_type": "display_data",
          "data": {
            "image/png": "[encoded data removed]",
            "text/plain": [
              "<Figure size 576x396 with 1 Axes>"
            ]
          },
          "metadata": {}
        }
      ]
    },
    {
      "cell_type": "markdown",
      "metadata": {
        "id": "2tjOfbJ7Tq7B"
      },
      "source": [
        "Se observa que la medida de error de clasificación disminuye en la medida que aumenta K. Aquí se escoge K en el punto donde se observe un codo, aparentemente en K = 4. Finalmente, se genera la agrupación con K = 4, utilizando la opción n_init = 20 para forzar a que el algoritmo se ejecute 20 veces y escoja el\n",
        "resultado con mejor desempeño:"
      ]
    },
    {
      "cell_type": "code",
      "metadata": {
        "colab": {
          "base_uri": "https://localhost:8080/"
        },
        "id": "JlHS0XZDUBWd",
        "outputId": "2b07cdd9-a95c-47e6-b487-93bddadc552b"
      },
      "source": [
        "kmeans = KMeans(n_clusters=4, random_state=2021, n_init=20).fit(cluster)\n",
        "cluster['kmean_cluster'] = kmeans.predict(cluster)\n",
        "cluster['kmean_cluster'].value_counts().sort_index()"
      ],
      "execution_count": null,
      "outputs": [
        {
          "output_type": "execute_result",
          "data": {
            "text/plain": [
              "0     163\n",
              "1      38\n",
              "2    1130\n",
              "3       4\n",
              "Name: kmean_cluster, dtype: int64"
            ]
          },
          "metadata": {},
          "execution_count": 40
        }
      ]
    },
    {
      "cell_type": "code",
      "metadata": {
        "colab": {
          "base_uri": "https://localhost:8080/",
          "height": 175
        },
        "id": "gWHqyrL3PRky",
        "outputId": "499b1928-2e6f-4900-c221-500b6a271c73"
      },
      "source": [
        "centros = pd.DataFrame(kmeans.cluster_centers_, columns = ['activo','pasivo'])\n",
        "centros"
      ],
      "execution_count": null,
      "outputs": [
        {
          "output_type": "execute_result",
          "data": {
            "text/html": [
              "<div>\n",
              "<style scoped>\n",
              "    .dataframe tbody tr th:only-of-type {\n",
              "        vertical-align: middle;\n",
              "    }\n",
              "\n",
              "    .dataframe tbody tr th {\n",
              "        vertical-align: top;\n",
              "    }\n",
              "\n",
              "    .dataframe thead th {\n",
              "        text-align: right;\n",
              "    }\n",
              "</style>\n",
              "<table border=\"1\" class=\"dataframe\">\n",
              "  <thead>\n",
              "    <tr style=\"text-align: right;\">\n",
              "      <th></th>\n",
              "      <th>activo</th>\n",
              "      <th>pasivo</th>\n",
              "    </tr>\n",
              "  </thead>\n",
              "  <tbody>\n",
              "    <tr>\n",
              "      <th>0</th>\n",
              "      <td>0.438296</td>\n",
              "      <td>0.567829</td>\n",
              "    </tr>\n",
              "    <tr>\n",
              "      <th>1</th>\n",
              "      <td>2.085294</td>\n",
              "      <td>2.382735</td>\n",
              "    </tr>\n",
              "    <tr>\n",
              "      <th>2</th>\n",
              "      <td>-0.161446</td>\n",
              "      <td>-0.210295</td>\n",
              "    </tr>\n",
              "    <tr>\n",
              "      <th>3</th>\n",
              "      <td>6.807999</td>\n",
              "      <td>9.364963</td>\n",
              "    </tr>\n",
              "  </tbody>\n",
              "</table>\n",
              "</div>"
            ],
            "text/plain": [
              "     activo    pasivo\n",
              "0  0.438296  0.567829\n",
              "1  2.085294  2.382735\n",
              "2 -0.161446 -0.210295\n",
              "3  6.807999  9.364963"
            ]
          },
          "metadata": {},
          "execution_count": 41
        }
      ]
    },
    {
      "cell_type": "code",
      "metadata": {
        "id": "c6ymBKysMlhM"
      },
      "source": [
        "def plot_cluster_hull(df, name, centers=None):\n",
        "    from scipy.spatial import ConvexHull\n",
        "\n",
        "    colors = sns.color_palette(\"hls\", df[name].nunique())\n",
        "\n",
        "    fig, ax = plt.subplots(1, figsize=(8,8))\n",
        "    sns.scatterplot(data=df, x=\"activo\", y=\"pasivo\", s= 30, hue=name,\n",
        "                    palette=colors)\n",
        "    if centers is not None:\n",
        "        sns.scatterplot(data = centers, x=\"activo\", y=\"pasivo\", marker='x', s=50,\n",
        "                        c=['black'])\n",
        "\n",
        "    for i, c in zip(np.sort(df[name].unique()), colors): \n",
        "        try:\n",
        "            points = df[df[name] == i][['activo', 'pasivo']].values\n",
        "            hull = ConvexHull(points)\n",
        "            x_hull = np.append(points[hull.vertices,0],\n",
        "                            points[hull.vertices,0][0])\n",
        "            y_hull = np.append(points[hull.vertices,1],\n",
        "                            points[hull.vertices,1][0])\n",
        "            plt.fill(x_hull, y_hull, alpha=0.3, c=c)\n",
        "        except:\n",
        "            pass"
      ],
      "execution_count": null,
      "outputs": []
    },
    {
      "cell_type": "code",
      "metadata": {
        "colab": {
          "base_uri": "https://localhost:8080/",
          "height": 497
        },
        "id": "BVbYhpAnNBb4",
        "outputId": "62688a79-b103-49ff-ee64-b94e09626795"
      },
      "source": [
        "plot_cluster_hull(cluster, 'kmean_cluster', centros)"
      ],
      "execution_count": null,
      "outputs": [
        {
          "output_type": "display_data",
          "data": {
            "image/png": "[encoded data removed]",
            "text/plain": [
              "<Figure size 576x576 with 1 Axes>"
            ]
          },
          "metadata": {}
        }
      ]
    },
    {
      "cell_type": "markdown",
      "metadata": {
        "id": "JZNS5FGJZ16P"
      },
      "source": [
        "A pesar de su versatilidad, el método de clusters por K-medias es sensible a las observaciones atípicas (outliers), a la conformación aleatoria inicial de los grupos y requiere que se decida de antemano la cantidad de grupos a conformar. Por estos motivos, se han desarrollado alternativas que modifican la forma en la que se calculan los centros de cada conjunto, dando estabilidad a los resultados."
      ]
    },
    {
      "cell_type": "markdown",
      "metadata": {
        "id": "tQRxMedSaFMG"
      },
      "source": [
        "### 2.2.2. Clustering por K-medioides\n",
        "\n",
        "El método de clustering por K-medioides es muy similar al de K-medias, con la diferencia que cada grupo se caracteriza no a partir del promedio de las variables para los individuos que pertenecen al clúster sino por el individuo más central en el grupo. De esta forma, se consigue reducir la sensibilidad del procedimiento a datos atípicos.\n",
        "\n",
        "El algoritmo más utilizado para el clustering por medioides es el PAM (Partioning Around Medioids). Este procedimiento, primero, selecciona aleatoriamente K elementos para que sean los centros de cada conjunto; segundo, calcula la matriz de distancias de cada elemento no seleccionado a los medioides; tercero, asigna estos elementos a un grupo minimizando su distancia al medioide correspondiente y; cuarto, para cada clúster, intercambia el medioide con algún otro individuo para establecer si de esta forma puede reducir el error de ajuste. Si con el cambio del medioide se consigue mejorar el ajuste, se modifica el medioide y se repite desde el tercer paso hasta conseguir convergencia.\n",
        "\n",
        "En la matriz de similaridades se puede utilizar la distancia Euclídea o Manhattan.\n",
        "\n",
        "En el método de K-medioides se deben definir de antemano la cantidad de clústers K.Para apoyar esta tarea, se define $a(i)$ como la similaridad promedio del individuo $i$ con respecto a todos los demás individuos de su clúster. Adicionalmente, se puede calcular la distancia promedio de $i$ con todos los individuos de cualquier otro grupo al cual no pertenezca $i$. Con esto, se define $b(i)$ como la menor distancia promedio entre $i$ y los individuos de un clúster $C$ al cual no pertence $i$. Este grupo se denomina el clúster vecino de $i$. De esta forma, se define silueta como:\n",
        "\n",
        "<center>$S_{i} = \\frac{b(i) - a(i)}{max \\text{ } a(i), b(i)}$</center>\n",
        "\n"
      ]
    },
    {
      "cell_type": "markdown",
      "metadata": {
        "id": "4hi5rROvaJF3"
      },
      "source": [
        "De acuerdo con la ecuación, $-1 \\le s(i) \\le 1$. Un clúster tendrá mejor ajuste siempre que la silueta sea más grande. De esta forma, se puede seleccionar K como el valor que arroja la silueta más alta para el clúster correspondiente."
      ]
    },
    {
      "cell_type": "code",
      "metadata": {
        "colab": {
          "base_uri": "https://localhost:8080/"
        },
        "id": "3UoK-h4WjyTF",
        "outputId": "9ab7882d-b0dd-4c41-8a06-590c063a5fee"
      },
      "source": [
        "!pip install scikit-learn-extra"
      ],
      "execution_count": null,
      "outputs": [
        {
          "output_type": "stream",
          "name": "stdout",
          "text": [
            "Collecting scikit-learn-extra\n",
            "  Downloading scikit_learn_extra-0.2.0-cp37-cp37m-manylinux2010_x86_64.whl (1.7 MB)\n",
            "\u001b[?25l\r\u001b[K     |▏                               | 10 kB 18.6 MB/s eta 0:00:01\r\u001b[K     |▍                               | 20 kB 23.1 MB/s eta 0:00:01\r\u001b[K     |▋                               | 30 kB 17.1 MB/s eta 0:00:01\r\u001b[K     |▊                               | 40 kB 11.1 MB/s eta 0:00:01\r\u001b[K     |█                               | 51 kB 5.3 MB/s eta 0:00:01\r\u001b[K     |█▏                              | 61 kB 5.5 MB/s eta 0:00:01\r\u001b[K     |█▍                              | 71 kB 5.8 MB/s eta 0:00:01\r\u001b[K     |█▌                              | 81 kB 6.5 MB/s eta 0:00:01\r\u001b[K     |█▊                              | 92 kB 4.9 MB/s eta 0:00:01\r\u001b[K     |██                              | 102 kB 5.3 MB/s eta 0:00:01\r\u001b[K     |██                              | 112 kB 5.3 MB/s eta 0:00:01\r\u001b[K     |██▎                             | 122 kB 5.3 MB/s eta 0:00:01\r\u001b[K     |██▌                             | 133 kB 5.3 MB/s eta 0:00:01\r\u001b[K     |██▊                             | 143 kB 5.3 MB/s eta 0:00:01\r\u001b[K     |██▉                             | 153 kB 5.3 MB/s eta 0:00:01\r\u001b[K     |███                             | 163 kB 5.3 MB/s eta 0:00:01\r\u001b[K     |███▎                            | 174 kB 5.3 MB/s eta 0:00:01\r\u001b[K     |███▌                            | 184 kB 5.3 MB/s eta 0:00:01\r\u001b[K     |███▋                            | 194 kB 5.3 MB/s eta 0:00:01\r\u001b[K     |███▉                            | 204 kB 5.3 MB/s eta 0:00:01\r\u001b[K     |████                            | 215 kB 5.3 MB/s eta 0:00:01\r\u001b[K     |████▏                           | 225 kB 5.3 MB/s eta 0:00:01\r\u001b[K     |████▍                           | 235 kB 5.3 MB/s eta 0:00:01\r\u001b[K     |████▋                           | 245 kB 5.3 MB/s eta 0:00:01\r\u001b[K     |████▉                           | 256 kB 5.3 MB/s eta 0:00:01\r\u001b[K     |█████                           | 266 kB 5.3 MB/s eta 0:00:01\r\u001b[K     |█████▏                          | 276 kB 5.3 MB/s eta 0:00:01\r\u001b[K     |█████▍                          | 286 kB 5.3 MB/s eta 0:00:01\r\u001b[K     |█████▋                          | 296 kB 5.3 MB/s eta 0:00:01\r\u001b[K     |█████▊                          | 307 kB 5.3 MB/s eta 0:00:01\r\u001b[K     |██████                          | 317 kB 5.3 MB/s eta 0:00:01\r\u001b[K     |██████▏                         | 327 kB 5.3 MB/s eta 0:00:01\r\u001b[K     |██████▎                         | 337 kB 5.3 MB/s eta 0:00:01\r\u001b[K     |██████▌                         | 348 kB 5.3 MB/s eta 0:00:01\r\u001b[K     |██████▊                         | 358 kB 5.3 MB/s eta 0:00:01\r\u001b[K     |███████                         | 368 kB 5.3 MB/s eta 0:00:01\r\u001b[K     |███████                         | 378 kB 5.3 MB/s eta 0:00:01\r\u001b[K     |███████▎                        | 389 kB 5.3 MB/s eta 0:00:01\r\u001b[K     |███████▌                        | 399 kB 5.3 MB/s eta 0:00:01\r\u001b[K     |███████▋                        | 409 kB 5.3 MB/s eta 0:00:01\r\u001b[K     |███████▉                        | 419 kB 5.3 MB/s eta 0:00:01\r\u001b[K     |████████                        | 430 kB 5.3 MB/s eta 0:00:01\r\u001b[K     |████████▎                       | 440 kB 5.3 MB/s eta 0:00:01\r\u001b[K     |████████▍                       | 450 kB 5.3 MB/s eta 0:00:01\r\u001b[K     |████████▋                       | 460 kB 5.3 MB/s eta 0:00:01\r\u001b[K     |████████▉                       | 471 kB 5.3 MB/s eta 0:00:01\r\u001b[K     |█████████                       | 481 kB 5.3 MB/s eta 0:00:01\r\u001b[K     |█████████▏                      | 491 kB 5.3 MB/s eta 0:00:01\r\u001b[K     |█████████▍                      | 501 kB 5.3 MB/s eta 0:00:01\r\u001b[K     |█████████▋                      | 512 kB 5.3 MB/s eta 0:00:01\r\u001b[K     |█████████▊                      | 522 kB 5.3 MB/s eta 0:00:01\r\u001b[K     |██████████                      | 532 kB 5.3 MB/s eta 0:00:01\r\u001b[K     |██████████▏                     | 542 kB 5.3 MB/s eta 0:00:01\r\u001b[K     |██████████▍                     | 552 kB 5.3 MB/s eta 0:00:01\r\u001b[K     |██████████▌                     | 563 kB 5.3 MB/s eta 0:00:01\r\u001b[K     |██████████▊                     | 573 kB 5.3 MB/s eta 0:00:01\r\u001b[K     |███████████                     | 583 kB 5.3 MB/s eta 0:00:01\r\u001b[K     |███████████▏                    | 593 kB 5.3 MB/s eta 0:00:01\r\u001b[K     |███████████▎                    | 604 kB 5.3 MB/s eta 0:00:01\r\u001b[K     |███████████▌                    | 614 kB 5.3 MB/s eta 0:00:01\r\u001b[K     |███████████▊                    | 624 kB 5.3 MB/s eta 0:00:01\r\u001b[K     |███████████▉                    | 634 kB 5.3 MB/s eta 0:00:01\r\u001b[K     |████████████                    | 645 kB 5.3 MB/s eta 0:00:01\r\u001b[K     |████████████▎                   | 655 kB 5.3 MB/s eta 0:00:01\r\u001b[K     |████████████▌                   | 665 kB 5.3 MB/s eta 0:00:01\r\u001b[K     |████████████▋                   | 675 kB 5.3 MB/s eta 0:00:01\r\u001b[K     |████████████▉                   | 686 kB 5.3 MB/s eta 0:00:01\r\u001b[K     |█████████████                   | 696 kB 5.3 MB/s eta 0:00:01\r\u001b[K     |█████████████▏                  | 706 kB 5.3 MB/s eta 0:00:01\r\u001b[K     |█████████████▍                  | 716 kB 5.3 MB/s eta 0:00:01\r\u001b[K     |█████████████▋                  | 727 kB 5.3 MB/s eta 0:00:01\r\u001b[K     |█████████████▉                  | 737 kB 5.3 MB/s eta 0:00:01\r\u001b[K     |██████████████                  | 747 kB 5.3 MB/s eta 0:00:01\r\u001b[K     |██████████████▏                 | 757 kB 5.3 MB/s eta 0:00:01\r\u001b[K     |██████████████▍                 | 768 kB 5.3 MB/s eta 0:00:01\r\u001b[K     |██████████████▋                 | 778 kB 5.3 MB/s eta 0:00:01\r\u001b[K     |██████████████▊                 | 788 kB 5.3 MB/s eta 0:00:01\r\u001b[K     |███████████████                 | 798 kB 5.3 MB/s eta 0:00:01\r\u001b[K     |███████████████▏                | 808 kB 5.3 MB/s eta 0:00:01\r\u001b[K     |███████████████▎                | 819 kB 5.3 MB/s eta 0:00:01\r\u001b[K     |███████████████▌                | 829 kB 5.3 MB/s eta 0:00:01\r\u001b[K     |███████████████▊                | 839 kB 5.3 MB/s eta 0:00:01\r\u001b[K     |████████████████                | 849 kB 5.3 MB/s eta 0:00:01\r\u001b[K     |████████████████                | 860 kB 5.3 MB/s eta 0:00:01\r\u001b[K     |████████████████▎               | 870 kB 5.3 MB/s eta 0:00:01\r\u001b[K     |████████████████▌               | 880 kB 5.3 MB/s eta 0:00:01\r\u001b[K     |████████████████▊               | 890 kB 5.3 MB/s eta 0:00:01\r\u001b[K     |████████████████▉               | 901 kB 5.3 MB/s eta 0:00:01\r\u001b[K     |█████████████████               | 911 kB 5.3 MB/s eta 0:00:01\r\u001b[K     |█████████████████▎              | 921 kB 5.3 MB/s eta 0:00:01\r\u001b[K     |█████████████████▍              | 931 kB 5.3 MB/s eta 0:00:01\r\u001b[K     |█████████████████▋              | 942 kB 5.3 MB/s eta 0:00:01\r\u001b[K     |█████████████████▉              | 952 kB 5.3 MB/s eta 0:00:01\r\u001b[K     |██████████████████              | 962 kB 5.3 MB/s eta 0:00:01\r\u001b[K     |██████████████████▏             | 972 kB 5.3 MB/s eta 0:00:01\r\u001b[K     |██████████████████▍             | 983 kB 5.3 MB/s eta 0:00:01\r\u001b[K     |██████████████████▋             | 993 kB 5.3 MB/s eta 0:00:01\r\u001b[K     |██████████████████▊             | 1.0 MB 5.3 MB/s eta 0:00:01\r\u001b[K     |███████████████████             | 1.0 MB 5.3 MB/s eta 0:00:01\r\u001b[K     |███████████████████▏            | 1.0 MB 5.3 MB/s eta 0:00:01\r\u001b[K     |███████████████████▍            | 1.0 MB 5.3 MB/s eta 0:00:01\r\u001b[K     |███████████████████▌            | 1.0 MB 5.3 MB/s eta 0:00:01\r\u001b[K     |███████████████████▊            | 1.1 MB 5.3 MB/s eta 0:00:01\r\u001b[K     |████████████████████            | 1.1 MB 5.3 MB/s eta 0:00:01\r\u001b[K     |████████████████████▏           | 1.1 MB 5.3 MB/s eta 0:00:01\r\u001b[K     |████████████████████▎           | 1.1 MB 5.3 MB/s eta 0:00:01\r\u001b[K     |████████████████████▌           | 1.1 MB 5.3 MB/s eta 0:00:01\r\u001b[K     |████████████████████▊           | 1.1 MB 5.3 MB/s eta 0:00:01\r\u001b[K     |████████████████████▉           | 1.1 MB 5.3 MB/s eta 0:00:01\r\u001b[K     |█████████████████████           | 1.1 MB 5.3 MB/s eta 0:00:01\r\u001b[K     |█████████████████████▎          | 1.1 MB 5.3 MB/s eta 0:00:01\r\u001b[K     |█████████████████████▌          | 1.1 MB 5.3 MB/s eta 0:00:01\r\u001b[K     |█████████████████████▋          | 1.2 MB 5.3 MB/s eta 0:00:01\r\u001b[K     |█████████████████████▉          | 1.2 MB 5.3 MB/s eta 0:00:01\r\u001b[K     |██████████████████████          | 1.2 MB 5.3 MB/s eta 0:00:01\r\u001b[K     |██████████████████████▎         | 1.2 MB 5.3 MB/s eta 0:00:01\r\u001b[K     |██████████████████████▍         | 1.2 MB 5.3 MB/s eta 0:00:01\r\u001b[K     |██████████████████████▋         | 1.2 MB 5.3 MB/s eta 0:00:01\r\u001b[K     |██████████████████████▉         | 1.2 MB 5.3 MB/s eta 0:00:01\r\u001b[K     |███████████████████████         | 1.2 MB 5.3 MB/s eta 0:00:01\r\u001b[K     |███████████████████████▏        | 1.2 MB 5.3 MB/s eta 0:00:01\r\u001b[K     |███████████████████████▍        | 1.2 MB 5.3 MB/s eta 0:00:01\r\u001b[K     |███████████████████████▋        | 1.3 MB 5.3 MB/s eta 0:00:01\r\u001b[K     |███████████████████████▊        | 1.3 MB 5.3 MB/s eta 0:00:01\r\u001b[K     |████████████████████████        | 1.3 MB 5.3 MB/s eta 0:00:01\r\u001b[K     |████████████████████████▏       | 1.3 MB 5.3 MB/s eta 0:00:01\r\u001b[K     |████████████████████████▎       | 1.3 MB 5.3 MB/s eta 0:00:01\r\u001b[K     |████████████████████████▌       | 1.3 MB 5.3 MB/s eta 0:00:01\r\u001b[K     |████████████████████████▊       | 1.3 MB 5.3 MB/s eta 0:00:01\r\u001b[K     |█████████████████████████       | 1.3 MB 5.3 MB/s eta 0:00:01\r\u001b[K     |█████████████████████████       | 1.3 MB 5.3 MB/s eta 0:00:01\r\u001b[K     |█████████████████████████▎      | 1.4 MB 5.3 MB/s eta 0:00:01\r\u001b[K     |█████████████████████████▌      | 1.4 MB 5.3 MB/s eta 0:00:01\r\u001b[K     |█████████████████████████▊      | 1.4 MB 5.3 MB/s eta 0:00:01\r\u001b[K     |█████████████████████████▉      | 1.4 MB 5.3 MB/s eta 0:00:01\r\u001b[K     |██████████████████████████      | 1.4 MB 5.3 MB/s eta 0:00:01\r\u001b[K     |██████████████████████████▎     | 1.4 MB 5.3 MB/s eta 0:00:01\r\u001b[K     |██████████████████████████▍     | 1.4 MB 5.3 MB/s eta 0:00:01\r\u001b[K     |██████████████████████████▋     | 1.4 MB 5.3 MB/s eta 0:00:01\r\u001b[K     |██████████████████████████▉     | 1.4 MB 5.3 MB/s eta 0:00:01\r\u001b[K     |███████████████████████████     | 1.4 MB 5.3 MB/s eta 0:00:01\r\u001b[K     |███████████████████████████▏    | 1.5 MB 5.3 MB/s eta 0:00:01\r\u001b[K     |███████████████████████████▍    | 1.5 MB 5.3 MB/s eta 0:00:01\r\u001b[K     |███████████████████████████▋    | 1.5 MB 5.3 MB/s eta 0:00:01\r\u001b[K     |███████████████████████████▉    | 1.5 MB 5.3 MB/s eta 0:00:01\r\u001b[K     |████████████████████████████    | 1.5 MB 5.3 MB/s eta 0:00:01\r\u001b[K     |████████████████████████████▏   | 1.5 MB 5.3 MB/s eta 0:00:01\r\u001b[K     |████████████████████████████▍   | 1.5 MB 5.3 MB/s eta 0:00:01\r\u001b[K     |████████████████████████████▌   | 1.5 MB 5.3 MB/s eta 0:00:01\r\u001b[K     |████████████████████████████▊   | 1.5 MB 5.3 MB/s eta 0:00:01\r\u001b[K     |█████████████████████████████   | 1.5 MB 5.3 MB/s eta 0:00:01\r\u001b[K     |█████████████████████████████▏  | 1.6 MB 5.3 MB/s eta 0:00:01\r\u001b[K     |█████████████████████████████▎  | 1.6 MB 5.3 MB/s eta 0:00:01\r\u001b[K     |█████████████████████████████▌  | 1.6 MB 5.3 MB/s eta 0:00:01\r\u001b[K     |█████████████████████████████▊  | 1.6 MB 5.3 MB/s eta 0:00:01\r\u001b[K     |█████████████████████████████▉  | 1.6 MB 5.3 MB/s eta 0:00:01\r\u001b[K     |██████████████████████████████  | 1.6 MB 5.3 MB/s eta 0:00:01\r\u001b[K     |██████████████████████████████▎ | 1.6 MB 5.3 MB/s eta 0:00:01\r\u001b[K     |██████████████████████████████▌ | 1.6 MB 5.3 MB/s eta 0:00:01\r\u001b[K     |██████████████████████████████▋ | 1.6 MB 5.3 MB/s eta 0:00:01\r\u001b[K     |██████████████████████████████▉ | 1.6 MB 5.3 MB/s eta 0:00:01\r\u001b[K     |███████████████████████████████ | 1.7 MB 5.3 MB/s eta 0:00:01\r\u001b[K     |███████████████████████████████▎| 1.7 MB 5.3 MB/s eta 0:00:01\r\u001b[K     |███████████████████████████████▍| 1.7 MB 5.3 MB/s eta 0:00:01\r\u001b[K     |███████████████████████████████▋| 1.7 MB 5.3 MB/s eta 0:00:01\r\u001b[K     |███████████████████████████████▉| 1.7 MB 5.3 MB/s eta 0:00:01\r\u001b[K     |████████████████████████████████| 1.7 MB 5.3 MB/s eta 0:00:01\r\u001b[K     |████████████████████████████████| 1.7 MB 5.3 MB/s \n",
            "\u001b[?25hRequirement already satisfied: numpy>=1.13.3 in /usr/local/lib/python3.7/dist-packages (from scikit-learn-extra) (1.19.5)\n",
            "Requirement already satisfied: scikit-learn>=0.23.0 in /usr/local/lib/python3.7/dist-packages (from scikit-learn-extra) (1.0.1)\n",
            "Requirement already satisfied: scipy>=0.19.1 in /usr/local/lib/python3.7/dist-packages (from scikit-learn-extra) (1.4.1)\n",
            "Requirement already satisfied: threadpoolctl>=2.0.0 in /usr/local/lib/python3.7/dist-packages (from scikit-learn>=0.23.0->scikit-learn-extra) (3.0.0)\n",
            "Requirement already satisfied: joblib>=0.11 in /usr/local/lib/python3.7/dist-packages (from scikit-learn>=0.23.0->scikit-learn-extra) (1.1.0)\n",
            "Installing collected packages: scikit-learn-extra\n",
            "Successfully installed scikit-learn-extra-0.2.0\n"
          ]
        }
      ]
    },
    {
      "cell_type": "code",
      "metadata": {
        "colab": {
          "base_uri": "https://localhost:8080/",
          "height": 376
        },
        "id": "88NksjCvhSWW",
        "outputId": "82ef2a82-e0f2-4c83-c98a-7f96eef626ee"
      },
      "source": [
        "from sklearn_extra.cluster import KMedoids\n",
        "from yellowbrick.cluster import SilhouetteVisualizer\n",
        "\n",
        "# Inicializar el modelo de clustering model y visualizador\n",
        "model = KMedoids(random_state=2021)\n",
        "visualizer = KElbowVisualizer(model,\n",
        "                                  k=(2,12), \n",
        "                                  metric='silhouette',\n",
        "                                  timings= False)\n",
        "\n",
        "visualizer.fit(cluster[['activo','pasivo']]) \n",
        "visualizer.show();"
      ],
      "execution_count": null,
      "outputs": [
        {
          "output_type": "display_data",
          "data": {
            "image/png": "[encoded data removed]",
            "text/plain": [
              "<Figure size 576x396 with 1 Axes>"
            ]
          },
          "metadata": {}
        }
      ]
    },
    {
      "cell_type": "markdown",
      "metadata": {
        "id": "qRVeRKAqiWmO"
      },
      "source": [
        "De acuerdo con el gráfico, el indicador de silueta es máximo cuando K = 2. De esta forma, se genera el clúster de K-medioides:"
      ]
    },
    {
      "cell_type": "code",
      "metadata": {
        "colab": {
          "base_uri": "https://localhost:8080/"
        },
        "id": "skIwAa7pkFL1",
        "outputId": "9af5a973-1a64-4bf6-c723-6b4a61182165"
      },
      "source": [
        "kmediodes = KMedoids(n_clusters=2, random_state=2021).fit(cluster[['activo','pasivo']])\n",
        "cluster['kmediod_cluster'] =  kmediodes.predict(cluster[['activo','pasivo']])\n",
        "cluster['kmediod_cluster'].value_counts()"
      ],
      "execution_count": null,
      "outputs": [
        {
          "output_type": "execute_result",
          "data": {
            "text/plain": [
              "0    1013\n",
              "1     322\n",
              "Name: kmediod_cluster, dtype: int64"
            ]
          },
          "metadata": {},
          "execution_count": 47
        }
      ]
    },
    {
      "cell_type": "code",
      "metadata": {
        "colab": {
          "base_uri": "https://localhost:8080/",
          "height": 112
        },
        "id": "t4uvrNqnklJ4",
        "outputId": "59f1f9a6-fbe8-49a5-e7e3-ba3a7929ce0d"
      },
      "source": [
        "centros_mediodes = pd.DataFrame(kmediodes.cluster_centers_, columns = ['activo','pasivo'])\n",
        "centros_mediodes"
      ],
      "execution_count": null,
      "outputs": [
        {
          "output_type": "execute_result",
          "data": {
            "text/html": [
              "<div>\n",
              "<style scoped>\n",
              "    .dataframe tbody tr th:only-of-type {\n",
              "        vertical-align: middle;\n",
              "    }\n",
              "\n",
              "    .dataframe tbody tr th {\n",
              "        vertical-align: top;\n",
              "    }\n",
              "\n",
              "    .dataframe thead th {\n",
              "        text-align: right;\n",
              "    }\n",
              "</style>\n",
              "<table border=\"1\" class=\"dataframe\">\n",
              "  <thead>\n",
              "    <tr style=\"text-align: right;\">\n",
              "      <th></th>\n",
              "      <th>activo</th>\n",
              "      <th>pasivo</th>\n",
              "    </tr>\n",
              "  </thead>\n",
              "  <tbody>\n",
              "    <tr>\n",
              "      <th>0</th>\n",
              "      <td>-0.227724</td>\n",
              "      <td>-0.252222</td>\n",
              "    </tr>\n",
              "    <tr>\n",
              "      <th>1</th>\n",
              "      <td>0.199871</td>\n",
              "      <td>0.315364</td>\n",
              "    </tr>\n",
              "  </tbody>\n",
              "</table>\n",
              "</div>"
            ],
            "text/plain": [
              "     activo    pasivo\n",
              "0 -0.227724 -0.252222\n",
              "1  0.199871  0.315364"
            ]
          },
          "metadata": {},
          "execution_count": 48
        }
      ]
    },
    {
      "cell_type": "code",
      "metadata": {
        "id": "rPlTr3Ibkrcv"
      },
      "source": [
        "mediod_1 = centros_mediodes.iloc[0]\n",
        "mediod_2 = centros_mediodes.iloc[1]\n"
      ],
      "execution_count": null,
      "outputs": []
    },
    {
      "cell_type": "code",
      "metadata": {
        "id": "u9JmHk_9lkP4"
      },
      "source": [
        "indices = cluster[((cluster['activo'] == centros_mediodes.iloc[0][0]) & (cluster['pasivo'] == centros_mediodes.iloc[0][1]) |\n",
        "         (cluster['activo'] == centros_mediodes.iloc[1][0]) & (cluster['pasivo'] == centros_mediodes.iloc[1][1]))].index.to_list()"
      ],
      "execution_count": null,
      "outputs": []
    },
    {
      "cell_type": "code",
      "metadata": {
        "colab": {
          "base_uri": "https://localhost:8080/",
          "height": 112
        },
        "id": "-N-nDiRvlUnV",
        "outputId": "b65c2de1-63ec-4669-dcc7-30dfd283bd8c"
      },
      "source": [
        "datos[datos.index.isin(indices)][['activo','pasivo']]"
      ],
      "execution_count": null,
      "outputs": [
        {
          "output_type": "execute_result",
          "data": {
            "text/html": [
              "<div>\n",
              "<style scoped>\n",
              "    .dataframe tbody tr th:only-of-type {\n",
              "        vertical-align: middle;\n",
              "    }\n",
              "\n",
              "    .dataframe tbody tr th {\n",
              "        vertical-align: top;\n",
              "    }\n",
              "\n",
              "    .dataframe thead th {\n",
              "        text-align: right;\n",
              "    }\n",
              "</style>\n",
              "<table border=\"1\" class=\"dataframe\">\n",
              "  <thead>\n",
              "    <tr style=\"text-align: right;\">\n",
              "      <th></th>\n",
              "      <th>activo</th>\n",
              "      <th>pasivo</th>\n",
              "    </tr>\n",
              "  </thead>\n",
              "  <tbody>\n",
              "    <tr>\n",
              "      <th>8704</th>\n",
              "      <td>22632421</td>\n",
              "      <td>13339099</td>\n",
              "    </tr>\n",
              "    <tr>\n",
              "      <th>8850</th>\n",
              "      <td>5549357</td>\n",
              "      <td>2259187</td>\n",
              "    </tr>\n",
              "  </tbody>\n",
              "</table>\n",
              "</div>"
            ],
            "text/plain": [
              "        activo    pasivo\n",
              "8704  22632421  13339099\n",
              "8850   5549357   2259187"
            ]
          },
          "metadata": {},
          "execution_count": 51
        }
      ]
    },
    {
      "cell_type": "code",
      "metadata": {
        "colab": {
          "base_uri": "https://localhost:8080/",
          "height": 497
        },
        "id": "_qAMnx5zmkqV",
        "outputId": "159dbfcc-64b5-4371-a57d-32c50b012d05"
      },
      "source": [
        "plot_cluster_hull(cluster, 'kmediod_cluster', centros_mediodes)"
      ],
      "execution_count": null,
      "outputs": [
        {
          "output_type": "display_data",
          "data": {
            "image/png": "[encoded data removed]",
            "text/plain": [
              "<Figure size 576x576 with 1 Axes>"
            ]
          },
          "metadata": {}
        }
      ]
    },
    {
      "cell_type": "markdown",
      "metadata": {
        "id": "HmI94nZinXh2"
      },
      "source": [
        "### 2.3. Clustering jerárquico\n",
        "\n",
        "El problema de agrupación de individuos puede resolverse mediante una aproximación diferente a la de clustering particional. En este caso, o se asume que cada individuo es un clúster en sí mismo y se van agrupando consecutivamente buscando generar grupos homogéneos, o se inicia suponiendo que los individuos pertenecen a un único grupo y se van clasificando consecutivamente en conjuntos lo más heterogéneos posibles.\n",
        "\n",
        "No es necesario conocer de antemano la cantidad de grupos que se quieren generar, pero sí se debe seleccionar una de las tantas particiones que se generan como resultado final.\n",
        "\n",
        "Típicamente, el resultado de un agrupamiento jerárquico se representa visualmente a través de un dendograma, que es un gráfico en forma de árbol que muestra cómo los grupos se van conformando, ya sea por división o por agrupación\n",
        "\n",
        "#### 2.3.1. Clustering jerárquico aglomerativo\n",
        "\n",
        "El clustering aglomerativo, también conocido como AGNES Agglomerative Nesting, es el procedimiento más utilizado en este tipo de metodologías. El algoritmo inicia asumiendo que cada individuo corresponde a un grupo y calcula la matriz de distancias. Posteriormente agrupa los objetos más similares entre sí (menor\n",
        "distancia) conformando un nuevo conjunto de grupos. Este proceso continúa pero ahora agrupando grupos de individuos según su proximidad (mediante una función de conexión), hasta que todos los individuos pertenezcan a un único grupo. Finalmente, se determina en qué punto de las agrupaciones se hace un corte para llegar a los clústers finales.\n",
        "    \n",
        "Son varias las funciones existentes para generar la conexión entre grupos. Entre ellas están:\n",
        "\n",
        "* Conexión completa: la distancia entre dos grupos es la distancia máxima entre todos los elementos del clúster 1 y el clúster 2. Tiende a generar grupos más compactos.\n",
        "* Conexión sencilla: la distancia ente dos grupos es la distancia mínima entre todos los elementos del clúster 1 y el clúster 2. Tiende a generar grupos menos compactos.\n",
        "* Conexión promedio: la distancia ente dos grupos es la distancia promedio entre todos los elementos del clúster 1 y el clúster 2.\n",
        "* Conexión de centroide: la distancia ente dos grupos es la distancia entre el centroide del clúster 1 y el centroide del clúster 2. En este caso el centroide es el promedio de las variables para todos los elementos en el grupo.\n",
        "* Método de mínima varianza de Ward: en cada paso une las parejas de grupos"
      ]
    },
    {
      "cell_type": "code",
      "metadata": {
        "id": "FxdrHR61ngC9"
      },
      "source": [
        "from sklearn.cluster import AgglomerativeClustering\n",
        "\n",
        "transformador = pipeline_transformacion(datos[['activo','pasivo','dpto']], crear_dummies=False)\n",
        "cluster = pd.DataFrame(transformador.transform(datos[['activo','pasivo','dpto']]), columns=['activo','pasivo','dpto'])\n",
        "cluster = cluster[(cluster['dpto']=='BOYACA') & (~cluster.isna().any(axis=1))][['activo','pasivo']]\n",
        "\n",
        "cluster_jerarquico = AgglomerativeClustering(affinity = 'euclidean', distance_threshold=0, n_clusters=None, linkage='complete').fit(cluster)"
      ],
      "execution_count": null,
      "outputs": []
    },
    {
      "cell_type": "code",
      "metadata": {
        "id": "qoz0rG7ZqvZM"
      },
      "source": [
        "from matplotlib import pyplot as plt\n",
        "from scipy.cluster.hierarchy import dendrogram\n",
        "\n",
        "sns.reset_orig()\n",
        "\n",
        "def linkeage_dendrogram(model, plot=True, rect = False, **kwargs):\n",
        "    '''\n",
        "    Tomado de:\n",
        "    https://scikit-learn.org/stable/auto_examples/cluster/plot_agglomerative_dendrogram.html#sphx-glr-auto-examples-cluster-plot-agglomerative-dendrogram-py\n",
        "    '''\n",
        "    # Create linkage matrix and then plot the dendrogram\n",
        "\n",
        "    # create the counts of samples under each node\n",
        "    counts = np.zeros(model.children_.shape[0])\n",
        "    n_samples = len(model.labels_)\n",
        "    for i, merge in enumerate(model.children_):\n",
        "        current_count = 0\n",
        "        for child_idx in merge:\n",
        "            if child_idx < n_samples:\n",
        "                current_count += 1  # leaf node\n",
        "            else:\n",
        "                current_count += counts[child_idx - n_samples]\n",
        "        counts[i] = current_count\n",
        "\n",
        "    linkage_matrix = np.column_stack(\n",
        "        [model.children_, model.distances_, counts]\n",
        "    ).astype(float)\n",
        "\n",
        "    # Plot the corresponding dendrogram\n",
        "    if plot:\n",
        "        fig, ax = plt.subplots(1, 1, figsize=(10, 15))\n",
        "        ax.set_title(\"Clustering jerárquico aglomerativo\")\n",
        "        dendrogram(linkage_matrix, ax = ax, **kwargs)\n",
        "\n",
        "        if rect: \n",
        "            for coll in ax.collections[:-1]:  # the last collection is the ungrouped level\n",
        "                xmin, xmax = np.inf, -np.inf\n",
        "                ymax = -np.inf\n",
        "                for p in coll.get_paths():\n",
        "                    box = p.get_extents()\n",
        "                    (x0, _), (x1, y1) = p.get_extents().get_points()\n",
        "                    xmin = min(xmin, x0)\n",
        "                    xmax = max(xmax, x1)\n",
        "                    ymax = max(ymax, y1)\n",
        "                rec = plt.Rectangle((xmin - 4, 0), xmax - xmin + 8, ymax*1.05,\n",
        "                                    facecolor=coll.get_color()[0], alpha=0.2, edgecolor=\"none\")\n",
        "                ax.add_patch(rec)\n",
        "\n",
        "        if 'color_threshold' in kwargs:\n",
        "            ax.axhline(kwargs.get(\"color_threshold\"), c='r', linestyle='--')\n",
        "\n",
        "    return linkage_matrix"
      ],
      "execution_count": null,
      "outputs": []
    },
    {
      "cell_type": "code",
      "metadata": {
        "colab": {
          "base_uri": "https://localhost:8080/",
          "height": 877
        },
        "id": "JS4u2kRWrR61",
        "outputId": "e7bab389-4852-4101-8728-170d19e6b760"
      },
      "source": [
        "linkeage_matrix = linkeage_dendrogram(cluster_jerarquico)"
      ],
      "execution_count": null,
      "outputs": [
        {
          "output_type": "display_data",
          "data": {
            "image/png": "[encoded data removed]",
            "text/plain": [
              "<Figure size 720x1080 with 1 Axes>"
            ]
          },
          "metadata": {
            "needs_background": "light"
          }
        }
      ]
    },
    {
      "cell_type": "markdown",
      "metadata": {
        "id": "EXdhlibyrNS9"
      },
      "source": [
        "Aquí, cada una de las divisiones finales (hojas) corresponde a un individuo y en la medida que nos movemos hacia arriba en el árbol (a través de las ramas) se van generando agrupaciones. Adicionalmente, la altura en el dendograma representa la similaridad a la cual se genera la fusión de cada grupo.\n",
        "\n",
        "Después de realizar las primeras uniones, es decir, después de conformar grupos directamente entre individuos, las agrupaciones subsecuentes se realizan sobre clústers y estas ya no reflejan necesariamente las distancias originales en los datos. Es por esto que tiene sentido analizar si las distancias en el dendograma\n",
        "se relacionan con las similaridades originales entre individuos.\n",
        "\n",
        "Las distancias en el dendograma se pueden obtener mediante el comando cophenetic, y se puede calcular su correlación con las distancias del comando dist:"
      ]
    },
    {
      "cell_type": "code",
      "metadata": {
        "id": "uq9yudSp9yyq"
      },
      "source": [
        "from scipy.spatial.distance import pdist\n",
        "from scipy.cluster.hierarchy import cophenet"
      ],
      "execution_count": null,
      "outputs": []
    },
    {
      "cell_type": "code",
      "metadata": {
        "colab": {
          "base_uri": "https://localhost:8080/"
        },
        "id": "rVBnoI96_GGi",
        "outputId": "4b00a4c6-7ef7-4ccb-a76b-fc97a8702e67"
      },
      "source": [
        "dist_org = pdist(cluster)\n",
        "print(f'Correlación usando complete: {np.corrcoef(cophenet(linkeage_matrix), dist_org)[0,1]}')\n",
        "\n",
        "cluster_jerarquico_average = AgglomerativeClustering(affinity = 'euclidean', distance_threshold=0, n_clusters=None, linkage='average').fit(cluster)\n",
        "linkeage_matrix_average = linkeage_dendrogram(cluster_jerarquico_average, plot=False)\n",
        "print(f'Correlación usando average: {np.corrcoef(cophenet(linkeage_matrix_average), dist_org)[0,1]}')\n",
        "\n",
        "cluster_jerarquico_ward = AgglomerativeClustering(affinity = 'euclidean', distance_threshold=0, n_clusters=None, linkage='ward').fit(cluster)\n",
        "linkeage_matrix_ward = linkeage_dendrogram(cluster_jerarquico_ward, plot=False)\n",
        "print(f'Correlación usando ward: {np.corrcoef(cophenet(linkeage_matrix_ward), dist_org)[0,1]}')"
      ],
      "execution_count": null,
      "outputs": [
        {
          "output_type": "stream",
          "name": "stdout",
          "text": [
            "Correlación usando complete: 0.9038889428375273\n",
            "Correlación usando average: 0.9776614330613399\n",
            "Correlación usando ward: 0.8568876365790852\n"
          ]
        }
      ]
    },
    {
      "cell_type": "markdown",
      "metadata": {
        "id": "0PQQITFrx8ac"
      },
      "source": [
        "Aun cuando el clustering jerárquico genera todo tipo de agrupaciones (desde individuales hasta completas), no dice nada sobre cuál de ellas seleccionar. Una vez se toma la decisión de cúantos grupos se quieren, o a qué altura en el dendograma realizar el corte, se puede utilizar el parametro $\\text{n_clusters}$ o $\\text{distance_threshold}$ respectivamente . Por ejemplo, utilizando K = 6:"
      ]
    },
    {
      "cell_type": "code",
      "metadata": {
        "colab": {
          "base_uri": "https://localhost:8080/"
        },
        "id": "WPpCyvCIyNzj",
        "outputId": "d387bbfe-2a6c-4495-c429-741cd0bfe988"
      },
      "source": [
        "cluster_jerarquico = AgglomerativeClustering(affinity = 'euclidean', n_clusters=6, linkage='complete', compute_distances=True).fit(cluster)\n",
        "cluster['cluster_jerarquico'] = cluster_jerarquico.labels_\n",
        "cluster['cluster_jerarquico'].value_counts().sort_index()"
      ],
      "execution_count": null,
      "outputs": [
        {
          "output_type": "execute_result",
          "data": {
            "text/plain": [
              "0    25\n",
              "1     9\n",
              "2    45\n",
              "3     1\n",
              "4     1\n",
              "5     3\n",
              "Name: cluster_jerarquico, dtype: int64"
            ]
          },
          "metadata": {},
          "execution_count": 58
        }
      ]
    },
    {
      "cell_type": "code",
      "metadata": {
        "colab": {
          "base_uri": "https://localhost:8080/",
          "height": 877
        },
        "id": "LKFai5nvPySw",
        "outputId": "e6239d0c-28cc-4912-a066-9aa41da6406f"
      },
      "source": [
        "linkeage_matrix = linkeage_dendrogram(cluster_jerarquico, color_threshold = 0.6, rect = True, plot=True)"
      ],
      "execution_count": null,
      "outputs": [
        {
          "output_type": "display_data",
          "data": {
            "image/png": "[encoded data removed]",
            "text/plain": [
              "<Figure size 720x1080 with 1 Axes>"
            ]
          },
          "metadata": {
            "needs_background": "light"
          }
        }
      ]
    },
    {
      "cell_type": "markdown",
      "metadata": {
        "id": "kFsFmUgaPJnw"
      },
      "source": [
        "Como en los casos anteriores, la visualización de los resultados se obtiene por nuestra función `plot_cluster_hull`"
      ]
    },
    {
      "cell_type": "code",
      "metadata": {
        "colab": {
          "base_uri": "https://localhost:8080/",
          "height": 497
        },
        "id": "RZ2QuBlw9SJ8",
        "outputId": "8e023e93-e2f9-4842-a122-3f97c80a2dd6"
      },
      "source": [
        "plot_cluster_hull(cluster, 'cluster_jerarquico')"
      ],
      "execution_count": null,
      "outputs": [
        {
          "output_type": "display_data",
          "data": {
            "image/png": "[encoded data removed]",
            "text/plain": [
              "<Figure size 576x576 with 1 Axes>"
            ]
          },
          "metadata": {
            "needs_background": "light"
          }
        }
      ]
    },
    {
      "cell_type": "markdown",
      "metadata": {
        "id": "Wup2TtuMRpsX"
      },
      "source": [
        "### 2.3.2. Clustering jerárquico divisivo\n",
        "\n",
        "El clúster divisivo, también conocido como DIANA (Divisive Analysis), funciona al revés del algoritmo aglomerativo. En este caso, se empieza con todos los individuos en un mismo grupo y se van asignando a grupos disyuntos buscando generar los grupos más heterogéneos. En este punto es importante mencionar que el procedimiento aglomerativo es más fuerte identificando clústers pequeños, mientras que el algoritmo divisivo es mejor generando grupos grandes de individuos.\n",
        "\n",
        "\n",
        "\n"
      ]
    },
    {
      "cell_type": "code",
      "metadata": {
        "id": "aE0n1yEtS7Zn"
      },
      "source": [
        "cluster_jerarquico_ward = AgglomerativeClustering(affinity = 'euclidean', n_clusters=6, compute_distances=True, linkage='ward').fit(cluster)\n",
        "cluster['cluster_jerarquico'].value_counts()\n",
        "cluster['cluster_jerarquico'] = cluster_jerarquico_ward.labels_"
      ],
      "execution_count": null,
      "outputs": []
    },
    {
      "cell_type": "code",
      "metadata": {
        "colab": {
          "base_uri": "https://localhost:8080/"
        },
        "id": "bz8gV8ZXTn8Y",
        "outputId": "39352cbb-bbab-450b-d278-22a626744f89"
      },
      "source": [
        "cluster['cluster_jerarquico'].value_counts()"
      ],
      "execution_count": null,
      "outputs": [
        {
          "output_type": "execute_result",
          "data": {
            "text/plain": [
              "2    45\n",
              "0    25\n",
              "1     9\n",
              "4     3\n",
              "5     1\n",
              "3     1\n",
              "Name: cluster_jerarquico, dtype: int64"
            ]
          },
          "metadata": {},
          "execution_count": 62
        }
      ]
    },
    {
      "cell_type": "code",
      "metadata": {
        "colab": {
          "base_uri": "https://localhost:8080/",
          "height": 877
        },
        "id": "swjYSYWZSzxv",
        "outputId": "77efc93d-f893-4729-84e5-b40e2295e835"
      },
      "source": [
        "linkeage_matrix_ward = linkeage_dendrogram(cluster_jerarquico_ward, plot=True)"
      ],
      "execution_count": null,
      "outputs": [
        {
          "output_type": "display_data",
          "data": {
            "image/png": "[encoded data removed]",
            "text/plain": [
              "<Figure size 720x1080 with 1 Axes>"
            ]
          },
          "metadata": {
            "needs_background": "light"
          }
        }
      ]
    },
    {
      "cell_type": "markdown",
      "metadata": {
        "id": "d8cY6CKKUnYp"
      },
      "source": [
        "### 2.4. Procedimiento para la aplicación de métodos de clustering\n",
        "\n",
        "Los procedimientos de clustering muestran un problema importante y es que son capaces de generar\n",
        "agrupaciones en los datos así estas no existan sino por mera casualidad. Para evitar esto, es importante iniciar cualquiere proyecto de aprendizaje no supervisado por el análisis de la tendencia de clustering en los datos. Este concepto hace referencia al proceso de establecer si existen agrupaciones reales, es decir, que no son un resultado meramente aleatorio.\n",
        "\n",
        "Para analizar la tendencia de clustering de un conjunto de datos se compara la información observada\n",
        "con el resultado de un conjunto de individuos provenientes de una distribución de probabilidad uniforme $p$ variada, donde $p$ es la cantidad de variables que describen a cada registro y que se utilizarán para la agrupación. De esta forma se calcula la estadística Hopkins, definida como:\n",
        "\n",
        "<center>$H = \\frac{\\sum{^N_{i=1}y_i}}{\\sum{^N_{i=1}y_i}+\\sum{^N_{i=1}x_i}}$</center>\n",
        "\n",
        "donde ${x_i}$ es la distancia entre el individuo $i$ y su vecino m\u0013as cercano, para el conjunto de datos observado, y ${y_i}$  es la distancia entre el individuo i y su vecino más cercano, para un conjunto de datos simulados a partir de una distribuci\u0013on uniforme que mantiene la escala de la informaci\u0013on real. En este caso, si los datos reales son cercanos a los datos simulados, H será aproximadamente $0.5$, mientras que si la información observada no es aleatoria, H tenderá a $0$ porque se espera que la distribuci\u0013on de $x_i$ sea sesgada generando un valor grande para $\\sum{^N_{i=1}x_i}$\n",
        "\n",
        "La función hopkins en el paquete pyclustertend realiza pruebas de hipótesis sobre la estadística de\n",
        "Hopkins:\n"
      ]
    },
    {
      "cell_type": "code",
      "metadata": {
        "colab": {
          "base_uri": "https://localhost:8080/"
        },
        "id": "IomlTSXjYX1W",
        "outputId": "9dba007d-2973-4ff1-8709-7bece1ed3d3a"
      },
      "source": [
        "!pip install pyclustertend"
      ],
      "execution_count": null,
      "outputs": [
        {
          "output_type": "stream",
          "name": "stdout",
          "text": [
            "Collecting pyclustertend\n",
            "  Downloading pyclustertend-1.4.9-py3-none-any.whl (9.8 kB)\n",
            "Installing collected packages: pyclustertend\n",
            "Successfully installed pyclustertend-1.4.9\n"
          ]
        }
      ]
    },
    {
      "cell_type": "code",
      "metadata": {
        "colab": {
          "base_uri": "https://localhost:8080/"
        },
        "id": "r6oYs-_tYgCf",
        "outputId": "5e2ec5af-51e7-4475-a475-632b61ca7562"
      },
      "source": [
        "from pyclustertend import hopkins\n",
        "cluster = cluster[['activo','pasivo']]\n",
        "hopkins(cluster, cluster.shape[0]-1)"
      ],
      "execution_count": null,
      "outputs": [
        {
          "output_type": "execute_result",
          "data": {
            "text/plain": [
              "0.08926982694854728"
            ]
          },
          "metadata": {},
          "execution_count": 65
        }
      ]
    },
    {
      "cell_type": "markdown",
      "metadata": {
        "id": "Km7Rt-AdZC9_"
      },
      "source": [
        "Cada vez que se ejecuta la función el resultado cambia por la selección aleatoria de una muestra de tamaño $n$ sobre los datos utilizados. Sin embargo, consistentemente se observa que el valor de H está por\n",
        "debajo de $0.5$, con lo cual se puede concluir que el conjunto de datos es susceptible de clustering.\n",
        "\n",
        "Para establecer el número de grupos se pueden utilizar los procedimientos presentados en secciones\n",
        "anteriores, que analizan el comportamiento de la suma de cuadrados al interior de los clústers o la silueta, como función de K.\n",
        "\n",
        "Adicionalmente, existe otras formas de selección de K, que se pueden acceder mediante la libreria [$reval$](https://github.com/IIT-LAND/reval_clustering), está libreria aprovecha los métodos de validación de agrupación relativa basados ​​en la estabilidad para determinar el mejor $n$ soluciones de agrupación como los que mejor se generalizan a datos no vistos.\n",
        "\n",
        "También existen paquetes en otros lenguajes como $NbClust$ que compara múltiples metodologías y de esta forma, la decisión sobre el valor de K.\n",
        "\n"
      ]
    },
    {
      "cell_type": "code",
      "metadata": {
        "colab": {
          "base_uri": "https://localhost:8080/"
        },
        "id": "vPMfWbHUZMAw",
        "outputId": "2a89b18c-7fde-4152-91eb-012d848e1589"
      },
      "source": [
        "!pip install reval"
      ],
      "execution_count": null,
      "outputs": [
        {
          "output_type": "stream",
          "name": "stdout",
          "text": [
            "Collecting reval\n",
            "  Downloading reval-0.1.0.tar.gz (24 kB)\n",
            "Requirement already satisfied: numpy in /usr/local/lib/python3.7/dist-packages (from reval) (1.19.5)\n",
            "Requirement already satisfied: scipy in /usr/local/lib/python3.7/dist-packages (from reval) (1.4.1)\n",
            "Requirement already satisfied: scikit-learn in /usr/local/lib/python3.7/dist-packages (from reval) (1.0.1)\n",
            "Collecting umap-learn\n",
            "  Downloading umap-learn-0.5.2.tar.gz (86 kB)\n",
            "\u001b[K     |████████████████████████████████| 86 kB 3.2 MB/s \n",
            "\u001b[?25hRequirement already satisfied: matplotlib in /usr/local/lib/python3.7/dist-packages (from reval) (3.2.2)\n",
            "Requirement already satisfied: kiwisolver>=1.0.1 in /usr/local/lib/python3.7/dist-packages (from matplotlib->reval) (1.3.2)\n",
            "Requirement already satisfied: pyparsing!=2.0.4,!=2.1.2,!=2.1.6,>=2.0.1 in /usr/local/lib/python3.7/dist-packages (from matplotlib->reval) (3.0.6)\n",
            "Requirement already satisfied: python-dateutil>=2.1 in /usr/local/lib/python3.7/dist-packages (from matplotlib->reval) (2.8.2)\n",
            "Requirement already satisfied: cycler>=0.10 in /usr/local/lib/python3.7/dist-packages (from matplotlib->reval) (0.11.0)\n",
            "Requirement already satisfied: six>=1.5 in /usr/local/lib/python3.7/dist-packages (from python-dateutil>=2.1->matplotlib->reval) (1.15.0)\n",
            "Requirement already satisfied: threadpoolctl>=2.0.0 in /usr/local/lib/python3.7/dist-packages (from scikit-learn->reval) (3.0.0)\n",
            "Requirement already satisfied: joblib>=0.11 in /usr/local/lib/python3.7/dist-packages (from scikit-learn->reval) (1.1.0)\n",
            "Requirement already satisfied: numba>=0.49 in /usr/local/lib/python3.7/dist-packages (from umap-learn->reval) (0.51.2)\n",
            "Collecting pynndescent>=0.5\n",
            "  Downloading pynndescent-0.5.5.tar.gz (1.1 MB)\n",
            "\u001b[K     |████████████████████████████████| 1.1 MB 33.5 MB/s \n",
            "\u001b[?25hRequirement already satisfied: tqdm in /usr/local/lib/python3.7/dist-packages (from umap-learn->reval) (4.62.3)\n",
            "Requirement already satisfied: llvmlite<0.35,>=0.34.0.dev0 in /usr/local/lib/python3.7/dist-packages (from numba>=0.49->umap-learn->reval) (0.34.0)\n",
            "Requirement already satisfied: setuptools in /usr/local/lib/python3.7/dist-packages (from numba>=0.49->umap-learn->reval) (57.4.0)\n",
            "Building wheels for collected packages: reval, umap-learn, pynndescent\n",
            "  Building wheel for reval (setup.py) ... \u001b[?25l\u001b[?25hdone\n",
            "  Created wheel for reval: filename=reval-0.1.0-py3-none-any.whl size=30690 sha256=97529721583d5db38238d42348dd7d0dd74e63732a9efa27db6b6183b2a01025\n",
            "  Stored in directory: /root/.cache/pip/wheels/9e/ea/bf/7446c13757febcd8bd1d5abf6860643809473770fda067cb8f\n",
            "  Building wheel for umap-learn (setup.py) ... \u001b[?25l\u001b[?25hdone\n",
            "  Created wheel for umap-learn: filename=umap_learn-0.5.2-py3-none-any.whl size=82709 sha256=b15c951ae8906709f414deb6bcc5195c5167436d8625f39ebc18aff5b865ad99\n",
            "  Stored in directory: /root/.cache/pip/wheels/84/1b/c6/aaf68a748122632967cef4dffef68224eb16798b6793257d82\n",
            "  Building wheel for pynndescent (setup.py) ... \u001b[?25l\u001b[?25hdone\n",
            "  Created wheel for pynndescent: filename=pynndescent-0.5.5-py3-none-any.whl size=52603 sha256=d0763aad4526544ea153a8a2568c5ed0839ee4a24d725d8c2bba462516eb9c53\n",
            "  Stored in directory: /root/.cache/pip/wheels/af/e9/33/04db1436df0757c42fda8ea6796d7a8586e23c85fac355f476\n",
            "Successfully built reval umap-learn pynndescent\n",
            "Installing collected packages: pynndescent, umap-learn, reval\n",
            "Successfully installed pynndescent-0.5.5 reval-0.1.0 umap-learn-0.5.2\n"
          ]
        }
      ]
    },
    {
      "cell_type": "code",
      "metadata": {
        "id": "AsTV498VddVf"
      },
      "source": [
        "from reval.best_nclust_cv import FindBestClustCV\n",
        "from sklearn.neighbors import KNeighborsClassifier\n",
        "from reval.internal_baselines import select_best, evaluate_best\n",
        "from reval.param_selection import ParamSelection, SCParamSelection"
      ],
      "execution_count": null,
      "outputs": []
    },
    {
      "cell_type": "code",
      "metadata": {
        "colab": {
          "base_uri": "https://localhost:8080/"
        },
        "id": "jegOEGtUd273",
        "outputId": "eabbbca7-5dca-4a5a-b9b4-224edf5d4f61"
      },
      "source": [
        "# Initialize clustering and classifier\n",
        "classifier = KNeighborsClassifier(n_neighbors=15)\n",
        "clustering = KMeans()\n",
        "\n",
        "# Run relatve validation (repeated CV and testing)\n",
        "findbestclust = FindBestClustCV(nfold=2,\n",
        "                                nclust_range=list(range(2, 7, 1)),\n",
        "                                s=classifier,\n",
        "                                c=clustering,\n",
        "                                nrand=10,)\n",
        "metrics, nbest = findbestclust.best_nclust(cluster, iter_cv=10)\n",
        "\n",
        "print(f'Número optimo de clusters: {nbest}')"
      ],
      "execution_count": null,
      "outputs": [
        {
          "output_type": "stream",
          "name": "stdout",
          "text": [
            "Número optimo de clusters: 3\n"
          ]
        }
      ]
    },
    {
      "cell_type": "markdown",
      "metadata": {
        "id": "mHS5J2UagL5X"
      },
      "source": [
        "Para calcular el ajuste de una agrupación dada se pueden generar diferentes medidas. Estas difieren según de dónde provenga la información que utilizan y su uso:\n",
        "\n",
        "* Validación interna: genera medidas de ajuste que posteriormente se pueden utilizar para comparar agrupaciones realizadas mediante diferentes metodologías, utilizando únicamente información proveniente del proceso de clustering. Aquí se puede utilizar la silueta, que es una medida calculada para cada individuo y que mide su distancia promedio en el clúster al que pertenece y la relaciona con la distancia a su vecino más cercano en el clúster vecino. Si la silueta del individuo $i$ se acerca a $1$, entonces el individuo está bien clasificado; si su valor es cercano a $0$, el individuo estaría intermedio entre dos grupos; y si la silueta del individuo $i$ es negativa, es señal de que el elemento debería estar en un clúster diferente."
      ]
    },
    {
      "cell_type": "code",
      "metadata": {
        "id": "Uiw6hXTshp22"
      },
      "source": [
        "from yellowbrick.cluster import SilhouetteVisualizer"
      ],
      "execution_count": null,
      "outputs": []
    },
    {
      "cell_type": "code",
      "metadata": {
        "colab": {
          "base_uri": "https://localhost:8080/",
          "height": 621
        },
        "id": "THeazgkvhtnh",
        "outputId": "6c77f051-140e-4ad9-8223-95d783b76218"
      },
      "source": [
        "kmeans = KMeans(n_clusters=3, random_state=2021, n_init=20)\n",
        "plt.figure(figsize=(10,10))\n",
        "visualizer = SilhouetteVisualizer(kmeans, colors='yellowbrick')\n",
        "visualizer.fit(cluster)\n",
        "visualizer.show();"
      ],
      "execution_count": null,
      "outputs": [
        {
          "output_type": "display_data",
          "data": {
            "image/png": "[encoded data removed]",
            "text/plain": [
              "<Figure size 720x720 with 1 Axes>"
            ]
          },
          "metadata": {
            "needs_background": "light"
          }
        }
      ]
    },
    {
      "cell_type": "code",
      "metadata": {
        "id": "JBac5KtZi5fG"
      },
      "source": [
        "cluster.loc[:,'k_mean_clust'] = visualizer.estimator.labels_\n",
        "cluster.loc[:,'silhouette'] = visualizer.silhouette_samples_"
      ],
      "execution_count": null,
      "outputs": []
    },
    {
      "cell_type": "code",
      "metadata": {
        "colab": {
          "base_uri": "https://localhost:8080/",
          "height": 206
        },
        "id": "doJLnkOoo18d",
        "outputId": "e905e7c5-4657-487b-c2d2-fa594a0759f8"
      },
      "source": [
        "cluster.groupby('k_mean_clust').agg({'silhouette':['size','mean']})"
      ],
      "execution_count": null,
      "outputs": [
        {
          "output_type": "execute_result",
          "data": {
            "text/html": [
              "<div>\n",
              "<style scoped>\n",
              "    .dataframe tbody tr th:only-of-type {\n",
              "        vertical-align: middle;\n",
              "    }\n",
              "\n",
              "    .dataframe tbody tr th {\n",
              "        vertical-align: top;\n",
              "    }\n",
              "\n",
              "    .dataframe thead tr th {\n",
              "        text-align: left;\n",
              "    }\n",
              "\n",
              "    .dataframe thead tr:last-of-type th {\n",
              "        text-align: right;\n",
              "    }\n",
              "</style>\n",
              "<table border=\"1\" class=\"dataframe\">\n",
              "  <thead>\n",
              "    <tr>\n",
              "      <th></th>\n",
              "      <th colspan=\"2\" halign=\"left\">silhouette</th>\n",
              "    </tr>\n",
              "    <tr>\n",
              "      <th></th>\n",
              "      <th>size</th>\n",
              "      <th>mean</th>\n",
              "    </tr>\n",
              "    <tr>\n",
              "      <th>k_mean_clust</th>\n",
              "      <th></th>\n",
              "      <th></th>\n",
              "    </tr>\n",
              "  </thead>\n",
              "  <tbody>\n",
              "    <tr>\n",
              "      <th>0</th>\n",
              "      <td>70</td>\n",
              "      <td>0.761535</td>\n",
              "    </tr>\n",
              "    <tr>\n",
              "      <th>1</th>\n",
              "      <td>12</td>\n",
              "      <td>0.376367</td>\n",
              "    </tr>\n",
              "    <tr>\n",
              "      <th>2</th>\n",
              "      <td>2</td>\n",
              "      <td>0.492773</td>\n",
              "    </tr>\n",
              "  </tbody>\n",
              "</table>\n",
              "</div>"
            ],
            "text/plain": [
              "             silhouette          \n",
              "                   size      mean\n",
              "k_mean_clust                     \n",
              "0                    70  0.761535\n",
              "1                    12  0.376367\n",
              "2                     2  0.492773"
            ]
          },
          "metadata": {},
          "execution_count": 72
        }
      ]
    },
    {
      "cell_type": "code",
      "metadata": {
        "colab": {
          "base_uri": "https://localhost:8080/"
        },
        "id": "QSoDsdG6peMx",
        "outputId": "bff25a7f-71c4-44d4-c04c-7323fa3df7bb"
      },
      "source": [
        "print(f'Promedio del score silhouette: {visualizer.silhouette_score_:.4f}')"
      ],
      "execution_count": null,
      "outputs": [
        {
          "output_type": "stream",
          "name": "stdout",
          "text": [
            "Promedio del score silhouette: 0.7001\n"
          ]
        }
      ]
    },
    {
      "cell_type": "code",
      "metadata": {
        "colab": {
          "base_uri": "https://localhost:8080/",
          "height": 49
        },
        "id": "gbiWVpMBpKUt",
        "outputId": "e38a131c-6a2e-4e12-895c-df08ab6b3031"
      },
      "source": [
        "cluster[cluster['silhouette']<0]"
      ],
      "execution_count": null,
      "outputs": [
        {
          "output_type": "execute_result",
          "data": {
            "text/html": [
              "<div>\n",
              "<style scoped>\n",
              "    .dataframe tbody tr th:only-of-type {\n",
              "        vertical-align: middle;\n",
              "    }\n",
              "\n",
              "    .dataframe tbody tr th {\n",
              "        vertical-align: top;\n",
              "    }\n",
              "\n",
              "    .dataframe thead th {\n",
              "        text-align: right;\n",
              "    }\n",
              "</style>\n",
              "<table border=\"1\" class=\"dataframe\">\n",
              "  <thead>\n",
              "    <tr style=\"text-align: right;\">\n",
              "      <th></th>\n",
              "      <th>activo</th>\n",
              "      <th>pasivo</th>\n",
              "      <th>k_mean_clust</th>\n",
              "      <th>silhouette</th>\n",
              "    </tr>\n",
              "  </thead>\n",
              "  <tbody>\n",
              "  </tbody>\n",
              "</table>\n",
              "</div>"
            ],
            "text/plain": [
              "Empty DataFrame\n",
              "Columns: [activo, pasivo, k_mean_clust, silhouette]\n",
              "Index: []"
            ]
          },
          "metadata": {},
          "execution_count": 74
        }
      ]
    },
    {
      "cell_type": "markdown",
      "metadata": {
        "id": "CTDRKfL0pgAN"
      },
      "source": [
        "* Indice Dunn: se define como: \n",
        "<center> $D = \\frac{\\text{separacion.min}}{\\text{diametro.max}}$ </center>\n",
        "donde $separacion.min$ es la distancia mínima entre los individuos de un grupo y los individuos de los demás grupos, y $diametro.max$ es la distancia máxima entre los individuos de un mismo clúuster. Según la fórmula, se espera que el índice Dunn sea mayor en clústers mejor ajustados. Esté indice se puede obtener de la libreria validclust."
      ]
    },
    {
      "cell_type": "code",
      "metadata": {
        "colab": {
          "base_uri": "https://localhost:8080/"
        },
        "id": "ajqRGhkkulb0",
        "outputId": "37f2b57e-f3c5-47b9-d7b9-b77877413416"
      },
      "source": [
        "!pip install validclust "
      ],
      "execution_count": null,
      "outputs": [
        {
          "output_type": "stream",
          "name": "stdout",
          "text": [
            "Collecting validclust\n",
            "  Downloading validclust-0.1.1-py2.py3-none-any.whl (8.1 kB)\n",
            "Requirement already satisfied: seaborn in /usr/local/lib/python3.7/dist-packages (from validclust) (0.11.2)\n",
            "Requirement already satisfied: packaging in /usr/local/lib/python3.7/dist-packages (from validclust) (21.3)\n",
            "Requirement already satisfied: scikit-learn in /usr/local/lib/python3.7/dist-packages (from validclust) (1.0.1)\n",
            "Requirement already satisfied: numpy>=1.16.5 in /usr/local/lib/python3.7/dist-packages (from validclust) (1.19.5)\n",
            "Requirement already satisfied: matplotlib in /usr/local/lib/python3.7/dist-packages (from validclust) (3.2.2)\n",
            "Requirement already satisfied: pandas in /usr/local/lib/python3.7/dist-packages (from validclust) (1.1.5)\n",
            "Requirement already satisfied: cycler>=0.10 in /usr/local/lib/python3.7/dist-packages (from matplotlib->validclust) (0.11.0)\n",
            "Requirement already satisfied: pyparsing!=2.0.4,!=2.1.2,!=2.1.6,>=2.0.1 in /usr/local/lib/python3.7/dist-packages (from matplotlib->validclust) (3.0.6)\n",
            "Requirement already satisfied: kiwisolver>=1.0.1 in /usr/local/lib/python3.7/dist-packages (from matplotlib->validclust) (1.3.2)\n",
            "Requirement already satisfied: python-dateutil>=2.1 in /usr/local/lib/python3.7/dist-packages (from matplotlib->validclust) (2.8.2)\n",
            "Requirement already satisfied: six>=1.5 in /usr/local/lib/python3.7/dist-packages (from python-dateutil>=2.1->matplotlib->validclust) (1.15.0)\n",
            "Requirement already satisfied: pytz>=2017.2 in /usr/local/lib/python3.7/dist-packages (from pandas->validclust) (2018.9)\n",
            "Requirement already satisfied: scipy>=1.1.0 in /usr/local/lib/python3.7/dist-packages (from scikit-learn->validclust) (1.4.1)\n",
            "Requirement already satisfied: threadpoolctl>=2.0.0 in /usr/local/lib/python3.7/dist-packages (from scikit-learn->validclust) (3.0.0)\n",
            "Requirement already satisfied: joblib>=0.11 in /usr/local/lib/python3.7/dist-packages (from scikit-learn->validclust) (1.1.0)\n",
            "Installing collected packages: validclust\n",
            "Successfully installed validclust-0.1.1\n"
          ]
        }
      ]
    },
    {
      "cell_type": "code",
      "metadata": {
        "colab": {
          "base_uri": "https://localhost:8080/"
        },
        "id": "pa41atmgunx8",
        "outputId": "807afa49-49f1-4b28-ed85-5dc81b8d5586"
      },
      "source": [
        "from validclust import dunn\n",
        "from sklearn.metrics import pairwise_distances\n",
        "\n",
        "dunn(pairwise_distances(cluster[['activo','pasivo']]), cluster['k_mean_clust'])"
      ],
      "execution_count": null,
      "outputs": [
        {
          "output_type": "execute_result",
          "data": {
            "text/plain": [
              "0.17190816853837856"
            ]
          },
          "metadata": {},
          "execution_count": 76
        }
      ]
    },
    {
      "cell_type": "markdown",
      "metadata": {
        "id": "y6C5micVu5O8"
      },
      "source": [
        "* Validación externa: cuando se cuenta con una clase predeterminada a la cual pertenecen los individuos se pueden generar medidas sobre qué tan similares son las agrupaciones resultantes del algoritmo de clustering y las observadas en los datos. Estas medidas son el indice Rand corregido y el Mutual Information, que van de -1 (no hay coincidencia) hasta 1 (total coincidencia). Estos dos indicadores y otros más se encuentran dentro de $sklearn.metrics$, particularmente estos dos se identifican como $\\text{rand_score}$ y $\\text{mutual_info_score}$\n",
        "\n",
        "* Validación relativa: evalúa diferentes valores de los parámetros sobre una misma configuración del algoritmo de agrupación. Este es el tipo de validación realizada para establecer el valor de K a partir de las estadísticas de suma de cuadrados al interior del clúster y silueta.\n"
      ]
    },
    {
      "cell_type": "markdown",
      "metadata": {
        "id": "-e-fWrHQ1TkQ"
      },
      "source": [
        "### 2.5. Otras metodologías: clustering basado en densidad\n",
        "\n",
        "Los procedimientos de agrupación hasta aqui presentados (particional y jerárquico) pueden ser sensibles a la presencia de valores atípicos, requieren que se establezca la cantidad de clústers y son adecuados para casos donde los individuos se conforman de manera esférica en el espacio $p$ dimensional. Sin embargo, en muchos casos esto no es realista, motivando el desarrollo de otros algoritmos como el DBSCAN (Density-Based Clustering Algorithm), que es capaz de identificar clústers de cualquier forma en datos que incluyan ruido"
      ]
    },
    {
      "cell_type": "code",
      "metadata": {
        "id": "FgiSbKyp1jmM"
      },
      "source": [
        "from sklearn.datasets import make_circles\n",
        "\n",
        "n_samples = 1500\n",
        "X, y = make_circles(n_samples=n_samples, factor=0.5, noise=0.05, random_state=2021)\n",
        "X = StandardScaler().fit_transform(X)"
      ],
      "execution_count": null,
      "outputs": []
    },
    {
      "cell_type": "code",
      "metadata": {
        "colab": {
          "base_uri": "https://localhost:8080/",
          "height": 281
        },
        "id": "kGAlDzzE2aNV",
        "outputId": "cf60e5f8-e0c8-47e3-8107-b94f53e41945"
      },
      "source": [
        "sns.scatterplot(x = X[:,0], y = X[:,1], color = 'blue')\n",
        "plt.title('Original');"
      ],
      "execution_count": null,
      "outputs": [
        {
          "output_type": "display_data",
          "data": {
            "image/png": "[encoded data removed]",
            "text/plain": [
              "<Figure size 432x288 with 1 Axes>"
            ]
          },
          "metadata": {
            "needs_background": "light"
          }
        }
      ]
    },
    {
      "cell_type": "code",
      "metadata": {
        "id": "ObvNAn6o2kpk"
      },
      "source": [
        "kmeans = KMeans(n_clusters=2, random_state=2021).fit(X)"
      ],
      "execution_count": null,
      "outputs": []
    },
    {
      "cell_type": "code",
      "metadata": {
        "colab": {
          "base_uri": "https://localhost:8080/",
          "height": 281
        },
        "id": "QVLHD37x4MW8",
        "outputId": "c00178ae-6bdf-49cc-efea-e85565158e93"
      },
      "source": [
        "sns.scatterplot(x = X[:,0], y = X[:,1], hue=kmeans.labels_)\n",
        "plt.title('K-means n = 2');"
      ],
      "execution_count": null,
      "outputs": [
        {
          "output_type": "display_data",
          "data": {
            "image/png": "[encoded data removed]",
            "text/plain": [
              "<Figure size 432x288 with 1 Axes>"
            ]
          },
          "metadata": {
            "needs_background": "light"
          }
        }
      ]
    },
    {
      "cell_type": "markdown",
      "metadata": {
        "id": "W5I1gqnW2a10"
      },
      "source": [
        "En el gráfico anterior el clustering por K-medias no es capaz de identificar los 2 grupos que se pueden observar a simple vista debido a que estos tienen formas lineales, esto puede pasar de la misma manera con elipse y cuando se tiene presencia de ruido en los datos.\n",
        "\n",
        "El algoritmo del DBSCAN trabaja con diferentes tipos de individuos: *núcleo, borde y outlier*. Los primeros son los que tienen un número mínimo de otros individuos alrededor de sí mismos a una distancia máxima $ϵ$, los segundos son puntos que se encuentran en la vecindad de un individuo núcleo pero que no tienen sufícientes individuos en su propia vecindad, y los terceros son puntos que no son ni núcleo ni vecindad.\n",
        "\n",
        "Como se puede ver, se requiere definir el valor de $ϵ$ y del mínimo de individuos (MinPts) en la vecindad de un núcleo.\n",
        "\n",
        "La metodlogía DBSCAN es ventajosa porque no requiere de la definición de $k$ y es robusta a outliers.\n",
        "Sin embargo, requiere los valores de $ϵ$ y MinPts. Para calcular el $ϵ$ se puede calcular la distancia promedio de los puntos a sus k vecinos más cercanos, encontrando el punto de la máxima curvatura de la distancia, sin embargo, no es regla de oro y al ser un hiperparametro se puede buscar cuales son los valores que minimizán el error."
      ]
    },
    {
      "cell_type": "code",
      "metadata": {
        "colab": {
          "base_uri": "https://localhost:8080/",
          "height": 265
        },
        "id": "7T5AoOS14LRb",
        "outputId": "3b977071-5b7f-4d6a-8867-370e216abe7e"
      },
      "source": [
        "from sklearn.neighbors import NearestNeighbors\n",
        "neigh = NearestNeighbors(n_neighbors=5)\n",
        "nbrs = neigh.fit(X)\n",
        "distances, indices = nbrs.kneighbors(X)\n",
        "\n",
        "distances = np.sort(distances, axis=0)\n",
        "distances = distances[:,4]\n",
        "\n",
        "fig, ax = plt.subplots()\n",
        "ax.plot(distances)\n",
        "ax.axhline(y=0.125, linestyle='--', color='blue');"
      ],
      "execution_count": null,
      "outputs": [
        {
          "output_type": "display_data",
          "data": {
            "image/png": "[encoded data removed]",
            "text/plain": [
              "<Figure size 432x288 with 1 Axes>"
            ]
          },
          "metadata": {
            "needs_background": "light"
          }
        }
      ]
    },
    {
      "cell_type": "code",
      "metadata": {
        "colab": {
          "base_uri": "https://localhost:8080/",
          "height": 281
        },
        "id": "i9h-eOxp51FD",
        "outputId": "b57630c4-b14b-470f-95e7-9a29641dc2d9"
      },
      "source": [
        "from sklearn.cluster import DBSCAN\n",
        "dbscan = DBSCAN(eps=0.125, min_samples=5).fit(X)\n",
        "\n",
        "sns.scatterplot(x = X[:,0], \n",
        "                y = X[:,1],\n",
        "                hue= dbscan.labels_ ,\n",
        "                palette = ['red','blue','green'])\n",
        "plt.title('Epsilon 0.0125 - MinPts 5');"
      ],
      "execution_count": null,
      "outputs": [
        {
          "output_type": "display_data",
          "data": {
            "image/png": "[encoded data removed]",
            "text/plain": [
              "<Figure size 432x288 with 1 Axes>"
            ]
          },
          "metadata": {
            "needs_background": "light"
          }
        }
      ]
    },
    {
      "cell_type": "code",
      "metadata": {
        "colab": {
          "base_uri": "https://localhost:8080/",
          "height": 281
        },
        "id": "0NuTSzAGFVuh",
        "outputId": "50bdca55-158c-425c-9bcd-46b82028ab47"
      },
      "source": [
        "dbscan = DBSCAN(eps=0.15, min_samples=5).fit(X)\n",
        "\n",
        "sns.scatterplot(x = X[:,0], \n",
        "                y = X[:,1],\n",
        "                hue= dbscan.labels_ ,\n",
        "                palette = ['red','blue','green'])\n",
        "plt.title('Epsilon 0.15');"
      ],
      "execution_count": null,
      "outputs": [
        {
          "output_type": "display_data",
          "data": {
            "image/png": "[encoded data removed]",
            "text/plain": [
              "<Figure size 432x288 with 1 Axes>"
            ]
          },
          "metadata": {
            "needs_background": "light"
          }
        }
      ]
    },
    {
      "cell_type": "code",
      "metadata": {
        "colab": {
          "base_uri": "https://localhost:8080/",
          "height": 281
        },
        "id": "nuchSKuX8niT",
        "outputId": "c973427d-6c0e-4409-aef3-27a081e12690"
      },
      "source": [
        "dbscan = DBSCAN(eps=0.18, min_samples=5).fit(X)\n",
        "\n",
        "sns.scatterplot(x = X[:,0], \n",
        "                y = X[:,1],\n",
        "                hue= dbscan.labels_ ,\n",
        "                palette = ['red','blue','green'])\n",
        "plt.title('Epsilon 0.18');"
      ],
      "execution_count": null,
      "outputs": [
        {
          "output_type": "display_data",
          "data": {
            "image/png": "[encoded data removed]",
            "text/plain": [
              "<Figure size 432x288 with 1 Axes>"
            ]
          },
          "metadata": {
            "needs_background": "light"
          }
        }
      ]
    },
    {
      "cell_type": "markdown",
      "metadata": {
        "id": "UhGtMgEaCDhC"
      },
      "source": [
        "En la medida que se aumenten $ϵ$ o MinPts se conseguirán menos clústers más sueltos, y viceversa. Ahora, a nuestros datos de empresas:"
      ]
    },
    {
      "cell_type": "code",
      "metadata": {
        "colab": {
          "base_uri": "https://localhost:8080/",
          "height": 265
        },
        "id": "SLCQBCv_BfWp",
        "outputId": "687962b0-292a-481b-9fea-6ea8a748e1d0"
      },
      "source": [
        "cluster = cluster[['activo','pasivo']]\n",
        "neigh = NearestNeighbors(n_neighbors=5)\n",
        "nbrs = neigh.fit(cluster)\n",
        "distances, indices = nbrs.kneighbors(cluster)\n",
        "\n",
        "distances = np.sort(distances, axis=0)\n",
        "distances = distances[:,2]\n",
        "\n",
        "\n",
        "fig, ax = plt.subplots()\n",
        "ax.plot(distances)\n",
        "ax.axhline(y=0.30, linestyle='--', color='blue');"
      ],
      "execution_count": null,
      "outputs": [
        {
          "output_type": "display_data",
          "data": {
            "image/png": "[encoded data removed]",
            "text/plain": [
              "<Figure size 432x288 with 1 Axes>"
            ]
          },
          "metadata": {
            "needs_background": "light"
          }
        }
      ]
    },
    {
      "cell_type": "code",
      "metadata": {
        "colab": {
          "base_uri": "https://localhost:8080/",
          "height": 497
        },
        "id": "30ATWxRyGHTi",
        "outputId": "a5c3ff1f-0a4e-4ce3-a5c1-9128b422c0f8"
      },
      "source": [
        "dbscan = DBSCAN(eps=0.30, min_samples=3).fit(cluster)\n",
        "cluster['dbscan_cluster'] = dbscan.labels_\n",
        "plot_cluster_hull(cluster, 'dbscan_cluster',)"
      ],
      "execution_count": null,
      "outputs": [
        {
          "output_type": "display_data",
          "data": {
            "image/png": "[encoded data removed]",
            "text/plain": [
              "<Figure size 576x576 with 1 Axes>"
            ]
          },
          "metadata": {
            "needs_background": "light"
          }
        }
      ]
    },
    {
      "cell_type": "markdown",
      "metadata": {
        "id": "9famUZDPIHPC"
      },
      "source": [
        "## 3. Otros Recursos\n",
        "\n",
        "https://scikit-learn.org/stable/modules/clustering.html"
      ]
    }
  ]
}